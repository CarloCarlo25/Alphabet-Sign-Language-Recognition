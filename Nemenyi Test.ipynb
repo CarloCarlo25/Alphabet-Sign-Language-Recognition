{
 "cells": [
  {
   "cell_type": "code",
   "execution_count": 9,
   "id": "ce70a013",
   "metadata": {},
   "outputs": [],
   "source": [
    "import pandas as pd\n",
    "\n",
    "data = pd.read_csv(r\"C:\\Users\\ASUS\\OneDrive - University of the Philippines\\Desktop\\University of the Philippines\\Fourth Year Second Sem\\MATH 190\\Project Proper\\k fold cross-validation\\Nemenyi Test.csv\", index_col=False)\n",
    "data = data.iloc[0:,1:]\n",
    "data = data.to_numpy()"
   ]
  },
  {
   "cell_type": "code",
   "execution_count": 10,
   "id": "41f755ce",
   "metadata": {},
   "outputs": [
    {
     "name": "stdout",
     "output_type": "stream",
     "text": [
      "[[0.81936216 0.81976652 0.82955764 0.38383076 0.45886982 0.66708942\n",
      "  0.69522156 0.8590186  0.13612752 0.72061029]\n",
      " [0.82043947 0.82183889 0.83040569 0.41763459 0.45163436 0.67028648\n",
      "  0.70120404 0.85948006 0.16636209 0.72016583]\n",
      " [0.81917251 0.81954987 0.82937375 0.38379772 0.45865182 0.66682984\n",
      "  0.69497963 0.85887609 0.13618483 0.72046849]\n",
      " [0.81861884 0.81957631 0.82877084 0.38107649 0.45226472 0.66611038\n",
      "  0.69573262 0.85828751 0.09274061 0.71931311]\n",
      " [0.99214652 0.99216391 0.99258965 0.97321203 0.97647304 0.98552587\n",
      "  0.98674879 0.9938705  0.96244268 0.9878529 ]]\n"
     ]
    }
   ],
   "source": [
    "print(data)"
   ]
  },
  {
   "cell_type": "code",
   "execution_count": 11,
   "id": "d84e3969",
   "metadata": {},
   "outputs": [],
   "source": [
    "from scipy import stats\n",
    "import scikit_posthocs as sp\n",
    "import numpy as np\n",
    "\n",
    "nemenyi = sp.posthoc_nemenyi_friedman(data)\n",
    "nemenyi.to_csv(\"nemenyi_result.csv\", index = False)"
   ]
  },
  {
   "cell_type": "code",
   "execution_count": null,
   "id": "574b2790",
   "metadata": {},
   "outputs": [],
   "source": []
  }
 ],
 "metadata": {
  "kernelspec": {
   "display_name": "Python 3 (ipykernel)",
   "language": "python",
   "name": "python3"
  },
  "language_info": {
   "codemirror_mode": {
    "name": "ipython",
    "version": 3
   },
   "file_extension": ".py",
   "mimetype": "text/x-python",
   "name": "python",
   "nbconvert_exporter": "python",
   "pygments_lexer": "ipython3",
   "version": "3.9.13"
  }
 },
 "nbformat": 4,
 "nbformat_minor": 5
}
