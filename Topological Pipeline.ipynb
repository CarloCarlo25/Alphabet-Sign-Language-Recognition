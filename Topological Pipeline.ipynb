{
 "cells": [
  {
   "cell_type": "markdown",
   "id": "08085c77",
   "metadata": {},
   "source": [
    "The Baseline of this code was from https://github.com/giotto-ai/giotto-tda/blob/master/examples/MNIST_classification.ipynb and I edited some of the lines to tailor for my specific needs like the parameters of binarization and the metrics"
   ]
  },
  {
   "cell_type": "code",
   "execution_count": 1,
   "id": "6761a353",
   "metadata": {},
   "outputs": [],
   "source": [
    "import pandas as pd\n",
    "\n",
    "##### Imports image dataset ####### \n",
    "data = pd.read_csv(r\"C:\\Users\\ASUS\\Downloads\\MNIST sign language.csv\") \n",
    "\n",
    "#### array Indexing ###\n",
    "X = data.iloc[:,1:785].to_numpy() #Data\n",
    "Y = data.iloc[:,0].to_numpy()"
   ]
  },
  {
   "cell_type": "code",
   "execution_count": 2,
   "id": "e10254cc",
   "metadata": {},
   "outputs": [
    {
     "name": "stdout",
     "output_type": "stream",
     "text": [
      "X shape: (34627, 784), Y shape: (34627,)\n"
     ]
    }
   ],
   "source": [
    "print(f\"X shape: {X.shape}, Y shape: {Y.shape}\")"
   ]
  },
  {
   "cell_type": "code",
   "execution_count": 3,
   "id": "68db1127",
   "metadata": {},
   "outputs": [],
   "source": [
    "X = X.reshape((-1, 28, 28))"
   ]
  },
  {
   "cell_type": "code",
   "execution_count": 54,
   "id": "4a65c603",
   "metadata": {},
   "outputs": [
    {
     "data": {
      "application/vnd.plotly.v1+json": {
       "config": {
        "plotlyServerURL": "https://plot.ly"
       },
       "data": [
        {
         "colorscale": [
          [
           0,
           "rgb(255,255,255)"
          ],
          [
           0.125,
           "rgb(240,240,240)"
          ],
          [
           0.25,
           "rgb(217,217,217)"
          ],
          [
           0.375,
           "rgb(189,189,189)"
          ],
          [
           0.5,
           "rgb(150,150,150)"
          ],
          [
           0.625,
           "rgb(115,115,115)"
          ],
          [
           0.75,
           "rgb(82,82,82)"
          ],
          [
           0.875,
           "rgb(37,37,37)"
          ],
          [
           1,
           "rgb(0,0,0)"
          ]
         ],
         "type": "heatmap",
         "z": [
          [
           0,
           0,
           0,
           0,
           0,
           0,
           0,
           0,
           0,
           0,
           0,
           0,
           0,
           0,
           0,
           0,
           0,
           0,
           0,
           0,
           0,
           0,
           0,
           0,
           0,
           0,
           0,
           0
          ],
          [
           0,
           0,
           0,
           0,
           0,
           0,
           0,
           0,
           0,
           0,
           0,
           0,
           0,
           0,
           0,
           0,
           0,
           0,
           0,
           0,
           0,
           0,
           0,
           0,
           0,
           0,
           0,
           0
          ],
          [
           0,
           0,
           0,
           0,
           0,
           0,
           0,
           0,
           0,
           0,
           0,
           0,
           0,
           0,
           0,
           0,
           0,
           0,
           0,
           0,
           0,
           0,
           0,
           0,
           0,
           0,
           0,
           0
          ],
          [
           0,
           0,
           0,
           0,
           0,
           0,
           0,
           0,
           0,
           0,
           0,
           0,
           0,
           0,
           0,
           0,
           0,
           0,
           0,
           0,
           0,
           0,
           0,
           0,
           0,
           0,
           0,
           0
          ],
          [
           0,
           0,
           0,
           0,
           0,
           0,
           0,
           0,
           0,
           1,
           1,
           0,
           0,
           0,
           0,
           0,
           0,
           0,
           0,
           0,
           0,
           0,
           0,
           0,
           0,
           0,
           0,
           0
          ],
          [
           0,
           0,
           0,
           0,
           0,
           0,
           0,
           0,
           0,
           1,
           1,
           0,
           0,
           1,
           1,
           0,
           0,
           1,
           1,
           0,
           1,
           1,
           0,
           0,
           0,
           0,
           0,
           0
          ],
          [
           0,
           0,
           0,
           0,
           0,
           0,
           0,
           0,
           0,
           0,
           1,
           1,
           0,
           1,
           1,
           0,
           0,
           1,
           1,
           0,
           1,
           1,
           1,
           0,
           0,
           0,
           0,
           0
          ],
          [
           0,
           0,
           0,
           0,
           0,
           0,
           0,
           0,
           0,
           0,
           1,
           1,
           0,
           1,
           1,
           0,
           0,
           1,
           1,
           0,
           1,
           1,
           1,
           1,
           0,
           0,
           0,
           0
          ],
          [
           0,
           0,
           0,
           0,
           0,
           0,
           0,
           0,
           0,
           0,
           1,
           1,
           0,
           1,
           1,
           0,
           0,
           1,
           1,
           0,
           0,
           1,
           1,
           0,
           1,
           0,
           0,
           0
          ],
          [
           0,
           0,
           0,
           0,
           0,
           0,
           0,
           0,
           1,
           1,
           1,
           1,
           1,
           1,
           1,
           0,
           0,
           1,
           1,
           0,
           0,
           0,
           1,
           1,
           1,
           1,
           0,
           0
          ],
          [
           0,
           0,
           0,
           0,
           0,
           0,
           0,
           0,
           0,
           1,
           1,
           1,
           1,
           1,
           1,
           1,
           1,
           1,
           0,
           0,
           0,
           0,
           1,
           1,
           1,
           1,
           0,
           0
          ],
          [
           0,
           0,
           0,
           0,
           0,
           0,
           0,
           0,
           0,
           0,
           1,
           1,
           1,
           1,
           1,
           1,
           0,
           0,
           0,
           0,
           0,
           1,
           1,
           1,
           1,
           0,
           0,
           0
          ],
          [
           0,
           0,
           0,
           0,
           0,
           0,
           0,
           0,
           0,
           0,
           1,
           1,
           1,
           1,
           1,
           0,
           0,
           0,
           0,
           0,
           0,
           1,
           1,
           1,
           1,
           0,
           0,
           0
          ],
          [
           0,
           0,
           0,
           0,
           0,
           0,
           0,
           0,
           0,
           0,
           0,
           1,
           1,
           1,
           0,
           0,
           0,
           0,
           0,
           0,
           0,
           1,
           1,
           1,
           1,
           0,
           0,
           0
          ],
          [
           0,
           0,
           0,
           0,
           0,
           0,
           0,
           0,
           0,
           0,
           0,
           0,
           0,
           1,
           0,
           0,
           0,
           0,
           0,
           0,
           0,
           1,
           1,
           1,
           1,
           0,
           0,
           0
          ],
          [
           0,
           0,
           0,
           0,
           0,
           0,
           0,
           0,
           0,
           0,
           0,
           0,
           0,
           0,
           0,
           0,
           0,
           0,
           0,
           0,
           0,
           1,
           1,
           1,
           0,
           0,
           0,
           0
          ],
          [
           0,
           0,
           0,
           0,
           0,
           0,
           0,
           0,
           0,
           0,
           0,
           0,
           0,
           0,
           0,
           0,
           0,
           0,
           0,
           0,
           1,
           1,
           1,
           1,
           0,
           0,
           0,
           0
          ],
          [
           0,
           0,
           0,
           0,
           0,
           0,
           0,
           0,
           0,
           0,
           0,
           0,
           0,
           0,
           0,
           0,
           0,
           0,
           0,
           0,
           1,
           1,
           1,
           0,
           0,
           0,
           0,
           0
          ],
          [
           0,
           0,
           0,
           0,
           0,
           0,
           0,
           0,
           0,
           0,
           0,
           0,
           0,
           0,
           0,
           0,
           0,
           0,
           0,
           1,
           1,
           1,
           1,
           0,
           0,
           0,
           0,
           0
          ],
          [
           0,
           0,
           0,
           0,
           0,
           0,
           0,
           0,
           0,
           0,
           0,
           0,
           0,
           0,
           0,
           0,
           0,
           0,
           0,
           1,
           1,
           1,
           0,
           0,
           0,
           0,
           0,
           0
          ],
          [
           0,
           0,
           0,
           0,
           0,
           0,
           0,
           0,
           0,
           0,
           0,
           0,
           0,
           0,
           0,
           0,
           1,
           0,
           0,
           1,
           1,
           1,
           0,
           0,
           0,
           0,
           0,
           0
          ],
          [
           0,
           0,
           0,
           0,
           0,
           0,
           0,
           0,
           0,
           0,
           0,
           0,
           0,
           0,
           0,
           0,
           1,
           1,
           1,
           1,
           1,
           0,
           0,
           0,
           0,
           0,
           0,
           0
          ],
          [
           0,
           0,
           0,
           0,
           0,
           0,
           0,
           0,
           0,
           0,
           0,
           0,
           0,
           0,
           0,
           0,
           1,
           1,
           1,
           1,
           1,
           0,
           0,
           0,
           0,
           0,
           0,
           0
          ],
          [
           0,
           0,
           0,
           0,
           0,
           0,
           0,
           0,
           0,
           0,
           0,
           0,
           0,
           0,
           0,
           0,
           0,
           1,
           1,
           1,
           1,
           0,
           0,
           0,
           0,
           0,
           0,
           0
          ],
          [
           0,
           0,
           0,
           0,
           0,
           0,
           0,
           0,
           0,
           0,
           0,
           0,
           0,
           0,
           0,
           0,
           0,
           1,
           1,
           1,
           0,
           0,
           0,
           0,
           0,
           0,
           0,
           0
          ],
          [
           0,
           0,
           0,
           0,
           0,
           0,
           0,
           0,
           0,
           0,
           0,
           0,
           0,
           0,
           0,
           0,
           1,
           1,
           1,
           1,
           0,
           0,
           0,
           0,
           0,
           0,
           0,
           0
          ],
          [
           0,
           0,
           0,
           0,
           0,
           0,
           0,
           0,
           0,
           0,
           0,
           0,
           0,
           0,
           0,
           0,
           1,
           1,
           1,
           1,
           0,
           0,
           0,
           0,
           0,
           0,
           0,
           0
          ],
          [
           0,
           0,
           0,
           0,
           0,
           0,
           0,
           0,
           0,
           0,
           0,
           0,
           0,
           0,
           0,
           0,
           1,
           1,
           1,
           1,
           0,
           0,
           0,
           0,
           0,
           0,
           0,
           0
          ]
         ]
        }
       ],
       "layout": {
        "plot_bgcolor": "white",
        "template": {
         "data": {
          "bar": [
           {
            "error_x": {
             "color": "#2a3f5f"
            },
            "error_y": {
             "color": "#2a3f5f"
            },
            "marker": {
             "line": {
              "color": "#E5ECF6",
              "width": 0.5
             },
             "pattern": {
              "fillmode": "overlay",
              "size": 10,
              "solidity": 0.2
             }
            },
            "type": "bar"
           }
          ],
          "barpolar": [
           {
            "marker": {
             "line": {
              "color": "#E5ECF6",
              "width": 0.5
             },
             "pattern": {
              "fillmode": "overlay",
              "size": 10,
              "solidity": 0.2
             }
            },
            "type": "barpolar"
           }
          ],
          "carpet": [
           {
            "aaxis": {
             "endlinecolor": "#2a3f5f",
             "gridcolor": "white",
             "linecolor": "white",
             "minorgridcolor": "white",
             "startlinecolor": "#2a3f5f"
            },
            "baxis": {
             "endlinecolor": "#2a3f5f",
             "gridcolor": "white",
             "linecolor": "white",
             "minorgridcolor": "white",
             "startlinecolor": "#2a3f5f"
            },
            "type": "carpet"
           }
          ],
          "choropleth": [
           {
            "colorbar": {
             "outlinewidth": 0,
             "ticks": ""
            },
            "type": "choropleth"
           }
          ],
          "contour": [
           {
            "colorbar": {
             "outlinewidth": 0,
             "ticks": ""
            },
            "colorscale": [
             [
              0,
              "#0d0887"
             ],
             [
              0.1111111111111111,
              "#46039f"
             ],
             [
              0.2222222222222222,
              "#7201a8"
             ],
             [
              0.3333333333333333,
              "#9c179e"
             ],
             [
              0.4444444444444444,
              "#bd3786"
             ],
             [
              0.5555555555555556,
              "#d8576b"
             ],
             [
              0.6666666666666666,
              "#ed7953"
             ],
             [
              0.7777777777777778,
              "#fb9f3a"
             ],
             [
              0.8888888888888888,
              "#fdca26"
             ],
             [
              1,
              "#f0f921"
             ]
            ],
            "type": "contour"
           }
          ],
          "contourcarpet": [
           {
            "colorbar": {
             "outlinewidth": 0,
             "ticks": ""
            },
            "type": "contourcarpet"
           }
          ],
          "heatmap": [
           {
            "colorbar": {
             "outlinewidth": 0,
             "ticks": ""
            },
            "colorscale": [
             [
              0,
              "#0d0887"
             ],
             [
              0.1111111111111111,
              "#46039f"
             ],
             [
              0.2222222222222222,
              "#7201a8"
             ],
             [
              0.3333333333333333,
              "#9c179e"
             ],
             [
              0.4444444444444444,
              "#bd3786"
             ],
             [
              0.5555555555555556,
              "#d8576b"
             ],
             [
              0.6666666666666666,
              "#ed7953"
             ],
             [
              0.7777777777777778,
              "#fb9f3a"
             ],
             [
              0.8888888888888888,
              "#fdca26"
             ],
             [
              1,
              "#f0f921"
             ]
            ],
            "type": "heatmap"
           }
          ],
          "heatmapgl": [
           {
            "colorbar": {
             "outlinewidth": 0,
             "ticks": ""
            },
            "colorscale": [
             [
              0,
              "#0d0887"
             ],
             [
              0.1111111111111111,
              "#46039f"
             ],
             [
              0.2222222222222222,
              "#7201a8"
             ],
             [
              0.3333333333333333,
              "#9c179e"
             ],
             [
              0.4444444444444444,
              "#bd3786"
             ],
             [
              0.5555555555555556,
              "#d8576b"
             ],
             [
              0.6666666666666666,
              "#ed7953"
             ],
             [
              0.7777777777777778,
              "#fb9f3a"
             ],
             [
              0.8888888888888888,
              "#fdca26"
             ],
             [
              1,
              "#f0f921"
             ]
            ],
            "type": "heatmapgl"
           }
          ],
          "histogram": [
           {
            "marker": {
             "pattern": {
              "fillmode": "overlay",
              "size": 10,
              "solidity": 0.2
             }
            },
            "type": "histogram"
           }
          ],
          "histogram2d": [
           {
            "colorbar": {
             "outlinewidth": 0,
             "ticks": ""
            },
            "colorscale": [
             [
              0,
              "#0d0887"
             ],
             [
              0.1111111111111111,
              "#46039f"
             ],
             [
              0.2222222222222222,
              "#7201a8"
             ],
             [
              0.3333333333333333,
              "#9c179e"
             ],
             [
              0.4444444444444444,
              "#bd3786"
             ],
             [
              0.5555555555555556,
              "#d8576b"
             ],
             [
              0.6666666666666666,
              "#ed7953"
             ],
             [
              0.7777777777777778,
              "#fb9f3a"
             ],
             [
              0.8888888888888888,
              "#fdca26"
             ],
             [
              1,
              "#f0f921"
             ]
            ],
            "type": "histogram2d"
           }
          ],
          "histogram2dcontour": [
           {
            "colorbar": {
             "outlinewidth": 0,
             "ticks": ""
            },
            "colorscale": [
             [
              0,
              "#0d0887"
             ],
             [
              0.1111111111111111,
              "#46039f"
             ],
             [
              0.2222222222222222,
              "#7201a8"
             ],
             [
              0.3333333333333333,
              "#9c179e"
             ],
             [
              0.4444444444444444,
              "#bd3786"
             ],
             [
              0.5555555555555556,
              "#d8576b"
             ],
             [
              0.6666666666666666,
              "#ed7953"
             ],
             [
              0.7777777777777778,
              "#fb9f3a"
             ],
             [
              0.8888888888888888,
              "#fdca26"
             ],
             [
              1,
              "#f0f921"
             ]
            ],
            "type": "histogram2dcontour"
           }
          ],
          "mesh3d": [
           {
            "colorbar": {
             "outlinewidth": 0,
             "ticks": ""
            },
            "type": "mesh3d"
           }
          ],
          "parcoords": [
           {
            "line": {
             "colorbar": {
              "outlinewidth": 0,
              "ticks": ""
             }
            },
            "type": "parcoords"
           }
          ],
          "pie": [
           {
            "automargin": true,
            "type": "pie"
           }
          ],
          "scatter": [
           {
            "fillpattern": {
             "fillmode": "overlay",
             "size": 10,
             "solidity": 0.2
            },
            "type": "scatter"
           }
          ],
          "scatter3d": [
           {
            "line": {
             "colorbar": {
              "outlinewidth": 0,
              "ticks": ""
             }
            },
            "marker": {
             "colorbar": {
              "outlinewidth": 0,
              "ticks": ""
             }
            },
            "type": "scatter3d"
           }
          ],
          "scattercarpet": [
           {
            "marker": {
             "colorbar": {
              "outlinewidth": 0,
              "ticks": ""
             }
            },
            "type": "scattercarpet"
           }
          ],
          "scattergeo": [
           {
            "marker": {
             "colorbar": {
              "outlinewidth": 0,
              "ticks": ""
             }
            },
            "type": "scattergeo"
           }
          ],
          "scattergl": [
           {
            "marker": {
             "colorbar": {
              "outlinewidth": 0,
              "ticks": ""
             }
            },
            "type": "scattergl"
           }
          ],
          "scattermapbox": [
           {
            "marker": {
             "colorbar": {
              "outlinewidth": 0,
              "ticks": ""
             }
            },
            "type": "scattermapbox"
           }
          ],
          "scatterpolar": [
           {
            "marker": {
             "colorbar": {
              "outlinewidth": 0,
              "ticks": ""
             }
            },
            "type": "scatterpolar"
           }
          ],
          "scatterpolargl": [
           {
            "marker": {
             "colorbar": {
              "outlinewidth": 0,
              "ticks": ""
             }
            },
            "type": "scatterpolargl"
           }
          ],
          "scatterternary": [
           {
            "marker": {
             "colorbar": {
              "outlinewidth": 0,
              "ticks": ""
             }
            },
            "type": "scatterternary"
           }
          ],
          "surface": [
           {
            "colorbar": {
             "outlinewidth": 0,
             "ticks": ""
            },
            "colorscale": [
             [
              0,
              "#0d0887"
             ],
             [
              0.1111111111111111,
              "#46039f"
             ],
             [
              0.2222222222222222,
              "#7201a8"
             ],
             [
              0.3333333333333333,
              "#9c179e"
             ],
             [
              0.4444444444444444,
              "#bd3786"
             ],
             [
              0.5555555555555556,
              "#d8576b"
             ],
             [
              0.6666666666666666,
              "#ed7953"
             ],
             [
              0.7777777777777778,
              "#fb9f3a"
             ],
             [
              0.8888888888888888,
              "#fdca26"
             ],
             [
              1,
              "#f0f921"
             ]
            ],
            "type": "surface"
           }
          ],
          "table": [
           {
            "cells": {
             "fill": {
              "color": "#EBF0F8"
             },
             "line": {
              "color": "white"
             }
            },
            "header": {
             "fill": {
              "color": "#C8D4E3"
             },
             "line": {
              "color": "white"
             }
            },
            "type": "table"
           }
          ]
         },
         "layout": {
          "annotationdefaults": {
           "arrowcolor": "#2a3f5f",
           "arrowhead": 0,
           "arrowwidth": 1
          },
          "autotypenumbers": "strict",
          "coloraxis": {
           "colorbar": {
            "outlinewidth": 0,
            "ticks": ""
           }
          },
          "colorscale": {
           "diverging": [
            [
             0,
             "#8e0152"
            ],
            [
             0.1,
             "#c51b7d"
            ],
            [
             0.2,
             "#de77ae"
            ],
            [
             0.3,
             "#f1b6da"
            ],
            [
             0.4,
             "#fde0ef"
            ],
            [
             0.5,
             "#f7f7f7"
            ],
            [
             0.6,
             "#e6f5d0"
            ],
            [
             0.7,
             "#b8e186"
            ],
            [
             0.8,
             "#7fbc41"
            ],
            [
             0.9,
             "#4d9221"
            ],
            [
             1,
             "#276419"
            ]
           ],
           "sequential": [
            [
             0,
             "#0d0887"
            ],
            [
             0.1111111111111111,
             "#46039f"
            ],
            [
             0.2222222222222222,
             "#7201a8"
            ],
            [
             0.3333333333333333,
             "#9c179e"
            ],
            [
             0.4444444444444444,
             "#bd3786"
            ],
            [
             0.5555555555555556,
             "#d8576b"
            ],
            [
             0.6666666666666666,
             "#ed7953"
            ],
            [
             0.7777777777777778,
             "#fb9f3a"
            ],
            [
             0.8888888888888888,
             "#fdca26"
            ],
            [
             1,
             "#f0f921"
            ]
           ],
           "sequentialminus": [
            [
             0,
             "#0d0887"
            ],
            [
             0.1111111111111111,
             "#46039f"
            ],
            [
             0.2222222222222222,
             "#7201a8"
            ],
            [
             0.3333333333333333,
             "#9c179e"
            ],
            [
             0.4444444444444444,
             "#bd3786"
            ],
            [
             0.5555555555555556,
             "#d8576b"
            ],
            [
             0.6666666666666666,
             "#ed7953"
            ],
            [
             0.7777777777777778,
             "#fb9f3a"
            ],
            [
             0.8888888888888888,
             "#fdca26"
            ],
            [
             1,
             "#f0f921"
            ]
           ]
          },
          "colorway": [
           "#636efa",
           "#EF553B",
           "#00cc96",
           "#ab63fa",
           "#FFA15A",
           "#19d3f3",
           "#FF6692",
           "#B6E880",
           "#FF97FF",
           "#FECB52"
          ],
          "font": {
           "color": "#2a3f5f"
          },
          "geo": {
           "bgcolor": "white",
           "lakecolor": "white",
           "landcolor": "#E5ECF6",
           "showlakes": true,
           "showland": true,
           "subunitcolor": "white"
          },
          "hoverlabel": {
           "align": "left"
          },
          "hovermode": "closest",
          "mapbox": {
           "style": "light"
          },
          "paper_bgcolor": "white",
          "plot_bgcolor": "#E5ECF6",
          "polar": {
           "angularaxis": {
            "gridcolor": "white",
            "linecolor": "white",
            "ticks": ""
           },
           "bgcolor": "#E5ECF6",
           "radialaxis": {
            "gridcolor": "white",
            "linecolor": "white",
            "ticks": ""
           }
          },
          "scene": {
           "xaxis": {
            "backgroundcolor": "#E5ECF6",
            "gridcolor": "white",
            "gridwidth": 2,
            "linecolor": "white",
            "showbackground": true,
            "ticks": "",
            "zerolinecolor": "white"
           },
           "yaxis": {
            "backgroundcolor": "#E5ECF6",
            "gridcolor": "white",
            "gridwidth": 2,
            "linecolor": "white",
            "showbackground": true,
            "ticks": "",
            "zerolinecolor": "white"
           },
           "zaxis": {
            "backgroundcolor": "#E5ECF6",
            "gridcolor": "white",
            "gridwidth": 2,
            "linecolor": "white",
            "showbackground": true,
            "ticks": "",
            "zerolinecolor": "white"
           }
          },
          "shapedefaults": {
           "line": {
            "color": "#2a3f5f"
           }
          },
          "ternary": {
           "aaxis": {
            "gridcolor": "white",
            "linecolor": "white",
            "ticks": ""
           },
           "baxis": {
            "gridcolor": "white",
            "linecolor": "white",
            "ticks": ""
           },
           "bgcolor": "#E5ECF6",
           "caxis": {
            "gridcolor": "white",
            "linecolor": "white",
            "ticks": ""
           }
          },
          "title": {
           "x": 0.05
          },
          "xaxis": {
           "automargin": true,
           "gridcolor": "white",
           "linecolor": "white",
           "ticks": "",
           "title": {
            "standoff": 15
           },
           "zerolinecolor": "white",
           "zerolinewidth": 2
          },
          "yaxis": {
           "automargin": true,
           "gridcolor": "white",
           "linecolor": "white",
           "ticks": "",
           "title": {
            "standoff": 15
           },
           "zerolinecolor": "white",
           "zerolinewidth": 2
          }
         }
        },
        "title": {
         "text": "Binarization of image 0"
        },
        "xaxis": {
         "constrain": "domain",
         "scaleanchor": "y"
        },
        "yaxis": {
         "autorange": "reversed",
         "constrain": "domain"
        }
       }
      },
      "text/html": [
       "<div>                            <div id=\"7273af9d-99bf-4152-8319-16bd0efec1cf\" class=\"plotly-graph-div\" style=\"height:525px; width:100%;\"></div>            <script type=\"text/javascript\">                require([\"plotly\"], function(Plotly) {                    window.PLOTLYENV=window.PLOTLYENV || {};                                    if (document.getElementById(\"7273af9d-99bf-4152-8319-16bd0efec1cf\")) {                    Plotly.newPlot(                        \"7273af9d-99bf-4152-8319-16bd0efec1cf\",                        [{\"colorscale\":[[0.0,\"rgb(255,255,255)\"],[0.125,\"rgb(240,240,240)\"],[0.25,\"rgb(217,217,217)\"],[0.375,\"rgb(189,189,189)\"],[0.5,\"rgb(150,150,150)\"],[0.625,\"rgb(115,115,115)\"],[0.75,\"rgb(82,82,82)\"],[0.875,\"rgb(37,37,37)\"],[1.0,\"rgb(0,0,0)\"]],\"z\":[[0,0,0,0,0,0,0,0,0,0,0,0,0,0,0,0,0,0,0,0,0,0,0,0,0,0,0,0],[0,0,0,0,0,0,0,0,0,0,0,0,0,0,0,0,0,0,0,0,0,0,0,0,0,0,0,0],[0,0,0,0,0,0,0,0,0,0,0,0,0,0,0,0,0,0,0,0,0,0,0,0,0,0,0,0],[0,0,0,0,0,0,0,0,0,0,0,0,0,0,0,0,0,0,0,0,0,0,0,0,0,0,0,0],[0,0,0,0,0,0,0,0,0,1,1,0,0,0,0,0,0,0,0,0,0,0,0,0,0,0,0,0],[0,0,0,0,0,0,0,0,0,1,1,0,0,1,1,0,0,1,1,0,1,1,0,0,0,0,0,0],[0,0,0,0,0,0,0,0,0,0,1,1,0,1,1,0,0,1,1,0,1,1,1,0,0,0,0,0],[0,0,0,0,0,0,0,0,0,0,1,1,0,1,1,0,0,1,1,0,1,1,1,1,0,0,0,0],[0,0,0,0,0,0,0,0,0,0,1,1,0,1,1,0,0,1,1,0,0,1,1,0,1,0,0,0],[0,0,0,0,0,0,0,0,1,1,1,1,1,1,1,0,0,1,1,0,0,0,1,1,1,1,0,0],[0,0,0,0,0,0,0,0,0,1,1,1,1,1,1,1,1,1,0,0,0,0,1,1,1,1,0,0],[0,0,0,0,0,0,0,0,0,0,1,1,1,1,1,1,0,0,0,0,0,1,1,1,1,0,0,0],[0,0,0,0,0,0,0,0,0,0,1,1,1,1,1,0,0,0,0,0,0,1,1,1,1,0,0,0],[0,0,0,0,0,0,0,0,0,0,0,1,1,1,0,0,0,0,0,0,0,1,1,1,1,0,0,0],[0,0,0,0,0,0,0,0,0,0,0,0,0,1,0,0,0,0,0,0,0,1,1,1,1,0,0,0],[0,0,0,0,0,0,0,0,0,0,0,0,0,0,0,0,0,0,0,0,0,1,1,1,0,0,0,0],[0,0,0,0,0,0,0,0,0,0,0,0,0,0,0,0,0,0,0,0,1,1,1,1,0,0,0,0],[0,0,0,0,0,0,0,0,0,0,0,0,0,0,0,0,0,0,0,0,1,1,1,0,0,0,0,0],[0,0,0,0,0,0,0,0,0,0,0,0,0,0,0,0,0,0,0,1,1,1,1,0,0,0,0,0],[0,0,0,0,0,0,0,0,0,0,0,0,0,0,0,0,0,0,0,1,1,1,0,0,0,0,0,0],[0,0,0,0,0,0,0,0,0,0,0,0,0,0,0,0,1,0,0,1,1,1,0,0,0,0,0,0],[0,0,0,0,0,0,0,0,0,0,0,0,0,0,0,0,1,1,1,1,1,0,0,0,0,0,0,0],[0,0,0,0,0,0,0,0,0,0,0,0,0,0,0,0,1,1,1,1,1,0,0,0,0,0,0,0],[0,0,0,0,0,0,0,0,0,0,0,0,0,0,0,0,0,1,1,1,1,0,0,0,0,0,0,0],[0,0,0,0,0,0,0,0,0,0,0,0,0,0,0,0,0,1,1,1,0,0,0,0,0,0,0,0],[0,0,0,0,0,0,0,0,0,0,0,0,0,0,0,0,1,1,1,1,0,0,0,0,0,0,0,0],[0,0,0,0,0,0,0,0,0,0,0,0,0,0,0,0,1,1,1,1,0,0,0,0,0,0,0,0],[0,0,0,0,0,0,0,0,0,0,0,0,0,0,0,0,1,1,1,1,0,0,0,0,0,0,0,0]],\"type\":\"heatmap\"}],                        {\"plot_bgcolor\":\"white\",\"title\":{\"text\":\"Binarization of image 0\"},\"xaxis\":{\"constrain\":\"domain\",\"scaleanchor\":\"y\"},\"yaxis\":{\"autorange\":\"reversed\",\"constrain\":\"domain\"},\"template\":{\"data\":{\"histogram2dcontour\":[{\"type\":\"histogram2dcontour\",\"colorbar\":{\"outlinewidth\":0,\"ticks\":\"\"},\"colorscale\":[[0.0,\"#0d0887\"],[0.1111111111111111,\"#46039f\"],[0.2222222222222222,\"#7201a8\"],[0.3333333333333333,\"#9c179e\"],[0.4444444444444444,\"#bd3786\"],[0.5555555555555556,\"#d8576b\"],[0.6666666666666666,\"#ed7953\"],[0.7777777777777778,\"#fb9f3a\"],[0.8888888888888888,\"#fdca26\"],[1.0,\"#f0f921\"]]}],\"choropleth\":[{\"type\":\"choropleth\",\"colorbar\":{\"outlinewidth\":0,\"ticks\":\"\"}}],\"histogram2d\":[{\"type\":\"histogram2d\",\"colorbar\":{\"outlinewidth\":0,\"ticks\":\"\"},\"colorscale\":[[0.0,\"#0d0887\"],[0.1111111111111111,\"#46039f\"],[0.2222222222222222,\"#7201a8\"],[0.3333333333333333,\"#9c179e\"],[0.4444444444444444,\"#bd3786\"],[0.5555555555555556,\"#d8576b\"],[0.6666666666666666,\"#ed7953\"],[0.7777777777777778,\"#fb9f3a\"],[0.8888888888888888,\"#fdca26\"],[1.0,\"#f0f921\"]]}],\"heatmap\":[{\"type\":\"heatmap\",\"colorbar\":{\"outlinewidth\":0,\"ticks\":\"\"},\"colorscale\":[[0.0,\"#0d0887\"],[0.1111111111111111,\"#46039f\"],[0.2222222222222222,\"#7201a8\"],[0.3333333333333333,\"#9c179e\"],[0.4444444444444444,\"#bd3786\"],[0.5555555555555556,\"#d8576b\"],[0.6666666666666666,\"#ed7953\"],[0.7777777777777778,\"#fb9f3a\"],[0.8888888888888888,\"#fdca26\"],[1.0,\"#f0f921\"]]}],\"heatmapgl\":[{\"type\":\"heatmapgl\",\"colorbar\":{\"outlinewidth\":0,\"ticks\":\"\"},\"colorscale\":[[0.0,\"#0d0887\"],[0.1111111111111111,\"#46039f\"],[0.2222222222222222,\"#7201a8\"],[0.3333333333333333,\"#9c179e\"],[0.4444444444444444,\"#bd3786\"],[0.5555555555555556,\"#d8576b\"],[0.6666666666666666,\"#ed7953\"],[0.7777777777777778,\"#fb9f3a\"],[0.8888888888888888,\"#fdca26\"],[1.0,\"#f0f921\"]]}],\"contourcarpet\":[{\"type\":\"contourcarpet\",\"colorbar\":{\"outlinewidth\":0,\"ticks\":\"\"}}],\"contour\":[{\"type\":\"contour\",\"colorbar\":{\"outlinewidth\":0,\"ticks\":\"\"},\"colorscale\":[[0.0,\"#0d0887\"],[0.1111111111111111,\"#46039f\"],[0.2222222222222222,\"#7201a8\"],[0.3333333333333333,\"#9c179e\"],[0.4444444444444444,\"#bd3786\"],[0.5555555555555556,\"#d8576b\"],[0.6666666666666666,\"#ed7953\"],[0.7777777777777778,\"#fb9f3a\"],[0.8888888888888888,\"#fdca26\"],[1.0,\"#f0f921\"]]}],\"surface\":[{\"type\":\"surface\",\"colorbar\":{\"outlinewidth\":0,\"ticks\":\"\"},\"colorscale\":[[0.0,\"#0d0887\"],[0.1111111111111111,\"#46039f\"],[0.2222222222222222,\"#7201a8\"],[0.3333333333333333,\"#9c179e\"],[0.4444444444444444,\"#bd3786\"],[0.5555555555555556,\"#d8576b\"],[0.6666666666666666,\"#ed7953\"],[0.7777777777777778,\"#fb9f3a\"],[0.8888888888888888,\"#fdca26\"],[1.0,\"#f0f921\"]]}],\"mesh3d\":[{\"type\":\"mesh3d\",\"colorbar\":{\"outlinewidth\":0,\"ticks\":\"\"}}],\"scatter\":[{\"fillpattern\":{\"fillmode\":\"overlay\",\"size\":10,\"solidity\":0.2},\"type\":\"scatter\"}],\"parcoords\":[{\"type\":\"parcoords\",\"line\":{\"colorbar\":{\"outlinewidth\":0,\"ticks\":\"\"}}}],\"scatterpolargl\":[{\"type\":\"scatterpolargl\",\"marker\":{\"colorbar\":{\"outlinewidth\":0,\"ticks\":\"\"}}}],\"bar\":[{\"error_x\":{\"color\":\"#2a3f5f\"},\"error_y\":{\"color\":\"#2a3f5f\"},\"marker\":{\"line\":{\"color\":\"#E5ECF6\",\"width\":0.5},\"pattern\":{\"fillmode\":\"overlay\",\"size\":10,\"solidity\":0.2}},\"type\":\"bar\"}],\"scattergeo\":[{\"type\":\"scattergeo\",\"marker\":{\"colorbar\":{\"outlinewidth\":0,\"ticks\":\"\"}}}],\"scatterpolar\":[{\"type\":\"scatterpolar\",\"marker\":{\"colorbar\":{\"outlinewidth\":0,\"ticks\":\"\"}}}],\"histogram\":[{\"marker\":{\"pattern\":{\"fillmode\":\"overlay\",\"size\":10,\"solidity\":0.2}},\"type\":\"histogram\"}],\"scattergl\":[{\"type\":\"scattergl\",\"marker\":{\"colorbar\":{\"outlinewidth\":0,\"ticks\":\"\"}}}],\"scatter3d\":[{\"type\":\"scatter3d\",\"line\":{\"colorbar\":{\"outlinewidth\":0,\"ticks\":\"\"}},\"marker\":{\"colorbar\":{\"outlinewidth\":0,\"ticks\":\"\"}}}],\"scattermapbox\":[{\"type\":\"scattermapbox\",\"marker\":{\"colorbar\":{\"outlinewidth\":0,\"ticks\":\"\"}}}],\"scatterternary\":[{\"type\":\"scatterternary\",\"marker\":{\"colorbar\":{\"outlinewidth\":0,\"ticks\":\"\"}}}],\"scattercarpet\":[{\"type\":\"scattercarpet\",\"marker\":{\"colorbar\":{\"outlinewidth\":0,\"ticks\":\"\"}}}],\"carpet\":[{\"aaxis\":{\"endlinecolor\":\"#2a3f5f\",\"gridcolor\":\"white\",\"linecolor\":\"white\",\"minorgridcolor\":\"white\",\"startlinecolor\":\"#2a3f5f\"},\"baxis\":{\"endlinecolor\":\"#2a3f5f\",\"gridcolor\":\"white\",\"linecolor\":\"white\",\"minorgridcolor\":\"white\",\"startlinecolor\":\"#2a3f5f\"},\"type\":\"carpet\"}],\"table\":[{\"cells\":{\"fill\":{\"color\":\"#EBF0F8\"},\"line\":{\"color\":\"white\"}},\"header\":{\"fill\":{\"color\":\"#C8D4E3\"},\"line\":{\"color\":\"white\"}},\"type\":\"table\"}],\"barpolar\":[{\"marker\":{\"line\":{\"color\":\"#E5ECF6\",\"width\":0.5},\"pattern\":{\"fillmode\":\"overlay\",\"size\":10,\"solidity\":0.2}},\"type\":\"barpolar\"}],\"pie\":[{\"automargin\":true,\"type\":\"pie\"}]},\"layout\":{\"autotypenumbers\":\"strict\",\"colorway\":[\"#636efa\",\"#EF553B\",\"#00cc96\",\"#ab63fa\",\"#FFA15A\",\"#19d3f3\",\"#FF6692\",\"#B6E880\",\"#FF97FF\",\"#FECB52\"],\"font\":{\"color\":\"#2a3f5f\"},\"hovermode\":\"closest\",\"hoverlabel\":{\"align\":\"left\"},\"paper_bgcolor\":\"white\",\"plot_bgcolor\":\"#E5ECF6\",\"polar\":{\"bgcolor\":\"#E5ECF6\",\"angularaxis\":{\"gridcolor\":\"white\",\"linecolor\":\"white\",\"ticks\":\"\"},\"radialaxis\":{\"gridcolor\":\"white\",\"linecolor\":\"white\",\"ticks\":\"\"}},\"ternary\":{\"bgcolor\":\"#E5ECF6\",\"aaxis\":{\"gridcolor\":\"white\",\"linecolor\":\"white\",\"ticks\":\"\"},\"baxis\":{\"gridcolor\":\"white\",\"linecolor\":\"white\",\"ticks\":\"\"},\"caxis\":{\"gridcolor\":\"white\",\"linecolor\":\"white\",\"ticks\":\"\"}},\"coloraxis\":{\"colorbar\":{\"outlinewidth\":0,\"ticks\":\"\"}},\"colorscale\":{\"sequential\":[[0.0,\"#0d0887\"],[0.1111111111111111,\"#46039f\"],[0.2222222222222222,\"#7201a8\"],[0.3333333333333333,\"#9c179e\"],[0.4444444444444444,\"#bd3786\"],[0.5555555555555556,\"#d8576b\"],[0.6666666666666666,\"#ed7953\"],[0.7777777777777778,\"#fb9f3a\"],[0.8888888888888888,\"#fdca26\"],[1.0,\"#f0f921\"]],\"sequentialminus\":[[0.0,\"#0d0887\"],[0.1111111111111111,\"#46039f\"],[0.2222222222222222,\"#7201a8\"],[0.3333333333333333,\"#9c179e\"],[0.4444444444444444,\"#bd3786\"],[0.5555555555555556,\"#d8576b\"],[0.6666666666666666,\"#ed7953\"],[0.7777777777777778,\"#fb9f3a\"],[0.8888888888888888,\"#fdca26\"],[1.0,\"#f0f921\"]],\"diverging\":[[0,\"#8e0152\"],[0.1,\"#c51b7d\"],[0.2,\"#de77ae\"],[0.3,\"#f1b6da\"],[0.4,\"#fde0ef\"],[0.5,\"#f7f7f7\"],[0.6,\"#e6f5d0\"],[0.7,\"#b8e186\"],[0.8,\"#7fbc41\"],[0.9,\"#4d9221\"],[1,\"#276419\"]]},\"xaxis\":{\"gridcolor\":\"white\",\"linecolor\":\"white\",\"ticks\":\"\",\"title\":{\"standoff\":15},\"zerolinecolor\":\"white\",\"automargin\":true,\"zerolinewidth\":2},\"yaxis\":{\"gridcolor\":\"white\",\"linecolor\":\"white\",\"ticks\":\"\",\"title\":{\"standoff\":15},\"zerolinecolor\":\"white\",\"automargin\":true,\"zerolinewidth\":2},\"scene\":{\"xaxis\":{\"backgroundcolor\":\"#E5ECF6\",\"gridcolor\":\"white\",\"linecolor\":\"white\",\"showbackground\":true,\"ticks\":\"\",\"zerolinecolor\":\"white\",\"gridwidth\":2},\"yaxis\":{\"backgroundcolor\":\"#E5ECF6\",\"gridcolor\":\"white\",\"linecolor\":\"white\",\"showbackground\":true,\"ticks\":\"\",\"zerolinecolor\":\"white\",\"gridwidth\":2},\"zaxis\":{\"backgroundcolor\":\"#E5ECF6\",\"gridcolor\":\"white\",\"linecolor\":\"white\",\"showbackground\":true,\"ticks\":\"\",\"zerolinecolor\":\"white\",\"gridwidth\":2}},\"shapedefaults\":{\"line\":{\"color\":\"#2a3f5f\"}},\"annotationdefaults\":{\"arrowcolor\":\"#2a3f5f\",\"arrowhead\":0,\"arrowwidth\":1},\"geo\":{\"bgcolor\":\"white\",\"landcolor\":\"#E5ECF6\",\"subunitcolor\":\"white\",\"showland\":true,\"showlakes\":true,\"lakecolor\":\"white\"},\"title\":{\"x\":0.05},\"mapbox\":{\"style\":\"light\"}}}},                        {\"responsive\": true}                    ).then(function(){\n",
       "                            \n",
       "var gd = document.getElementById('7273af9d-99bf-4152-8319-16bd0efec1cf');\n",
       "var x = new MutationObserver(function (mutations, observer) {{\n",
       "        var display = window.getComputedStyle(gd).display;\n",
       "        if (!display || display === 'none') {{\n",
       "            console.log([gd, 'removed!']);\n",
       "            Plotly.purge(gd);\n",
       "            observer.disconnect();\n",
       "        }}\n",
       "}});\n",
       "\n",
       "// Listen for the removal of the full notebook cells\n",
       "var notebookContainer = gd.closest('#notebook-container');\n",
       "if (notebookContainer) {{\n",
       "    x.observe(notebookContainer, {childList: true});\n",
       "}}\n",
       "\n",
       "// Listen for the clearing of the current output cell\n",
       "var outputEl = gd.closest('.output');\n",
       "if (outputEl) {{\n",
       "    x.observe(outputEl, {childList: true});\n",
       "}}\n",
       "\n",
       "                        })                };                });            </script>        </div>"
      ]
     },
     "metadata": {},
     "output_type": "display_data"
    }
   ],
   "source": [
    "import numpy as np\n",
    "from gtda.images import Binarizer\n",
    "\n",
    "# Pick out index of first 8 image\n",
    "im8_idx = np.flatnonzero(Y == 0)[0]\n",
    "# Reshape to (n_samples, n_pixels_x, n_pixels_y) format\n",
    "im8 = 255-X[im8_idx]\n",
    "im8 = im8[None, :, :]\n",
    "binarizer = Binarizer(threshold=0.6)\n",
    "im8_binarized = binarizer.fit_transform(im8)\n",
    "\n",
    "binarizer.plot(im8_binarized)"
   ]
  },
  {
   "cell_type": "code",
   "execution_count": 55,
   "id": "f6ff27f7",
   "metadata": {},
   "outputs": [
    {
     "data": {
      "application/vnd.plotly.v1+json": {
       "config": {
        "plotlyServerURL": "https://plot.ly"
       },
       "data": [
        {
         "colorscale": [
          [
           0,
           "rgb(255,255,255)"
          ],
          [
           0.125,
           "rgb(240,240,240)"
          ],
          [
           0.25,
           "rgb(217,217,217)"
          ],
          [
           0.375,
           "rgb(189,189,189)"
          ],
          [
           0.5,
           "rgb(150,150,150)"
          ],
          [
           0.625,
           "rgb(115,115,115)"
          ],
          [
           0.75,
           "rgb(82,82,82)"
          ],
          [
           0.875,
           "rgb(37,37,37)"
          ],
          [
           1,
           "rgb(0,0,0)"
          ]
         ],
         "type": "heatmap",
         "z": [
          [
           39.18376618407356,
           39.18376618407356,
           39.18376618407356,
           39.18376618407356,
           39.18376618407356,
           39.18376618407356,
           39.18376618407356,
           39.18376618407356,
           39.18376618407356,
           39.18376618407356,
           39.18376618407356,
           39.18376618407356,
           39.18376618407356,
           39.18376618407356,
           39.18376618407356,
           39.18376618407356,
           39.18376618407356,
           39.18376618407356,
           39.18376618407356,
           39.18376618407356,
           39.18376618407356,
           39.18376618407356,
           39.18376618407356,
           39.18376618407356,
           39.18376618407356,
           39.18376618407356,
           39.18376618407356,
           39.18376618407356
          ],
          [
           39.18376618407356,
           39.18376618407356,
           39.18376618407356,
           39.18376618407356,
           39.18376618407356,
           39.18376618407356,
           39.18376618407356,
           39.18376618407356,
           39.18376618407356,
           39.18376618407356,
           39.18376618407356,
           39.18376618407356,
           39.18376618407356,
           39.18376618407356,
           39.18376618407356,
           39.18376618407356,
           39.18376618407356,
           39.18376618407356,
           39.18376618407356,
           39.18376618407356,
           39.18376618407356,
           39.18376618407356,
           39.18376618407356,
           39.18376618407356,
           39.18376618407356,
           39.18376618407356,
           39.18376618407356,
           39.18376618407356
          ],
          [
           39.18376618407356,
           39.18376618407356,
           39.18376618407356,
           39.18376618407356,
           39.18376618407356,
           39.18376618407356,
           39.18376618407356,
           39.18376618407356,
           39.18376618407356,
           39.18376618407356,
           39.18376618407356,
           39.18376618407356,
           39.18376618407356,
           39.18376618407356,
           39.18376618407356,
           39.18376618407356,
           39.18376618407356,
           39.18376618407356,
           39.18376618407356,
           39.18376618407356,
           39.18376618407356,
           39.18376618407356,
           39.18376618407356,
           39.18376618407356,
           39.18376618407356,
           39.18376618407356,
           39.18376618407356,
           39.18376618407356
          ],
          [
           39.18376618407356,
           39.18376618407356,
           39.18376618407356,
           39.18376618407356,
           39.18376618407356,
           39.18376618407356,
           39.18376618407356,
           39.18376618407356,
           39.18376618407356,
           39.18376618407356,
           39.18376618407356,
           39.18376618407356,
           39.18376618407356,
           39.18376618407356,
           39.18376618407356,
           39.18376618407356,
           39.18376618407356,
           39.18376618407356,
           39.18376618407356,
           39.18376618407356,
           39.18376618407356,
           39.18376618407356,
           39.18376618407356,
           39.18376618407356,
           39.18376618407356,
           39.18376618407356,
           39.18376618407356,
           39.18376618407356
          ],
          [
           39.18376618407356,
           39.18376618407356,
           39.18376618407356,
           39.18376618407356,
           39.18376618407356,
           39.18376618407356,
           39.18376618407356,
           39.18376618407356,
           39.18376618407356,
           9.192388155425117,
           9.899494936611664,
           39.18376618407356,
           39.18376618407356,
           39.18376618407356,
           39.18376618407356,
           39.18376618407356,
           39.18376618407356,
           39.18376618407356,
           39.18376618407356,
           39.18376618407356,
           39.18376618407356,
           39.18376618407356,
           39.18376618407356,
           39.18376618407356,
           39.18376618407356,
           39.18376618407356,
           39.18376618407356,
           39.18376618407356
          ],
          [
           39.18376618407356,
           39.18376618407356,
           39.18376618407356,
           39.18376618407356,
           39.18376618407356,
           39.18376618407356,
           39.18376618407356,
           39.18376618407356,
           39.18376618407356,
           9.899494936611664,
           10.606601717798211,
           39.18376618407356,
           39.18376618407356,
           12.727922061357855,
           13.435028842544401,
           39.18376618407356,
           39.18376618407356,
           15.556349186104043,
           16.263455967290593,
           39.18376618407356,
           17.677669529663685,
           18.384776310850235,
           39.18376618407356,
           39.18376618407356,
           39.18376618407356,
           39.18376618407356,
           39.18376618407356,
           39.18376618407356
          ],
          [
           39.18376618407356,
           39.18376618407356,
           39.18376618407356,
           39.18376618407356,
           39.18376618407356,
           39.18376618407356,
           39.18376618407356,
           39.18376618407356,
           39.18376618407356,
           39.18376618407356,
           11.31370849898476,
           12.020815280171307,
           39.18376618407356,
           13.435028842544401,
           14.14213562373095,
           39.18376618407356,
           39.18376618407356,
           16.263455967290593,
           16.97056274847714,
           39.18376618407356,
           18.384776310850235,
           19.09188309203678,
           19.798989873223327,
           39.18376618407356,
           39.18376618407356,
           39.18376618407356,
           39.18376618407356,
           39.18376618407356
          ],
          [
           39.18376618407356,
           39.18376618407356,
           39.18376618407356,
           39.18376618407356,
           39.18376618407356,
           39.18376618407356,
           39.18376618407356,
           39.18376618407356,
           39.18376618407356,
           39.18376618407356,
           12.020815280171306,
           12.727922061357853,
           39.18376618407356,
           14.14213562373095,
           14.849242404917497,
           39.18376618407356,
           39.18376618407356,
           16.97056274847714,
           17.677669529663685,
           39.18376618407356,
           19.09188309203678,
           19.798989873223327,
           20.506096654409877,
           21.213203435596423,
           39.18376618407356,
           39.18376618407356,
           39.18376618407356,
           39.18376618407356
          ],
          [
           39.18376618407356,
           39.18376618407356,
           39.18376618407356,
           39.18376618407356,
           39.18376618407356,
           39.18376618407356,
           39.18376618407356,
           39.18376618407356,
           39.18376618407356,
           39.18376618407356,
           12.727922061357855,
           13.435028842544401,
           39.18376618407356,
           14.849242404917497,
           15.556349186104043,
           39.18376618407356,
           39.18376618407356,
           17.677669529663685,
           18.384776310850235,
           39.18376618407356,
           39.18376618407356,
           20.506096654409877,
           21.213203435596423,
           39.18376618407356,
           22.62741699796952,
           39.18376618407356,
           39.18376618407356,
           39.18376618407356
          ],
          [
           39.18376618407356,
           39.18376618407356,
           39.18376618407356,
           39.18376618407356,
           39.18376618407356,
           39.18376618407356,
           39.18376618407356,
           39.18376618407356,
           12.020815280171307,
           12.727922061357855,
           13.435028842544401,
           14.14213562373095,
           14.849242404917497,
           15.556349186104045,
           16.263455967290593,
           39.18376618407356,
           39.18376618407356,
           18.384776310850235,
           19.09188309203678,
           39.18376618407356,
           39.18376618407356,
           39.18376618407356,
           21.920310216782973,
           22.62741699796952,
           23.334523779156065,
           24.041630560342615,
           39.18376618407356,
           39.18376618407356
          ],
          [
           39.18376618407356,
           39.18376618407356,
           39.18376618407356,
           39.18376618407356,
           39.18376618407356,
           39.18376618407356,
           39.18376618407356,
           39.18376618407356,
           39.18376618407356,
           13.435028842544401,
           14.14213562373095,
           14.849242404917497,
           15.556349186104043,
           16.263455967290593,
           16.97056274847714,
           17.677669529663685,
           18.384776310850235,
           19.09188309203678,
           39.18376618407356,
           39.18376618407356,
           39.18376618407356,
           39.18376618407356,
           22.62741699796952,
           23.334523779156065,
           24.041630560342615,
           24.74873734152916,
           39.18376618407356,
           39.18376618407356
          ],
          [
           39.18376618407356,
           39.18376618407356,
           39.18376618407356,
           39.18376618407356,
           39.18376618407356,
           39.18376618407356,
           39.18376618407356,
           39.18376618407356,
           39.18376618407356,
           39.18376618407356,
           14.849242404917497,
           15.556349186104043,
           16.26345596729059,
           16.97056274847714,
           17.677669529663685,
           18.384776310850235,
           39.18376618407356,
           39.18376618407356,
           39.18376618407356,
           39.18376618407356,
           39.18376618407356,
           22.62741699796952,
           23.334523779156065,
           24.041630560342615,
           24.74873734152916,
           39.18376618407356,
           39.18376618407356,
           39.18376618407356
          ],
          [
           39.18376618407356,
           39.18376618407356,
           39.18376618407356,
           39.18376618407356,
           39.18376618407356,
           39.18376618407356,
           39.18376618407356,
           39.18376618407356,
           39.18376618407356,
           39.18376618407356,
           15.556349186104043,
           16.263455967290593,
           16.97056274847714,
           17.677669529663685,
           18.384776310850235,
           39.18376618407356,
           39.18376618407356,
           39.18376618407356,
           39.18376618407356,
           39.18376618407356,
           39.18376618407356,
           23.334523779156065,
           24.041630560342615,
           24.74873734152916,
           25.45584412271571,
           39.18376618407356,
           39.18376618407356,
           39.18376618407356
          ],
          [
           39.18376618407356,
           39.18376618407356,
           39.18376618407356,
           39.18376618407356,
           39.18376618407356,
           39.18376618407356,
           39.18376618407356,
           39.18376618407356,
           39.18376618407356,
           39.18376618407356,
           39.18376618407356,
           16.97056274847714,
           17.67766952966369,
           18.384776310850235,
           39.18376618407356,
           39.18376618407356,
           39.18376618407356,
           39.18376618407356,
           39.18376618407356,
           39.18376618407356,
           39.18376618407356,
           24.041630560342615,
           24.74873734152916,
           25.45584412271571,
           26.162950903902257,
           39.18376618407356,
           39.18376618407356,
           39.18376618407356
          ],
          [
           39.18376618407356,
           39.18376618407356,
           39.18376618407356,
           39.18376618407356,
           39.18376618407356,
           39.18376618407356,
           39.18376618407356,
           39.18376618407356,
           39.18376618407356,
           39.18376618407356,
           39.18376618407356,
           39.18376618407356,
           39.18376618407356,
           19.09188309203678,
           39.18376618407356,
           39.18376618407356,
           39.18376618407356,
           39.18376618407356,
           39.18376618407356,
           39.18376618407356,
           39.18376618407356,
           24.74873734152916,
           25.455844122715707,
           26.162950903902257,
           26.870057685088803,
           39.18376618407356,
           39.18376618407356,
           39.18376618407356
          ],
          [
           39.18376618407356,
           39.18376618407356,
           39.18376618407356,
           39.18376618407356,
           39.18376618407356,
           39.18376618407356,
           39.18376618407356,
           39.18376618407356,
           39.18376618407356,
           39.18376618407356,
           39.18376618407356,
           39.18376618407356,
           39.18376618407356,
           39.18376618407356,
           39.18376618407356,
           39.18376618407356,
           39.18376618407356,
           39.18376618407356,
           39.18376618407356,
           39.18376618407356,
           39.18376618407356,
           25.455844122715707,
           26.162950903902257,
           26.870057685088803,
           39.18376618407356,
           39.18376618407356,
           39.18376618407356,
           39.18376618407356
          ],
          [
           39.18376618407356,
           39.18376618407356,
           39.18376618407356,
           39.18376618407356,
           39.18376618407356,
           39.18376618407356,
           39.18376618407356,
           39.18376618407356,
           39.18376618407356,
           39.18376618407356,
           39.18376618407356,
           39.18376618407356,
           39.18376618407356,
           39.18376618407356,
           39.18376618407356,
           39.18376618407356,
           39.18376618407356,
           39.18376618407356,
           39.18376618407356,
           39.18376618407356,
           25.45584412271571,
           26.162950903902257,
           26.870057685088803,
           27.577164466275352,
           39.18376618407356,
           39.18376618407356,
           39.18376618407356,
           39.18376618407356
          ],
          [
           39.18376618407356,
           39.18376618407356,
           39.18376618407356,
           39.18376618407356,
           39.18376618407356,
           39.18376618407356,
           39.18376618407356,
           39.18376618407356,
           39.18376618407356,
           39.18376618407356,
           39.18376618407356,
           39.18376618407356,
           39.18376618407356,
           39.18376618407356,
           39.18376618407356,
           39.18376618407356,
           39.18376618407356,
           39.18376618407356,
           39.18376618407356,
           39.18376618407356,
           26.162950903902257,
           26.870057685088803,
           27.577164466275352,
           39.18376618407356,
           39.18376618407356,
           39.18376618407356,
           39.18376618407356,
           39.18376618407356
          ],
          [
           39.18376618407356,
           39.18376618407356,
           39.18376618407356,
           39.18376618407356,
           39.18376618407356,
           39.18376618407356,
           39.18376618407356,
           39.18376618407356,
           39.18376618407356,
           39.18376618407356,
           39.18376618407356,
           39.18376618407356,
           39.18376618407356,
           39.18376618407356,
           39.18376618407356,
           39.18376618407356,
           39.18376618407356,
           39.18376618407356,
           39.18376618407356,
           26.162950903902257,
           26.870057685088803,
           27.577164466275352,
           28.2842712474619,
           39.18376618407356,
           39.18376618407356,
           39.18376618407356,
           39.18376618407356,
           39.18376618407356
          ],
          [
           39.18376618407356,
           39.18376618407356,
           39.18376618407356,
           39.18376618407356,
           39.18376618407356,
           39.18376618407356,
           39.18376618407356,
           39.18376618407356,
           39.18376618407356,
           39.18376618407356,
           39.18376618407356,
           39.18376618407356,
           39.18376618407356,
           39.18376618407356,
           39.18376618407356,
           39.18376618407356,
           39.18376618407356,
           39.18376618407356,
           39.18376618407356,
           26.870057685088803,
           27.57716446627535,
           28.2842712474619,
           39.18376618407356,
           39.18376618407356,
           39.18376618407356,
           39.18376618407356,
           39.18376618407356,
           39.18376618407356
          ],
          [
           39.18376618407356,
           39.18376618407356,
           39.18376618407356,
           39.18376618407356,
           39.18376618407356,
           39.18376618407356,
           39.18376618407356,
           39.18376618407356,
           39.18376618407356,
           39.18376618407356,
           39.18376618407356,
           39.18376618407356,
           39.18376618407356,
           39.18376618407356,
           39.18376618407356,
           39.18376618407356,
           25.45584412271571,
           39.18376618407356,
           39.18376618407356,
           27.577164466275352,
           28.2842712474619,
           28.991378028648445,
           39.18376618407356,
           39.18376618407356,
           39.18376618407356,
           39.18376618407356,
           39.18376618407356,
           39.18376618407356
          ],
          [
           39.18376618407356,
           39.18376618407356,
           39.18376618407356,
           39.18376618407356,
           39.18376618407356,
           39.18376618407356,
           39.18376618407356,
           39.18376618407356,
           39.18376618407356,
           39.18376618407356,
           39.18376618407356,
           39.18376618407356,
           39.18376618407356,
           39.18376618407356,
           39.18376618407356,
           39.18376618407356,
           26.162950903902257,
           26.870057685088803,
           27.577164466275352,
           28.2842712474619,
           28.991378028648448,
           39.18376618407356,
           39.18376618407356,
           39.18376618407356,
           39.18376618407356,
           39.18376618407356,
           39.18376618407356,
           39.18376618407356
          ],
          [
           39.18376618407356,
           39.18376618407356,
           39.18376618407356,
           39.18376618407356,
           39.18376618407356,
           39.18376618407356,
           39.18376618407356,
           39.18376618407356,
           39.18376618407356,
           39.18376618407356,
           39.18376618407356,
           39.18376618407356,
           39.18376618407356,
           39.18376618407356,
           39.18376618407356,
           39.18376618407356,
           26.870057685088803,
           27.57716446627535,
           28.2842712474619,
           28.991378028648445,
           29.698484809834994,
           39.18376618407356,
           39.18376618407356,
           39.18376618407356,
           39.18376618407356,
           39.18376618407356,
           39.18376618407356,
           39.18376618407356
          ],
          [
           39.18376618407356,
           39.18376618407356,
           39.18376618407356,
           39.18376618407356,
           39.18376618407356,
           39.18376618407356,
           39.18376618407356,
           39.18376618407356,
           39.18376618407356,
           39.18376618407356,
           39.18376618407356,
           39.18376618407356,
           39.18376618407356,
           39.18376618407356,
           39.18376618407356,
           39.18376618407356,
           39.18376618407356,
           28.2842712474619,
           28.991378028648448,
           29.698484809834994,
           30.40559159102154,
           39.18376618407356,
           39.18376618407356,
           39.18376618407356,
           39.18376618407356,
           39.18376618407356,
           39.18376618407356,
           39.18376618407356
          ],
          [
           39.18376618407356,
           39.18376618407356,
           39.18376618407356,
           39.18376618407356,
           39.18376618407356,
           39.18376618407356,
           39.18376618407356,
           39.18376618407356,
           39.18376618407356,
           39.18376618407356,
           39.18376618407356,
           39.18376618407356,
           39.18376618407356,
           39.18376618407356,
           39.18376618407356,
           39.18376618407356,
           39.18376618407356,
           28.991378028648445,
           29.698484809834994,
           30.40559159102154,
           39.18376618407356,
           39.18376618407356,
           39.18376618407356,
           39.18376618407356,
           39.18376618407356,
           39.18376618407356,
           39.18376618407356,
           39.18376618407356
          ],
          [
           39.18376618407356,
           39.18376618407356,
           39.18376618407356,
           39.18376618407356,
           39.18376618407356,
           39.18376618407356,
           39.18376618407356,
           39.18376618407356,
           39.18376618407356,
           39.18376618407356,
           39.18376618407356,
           39.18376618407356,
           39.18376618407356,
           39.18376618407356,
           39.18376618407356,
           39.18376618407356,
           28.991378028648445,
           29.69848480983499,
           30.40559159102154,
           31.112698372208087,
           39.18376618407356,
           39.18376618407356,
           39.18376618407356,
           39.18376618407356,
           39.18376618407356,
           39.18376618407356,
           39.18376618407356,
           39.18376618407356
          ],
          [
           39.18376618407356,
           39.18376618407356,
           39.18376618407356,
           39.18376618407356,
           39.18376618407356,
           39.18376618407356,
           39.18376618407356,
           39.18376618407356,
           39.18376618407356,
           39.18376618407356,
           39.18376618407356,
           39.18376618407356,
           39.18376618407356,
           39.18376618407356,
           39.18376618407356,
           39.18376618407356,
           29.698484809834994,
           30.40559159102154,
           31.11269837220809,
           31.819805153394636,
           39.18376618407356,
           39.18376618407356,
           39.18376618407356,
           39.18376618407356,
           39.18376618407356,
           39.18376618407356,
           39.18376618407356,
           39.18376618407356
          ],
          [
           39.18376618407356,
           39.18376618407356,
           39.18376618407356,
           39.18376618407356,
           39.18376618407356,
           39.18376618407356,
           39.18376618407356,
           39.18376618407356,
           39.18376618407356,
           39.18376618407356,
           39.18376618407356,
           39.18376618407356,
           39.18376618407356,
           39.18376618407356,
           39.18376618407356,
           39.18376618407356,
           30.40559159102154,
           31.112698372208087,
           31.819805153394636,
           32.526911934581186,
           39.18376618407356,
           39.18376618407356,
           39.18376618407356,
           39.18376618407356,
           39.18376618407356,
           39.18376618407356,
           39.18376618407356,
           39.18376618407356
          ]
         ]
        }
       ],
       "layout": {
        "plot_bgcolor": "white",
        "template": {
         "data": {
          "bar": [
           {
            "error_x": {
             "color": "#2a3f5f"
            },
            "error_y": {
             "color": "#2a3f5f"
            },
            "marker": {
             "line": {
              "color": "#E5ECF6",
              "width": 0.5
             },
             "pattern": {
              "fillmode": "overlay",
              "size": 10,
              "solidity": 0.2
             }
            },
            "type": "bar"
           }
          ],
          "barpolar": [
           {
            "marker": {
             "line": {
              "color": "#E5ECF6",
              "width": 0.5
             },
             "pattern": {
              "fillmode": "overlay",
              "size": 10,
              "solidity": 0.2
             }
            },
            "type": "barpolar"
           }
          ],
          "carpet": [
           {
            "aaxis": {
             "endlinecolor": "#2a3f5f",
             "gridcolor": "white",
             "linecolor": "white",
             "minorgridcolor": "white",
             "startlinecolor": "#2a3f5f"
            },
            "baxis": {
             "endlinecolor": "#2a3f5f",
             "gridcolor": "white",
             "linecolor": "white",
             "minorgridcolor": "white",
             "startlinecolor": "#2a3f5f"
            },
            "type": "carpet"
           }
          ],
          "choropleth": [
           {
            "colorbar": {
             "outlinewidth": 0,
             "ticks": ""
            },
            "type": "choropleth"
           }
          ],
          "contour": [
           {
            "colorbar": {
             "outlinewidth": 0,
             "ticks": ""
            },
            "colorscale": [
             [
              0,
              "#0d0887"
             ],
             [
              0.1111111111111111,
              "#46039f"
             ],
             [
              0.2222222222222222,
              "#7201a8"
             ],
             [
              0.3333333333333333,
              "#9c179e"
             ],
             [
              0.4444444444444444,
              "#bd3786"
             ],
             [
              0.5555555555555556,
              "#d8576b"
             ],
             [
              0.6666666666666666,
              "#ed7953"
             ],
             [
              0.7777777777777778,
              "#fb9f3a"
             ],
             [
              0.8888888888888888,
              "#fdca26"
             ],
             [
              1,
              "#f0f921"
             ]
            ],
            "type": "contour"
           }
          ],
          "contourcarpet": [
           {
            "colorbar": {
             "outlinewidth": 0,
             "ticks": ""
            },
            "type": "contourcarpet"
           }
          ],
          "heatmap": [
           {
            "colorbar": {
             "outlinewidth": 0,
             "ticks": ""
            },
            "colorscale": [
             [
              0,
              "#0d0887"
             ],
             [
              0.1111111111111111,
              "#46039f"
             ],
             [
              0.2222222222222222,
              "#7201a8"
             ],
             [
              0.3333333333333333,
              "#9c179e"
             ],
             [
              0.4444444444444444,
              "#bd3786"
             ],
             [
              0.5555555555555556,
              "#d8576b"
             ],
             [
              0.6666666666666666,
              "#ed7953"
             ],
             [
              0.7777777777777778,
              "#fb9f3a"
             ],
             [
              0.8888888888888888,
              "#fdca26"
             ],
             [
              1,
              "#f0f921"
             ]
            ],
            "type": "heatmap"
           }
          ],
          "heatmapgl": [
           {
            "colorbar": {
             "outlinewidth": 0,
             "ticks": ""
            },
            "colorscale": [
             [
              0,
              "#0d0887"
             ],
             [
              0.1111111111111111,
              "#46039f"
             ],
             [
              0.2222222222222222,
              "#7201a8"
             ],
             [
              0.3333333333333333,
              "#9c179e"
             ],
             [
              0.4444444444444444,
              "#bd3786"
             ],
             [
              0.5555555555555556,
              "#d8576b"
             ],
             [
              0.6666666666666666,
              "#ed7953"
             ],
             [
              0.7777777777777778,
              "#fb9f3a"
             ],
             [
              0.8888888888888888,
              "#fdca26"
             ],
             [
              1,
              "#f0f921"
             ]
            ],
            "type": "heatmapgl"
           }
          ],
          "histogram": [
           {
            "marker": {
             "pattern": {
              "fillmode": "overlay",
              "size": 10,
              "solidity": 0.2
             }
            },
            "type": "histogram"
           }
          ],
          "histogram2d": [
           {
            "colorbar": {
             "outlinewidth": 0,
             "ticks": ""
            },
            "colorscale": [
             [
              0,
              "#0d0887"
             ],
             [
              0.1111111111111111,
              "#46039f"
             ],
             [
              0.2222222222222222,
              "#7201a8"
             ],
             [
              0.3333333333333333,
              "#9c179e"
             ],
             [
              0.4444444444444444,
              "#bd3786"
             ],
             [
              0.5555555555555556,
              "#d8576b"
             ],
             [
              0.6666666666666666,
              "#ed7953"
             ],
             [
              0.7777777777777778,
              "#fb9f3a"
             ],
             [
              0.8888888888888888,
              "#fdca26"
             ],
             [
              1,
              "#f0f921"
             ]
            ],
            "type": "histogram2d"
           }
          ],
          "histogram2dcontour": [
           {
            "colorbar": {
             "outlinewidth": 0,
             "ticks": ""
            },
            "colorscale": [
             [
              0,
              "#0d0887"
             ],
             [
              0.1111111111111111,
              "#46039f"
             ],
             [
              0.2222222222222222,
              "#7201a8"
             ],
             [
              0.3333333333333333,
              "#9c179e"
             ],
             [
              0.4444444444444444,
              "#bd3786"
             ],
             [
              0.5555555555555556,
              "#d8576b"
             ],
             [
              0.6666666666666666,
              "#ed7953"
             ],
             [
              0.7777777777777778,
              "#fb9f3a"
             ],
             [
              0.8888888888888888,
              "#fdca26"
             ],
             [
              1,
              "#f0f921"
             ]
            ],
            "type": "histogram2dcontour"
           }
          ],
          "mesh3d": [
           {
            "colorbar": {
             "outlinewidth": 0,
             "ticks": ""
            },
            "type": "mesh3d"
           }
          ],
          "parcoords": [
           {
            "line": {
             "colorbar": {
              "outlinewidth": 0,
              "ticks": ""
             }
            },
            "type": "parcoords"
           }
          ],
          "pie": [
           {
            "automargin": true,
            "type": "pie"
           }
          ],
          "scatter": [
           {
            "fillpattern": {
             "fillmode": "overlay",
             "size": 10,
             "solidity": 0.2
            },
            "type": "scatter"
           }
          ],
          "scatter3d": [
           {
            "line": {
             "colorbar": {
              "outlinewidth": 0,
              "ticks": ""
             }
            },
            "marker": {
             "colorbar": {
              "outlinewidth": 0,
              "ticks": ""
             }
            },
            "type": "scatter3d"
           }
          ],
          "scattercarpet": [
           {
            "marker": {
             "colorbar": {
              "outlinewidth": 0,
              "ticks": ""
             }
            },
            "type": "scattercarpet"
           }
          ],
          "scattergeo": [
           {
            "marker": {
             "colorbar": {
              "outlinewidth": 0,
              "ticks": ""
             }
            },
            "type": "scattergeo"
           }
          ],
          "scattergl": [
           {
            "marker": {
             "colorbar": {
              "outlinewidth": 0,
              "ticks": ""
             }
            },
            "type": "scattergl"
           }
          ],
          "scattermapbox": [
           {
            "marker": {
             "colorbar": {
              "outlinewidth": 0,
              "ticks": ""
             }
            },
            "type": "scattermapbox"
           }
          ],
          "scatterpolar": [
           {
            "marker": {
             "colorbar": {
              "outlinewidth": 0,
              "ticks": ""
             }
            },
            "type": "scatterpolar"
           }
          ],
          "scatterpolargl": [
           {
            "marker": {
             "colorbar": {
              "outlinewidth": 0,
              "ticks": ""
             }
            },
            "type": "scatterpolargl"
           }
          ],
          "scatterternary": [
           {
            "marker": {
             "colorbar": {
              "outlinewidth": 0,
              "ticks": ""
             }
            },
            "type": "scatterternary"
           }
          ],
          "surface": [
           {
            "colorbar": {
             "outlinewidth": 0,
             "ticks": ""
            },
            "colorscale": [
             [
              0,
              "#0d0887"
             ],
             [
              0.1111111111111111,
              "#46039f"
             ],
             [
              0.2222222222222222,
              "#7201a8"
             ],
             [
              0.3333333333333333,
              "#9c179e"
             ],
             [
              0.4444444444444444,
              "#bd3786"
             ],
             [
              0.5555555555555556,
              "#d8576b"
             ],
             [
              0.6666666666666666,
              "#ed7953"
             ],
             [
              0.7777777777777778,
              "#fb9f3a"
             ],
             [
              0.8888888888888888,
              "#fdca26"
             ],
             [
              1,
              "#f0f921"
             ]
            ],
            "type": "surface"
           }
          ],
          "table": [
           {
            "cells": {
             "fill": {
              "color": "#EBF0F8"
             },
             "line": {
              "color": "white"
             }
            },
            "header": {
             "fill": {
              "color": "#C8D4E3"
             },
             "line": {
              "color": "white"
             }
            },
            "type": "table"
           }
          ]
         },
         "layout": {
          "annotationdefaults": {
           "arrowcolor": "#2a3f5f",
           "arrowhead": 0,
           "arrowwidth": 1
          },
          "autotypenumbers": "strict",
          "coloraxis": {
           "colorbar": {
            "outlinewidth": 0,
            "ticks": ""
           }
          },
          "colorscale": {
           "diverging": [
            [
             0,
             "#8e0152"
            ],
            [
             0.1,
             "#c51b7d"
            ],
            [
             0.2,
             "#de77ae"
            ],
            [
             0.3,
             "#f1b6da"
            ],
            [
             0.4,
             "#fde0ef"
            ],
            [
             0.5,
             "#f7f7f7"
            ],
            [
             0.6,
             "#e6f5d0"
            ],
            [
             0.7,
             "#b8e186"
            ],
            [
             0.8,
             "#7fbc41"
            ],
            [
             0.9,
             "#4d9221"
            ],
            [
             1,
             "#276419"
            ]
           ],
           "sequential": [
            [
             0,
             "#0d0887"
            ],
            [
             0.1111111111111111,
             "#46039f"
            ],
            [
             0.2222222222222222,
             "#7201a8"
            ],
            [
             0.3333333333333333,
             "#9c179e"
            ],
            [
             0.4444444444444444,
             "#bd3786"
            ],
            [
             0.5555555555555556,
             "#d8576b"
            ],
            [
             0.6666666666666666,
             "#ed7953"
            ],
            [
             0.7777777777777778,
             "#fb9f3a"
            ],
            [
             0.8888888888888888,
             "#fdca26"
            ],
            [
             1,
             "#f0f921"
            ]
           ],
           "sequentialminus": [
            [
             0,
             "#0d0887"
            ],
            [
             0.1111111111111111,
             "#46039f"
            ],
            [
             0.2222222222222222,
             "#7201a8"
            ],
            [
             0.3333333333333333,
             "#9c179e"
            ],
            [
             0.4444444444444444,
             "#bd3786"
            ],
            [
             0.5555555555555556,
             "#d8576b"
            ],
            [
             0.6666666666666666,
             "#ed7953"
            ],
            [
             0.7777777777777778,
             "#fb9f3a"
            ],
            [
             0.8888888888888888,
             "#fdca26"
            ],
            [
             1,
             "#f0f921"
            ]
           ]
          },
          "colorway": [
           "#636efa",
           "#EF553B",
           "#00cc96",
           "#ab63fa",
           "#FFA15A",
           "#19d3f3",
           "#FF6692",
           "#B6E880",
           "#FF97FF",
           "#FECB52"
          ],
          "font": {
           "color": "#2a3f5f"
          },
          "geo": {
           "bgcolor": "white",
           "lakecolor": "white",
           "landcolor": "#E5ECF6",
           "showlakes": true,
           "showland": true,
           "subunitcolor": "white"
          },
          "hoverlabel": {
           "align": "left"
          },
          "hovermode": "closest",
          "mapbox": {
           "style": "light"
          },
          "paper_bgcolor": "white",
          "plot_bgcolor": "#E5ECF6",
          "polar": {
           "angularaxis": {
            "gridcolor": "white",
            "linecolor": "white",
            "ticks": ""
           },
           "bgcolor": "#E5ECF6",
           "radialaxis": {
            "gridcolor": "white",
            "linecolor": "white",
            "ticks": ""
           }
          },
          "scene": {
           "xaxis": {
            "backgroundcolor": "#E5ECF6",
            "gridcolor": "white",
            "gridwidth": 2,
            "linecolor": "white",
            "showbackground": true,
            "ticks": "",
            "zerolinecolor": "white"
           },
           "yaxis": {
            "backgroundcolor": "#E5ECF6",
            "gridcolor": "white",
            "gridwidth": 2,
            "linecolor": "white",
            "showbackground": true,
            "ticks": "",
            "zerolinecolor": "white"
           },
           "zaxis": {
            "backgroundcolor": "#E5ECF6",
            "gridcolor": "white",
            "gridwidth": 2,
            "linecolor": "white",
            "showbackground": true,
            "ticks": "",
            "zerolinecolor": "white"
           }
          },
          "shapedefaults": {
           "line": {
            "color": "#2a3f5f"
           }
          },
          "ternary": {
           "aaxis": {
            "gridcolor": "white",
            "linecolor": "white",
            "ticks": ""
           },
           "baxis": {
            "gridcolor": "white",
            "linecolor": "white",
            "ticks": ""
           },
           "bgcolor": "#E5ECF6",
           "caxis": {
            "gridcolor": "white",
            "linecolor": "white",
            "ticks": ""
           }
          },
          "title": {
           "x": 0.05
          },
          "xaxis": {
           "automargin": true,
           "gridcolor": "white",
           "linecolor": "white",
           "ticks": "",
           "title": {
            "standoff": 15
           },
           "zerolinecolor": "white",
           "zerolinewidth": 2
          },
          "yaxis": {
           "automargin": true,
           "gridcolor": "white",
           "linecolor": "white",
           "ticks": "",
           "title": {
            "standoff": 15
           },
           "zerolinecolor": "white",
           "zerolinewidth": 2
          }
         }
        },
        "title": {
         "text": "Height filtration of image 0"
        },
        "xaxis": {
         "constrain": "domain",
         "scaleanchor": "y"
        },
        "yaxis": {
         "autorange": "reversed",
         "constrain": "domain"
        }
       }
      },
      "text/html": [
       "<div>                            <div id=\"aa859a8b-8494-4cf7-bb88-8c076d19a7bb\" class=\"plotly-graph-div\" style=\"height:525px; width:100%;\"></div>            <script type=\"text/javascript\">                require([\"plotly\"], function(Plotly) {                    window.PLOTLYENV=window.PLOTLYENV || {};                                    if (document.getElementById(\"aa859a8b-8494-4cf7-bb88-8c076d19a7bb\")) {                    Plotly.newPlot(                        \"aa859a8b-8494-4cf7-bb88-8c076d19a7bb\",                        [{\"colorscale\":[[0.0,\"rgb(255,255,255)\"],[0.125,\"rgb(240,240,240)\"],[0.25,\"rgb(217,217,217)\"],[0.375,\"rgb(189,189,189)\"],[0.5,\"rgb(150,150,150)\"],[0.625,\"rgb(115,115,115)\"],[0.75,\"rgb(82,82,82)\"],[0.875,\"rgb(37,37,37)\"],[1.0,\"rgb(0,0,0)\"]],\"z\":[[39.18376618407356,39.18376618407356,39.18376618407356,39.18376618407356,39.18376618407356,39.18376618407356,39.18376618407356,39.18376618407356,39.18376618407356,39.18376618407356,39.18376618407356,39.18376618407356,39.18376618407356,39.18376618407356,39.18376618407356,39.18376618407356,39.18376618407356,39.18376618407356,39.18376618407356,39.18376618407356,39.18376618407356,39.18376618407356,39.18376618407356,39.18376618407356,39.18376618407356,39.18376618407356,39.18376618407356,39.18376618407356],[39.18376618407356,39.18376618407356,39.18376618407356,39.18376618407356,39.18376618407356,39.18376618407356,39.18376618407356,39.18376618407356,39.18376618407356,39.18376618407356,39.18376618407356,39.18376618407356,39.18376618407356,39.18376618407356,39.18376618407356,39.18376618407356,39.18376618407356,39.18376618407356,39.18376618407356,39.18376618407356,39.18376618407356,39.18376618407356,39.18376618407356,39.18376618407356,39.18376618407356,39.18376618407356,39.18376618407356,39.18376618407356],[39.18376618407356,39.18376618407356,39.18376618407356,39.18376618407356,39.18376618407356,39.18376618407356,39.18376618407356,39.18376618407356,39.18376618407356,39.18376618407356,39.18376618407356,39.18376618407356,39.18376618407356,39.18376618407356,39.18376618407356,39.18376618407356,39.18376618407356,39.18376618407356,39.18376618407356,39.18376618407356,39.18376618407356,39.18376618407356,39.18376618407356,39.18376618407356,39.18376618407356,39.18376618407356,39.18376618407356,39.18376618407356],[39.18376618407356,39.18376618407356,39.18376618407356,39.18376618407356,39.18376618407356,39.18376618407356,39.18376618407356,39.18376618407356,39.18376618407356,39.18376618407356,39.18376618407356,39.18376618407356,39.18376618407356,39.18376618407356,39.18376618407356,39.18376618407356,39.18376618407356,39.18376618407356,39.18376618407356,39.18376618407356,39.18376618407356,39.18376618407356,39.18376618407356,39.18376618407356,39.18376618407356,39.18376618407356,39.18376618407356,39.18376618407356],[39.18376618407356,39.18376618407356,39.18376618407356,39.18376618407356,39.18376618407356,39.18376618407356,39.18376618407356,39.18376618407356,39.18376618407356,9.192388155425117,9.899494936611664,39.18376618407356,39.18376618407356,39.18376618407356,39.18376618407356,39.18376618407356,39.18376618407356,39.18376618407356,39.18376618407356,39.18376618407356,39.18376618407356,39.18376618407356,39.18376618407356,39.18376618407356,39.18376618407356,39.18376618407356,39.18376618407356,39.18376618407356],[39.18376618407356,39.18376618407356,39.18376618407356,39.18376618407356,39.18376618407356,39.18376618407356,39.18376618407356,39.18376618407356,39.18376618407356,9.899494936611664,10.606601717798211,39.18376618407356,39.18376618407356,12.727922061357855,13.435028842544401,39.18376618407356,39.18376618407356,15.556349186104043,16.263455967290593,39.18376618407356,17.677669529663685,18.384776310850235,39.18376618407356,39.18376618407356,39.18376618407356,39.18376618407356,39.18376618407356,39.18376618407356],[39.18376618407356,39.18376618407356,39.18376618407356,39.18376618407356,39.18376618407356,39.18376618407356,39.18376618407356,39.18376618407356,39.18376618407356,39.18376618407356,11.31370849898476,12.020815280171307,39.18376618407356,13.435028842544401,14.14213562373095,39.18376618407356,39.18376618407356,16.263455967290593,16.97056274847714,39.18376618407356,18.384776310850235,19.09188309203678,19.798989873223327,39.18376618407356,39.18376618407356,39.18376618407356,39.18376618407356,39.18376618407356],[39.18376618407356,39.18376618407356,39.18376618407356,39.18376618407356,39.18376618407356,39.18376618407356,39.18376618407356,39.18376618407356,39.18376618407356,39.18376618407356,12.020815280171306,12.727922061357853,39.18376618407356,14.14213562373095,14.849242404917497,39.18376618407356,39.18376618407356,16.97056274847714,17.677669529663685,39.18376618407356,19.09188309203678,19.798989873223327,20.506096654409877,21.213203435596423,39.18376618407356,39.18376618407356,39.18376618407356,39.18376618407356],[39.18376618407356,39.18376618407356,39.18376618407356,39.18376618407356,39.18376618407356,39.18376618407356,39.18376618407356,39.18376618407356,39.18376618407356,39.18376618407356,12.727922061357855,13.435028842544401,39.18376618407356,14.849242404917497,15.556349186104043,39.18376618407356,39.18376618407356,17.677669529663685,18.384776310850235,39.18376618407356,39.18376618407356,20.506096654409877,21.213203435596423,39.18376618407356,22.62741699796952,39.18376618407356,39.18376618407356,39.18376618407356],[39.18376618407356,39.18376618407356,39.18376618407356,39.18376618407356,39.18376618407356,39.18376618407356,39.18376618407356,39.18376618407356,12.020815280171307,12.727922061357855,13.435028842544401,14.14213562373095,14.849242404917497,15.556349186104045,16.263455967290593,39.18376618407356,39.18376618407356,18.384776310850235,19.09188309203678,39.18376618407356,39.18376618407356,39.18376618407356,21.920310216782973,22.62741699796952,23.334523779156065,24.041630560342615,39.18376618407356,39.18376618407356],[39.18376618407356,39.18376618407356,39.18376618407356,39.18376618407356,39.18376618407356,39.18376618407356,39.18376618407356,39.18376618407356,39.18376618407356,13.435028842544401,14.14213562373095,14.849242404917497,15.556349186104043,16.263455967290593,16.97056274847714,17.677669529663685,18.384776310850235,19.09188309203678,39.18376618407356,39.18376618407356,39.18376618407356,39.18376618407356,22.62741699796952,23.334523779156065,24.041630560342615,24.74873734152916,39.18376618407356,39.18376618407356],[39.18376618407356,39.18376618407356,39.18376618407356,39.18376618407356,39.18376618407356,39.18376618407356,39.18376618407356,39.18376618407356,39.18376618407356,39.18376618407356,14.849242404917497,15.556349186104043,16.26345596729059,16.97056274847714,17.677669529663685,18.384776310850235,39.18376618407356,39.18376618407356,39.18376618407356,39.18376618407356,39.18376618407356,22.62741699796952,23.334523779156065,24.041630560342615,24.74873734152916,39.18376618407356,39.18376618407356,39.18376618407356],[39.18376618407356,39.18376618407356,39.18376618407356,39.18376618407356,39.18376618407356,39.18376618407356,39.18376618407356,39.18376618407356,39.18376618407356,39.18376618407356,15.556349186104043,16.263455967290593,16.97056274847714,17.677669529663685,18.384776310850235,39.18376618407356,39.18376618407356,39.18376618407356,39.18376618407356,39.18376618407356,39.18376618407356,23.334523779156065,24.041630560342615,24.74873734152916,25.45584412271571,39.18376618407356,39.18376618407356,39.18376618407356],[39.18376618407356,39.18376618407356,39.18376618407356,39.18376618407356,39.18376618407356,39.18376618407356,39.18376618407356,39.18376618407356,39.18376618407356,39.18376618407356,39.18376618407356,16.97056274847714,17.67766952966369,18.384776310850235,39.18376618407356,39.18376618407356,39.18376618407356,39.18376618407356,39.18376618407356,39.18376618407356,39.18376618407356,24.041630560342615,24.74873734152916,25.45584412271571,26.162950903902257,39.18376618407356,39.18376618407356,39.18376618407356],[39.18376618407356,39.18376618407356,39.18376618407356,39.18376618407356,39.18376618407356,39.18376618407356,39.18376618407356,39.18376618407356,39.18376618407356,39.18376618407356,39.18376618407356,39.18376618407356,39.18376618407356,19.09188309203678,39.18376618407356,39.18376618407356,39.18376618407356,39.18376618407356,39.18376618407356,39.18376618407356,39.18376618407356,24.74873734152916,25.455844122715707,26.162950903902257,26.870057685088803,39.18376618407356,39.18376618407356,39.18376618407356],[39.18376618407356,39.18376618407356,39.18376618407356,39.18376618407356,39.18376618407356,39.18376618407356,39.18376618407356,39.18376618407356,39.18376618407356,39.18376618407356,39.18376618407356,39.18376618407356,39.18376618407356,39.18376618407356,39.18376618407356,39.18376618407356,39.18376618407356,39.18376618407356,39.18376618407356,39.18376618407356,39.18376618407356,25.455844122715707,26.162950903902257,26.870057685088803,39.18376618407356,39.18376618407356,39.18376618407356,39.18376618407356],[39.18376618407356,39.18376618407356,39.18376618407356,39.18376618407356,39.18376618407356,39.18376618407356,39.18376618407356,39.18376618407356,39.18376618407356,39.18376618407356,39.18376618407356,39.18376618407356,39.18376618407356,39.18376618407356,39.18376618407356,39.18376618407356,39.18376618407356,39.18376618407356,39.18376618407356,39.18376618407356,25.45584412271571,26.162950903902257,26.870057685088803,27.577164466275352,39.18376618407356,39.18376618407356,39.18376618407356,39.18376618407356],[39.18376618407356,39.18376618407356,39.18376618407356,39.18376618407356,39.18376618407356,39.18376618407356,39.18376618407356,39.18376618407356,39.18376618407356,39.18376618407356,39.18376618407356,39.18376618407356,39.18376618407356,39.18376618407356,39.18376618407356,39.18376618407356,39.18376618407356,39.18376618407356,39.18376618407356,39.18376618407356,26.162950903902257,26.870057685088803,27.577164466275352,39.18376618407356,39.18376618407356,39.18376618407356,39.18376618407356,39.18376618407356],[39.18376618407356,39.18376618407356,39.18376618407356,39.18376618407356,39.18376618407356,39.18376618407356,39.18376618407356,39.18376618407356,39.18376618407356,39.18376618407356,39.18376618407356,39.18376618407356,39.18376618407356,39.18376618407356,39.18376618407356,39.18376618407356,39.18376618407356,39.18376618407356,39.18376618407356,26.162950903902257,26.870057685088803,27.577164466275352,28.2842712474619,39.18376618407356,39.18376618407356,39.18376618407356,39.18376618407356,39.18376618407356],[39.18376618407356,39.18376618407356,39.18376618407356,39.18376618407356,39.18376618407356,39.18376618407356,39.18376618407356,39.18376618407356,39.18376618407356,39.18376618407356,39.18376618407356,39.18376618407356,39.18376618407356,39.18376618407356,39.18376618407356,39.18376618407356,39.18376618407356,39.18376618407356,39.18376618407356,26.870057685088803,27.57716446627535,28.2842712474619,39.18376618407356,39.18376618407356,39.18376618407356,39.18376618407356,39.18376618407356,39.18376618407356],[39.18376618407356,39.18376618407356,39.18376618407356,39.18376618407356,39.18376618407356,39.18376618407356,39.18376618407356,39.18376618407356,39.18376618407356,39.18376618407356,39.18376618407356,39.18376618407356,39.18376618407356,39.18376618407356,39.18376618407356,39.18376618407356,25.45584412271571,39.18376618407356,39.18376618407356,27.577164466275352,28.2842712474619,28.991378028648445,39.18376618407356,39.18376618407356,39.18376618407356,39.18376618407356,39.18376618407356,39.18376618407356],[39.18376618407356,39.18376618407356,39.18376618407356,39.18376618407356,39.18376618407356,39.18376618407356,39.18376618407356,39.18376618407356,39.18376618407356,39.18376618407356,39.18376618407356,39.18376618407356,39.18376618407356,39.18376618407356,39.18376618407356,39.18376618407356,26.162950903902257,26.870057685088803,27.577164466275352,28.2842712474619,28.991378028648448,39.18376618407356,39.18376618407356,39.18376618407356,39.18376618407356,39.18376618407356,39.18376618407356,39.18376618407356],[39.18376618407356,39.18376618407356,39.18376618407356,39.18376618407356,39.18376618407356,39.18376618407356,39.18376618407356,39.18376618407356,39.18376618407356,39.18376618407356,39.18376618407356,39.18376618407356,39.18376618407356,39.18376618407356,39.18376618407356,39.18376618407356,26.870057685088803,27.57716446627535,28.2842712474619,28.991378028648445,29.698484809834994,39.18376618407356,39.18376618407356,39.18376618407356,39.18376618407356,39.18376618407356,39.18376618407356,39.18376618407356],[39.18376618407356,39.18376618407356,39.18376618407356,39.18376618407356,39.18376618407356,39.18376618407356,39.18376618407356,39.18376618407356,39.18376618407356,39.18376618407356,39.18376618407356,39.18376618407356,39.18376618407356,39.18376618407356,39.18376618407356,39.18376618407356,39.18376618407356,28.2842712474619,28.991378028648448,29.698484809834994,30.40559159102154,39.18376618407356,39.18376618407356,39.18376618407356,39.18376618407356,39.18376618407356,39.18376618407356,39.18376618407356],[39.18376618407356,39.18376618407356,39.18376618407356,39.18376618407356,39.18376618407356,39.18376618407356,39.18376618407356,39.18376618407356,39.18376618407356,39.18376618407356,39.18376618407356,39.18376618407356,39.18376618407356,39.18376618407356,39.18376618407356,39.18376618407356,39.18376618407356,28.991378028648445,29.698484809834994,30.40559159102154,39.18376618407356,39.18376618407356,39.18376618407356,39.18376618407356,39.18376618407356,39.18376618407356,39.18376618407356,39.18376618407356],[39.18376618407356,39.18376618407356,39.18376618407356,39.18376618407356,39.18376618407356,39.18376618407356,39.18376618407356,39.18376618407356,39.18376618407356,39.18376618407356,39.18376618407356,39.18376618407356,39.18376618407356,39.18376618407356,39.18376618407356,39.18376618407356,28.991378028648445,29.69848480983499,30.40559159102154,31.112698372208087,39.18376618407356,39.18376618407356,39.18376618407356,39.18376618407356,39.18376618407356,39.18376618407356,39.18376618407356,39.18376618407356],[39.18376618407356,39.18376618407356,39.18376618407356,39.18376618407356,39.18376618407356,39.18376618407356,39.18376618407356,39.18376618407356,39.18376618407356,39.18376618407356,39.18376618407356,39.18376618407356,39.18376618407356,39.18376618407356,39.18376618407356,39.18376618407356,29.698484809834994,30.40559159102154,31.11269837220809,31.819805153394636,39.18376618407356,39.18376618407356,39.18376618407356,39.18376618407356,39.18376618407356,39.18376618407356,39.18376618407356,39.18376618407356],[39.18376618407356,39.18376618407356,39.18376618407356,39.18376618407356,39.18376618407356,39.18376618407356,39.18376618407356,39.18376618407356,39.18376618407356,39.18376618407356,39.18376618407356,39.18376618407356,39.18376618407356,39.18376618407356,39.18376618407356,39.18376618407356,30.40559159102154,31.112698372208087,31.819805153394636,32.526911934581186,39.18376618407356,39.18376618407356,39.18376618407356,39.18376618407356,39.18376618407356,39.18376618407356,39.18376618407356,39.18376618407356]],\"type\":\"heatmap\"}],                        {\"plot_bgcolor\":\"white\",\"title\":{\"text\":\"Height filtration of image 0\"},\"xaxis\":{\"constrain\":\"domain\",\"scaleanchor\":\"y\"},\"yaxis\":{\"autorange\":\"reversed\",\"constrain\":\"domain\"},\"template\":{\"data\":{\"histogram2dcontour\":[{\"type\":\"histogram2dcontour\",\"colorbar\":{\"outlinewidth\":0,\"ticks\":\"\"},\"colorscale\":[[0.0,\"#0d0887\"],[0.1111111111111111,\"#46039f\"],[0.2222222222222222,\"#7201a8\"],[0.3333333333333333,\"#9c179e\"],[0.4444444444444444,\"#bd3786\"],[0.5555555555555556,\"#d8576b\"],[0.6666666666666666,\"#ed7953\"],[0.7777777777777778,\"#fb9f3a\"],[0.8888888888888888,\"#fdca26\"],[1.0,\"#f0f921\"]]}],\"choropleth\":[{\"type\":\"choropleth\",\"colorbar\":{\"outlinewidth\":0,\"ticks\":\"\"}}],\"histogram2d\":[{\"type\":\"histogram2d\",\"colorbar\":{\"outlinewidth\":0,\"ticks\":\"\"},\"colorscale\":[[0.0,\"#0d0887\"],[0.1111111111111111,\"#46039f\"],[0.2222222222222222,\"#7201a8\"],[0.3333333333333333,\"#9c179e\"],[0.4444444444444444,\"#bd3786\"],[0.5555555555555556,\"#d8576b\"],[0.6666666666666666,\"#ed7953\"],[0.7777777777777778,\"#fb9f3a\"],[0.8888888888888888,\"#fdca26\"],[1.0,\"#f0f921\"]]}],\"heatmap\":[{\"type\":\"heatmap\",\"colorbar\":{\"outlinewidth\":0,\"ticks\":\"\"},\"colorscale\":[[0.0,\"#0d0887\"],[0.1111111111111111,\"#46039f\"],[0.2222222222222222,\"#7201a8\"],[0.3333333333333333,\"#9c179e\"],[0.4444444444444444,\"#bd3786\"],[0.5555555555555556,\"#d8576b\"],[0.6666666666666666,\"#ed7953\"],[0.7777777777777778,\"#fb9f3a\"],[0.8888888888888888,\"#fdca26\"],[1.0,\"#f0f921\"]]}],\"heatmapgl\":[{\"type\":\"heatmapgl\",\"colorbar\":{\"outlinewidth\":0,\"ticks\":\"\"},\"colorscale\":[[0.0,\"#0d0887\"],[0.1111111111111111,\"#46039f\"],[0.2222222222222222,\"#7201a8\"],[0.3333333333333333,\"#9c179e\"],[0.4444444444444444,\"#bd3786\"],[0.5555555555555556,\"#d8576b\"],[0.6666666666666666,\"#ed7953\"],[0.7777777777777778,\"#fb9f3a\"],[0.8888888888888888,\"#fdca26\"],[1.0,\"#f0f921\"]]}],\"contourcarpet\":[{\"type\":\"contourcarpet\",\"colorbar\":{\"outlinewidth\":0,\"ticks\":\"\"}}],\"contour\":[{\"type\":\"contour\",\"colorbar\":{\"outlinewidth\":0,\"ticks\":\"\"},\"colorscale\":[[0.0,\"#0d0887\"],[0.1111111111111111,\"#46039f\"],[0.2222222222222222,\"#7201a8\"],[0.3333333333333333,\"#9c179e\"],[0.4444444444444444,\"#bd3786\"],[0.5555555555555556,\"#d8576b\"],[0.6666666666666666,\"#ed7953\"],[0.7777777777777778,\"#fb9f3a\"],[0.8888888888888888,\"#fdca26\"],[1.0,\"#f0f921\"]]}],\"surface\":[{\"type\":\"surface\",\"colorbar\":{\"outlinewidth\":0,\"ticks\":\"\"},\"colorscale\":[[0.0,\"#0d0887\"],[0.1111111111111111,\"#46039f\"],[0.2222222222222222,\"#7201a8\"],[0.3333333333333333,\"#9c179e\"],[0.4444444444444444,\"#bd3786\"],[0.5555555555555556,\"#d8576b\"],[0.6666666666666666,\"#ed7953\"],[0.7777777777777778,\"#fb9f3a\"],[0.8888888888888888,\"#fdca26\"],[1.0,\"#f0f921\"]]}],\"mesh3d\":[{\"type\":\"mesh3d\",\"colorbar\":{\"outlinewidth\":0,\"ticks\":\"\"}}],\"scatter\":[{\"fillpattern\":{\"fillmode\":\"overlay\",\"size\":10,\"solidity\":0.2},\"type\":\"scatter\"}],\"parcoords\":[{\"type\":\"parcoords\",\"line\":{\"colorbar\":{\"outlinewidth\":0,\"ticks\":\"\"}}}],\"scatterpolargl\":[{\"type\":\"scatterpolargl\",\"marker\":{\"colorbar\":{\"outlinewidth\":0,\"ticks\":\"\"}}}],\"bar\":[{\"error_x\":{\"color\":\"#2a3f5f\"},\"error_y\":{\"color\":\"#2a3f5f\"},\"marker\":{\"line\":{\"color\":\"#E5ECF6\",\"width\":0.5},\"pattern\":{\"fillmode\":\"overlay\",\"size\":10,\"solidity\":0.2}},\"type\":\"bar\"}],\"scattergeo\":[{\"type\":\"scattergeo\",\"marker\":{\"colorbar\":{\"outlinewidth\":0,\"ticks\":\"\"}}}],\"scatterpolar\":[{\"type\":\"scatterpolar\",\"marker\":{\"colorbar\":{\"outlinewidth\":0,\"ticks\":\"\"}}}],\"histogram\":[{\"marker\":{\"pattern\":{\"fillmode\":\"overlay\",\"size\":10,\"solidity\":0.2}},\"type\":\"histogram\"}],\"scattergl\":[{\"type\":\"scattergl\",\"marker\":{\"colorbar\":{\"outlinewidth\":0,\"ticks\":\"\"}}}],\"scatter3d\":[{\"type\":\"scatter3d\",\"line\":{\"colorbar\":{\"outlinewidth\":0,\"ticks\":\"\"}},\"marker\":{\"colorbar\":{\"outlinewidth\":0,\"ticks\":\"\"}}}],\"scattermapbox\":[{\"type\":\"scattermapbox\",\"marker\":{\"colorbar\":{\"outlinewidth\":0,\"ticks\":\"\"}}}],\"scatterternary\":[{\"type\":\"scatterternary\",\"marker\":{\"colorbar\":{\"outlinewidth\":0,\"ticks\":\"\"}}}],\"scattercarpet\":[{\"type\":\"scattercarpet\",\"marker\":{\"colorbar\":{\"outlinewidth\":0,\"ticks\":\"\"}}}],\"carpet\":[{\"aaxis\":{\"endlinecolor\":\"#2a3f5f\",\"gridcolor\":\"white\",\"linecolor\":\"white\",\"minorgridcolor\":\"white\",\"startlinecolor\":\"#2a3f5f\"},\"baxis\":{\"endlinecolor\":\"#2a3f5f\",\"gridcolor\":\"white\",\"linecolor\":\"white\",\"minorgridcolor\":\"white\",\"startlinecolor\":\"#2a3f5f\"},\"type\":\"carpet\"}],\"table\":[{\"cells\":{\"fill\":{\"color\":\"#EBF0F8\"},\"line\":{\"color\":\"white\"}},\"header\":{\"fill\":{\"color\":\"#C8D4E3\"},\"line\":{\"color\":\"white\"}},\"type\":\"table\"}],\"barpolar\":[{\"marker\":{\"line\":{\"color\":\"#E5ECF6\",\"width\":0.5},\"pattern\":{\"fillmode\":\"overlay\",\"size\":10,\"solidity\":0.2}},\"type\":\"barpolar\"}],\"pie\":[{\"automargin\":true,\"type\":\"pie\"}]},\"layout\":{\"autotypenumbers\":\"strict\",\"colorway\":[\"#636efa\",\"#EF553B\",\"#00cc96\",\"#ab63fa\",\"#FFA15A\",\"#19d3f3\",\"#FF6692\",\"#B6E880\",\"#FF97FF\",\"#FECB52\"],\"font\":{\"color\":\"#2a3f5f\"},\"hovermode\":\"closest\",\"hoverlabel\":{\"align\":\"left\"},\"paper_bgcolor\":\"white\",\"plot_bgcolor\":\"#E5ECF6\",\"polar\":{\"bgcolor\":\"#E5ECF6\",\"angularaxis\":{\"gridcolor\":\"white\",\"linecolor\":\"white\",\"ticks\":\"\"},\"radialaxis\":{\"gridcolor\":\"white\",\"linecolor\":\"white\",\"ticks\":\"\"}},\"ternary\":{\"bgcolor\":\"#E5ECF6\",\"aaxis\":{\"gridcolor\":\"white\",\"linecolor\":\"white\",\"ticks\":\"\"},\"baxis\":{\"gridcolor\":\"white\",\"linecolor\":\"white\",\"ticks\":\"\"},\"caxis\":{\"gridcolor\":\"white\",\"linecolor\":\"white\",\"ticks\":\"\"}},\"coloraxis\":{\"colorbar\":{\"outlinewidth\":0,\"ticks\":\"\"}},\"colorscale\":{\"sequential\":[[0.0,\"#0d0887\"],[0.1111111111111111,\"#46039f\"],[0.2222222222222222,\"#7201a8\"],[0.3333333333333333,\"#9c179e\"],[0.4444444444444444,\"#bd3786\"],[0.5555555555555556,\"#d8576b\"],[0.6666666666666666,\"#ed7953\"],[0.7777777777777778,\"#fb9f3a\"],[0.8888888888888888,\"#fdca26\"],[1.0,\"#f0f921\"]],\"sequentialminus\":[[0.0,\"#0d0887\"],[0.1111111111111111,\"#46039f\"],[0.2222222222222222,\"#7201a8\"],[0.3333333333333333,\"#9c179e\"],[0.4444444444444444,\"#bd3786\"],[0.5555555555555556,\"#d8576b\"],[0.6666666666666666,\"#ed7953\"],[0.7777777777777778,\"#fb9f3a\"],[0.8888888888888888,\"#fdca26\"],[1.0,\"#f0f921\"]],\"diverging\":[[0,\"#8e0152\"],[0.1,\"#c51b7d\"],[0.2,\"#de77ae\"],[0.3,\"#f1b6da\"],[0.4,\"#fde0ef\"],[0.5,\"#f7f7f7\"],[0.6,\"#e6f5d0\"],[0.7,\"#b8e186\"],[0.8,\"#7fbc41\"],[0.9,\"#4d9221\"],[1,\"#276419\"]]},\"xaxis\":{\"gridcolor\":\"white\",\"linecolor\":\"white\",\"ticks\":\"\",\"title\":{\"standoff\":15},\"zerolinecolor\":\"white\",\"automargin\":true,\"zerolinewidth\":2},\"yaxis\":{\"gridcolor\":\"white\",\"linecolor\":\"white\",\"ticks\":\"\",\"title\":{\"standoff\":15},\"zerolinecolor\":\"white\",\"automargin\":true,\"zerolinewidth\":2},\"scene\":{\"xaxis\":{\"backgroundcolor\":\"#E5ECF6\",\"gridcolor\":\"white\",\"linecolor\":\"white\",\"showbackground\":true,\"ticks\":\"\",\"zerolinecolor\":\"white\",\"gridwidth\":2},\"yaxis\":{\"backgroundcolor\":\"#E5ECF6\",\"gridcolor\":\"white\",\"linecolor\":\"white\",\"showbackground\":true,\"ticks\":\"\",\"zerolinecolor\":\"white\",\"gridwidth\":2},\"zaxis\":{\"backgroundcolor\":\"#E5ECF6\",\"gridcolor\":\"white\",\"linecolor\":\"white\",\"showbackground\":true,\"ticks\":\"\",\"zerolinecolor\":\"white\",\"gridwidth\":2}},\"shapedefaults\":{\"line\":{\"color\":\"#2a3f5f\"}},\"annotationdefaults\":{\"arrowcolor\":\"#2a3f5f\",\"arrowhead\":0,\"arrowwidth\":1},\"geo\":{\"bgcolor\":\"white\",\"landcolor\":\"#E5ECF6\",\"subunitcolor\":\"white\",\"showland\":true,\"showlakes\":true,\"lakecolor\":\"white\"},\"title\":{\"x\":0.05},\"mapbox\":{\"style\":\"light\"}}}},                        {\"responsive\": true}                    ).then(function(){\n",
       "                            \n",
       "var gd = document.getElementById('aa859a8b-8494-4cf7-bb88-8c076d19a7bb');\n",
       "var x = new MutationObserver(function (mutations, observer) {{\n",
       "        var display = window.getComputedStyle(gd).display;\n",
       "        if (!display || display === 'none') {{\n",
       "            console.log([gd, 'removed!']);\n",
       "            Plotly.purge(gd);\n",
       "            observer.disconnect();\n",
       "        }}\n",
       "}});\n",
       "\n",
       "// Listen for the removal of the full notebook cells\n",
       "var notebookContainer = gd.closest('#notebook-container');\n",
       "if (notebookContainer) {{\n",
       "    x.observe(notebookContainer, {childList: true});\n",
       "}}\n",
       "\n",
       "// Listen for the clearing of the current output cell\n",
       "var outputEl = gd.closest('.output');\n",
       "if (outputEl) {{\n",
       "    x.observe(outputEl, {childList: true});\n",
       "}}\n",
       "\n",
       "                        })                };                });            </script>        </div>"
      ]
     },
     "metadata": {},
     "output_type": "display_data"
    }
   ],
   "source": [
    "from gtda.images import HeightFiltration\n",
    "\n",
    "height_filtration = HeightFiltration(direction=np.array([1,1]))\n",
    "im8_filtration = height_filtration.fit_transform(im8_binarized)\n",
    "\n",
    "height_filtration.plot(im8_filtration)"
   ]
  },
  {
   "cell_type": "code",
   "execution_count": 62,
   "id": "90637bf7",
   "metadata": {},
   "outputs": [
    {
     "data": {
      "application/vnd.plotly.v1+json": {
       "config": {
        "plotlyServerURL": "https://plot.ly"
       },
       "data": [
        {
         "colorscale": [
          [
           0,
           "rgb(255,255,255)"
          ],
          [
           0.125,
           "rgb(240,240,240)"
          ],
          [
           0.25,
           "rgb(217,217,217)"
          ],
          [
           0.375,
           "rgb(189,189,189)"
          ],
          [
           0.5,
           "rgb(150,150,150)"
          ],
          [
           0.625,
           "rgb(115,115,115)"
          ],
          [
           0.75,
           "rgb(82,82,82)"
          ],
          [
           0.875,
           "rgb(37,37,37)"
          ],
          [
           1,
           "rgb(0,0,0)"
          ]
         ],
         "type": "heatmap",
         "z": [
          [
           1,
           1,
           1,
           1,
           1,
           1,
           1,
           1,
           1,
           1,
           1,
           1,
           1,
           1,
           1,
           1,
           1,
           1,
           1,
           1,
           1,
           1,
           1,
           1,
           1,
           1,
           1,
           1
          ],
          [
           1,
           1,
           1,
           1,
           1,
           1,
           1,
           1,
           1,
           1,
           1,
           1,
           1,
           1,
           1,
           1,
           1,
           1,
           1,
           1,
           1,
           1,
           1,
           1,
           1,
           1,
           1,
           1
          ],
          [
           1,
           1,
           1,
           1,
           1,
           1,
           1,
           1,
           1,
           1,
           1,
           1,
           1,
           1,
           1,
           1,
           1,
           1,
           1,
           1,
           1,
           1,
           1,
           1,
           1,
           1,
           1,
           1
          ],
          [
           1,
           1,
           1,
           1,
           1,
           1,
           1,
           1,
           1,
           1,
           1,
           1,
           1,
           1,
           1,
           1,
           1,
           1,
           1,
           1,
           1,
           1,
           1,
           1,
           1,
           1,
           1,
           1
          ],
          [
           1,
           1,
           1,
           1,
           1,
           1,
           1,
           1,
           1,
           0,
           0,
           1,
           1,
           1,
           1,
           1,
           1,
           1,
           1,
           1,
           1,
           1,
           1,
           1,
           1,
           1,
           1,
           1
          ],
          [
           1,
           1,
           1,
           1,
           1,
           1,
           1,
           1,
           1,
           0,
           0,
           1,
           1,
           1,
           1,
           1,
           1,
           1,
           1,
           1,
           1,
           1,
           1,
           1,
           1,
           1,
           1,
           1
          ],
          [
           1,
           1,
           1,
           1,
           1,
           1,
           1,
           1,
           1,
           1,
           0,
           1,
           1,
           1,
           1,
           1,
           1,
           1,
           1,
           1,
           1,
           1,
           1,
           1,
           1,
           1,
           1,
           1
          ],
          [
           1,
           1,
           1,
           1,
           1,
           1,
           1,
           1,
           1,
           1,
           1,
           1,
           1,
           1,
           1,
           1,
           1,
           1,
           1,
           1,
           1,
           1,
           1,
           1,
           1,
           1,
           1,
           1
          ],
          [
           1,
           1,
           1,
           1,
           1,
           1,
           1,
           1,
           1,
           1,
           1,
           1,
           1,
           1,
           1,
           1,
           1,
           1,
           1,
           1,
           1,
           1,
           1,
           1,
           1,
           1,
           1,
           1
          ],
          [
           1,
           1,
           1,
           1,
           1,
           1,
           1,
           1,
           1,
           1,
           1,
           1,
           1,
           1,
           1,
           1,
           1,
           1,
           1,
           1,
           1,
           1,
           1,
           1,
           1,
           1,
           1,
           1
          ],
          [
           1,
           1,
           1,
           1,
           1,
           1,
           1,
           1,
           1,
           1,
           1,
           1,
           1,
           1,
           1,
           1,
           1,
           1,
           1,
           1,
           1,
           1,
           1,
           1,
           1,
           1,
           1,
           1
          ],
          [
           1,
           1,
           1,
           1,
           1,
           1,
           1,
           1,
           1,
           1,
           1,
           1,
           1,
           1,
           1,
           1,
           1,
           1,
           1,
           1,
           1,
           1,
           1,
           1,
           1,
           1,
           1,
           1
          ],
          [
           1,
           1,
           1,
           1,
           1,
           1,
           1,
           1,
           1,
           1,
           1,
           1,
           1,
           1,
           1,
           1,
           1,
           1,
           1,
           1,
           1,
           1,
           1,
           1,
           1,
           1,
           1,
           1
          ],
          [
           1,
           1,
           1,
           1,
           1,
           1,
           1,
           1,
           1,
           1,
           1,
           1,
           1,
           1,
           1,
           1,
           1,
           1,
           1,
           1,
           1,
           1,
           1,
           1,
           1,
           1,
           1,
           1
          ],
          [
           1,
           1,
           1,
           1,
           1,
           1,
           1,
           1,
           1,
           1,
           1,
           1,
           1,
           1,
           1,
           1,
           1,
           1,
           1,
           1,
           1,
           1,
           1,
           1,
           1,
           1,
           1,
           1
          ],
          [
           1,
           1,
           1,
           1,
           1,
           1,
           1,
           1,
           1,
           1,
           1,
           1,
           1,
           1,
           1,
           1,
           1,
           1,
           1,
           1,
           1,
           1,
           1,
           1,
           1,
           1,
           1,
           1
          ],
          [
           1,
           1,
           1,
           1,
           1,
           1,
           1,
           1,
           1,
           1,
           1,
           1,
           1,
           1,
           1,
           1,
           1,
           1,
           1,
           1,
           1,
           1,
           1,
           1,
           1,
           1,
           1,
           1
          ],
          [
           1,
           1,
           1,
           1,
           1,
           1,
           1,
           1,
           1,
           1,
           1,
           1,
           1,
           1,
           1,
           1,
           1,
           1,
           1,
           1,
           1,
           1,
           1,
           1,
           1,
           1,
           1,
           1
          ],
          [
           1,
           1,
           1,
           1,
           1,
           1,
           1,
           1,
           1,
           1,
           1,
           1,
           1,
           1,
           1,
           1,
           1,
           1,
           1,
           1,
           1,
           1,
           1,
           1,
           1,
           1,
           1,
           1
          ],
          [
           1,
           1,
           1,
           1,
           1,
           1,
           1,
           1,
           1,
           1,
           1,
           1,
           1,
           1,
           1,
           1,
           1,
           1,
           1,
           1,
           1,
           1,
           1,
           1,
           1,
           1,
           1,
           1
          ],
          [
           1,
           1,
           1,
           1,
           1,
           1,
           1,
           1,
           1,
           1,
           1,
           1,
           1,
           1,
           1,
           1,
           1,
           1,
           1,
           1,
           1,
           1,
           1,
           1,
           1,
           1,
           1,
           1
          ],
          [
           1,
           1,
           1,
           1,
           1,
           1,
           1,
           1,
           1,
           1,
           1,
           1,
           1,
           1,
           1,
           1,
           1,
           1,
           1,
           1,
           1,
           1,
           1,
           1,
           1,
           1,
           1,
           1
          ],
          [
           1,
           1,
           1,
           1,
           1,
           1,
           1,
           1,
           1,
           1,
           1,
           1,
           1,
           1,
           1,
           1,
           1,
           1,
           1,
           1,
           1,
           1,
           1,
           1,
           1,
           1,
           1,
           1
          ],
          [
           1,
           1,
           1,
           1,
           1,
           1,
           1,
           1,
           1,
           1,
           1,
           1,
           1,
           1,
           1,
           1,
           1,
           1,
           1,
           1,
           1,
           1,
           1,
           1,
           1,
           1,
           1,
           1
          ],
          [
           1,
           1,
           1,
           1,
           1,
           1,
           1,
           1,
           1,
           1,
           1,
           1,
           1,
           1,
           1,
           1,
           1,
           1,
           1,
           1,
           1,
           1,
           1,
           1,
           1,
           1,
           1,
           1
          ],
          [
           1,
           1,
           1,
           1,
           1,
           1,
           1,
           1,
           1,
           1,
           1,
           1,
           1,
           1,
           1,
           1,
           1,
           1,
           1,
           1,
           1,
           1,
           1,
           1,
           1,
           1,
           1,
           1
          ],
          [
           1,
           1,
           1,
           1,
           1,
           1,
           1,
           1,
           1,
           1,
           1,
           1,
           1,
           1,
           1,
           1,
           1,
           1,
           1,
           1,
           1,
           1,
           1,
           1,
           1,
           1,
           1,
           1
          ],
          [
           1,
           1,
           1,
           1,
           1,
           1,
           1,
           1,
           1,
           1,
           1,
           1,
           1,
           1,
           1,
           1,
           1,
           1,
           1,
           1,
           1,
           1,
           1,
           1,
           1,
           1,
           1,
           1
          ]
         ]
        }
       ],
       "layout": {
        "plot_bgcolor": "white",
        "template": {
         "data": {
          "bar": [
           {
            "error_x": {
             "color": "#2a3f5f"
            },
            "error_y": {
             "color": "#2a3f5f"
            },
            "marker": {
             "line": {
              "color": "#E5ECF6",
              "width": 0.5
             },
             "pattern": {
              "fillmode": "overlay",
              "size": 10,
              "solidity": 0.2
             }
            },
            "type": "bar"
           }
          ],
          "barpolar": [
           {
            "marker": {
             "line": {
              "color": "#E5ECF6",
              "width": 0.5
             },
             "pattern": {
              "fillmode": "overlay",
              "size": 10,
              "solidity": 0.2
             }
            },
            "type": "barpolar"
           }
          ],
          "carpet": [
           {
            "aaxis": {
             "endlinecolor": "#2a3f5f",
             "gridcolor": "white",
             "linecolor": "white",
             "minorgridcolor": "white",
             "startlinecolor": "#2a3f5f"
            },
            "baxis": {
             "endlinecolor": "#2a3f5f",
             "gridcolor": "white",
             "linecolor": "white",
             "minorgridcolor": "white",
             "startlinecolor": "#2a3f5f"
            },
            "type": "carpet"
           }
          ],
          "choropleth": [
           {
            "colorbar": {
             "outlinewidth": 0,
             "ticks": ""
            },
            "type": "choropleth"
           }
          ],
          "contour": [
           {
            "colorbar": {
             "outlinewidth": 0,
             "ticks": ""
            },
            "colorscale": [
             [
              0,
              "#0d0887"
             ],
             [
              0.1111111111111111,
              "#46039f"
             ],
             [
              0.2222222222222222,
              "#7201a8"
             ],
             [
              0.3333333333333333,
              "#9c179e"
             ],
             [
              0.4444444444444444,
              "#bd3786"
             ],
             [
              0.5555555555555556,
              "#d8576b"
             ],
             [
              0.6666666666666666,
              "#ed7953"
             ],
             [
              0.7777777777777778,
              "#fb9f3a"
             ],
             [
              0.8888888888888888,
              "#fdca26"
             ],
             [
              1,
              "#f0f921"
             ]
            ],
            "type": "contour"
           }
          ],
          "contourcarpet": [
           {
            "colorbar": {
             "outlinewidth": 0,
             "ticks": ""
            },
            "type": "contourcarpet"
           }
          ],
          "heatmap": [
           {
            "colorbar": {
             "outlinewidth": 0,
             "ticks": ""
            },
            "colorscale": [
             [
              0,
              "#0d0887"
             ],
             [
              0.1111111111111111,
              "#46039f"
             ],
             [
              0.2222222222222222,
              "#7201a8"
             ],
             [
              0.3333333333333333,
              "#9c179e"
             ],
             [
              0.4444444444444444,
              "#bd3786"
             ],
             [
              0.5555555555555556,
              "#d8576b"
             ],
             [
              0.6666666666666666,
              "#ed7953"
             ],
             [
              0.7777777777777778,
              "#fb9f3a"
             ],
             [
              0.8888888888888888,
              "#fdca26"
             ],
             [
              1,
              "#f0f921"
             ]
            ],
            "type": "heatmap"
           }
          ],
          "heatmapgl": [
           {
            "colorbar": {
             "outlinewidth": 0,
             "ticks": ""
            },
            "colorscale": [
             [
              0,
              "#0d0887"
             ],
             [
              0.1111111111111111,
              "#46039f"
             ],
             [
              0.2222222222222222,
              "#7201a8"
             ],
             [
              0.3333333333333333,
              "#9c179e"
             ],
             [
              0.4444444444444444,
              "#bd3786"
             ],
             [
              0.5555555555555556,
              "#d8576b"
             ],
             [
              0.6666666666666666,
              "#ed7953"
             ],
             [
              0.7777777777777778,
              "#fb9f3a"
             ],
             [
              0.8888888888888888,
              "#fdca26"
             ],
             [
              1,
              "#f0f921"
             ]
            ],
            "type": "heatmapgl"
           }
          ],
          "histogram": [
           {
            "marker": {
             "pattern": {
              "fillmode": "overlay",
              "size": 10,
              "solidity": 0.2
             }
            },
            "type": "histogram"
           }
          ],
          "histogram2d": [
           {
            "colorbar": {
             "outlinewidth": 0,
             "ticks": ""
            },
            "colorscale": [
             [
              0,
              "#0d0887"
             ],
             [
              0.1111111111111111,
              "#46039f"
             ],
             [
              0.2222222222222222,
              "#7201a8"
             ],
             [
              0.3333333333333333,
              "#9c179e"
             ],
             [
              0.4444444444444444,
              "#bd3786"
             ],
             [
              0.5555555555555556,
              "#d8576b"
             ],
             [
              0.6666666666666666,
              "#ed7953"
             ],
             [
              0.7777777777777778,
              "#fb9f3a"
             ],
             [
              0.8888888888888888,
              "#fdca26"
             ],
             [
              1,
              "#f0f921"
             ]
            ],
            "type": "histogram2d"
           }
          ],
          "histogram2dcontour": [
           {
            "colorbar": {
             "outlinewidth": 0,
             "ticks": ""
            },
            "colorscale": [
             [
              0,
              "#0d0887"
             ],
             [
              0.1111111111111111,
              "#46039f"
             ],
             [
              0.2222222222222222,
              "#7201a8"
             ],
             [
              0.3333333333333333,
              "#9c179e"
             ],
             [
              0.4444444444444444,
              "#bd3786"
             ],
             [
              0.5555555555555556,
              "#d8576b"
             ],
             [
              0.6666666666666666,
              "#ed7953"
             ],
             [
              0.7777777777777778,
              "#fb9f3a"
             ],
             [
              0.8888888888888888,
              "#fdca26"
             ],
             [
              1,
              "#f0f921"
             ]
            ],
            "type": "histogram2dcontour"
           }
          ],
          "mesh3d": [
           {
            "colorbar": {
             "outlinewidth": 0,
             "ticks": ""
            },
            "type": "mesh3d"
           }
          ],
          "parcoords": [
           {
            "line": {
             "colorbar": {
              "outlinewidth": 0,
              "ticks": ""
             }
            },
            "type": "parcoords"
           }
          ],
          "pie": [
           {
            "automargin": true,
            "type": "pie"
           }
          ],
          "scatter": [
           {
            "fillpattern": {
             "fillmode": "overlay",
             "size": 10,
             "solidity": 0.2
            },
            "type": "scatter"
           }
          ],
          "scatter3d": [
           {
            "line": {
             "colorbar": {
              "outlinewidth": 0,
              "ticks": ""
             }
            },
            "marker": {
             "colorbar": {
              "outlinewidth": 0,
              "ticks": ""
             }
            },
            "type": "scatter3d"
           }
          ],
          "scattercarpet": [
           {
            "marker": {
             "colorbar": {
              "outlinewidth": 0,
              "ticks": ""
             }
            },
            "type": "scattercarpet"
           }
          ],
          "scattergeo": [
           {
            "marker": {
             "colorbar": {
              "outlinewidth": 0,
              "ticks": ""
             }
            },
            "type": "scattergeo"
           }
          ],
          "scattergl": [
           {
            "marker": {
             "colorbar": {
              "outlinewidth": 0,
              "ticks": ""
             }
            },
            "type": "scattergl"
           }
          ],
          "scattermapbox": [
           {
            "marker": {
             "colorbar": {
              "outlinewidth": 0,
              "ticks": ""
             }
            },
            "type": "scattermapbox"
           }
          ],
          "scatterpolar": [
           {
            "marker": {
             "colorbar": {
              "outlinewidth": 0,
              "ticks": ""
             }
            },
            "type": "scatterpolar"
           }
          ],
          "scatterpolargl": [
           {
            "marker": {
             "colorbar": {
              "outlinewidth": 0,
              "ticks": ""
             }
            },
            "type": "scatterpolargl"
           }
          ],
          "scatterternary": [
           {
            "marker": {
             "colorbar": {
              "outlinewidth": 0,
              "ticks": ""
             }
            },
            "type": "scatterternary"
           }
          ],
          "surface": [
           {
            "colorbar": {
             "outlinewidth": 0,
             "ticks": ""
            },
            "colorscale": [
             [
              0,
              "#0d0887"
             ],
             [
              0.1111111111111111,
              "#46039f"
             ],
             [
              0.2222222222222222,
              "#7201a8"
             ],
             [
              0.3333333333333333,
              "#9c179e"
             ],
             [
              0.4444444444444444,
              "#bd3786"
             ],
             [
              0.5555555555555556,
              "#d8576b"
             ],
             [
              0.6666666666666666,
              "#ed7953"
             ],
             [
              0.7777777777777778,
              "#fb9f3a"
             ],
             [
              0.8888888888888888,
              "#fdca26"
             ],
             [
              1,
              "#f0f921"
             ]
            ],
            "type": "surface"
           }
          ],
          "table": [
           {
            "cells": {
             "fill": {
              "color": "#EBF0F8"
             },
             "line": {
              "color": "white"
             }
            },
            "header": {
             "fill": {
              "color": "#C8D4E3"
             },
             "line": {
              "color": "white"
             }
            },
            "type": "table"
           }
          ]
         },
         "layout": {
          "annotationdefaults": {
           "arrowcolor": "#2a3f5f",
           "arrowhead": 0,
           "arrowwidth": 1
          },
          "autotypenumbers": "strict",
          "coloraxis": {
           "colorbar": {
            "outlinewidth": 0,
            "ticks": ""
           }
          },
          "colorscale": {
           "diverging": [
            [
             0,
             "#8e0152"
            ],
            [
             0.1,
             "#c51b7d"
            ],
            [
             0.2,
             "#de77ae"
            ],
            [
             0.3,
             "#f1b6da"
            ],
            [
             0.4,
             "#fde0ef"
            ],
            [
             0.5,
             "#f7f7f7"
            ],
            [
             0.6,
             "#e6f5d0"
            ],
            [
             0.7,
             "#b8e186"
            ],
            [
             0.8,
             "#7fbc41"
            ],
            [
             0.9,
             "#4d9221"
            ],
            [
             1,
             "#276419"
            ]
           ],
           "sequential": [
            [
             0,
             "#0d0887"
            ],
            [
             0.1111111111111111,
             "#46039f"
            ],
            [
             0.2222222222222222,
             "#7201a8"
            ],
            [
             0.3333333333333333,
             "#9c179e"
            ],
            [
             0.4444444444444444,
             "#bd3786"
            ],
            [
             0.5555555555555556,
             "#d8576b"
            ],
            [
             0.6666666666666666,
             "#ed7953"
            ],
            [
             0.7777777777777778,
             "#fb9f3a"
            ],
            [
             0.8888888888888888,
             "#fdca26"
            ],
            [
             1,
             "#f0f921"
            ]
           ],
           "sequentialminus": [
            [
             0,
             "#0d0887"
            ],
            [
             0.1111111111111111,
             "#46039f"
            ],
            [
             0.2222222222222222,
             "#7201a8"
            ],
            [
             0.3333333333333333,
             "#9c179e"
            ],
            [
             0.4444444444444444,
             "#bd3786"
            ],
            [
             0.5555555555555556,
             "#d8576b"
            ],
            [
             0.6666666666666666,
             "#ed7953"
            ],
            [
             0.7777777777777778,
             "#fb9f3a"
            ],
            [
             0.8888888888888888,
             "#fdca26"
            ],
            [
             1,
             "#f0f921"
            ]
           ]
          },
          "colorway": [
           "#636efa",
           "#EF553B",
           "#00cc96",
           "#ab63fa",
           "#FFA15A",
           "#19d3f3",
           "#FF6692",
           "#B6E880",
           "#FF97FF",
           "#FECB52"
          ],
          "font": {
           "color": "#2a3f5f"
          },
          "geo": {
           "bgcolor": "white",
           "lakecolor": "white",
           "landcolor": "#E5ECF6",
           "showlakes": true,
           "showland": true,
           "subunitcolor": "white"
          },
          "hoverlabel": {
           "align": "left"
          },
          "hovermode": "closest",
          "mapbox": {
           "style": "light"
          },
          "paper_bgcolor": "white",
          "plot_bgcolor": "#E5ECF6",
          "polar": {
           "angularaxis": {
            "gridcolor": "white",
            "linecolor": "white",
            "ticks": ""
           },
           "bgcolor": "#E5ECF6",
           "radialaxis": {
            "gridcolor": "white",
            "linecolor": "white",
            "ticks": ""
           }
          },
          "scene": {
           "xaxis": {
            "backgroundcolor": "#E5ECF6",
            "gridcolor": "white",
            "gridwidth": 2,
            "linecolor": "white",
            "showbackground": true,
            "ticks": "",
            "zerolinecolor": "white"
           },
           "yaxis": {
            "backgroundcolor": "#E5ECF6",
            "gridcolor": "white",
            "gridwidth": 2,
            "linecolor": "white",
            "showbackground": true,
            "ticks": "",
            "zerolinecolor": "white"
           },
           "zaxis": {
            "backgroundcolor": "#E5ECF6",
            "gridcolor": "white",
            "gridwidth": 2,
            "linecolor": "white",
            "showbackground": true,
            "ticks": "",
            "zerolinecolor": "white"
           }
          },
          "shapedefaults": {
           "line": {
            "color": "#2a3f5f"
           }
          },
          "ternary": {
           "aaxis": {
            "gridcolor": "white",
            "linecolor": "white",
            "ticks": ""
           },
           "baxis": {
            "gridcolor": "white",
            "linecolor": "white",
            "ticks": ""
           },
           "bgcolor": "#E5ECF6",
           "caxis": {
            "gridcolor": "white",
            "linecolor": "white",
            "ticks": ""
           }
          },
          "title": {
           "x": 0.05
          },
          "xaxis": {
           "automargin": true,
           "gridcolor": "white",
           "linecolor": "white",
           "ticks": "",
           "title": {
            "standoff": 15
           },
           "zerolinecolor": "white",
           "zerolinewidth": 2
          },
          "yaxis": {
           "automargin": true,
           "gridcolor": "white",
           "linecolor": "white",
           "ticks": "",
           "title": {
            "standoff": 15
           },
           "zerolinecolor": "white",
           "zerolinewidth": 2
          }
         }
        },
        "title": {
         "text": "Binarization of image 0"
        },
        "xaxis": {
         "constrain": "domain",
         "scaleanchor": "y"
        },
        "yaxis": {
         "autorange": "reversed",
         "constrain": "domain"
        }
       }
      },
      "text/html": [
       "<div>                            <div id=\"59781550-35d9-4fd8-9369-ecaa1bc6db3a\" class=\"plotly-graph-div\" style=\"height:525px; width:100%;\"></div>            <script type=\"text/javascript\">                require([\"plotly\"], function(Plotly) {                    window.PLOTLYENV=window.PLOTLYENV || {};                                    if (document.getElementById(\"59781550-35d9-4fd8-9369-ecaa1bc6db3a\")) {                    Plotly.newPlot(                        \"59781550-35d9-4fd8-9369-ecaa1bc6db3a\",                        [{\"colorscale\":[[0.0,\"rgb(255,255,255)\"],[0.125,\"rgb(240,240,240)\"],[0.25,\"rgb(217,217,217)\"],[0.375,\"rgb(189,189,189)\"],[0.5,\"rgb(150,150,150)\"],[0.625,\"rgb(115,115,115)\"],[0.75,\"rgb(82,82,82)\"],[0.875,\"rgb(37,37,37)\"],[1.0,\"rgb(0,0,0)\"]],\"z\":[[1,1,1,1,1,1,1,1,1,1,1,1,1,1,1,1,1,1,1,1,1,1,1,1,1,1,1,1],[1,1,1,1,1,1,1,1,1,1,1,1,1,1,1,1,1,1,1,1,1,1,1,1,1,1,1,1],[1,1,1,1,1,1,1,1,1,1,1,1,1,1,1,1,1,1,1,1,1,1,1,1,1,1,1,1],[1,1,1,1,1,1,1,1,1,1,1,1,1,1,1,1,1,1,1,1,1,1,1,1,1,1,1,1],[1,1,1,1,1,1,1,1,1,0,0,1,1,1,1,1,1,1,1,1,1,1,1,1,1,1,1,1],[1,1,1,1,1,1,1,1,1,0,0,1,1,1,1,1,1,1,1,1,1,1,1,1,1,1,1,1],[1,1,1,1,1,1,1,1,1,1,0,1,1,1,1,1,1,1,1,1,1,1,1,1,1,1,1,1],[1,1,1,1,1,1,1,1,1,1,1,1,1,1,1,1,1,1,1,1,1,1,1,1,1,1,1,1],[1,1,1,1,1,1,1,1,1,1,1,1,1,1,1,1,1,1,1,1,1,1,1,1,1,1,1,1],[1,1,1,1,1,1,1,1,1,1,1,1,1,1,1,1,1,1,1,1,1,1,1,1,1,1,1,1],[1,1,1,1,1,1,1,1,1,1,1,1,1,1,1,1,1,1,1,1,1,1,1,1,1,1,1,1],[1,1,1,1,1,1,1,1,1,1,1,1,1,1,1,1,1,1,1,1,1,1,1,1,1,1,1,1],[1,1,1,1,1,1,1,1,1,1,1,1,1,1,1,1,1,1,1,1,1,1,1,1,1,1,1,1],[1,1,1,1,1,1,1,1,1,1,1,1,1,1,1,1,1,1,1,1,1,1,1,1,1,1,1,1],[1,1,1,1,1,1,1,1,1,1,1,1,1,1,1,1,1,1,1,1,1,1,1,1,1,1,1,1],[1,1,1,1,1,1,1,1,1,1,1,1,1,1,1,1,1,1,1,1,1,1,1,1,1,1,1,1],[1,1,1,1,1,1,1,1,1,1,1,1,1,1,1,1,1,1,1,1,1,1,1,1,1,1,1,1],[1,1,1,1,1,1,1,1,1,1,1,1,1,1,1,1,1,1,1,1,1,1,1,1,1,1,1,1],[1,1,1,1,1,1,1,1,1,1,1,1,1,1,1,1,1,1,1,1,1,1,1,1,1,1,1,1],[1,1,1,1,1,1,1,1,1,1,1,1,1,1,1,1,1,1,1,1,1,1,1,1,1,1,1,1],[1,1,1,1,1,1,1,1,1,1,1,1,1,1,1,1,1,1,1,1,1,1,1,1,1,1,1,1],[1,1,1,1,1,1,1,1,1,1,1,1,1,1,1,1,1,1,1,1,1,1,1,1,1,1,1,1],[1,1,1,1,1,1,1,1,1,1,1,1,1,1,1,1,1,1,1,1,1,1,1,1,1,1,1,1],[1,1,1,1,1,1,1,1,1,1,1,1,1,1,1,1,1,1,1,1,1,1,1,1,1,1,1,1],[1,1,1,1,1,1,1,1,1,1,1,1,1,1,1,1,1,1,1,1,1,1,1,1,1,1,1,1],[1,1,1,1,1,1,1,1,1,1,1,1,1,1,1,1,1,1,1,1,1,1,1,1,1,1,1,1],[1,1,1,1,1,1,1,1,1,1,1,1,1,1,1,1,1,1,1,1,1,1,1,1,1,1,1,1],[1,1,1,1,1,1,1,1,1,1,1,1,1,1,1,1,1,1,1,1,1,1,1,1,1,1,1,1]],\"type\":\"heatmap\"}],                        {\"plot_bgcolor\":\"white\",\"title\":{\"text\":\"Binarization of image 0\"},\"xaxis\":{\"constrain\":\"domain\",\"scaleanchor\":\"y\"},\"yaxis\":{\"autorange\":\"reversed\",\"constrain\":\"domain\"},\"template\":{\"data\":{\"histogram2dcontour\":[{\"type\":\"histogram2dcontour\",\"colorbar\":{\"outlinewidth\":0,\"ticks\":\"\"},\"colorscale\":[[0.0,\"#0d0887\"],[0.1111111111111111,\"#46039f\"],[0.2222222222222222,\"#7201a8\"],[0.3333333333333333,\"#9c179e\"],[0.4444444444444444,\"#bd3786\"],[0.5555555555555556,\"#d8576b\"],[0.6666666666666666,\"#ed7953\"],[0.7777777777777778,\"#fb9f3a\"],[0.8888888888888888,\"#fdca26\"],[1.0,\"#f0f921\"]]}],\"choropleth\":[{\"type\":\"choropleth\",\"colorbar\":{\"outlinewidth\":0,\"ticks\":\"\"}}],\"histogram2d\":[{\"type\":\"histogram2d\",\"colorbar\":{\"outlinewidth\":0,\"ticks\":\"\"},\"colorscale\":[[0.0,\"#0d0887\"],[0.1111111111111111,\"#46039f\"],[0.2222222222222222,\"#7201a8\"],[0.3333333333333333,\"#9c179e\"],[0.4444444444444444,\"#bd3786\"],[0.5555555555555556,\"#d8576b\"],[0.6666666666666666,\"#ed7953\"],[0.7777777777777778,\"#fb9f3a\"],[0.8888888888888888,\"#fdca26\"],[1.0,\"#f0f921\"]]}],\"heatmap\":[{\"type\":\"heatmap\",\"colorbar\":{\"outlinewidth\":0,\"ticks\":\"\"},\"colorscale\":[[0.0,\"#0d0887\"],[0.1111111111111111,\"#46039f\"],[0.2222222222222222,\"#7201a8\"],[0.3333333333333333,\"#9c179e\"],[0.4444444444444444,\"#bd3786\"],[0.5555555555555556,\"#d8576b\"],[0.6666666666666666,\"#ed7953\"],[0.7777777777777778,\"#fb9f3a\"],[0.8888888888888888,\"#fdca26\"],[1.0,\"#f0f921\"]]}],\"heatmapgl\":[{\"type\":\"heatmapgl\",\"colorbar\":{\"outlinewidth\":0,\"ticks\":\"\"},\"colorscale\":[[0.0,\"#0d0887\"],[0.1111111111111111,\"#46039f\"],[0.2222222222222222,\"#7201a8\"],[0.3333333333333333,\"#9c179e\"],[0.4444444444444444,\"#bd3786\"],[0.5555555555555556,\"#d8576b\"],[0.6666666666666666,\"#ed7953\"],[0.7777777777777778,\"#fb9f3a\"],[0.8888888888888888,\"#fdca26\"],[1.0,\"#f0f921\"]]}],\"contourcarpet\":[{\"type\":\"contourcarpet\",\"colorbar\":{\"outlinewidth\":0,\"ticks\":\"\"}}],\"contour\":[{\"type\":\"contour\",\"colorbar\":{\"outlinewidth\":0,\"ticks\":\"\"},\"colorscale\":[[0.0,\"#0d0887\"],[0.1111111111111111,\"#46039f\"],[0.2222222222222222,\"#7201a8\"],[0.3333333333333333,\"#9c179e\"],[0.4444444444444444,\"#bd3786\"],[0.5555555555555556,\"#d8576b\"],[0.6666666666666666,\"#ed7953\"],[0.7777777777777778,\"#fb9f3a\"],[0.8888888888888888,\"#fdca26\"],[1.0,\"#f0f921\"]]}],\"surface\":[{\"type\":\"surface\",\"colorbar\":{\"outlinewidth\":0,\"ticks\":\"\"},\"colorscale\":[[0.0,\"#0d0887\"],[0.1111111111111111,\"#46039f\"],[0.2222222222222222,\"#7201a8\"],[0.3333333333333333,\"#9c179e\"],[0.4444444444444444,\"#bd3786\"],[0.5555555555555556,\"#d8576b\"],[0.6666666666666666,\"#ed7953\"],[0.7777777777777778,\"#fb9f3a\"],[0.8888888888888888,\"#fdca26\"],[1.0,\"#f0f921\"]]}],\"mesh3d\":[{\"type\":\"mesh3d\",\"colorbar\":{\"outlinewidth\":0,\"ticks\":\"\"}}],\"scatter\":[{\"fillpattern\":{\"fillmode\":\"overlay\",\"size\":10,\"solidity\":0.2},\"type\":\"scatter\"}],\"parcoords\":[{\"type\":\"parcoords\",\"line\":{\"colorbar\":{\"outlinewidth\":0,\"ticks\":\"\"}}}],\"scatterpolargl\":[{\"type\":\"scatterpolargl\",\"marker\":{\"colorbar\":{\"outlinewidth\":0,\"ticks\":\"\"}}}],\"bar\":[{\"error_x\":{\"color\":\"#2a3f5f\"},\"error_y\":{\"color\":\"#2a3f5f\"},\"marker\":{\"line\":{\"color\":\"#E5ECF6\",\"width\":0.5},\"pattern\":{\"fillmode\":\"overlay\",\"size\":10,\"solidity\":0.2}},\"type\":\"bar\"}],\"scattergeo\":[{\"type\":\"scattergeo\",\"marker\":{\"colorbar\":{\"outlinewidth\":0,\"ticks\":\"\"}}}],\"scatterpolar\":[{\"type\":\"scatterpolar\",\"marker\":{\"colorbar\":{\"outlinewidth\":0,\"ticks\":\"\"}}}],\"histogram\":[{\"marker\":{\"pattern\":{\"fillmode\":\"overlay\",\"size\":10,\"solidity\":0.2}},\"type\":\"histogram\"}],\"scattergl\":[{\"type\":\"scattergl\",\"marker\":{\"colorbar\":{\"outlinewidth\":0,\"ticks\":\"\"}}}],\"scatter3d\":[{\"type\":\"scatter3d\",\"line\":{\"colorbar\":{\"outlinewidth\":0,\"ticks\":\"\"}},\"marker\":{\"colorbar\":{\"outlinewidth\":0,\"ticks\":\"\"}}}],\"scattermapbox\":[{\"type\":\"scattermapbox\",\"marker\":{\"colorbar\":{\"outlinewidth\":0,\"ticks\":\"\"}}}],\"scatterternary\":[{\"type\":\"scatterternary\",\"marker\":{\"colorbar\":{\"outlinewidth\":0,\"ticks\":\"\"}}}],\"scattercarpet\":[{\"type\":\"scattercarpet\",\"marker\":{\"colorbar\":{\"outlinewidth\":0,\"ticks\":\"\"}}}],\"carpet\":[{\"aaxis\":{\"endlinecolor\":\"#2a3f5f\",\"gridcolor\":\"white\",\"linecolor\":\"white\",\"minorgridcolor\":\"white\",\"startlinecolor\":\"#2a3f5f\"},\"baxis\":{\"endlinecolor\":\"#2a3f5f\",\"gridcolor\":\"white\",\"linecolor\":\"white\",\"minorgridcolor\":\"white\",\"startlinecolor\":\"#2a3f5f\"},\"type\":\"carpet\"}],\"table\":[{\"cells\":{\"fill\":{\"color\":\"#EBF0F8\"},\"line\":{\"color\":\"white\"}},\"header\":{\"fill\":{\"color\":\"#C8D4E3\"},\"line\":{\"color\":\"white\"}},\"type\":\"table\"}],\"barpolar\":[{\"marker\":{\"line\":{\"color\":\"#E5ECF6\",\"width\":0.5},\"pattern\":{\"fillmode\":\"overlay\",\"size\":10,\"solidity\":0.2}},\"type\":\"barpolar\"}],\"pie\":[{\"automargin\":true,\"type\":\"pie\"}]},\"layout\":{\"autotypenumbers\":\"strict\",\"colorway\":[\"#636efa\",\"#EF553B\",\"#00cc96\",\"#ab63fa\",\"#FFA15A\",\"#19d3f3\",\"#FF6692\",\"#B6E880\",\"#FF97FF\",\"#FECB52\"],\"font\":{\"color\":\"#2a3f5f\"},\"hovermode\":\"closest\",\"hoverlabel\":{\"align\":\"left\"},\"paper_bgcolor\":\"white\",\"plot_bgcolor\":\"#E5ECF6\",\"polar\":{\"bgcolor\":\"#E5ECF6\",\"angularaxis\":{\"gridcolor\":\"white\",\"linecolor\":\"white\",\"ticks\":\"\"},\"radialaxis\":{\"gridcolor\":\"white\",\"linecolor\":\"white\",\"ticks\":\"\"}},\"ternary\":{\"bgcolor\":\"#E5ECF6\",\"aaxis\":{\"gridcolor\":\"white\",\"linecolor\":\"white\",\"ticks\":\"\"},\"baxis\":{\"gridcolor\":\"white\",\"linecolor\":\"white\",\"ticks\":\"\"},\"caxis\":{\"gridcolor\":\"white\",\"linecolor\":\"white\",\"ticks\":\"\"}},\"coloraxis\":{\"colorbar\":{\"outlinewidth\":0,\"ticks\":\"\"}},\"colorscale\":{\"sequential\":[[0.0,\"#0d0887\"],[0.1111111111111111,\"#46039f\"],[0.2222222222222222,\"#7201a8\"],[0.3333333333333333,\"#9c179e\"],[0.4444444444444444,\"#bd3786\"],[0.5555555555555556,\"#d8576b\"],[0.6666666666666666,\"#ed7953\"],[0.7777777777777778,\"#fb9f3a\"],[0.8888888888888888,\"#fdca26\"],[1.0,\"#f0f921\"]],\"sequentialminus\":[[0.0,\"#0d0887\"],[0.1111111111111111,\"#46039f\"],[0.2222222222222222,\"#7201a8\"],[0.3333333333333333,\"#9c179e\"],[0.4444444444444444,\"#bd3786\"],[0.5555555555555556,\"#d8576b\"],[0.6666666666666666,\"#ed7953\"],[0.7777777777777778,\"#fb9f3a\"],[0.8888888888888888,\"#fdca26\"],[1.0,\"#f0f921\"]],\"diverging\":[[0,\"#8e0152\"],[0.1,\"#c51b7d\"],[0.2,\"#de77ae\"],[0.3,\"#f1b6da\"],[0.4,\"#fde0ef\"],[0.5,\"#f7f7f7\"],[0.6,\"#e6f5d0\"],[0.7,\"#b8e186\"],[0.8,\"#7fbc41\"],[0.9,\"#4d9221\"],[1,\"#276419\"]]},\"xaxis\":{\"gridcolor\":\"white\",\"linecolor\":\"white\",\"ticks\":\"\",\"title\":{\"standoff\":15},\"zerolinecolor\":\"white\",\"automargin\":true,\"zerolinewidth\":2},\"yaxis\":{\"gridcolor\":\"white\",\"linecolor\":\"white\",\"ticks\":\"\",\"title\":{\"standoff\":15},\"zerolinecolor\":\"white\",\"automargin\":true,\"zerolinewidth\":2},\"scene\":{\"xaxis\":{\"backgroundcolor\":\"#E5ECF6\",\"gridcolor\":\"white\",\"linecolor\":\"white\",\"showbackground\":true,\"ticks\":\"\",\"zerolinecolor\":\"white\",\"gridwidth\":2},\"yaxis\":{\"backgroundcolor\":\"#E5ECF6\",\"gridcolor\":\"white\",\"linecolor\":\"white\",\"showbackground\":true,\"ticks\":\"\",\"zerolinecolor\":\"white\",\"gridwidth\":2},\"zaxis\":{\"backgroundcolor\":\"#E5ECF6\",\"gridcolor\":\"white\",\"linecolor\":\"white\",\"showbackground\":true,\"ticks\":\"\",\"zerolinecolor\":\"white\",\"gridwidth\":2}},\"shapedefaults\":{\"line\":{\"color\":\"#2a3f5f\"}},\"annotationdefaults\":{\"arrowcolor\":\"#2a3f5f\",\"arrowhead\":0,\"arrowwidth\":1},\"geo\":{\"bgcolor\":\"white\",\"landcolor\":\"#E5ECF6\",\"subunitcolor\":\"white\",\"showland\":true,\"showlakes\":true,\"lakecolor\":\"white\"},\"title\":{\"x\":0.05},\"mapbox\":{\"style\":\"light\"}}}},                        {\"responsive\": true}                    ).then(function(){\n",
       "                            \n",
       "var gd = document.getElementById('59781550-35d9-4fd8-9369-ecaa1bc6db3a');\n",
       "var x = new MutationObserver(function (mutations, observer) {{\n",
       "        var display = window.getComputedStyle(gd).display;\n",
       "        if (!display || display === 'none') {{\n",
       "            console.log([gd, 'removed!']);\n",
       "            Plotly.purge(gd);\n",
       "            observer.disconnect();\n",
       "        }}\n",
       "}});\n",
       "\n",
       "// Listen for the removal of the full notebook cells\n",
       "var notebookContainer = gd.closest('#notebook-container');\n",
       "if (notebookContainer) {{\n",
       "    x.observe(notebookContainer, {childList: true});\n",
       "}}\n",
       "\n",
       "// Listen for the clearing of the current output cell\n",
       "var outputEl = gd.closest('.output');\n",
       "if (outputEl) {{\n",
       "    x.observe(outputEl, {childList: true});\n",
       "}}\n",
       "\n",
       "                        })                };                });            </script>        </div>"
      ]
     },
     "metadata": {},
     "output_type": "display_data"
    }
   ],
   "source": [
    "\n",
    "binarizer = Binarizer(threshold=0.3)\n",
    "im8_binarized = binarizer.fit_transform(im8_filtration)\n",
    "\n",
    "\n",
    "\n",
    "binarizer.plot(im8_binarized)"
   ]
  },
  {
   "cell_type": "code",
   "execution_count": 13,
   "id": "d30a129a",
   "metadata": {},
   "outputs": [
    {
     "data": {
      "application/vnd.plotly.v1+json": {
       "config": {
        "plotlyServerURL": "https://plot.ly"
       },
       "data": [
        {
         "hoverinfo": "none",
         "line": {
          "color": "black",
          "dash": "dash",
          "width": 1
         },
         "mode": "lines",
         "showlegend": false,
         "type": "scatter",
         "x": [
          224.4,
          255.6
         ],
         "y": [
          224.4,
          255.6
         ]
        },
        {
         "hoverinfo": "text",
         "hovertext": [],
         "mode": "markers",
         "name": "H0",
         "type": "scatter",
         "x": [],
         "y": []
        },
        {
         "hoverinfo": "text",
         "hovertext": [
          "(225.0, 253.0)",
          "(233.97620395837137, 255.0)",
          "(247.788897449072, 249.0)",
          "(239.47582530373998, 240.43978022143895)",
          "(250.0, 250.52786404500043)",
          "(245.51316701949486, 246.0)",
          "(249.61483519286548, 249.9009804864072)",
          "(244.9501243788791, 245.0)"
         ],
         "mode": "markers",
         "name": "H1",
         "type": "scatter",
         "x": [
          225,
          233.97620395837137,
          247.788897449072,
          239.47582530373998,
          250,
          245.51316701949486,
          249.61483519286548,
          244.9501243788791
         ],
         "y": [
          253,
          255,
          249,
          240.43978022143895,
          250.52786404500043,
          246,
          249.9009804864072,
          245
         ]
        }
       ],
       "layout": {
        "height": 500,
        "plot_bgcolor": "white",
        "template": {
         "data": {
          "bar": [
           {
            "error_x": {
             "color": "#2a3f5f"
            },
            "error_y": {
             "color": "#2a3f5f"
            },
            "marker": {
             "line": {
              "color": "#E5ECF6",
              "width": 0.5
             },
             "pattern": {
              "fillmode": "overlay",
              "size": 10,
              "solidity": 0.2
             }
            },
            "type": "bar"
           }
          ],
          "barpolar": [
           {
            "marker": {
             "line": {
              "color": "#E5ECF6",
              "width": 0.5
             },
             "pattern": {
              "fillmode": "overlay",
              "size": 10,
              "solidity": 0.2
             }
            },
            "type": "barpolar"
           }
          ],
          "carpet": [
           {
            "aaxis": {
             "endlinecolor": "#2a3f5f",
             "gridcolor": "white",
             "linecolor": "white",
             "minorgridcolor": "white",
             "startlinecolor": "#2a3f5f"
            },
            "baxis": {
             "endlinecolor": "#2a3f5f",
             "gridcolor": "white",
             "linecolor": "white",
             "minorgridcolor": "white",
             "startlinecolor": "#2a3f5f"
            },
            "type": "carpet"
           }
          ],
          "choropleth": [
           {
            "colorbar": {
             "outlinewidth": 0,
             "ticks": ""
            },
            "type": "choropleth"
           }
          ],
          "contour": [
           {
            "colorbar": {
             "outlinewidth": 0,
             "ticks": ""
            },
            "colorscale": [
             [
              0,
              "#0d0887"
             ],
             [
              0.1111111111111111,
              "#46039f"
             ],
             [
              0.2222222222222222,
              "#7201a8"
             ],
             [
              0.3333333333333333,
              "#9c179e"
             ],
             [
              0.4444444444444444,
              "#bd3786"
             ],
             [
              0.5555555555555556,
              "#d8576b"
             ],
             [
              0.6666666666666666,
              "#ed7953"
             ],
             [
              0.7777777777777778,
              "#fb9f3a"
             ],
             [
              0.8888888888888888,
              "#fdca26"
             ],
             [
              1,
              "#f0f921"
             ]
            ],
            "type": "contour"
           }
          ],
          "contourcarpet": [
           {
            "colorbar": {
             "outlinewidth": 0,
             "ticks": ""
            },
            "type": "contourcarpet"
           }
          ],
          "heatmap": [
           {
            "colorbar": {
             "outlinewidth": 0,
             "ticks": ""
            },
            "colorscale": [
             [
              0,
              "#0d0887"
             ],
             [
              0.1111111111111111,
              "#46039f"
             ],
             [
              0.2222222222222222,
              "#7201a8"
             ],
             [
              0.3333333333333333,
              "#9c179e"
             ],
             [
              0.4444444444444444,
              "#bd3786"
             ],
             [
              0.5555555555555556,
              "#d8576b"
             ],
             [
              0.6666666666666666,
              "#ed7953"
             ],
             [
              0.7777777777777778,
              "#fb9f3a"
             ],
             [
              0.8888888888888888,
              "#fdca26"
             ],
             [
              1,
              "#f0f921"
             ]
            ],
            "type": "heatmap"
           }
          ],
          "heatmapgl": [
           {
            "colorbar": {
             "outlinewidth": 0,
             "ticks": ""
            },
            "colorscale": [
             [
              0,
              "#0d0887"
             ],
             [
              0.1111111111111111,
              "#46039f"
             ],
             [
              0.2222222222222222,
              "#7201a8"
             ],
             [
              0.3333333333333333,
              "#9c179e"
             ],
             [
              0.4444444444444444,
              "#bd3786"
             ],
             [
              0.5555555555555556,
              "#d8576b"
             ],
             [
              0.6666666666666666,
              "#ed7953"
             ],
             [
              0.7777777777777778,
              "#fb9f3a"
             ],
             [
              0.8888888888888888,
              "#fdca26"
             ],
             [
              1,
              "#f0f921"
             ]
            ],
            "type": "heatmapgl"
           }
          ],
          "histogram": [
           {
            "marker": {
             "pattern": {
              "fillmode": "overlay",
              "size": 10,
              "solidity": 0.2
             }
            },
            "type": "histogram"
           }
          ],
          "histogram2d": [
           {
            "colorbar": {
             "outlinewidth": 0,
             "ticks": ""
            },
            "colorscale": [
             [
              0,
              "#0d0887"
             ],
             [
              0.1111111111111111,
              "#46039f"
             ],
             [
              0.2222222222222222,
              "#7201a8"
             ],
             [
              0.3333333333333333,
              "#9c179e"
             ],
             [
              0.4444444444444444,
              "#bd3786"
             ],
             [
              0.5555555555555556,
              "#d8576b"
             ],
             [
              0.6666666666666666,
              "#ed7953"
             ],
             [
              0.7777777777777778,
              "#fb9f3a"
             ],
             [
              0.8888888888888888,
              "#fdca26"
             ],
             [
              1,
              "#f0f921"
             ]
            ],
            "type": "histogram2d"
           }
          ],
          "histogram2dcontour": [
           {
            "colorbar": {
             "outlinewidth": 0,
             "ticks": ""
            },
            "colorscale": [
             [
              0,
              "#0d0887"
             ],
             [
              0.1111111111111111,
              "#46039f"
             ],
             [
              0.2222222222222222,
              "#7201a8"
             ],
             [
              0.3333333333333333,
              "#9c179e"
             ],
             [
              0.4444444444444444,
              "#bd3786"
             ],
             [
              0.5555555555555556,
              "#d8576b"
             ],
             [
              0.6666666666666666,
              "#ed7953"
             ],
             [
              0.7777777777777778,
              "#fb9f3a"
             ],
             [
              0.8888888888888888,
              "#fdca26"
             ],
             [
              1,
              "#f0f921"
             ]
            ],
            "type": "histogram2dcontour"
           }
          ],
          "mesh3d": [
           {
            "colorbar": {
             "outlinewidth": 0,
             "ticks": ""
            },
            "type": "mesh3d"
           }
          ],
          "parcoords": [
           {
            "line": {
             "colorbar": {
              "outlinewidth": 0,
              "ticks": ""
             }
            },
            "type": "parcoords"
           }
          ],
          "pie": [
           {
            "automargin": true,
            "type": "pie"
           }
          ],
          "scatter": [
           {
            "fillpattern": {
             "fillmode": "overlay",
             "size": 10,
             "solidity": 0.2
            },
            "type": "scatter"
           }
          ],
          "scatter3d": [
           {
            "line": {
             "colorbar": {
              "outlinewidth": 0,
              "ticks": ""
             }
            },
            "marker": {
             "colorbar": {
              "outlinewidth": 0,
              "ticks": ""
             }
            },
            "type": "scatter3d"
           }
          ],
          "scattercarpet": [
           {
            "marker": {
             "colorbar": {
              "outlinewidth": 0,
              "ticks": ""
             }
            },
            "type": "scattercarpet"
           }
          ],
          "scattergeo": [
           {
            "marker": {
             "colorbar": {
              "outlinewidth": 0,
              "ticks": ""
             }
            },
            "type": "scattergeo"
           }
          ],
          "scattergl": [
           {
            "marker": {
             "colorbar": {
              "outlinewidth": 0,
              "ticks": ""
             }
            },
            "type": "scattergl"
           }
          ],
          "scattermapbox": [
           {
            "marker": {
             "colorbar": {
              "outlinewidth": 0,
              "ticks": ""
             }
            },
            "type": "scattermapbox"
           }
          ],
          "scatterpolar": [
           {
            "marker": {
             "colorbar": {
              "outlinewidth": 0,
              "ticks": ""
             }
            },
            "type": "scatterpolar"
           }
          ],
          "scatterpolargl": [
           {
            "marker": {
             "colorbar": {
              "outlinewidth": 0,
              "ticks": ""
             }
            },
            "type": "scatterpolargl"
           }
          ],
          "scatterternary": [
           {
            "marker": {
             "colorbar": {
              "outlinewidth": 0,
              "ticks": ""
             }
            },
            "type": "scatterternary"
           }
          ],
          "surface": [
           {
            "colorbar": {
             "outlinewidth": 0,
             "ticks": ""
            },
            "colorscale": [
             [
              0,
              "#0d0887"
             ],
             [
              0.1111111111111111,
              "#46039f"
             ],
             [
              0.2222222222222222,
              "#7201a8"
             ],
             [
              0.3333333333333333,
              "#9c179e"
             ],
             [
              0.4444444444444444,
              "#bd3786"
             ],
             [
              0.5555555555555556,
              "#d8576b"
             ],
             [
              0.6666666666666666,
              "#ed7953"
             ],
             [
              0.7777777777777778,
              "#fb9f3a"
             ],
             [
              0.8888888888888888,
              "#fdca26"
             ],
             [
              1,
              "#f0f921"
             ]
            ],
            "type": "surface"
           }
          ],
          "table": [
           {
            "cells": {
             "fill": {
              "color": "#EBF0F8"
             },
             "line": {
              "color": "white"
             }
            },
            "header": {
             "fill": {
              "color": "#C8D4E3"
             },
             "line": {
              "color": "white"
             }
            },
            "type": "table"
           }
          ]
         },
         "layout": {
          "annotationdefaults": {
           "arrowcolor": "#2a3f5f",
           "arrowhead": 0,
           "arrowwidth": 1
          },
          "autotypenumbers": "strict",
          "coloraxis": {
           "colorbar": {
            "outlinewidth": 0,
            "ticks": ""
           }
          },
          "colorscale": {
           "diverging": [
            [
             0,
             "#8e0152"
            ],
            [
             0.1,
             "#c51b7d"
            ],
            [
             0.2,
             "#de77ae"
            ],
            [
             0.3,
             "#f1b6da"
            ],
            [
             0.4,
             "#fde0ef"
            ],
            [
             0.5,
             "#f7f7f7"
            ],
            [
             0.6,
             "#e6f5d0"
            ],
            [
             0.7,
             "#b8e186"
            ],
            [
             0.8,
             "#7fbc41"
            ],
            [
             0.9,
             "#4d9221"
            ],
            [
             1,
             "#276419"
            ]
           ],
           "sequential": [
            [
             0,
             "#0d0887"
            ],
            [
             0.1111111111111111,
             "#46039f"
            ],
            [
             0.2222222222222222,
             "#7201a8"
            ],
            [
             0.3333333333333333,
             "#9c179e"
            ],
            [
             0.4444444444444444,
             "#bd3786"
            ],
            [
             0.5555555555555556,
             "#d8576b"
            ],
            [
             0.6666666666666666,
             "#ed7953"
            ],
            [
             0.7777777777777778,
             "#fb9f3a"
            ],
            [
             0.8888888888888888,
             "#fdca26"
            ],
            [
             1,
             "#f0f921"
            ]
           ],
           "sequentialminus": [
            [
             0,
             "#0d0887"
            ],
            [
             0.1111111111111111,
             "#46039f"
            ],
            [
             0.2222222222222222,
             "#7201a8"
            ],
            [
             0.3333333333333333,
             "#9c179e"
            ],
            [
             0.4444444444444444,
             "#bd3786"
            ],
            [
             0.5555555555555556,
             "#d8576b"
            ],
            [
             0.6666666666666666,
             "#ed7953"
            ],
            [
             0.7777777777777778,
             "#fb9f3a"
            ],
            [
             0.8888888888888888,
             "#fdca26"
            ],
            [
             1,
             "#f0f921"
            ]
           ]
          },
          "colorway": [
           "#636efa",
           "#EF553B",
           "#00cc96",
           "#ab63fa",
           "#FFA15A",
           "#19d3f3",
           "#FF6692",
           "#B6E880",
           "#FF97FF",
           "#FECB52"
          ],
          "font": {
           "color": "#2a3f5f"
          },
          "geo": {
           "bgcolor": "white",
           "lakecolor": "white",
           "landcolor": "#E5ECF6",
           "showlakes": true,
           "showland": true,
           "subunitcolor": "white"
          },
          "hoverlabel": {
           "align": "left"
          },
          "hovermode": "closest",
          "mapbox": {
           "style": "light"
          },
          "paper_bgcolor": "white",
          "plot_bgcolor": "#E5ECF6",
          "polar": {
           "angularaxis": {
            "gridcolor": "white",
            "linecolor": "white",
            "ticks": ""
           },
           "bgcolor": "#E5ECF6",
           "radialaxis": {
            "gridcolor": "white",
            "linecolor": "white",
            "ticks": ""
           }
          },
          "scene": {
           "xaxis": {
            "backgroundcolor": "#E5ECF6",
            "gridcolor": "white",
            "gridwidth": 2,
            "linecolor": "white",
            "showbackground": true,
            "ticks": "",
            "zerolinecolor": "white"
           },
           "yaxis": {
            "backgroundcolor": "#E5ECF6",
            "gridcolor": "white",
            "gridwidth": 2,
            "linecolor": "white",
            "showbackground": true,
            "ticks": "",
            "zerolinecolor": "white"
           },
           "zaxis": {
            "backgroundcolor": "#E5ECF6",
            "gridcolor": "white",
            "gridwidth": 2,
            "linecolor": "white",
            "showbackground": true,
            "ticks": "",
            "zerolinecolor": "white"
           }
          },
          "shapedefaults": {
           "line": {
            "color": "#2a3f5f"
           }
          },
          "ternary": {
           "aaxis": {
            "gridcolor": "white",
            "linecolor": "white",
            "ticks": ""
           },
           "baxis": {
            "gridcolor": "white",
            "linecolor": "white",
            "ticks": ""
           },
           "bgcolor": "#E5ECF6",
           "caxis": {
            "gridcolor": "white",
            "linecolor": "white",
            "ticks": ""
           }
          },
          "title": {
           "x": 0.05
          },
          "xaxis": {
           "automargin": true,
           "gridcolor": "white",
           "linecolor": "white",
           "ticks": "",
           "title": {
            "standoff": 15
           },
           "zerolinecolor": "white",
           "zerolinewidth": 2
          },
          "yaxis": {
           "automargin": true,
           "gridcolor": "white",
           "linecolor": "white",
           "ticks": "",
           "title": {
            "standoff": 15
           },
           "zerolinecolor": "white",
           "zerolinewidth": 2
          }
         }
        },
        "width": 500,
        "xaxis": {
         "autorange": false,
         "exponentformat": "e",
         "linecolor": "black",
         "linewidth": 1,
         "mirror": false,
         "range": [
          224.4,
          255.6
         ],
         "showexponent": "all",
         "showline": true,
         "side": "bottom",
         "ticks": "outside",
         "title": {
          "text": "Birth"
         },
         "type": "linear",
         "zeroline": true
        },
        "yaxis": {
         "autorange": false,
         "exponentformat": "e",
         "linecolor": "black",
         "linewidth": 1,
         "mirror": false,
         "range": [
          224.4,
          255.6
         ],
         "scaleanchor": "x",
         "scaleratio": 1,
         "showexponent": "all",
         "showline": true,
         "side": "left",
         "ticks": "outside",
         "title": {
          "text": "Death"
         },
         "type": "linear",
         "zeroline": true
        }
       }
      },
      "text/html": [
       "<div>                            <div id=\"959d3ee4-331f-42ab-88b2-dd1ce3b96308\" class=\"plotly-graph-div\" style=\"height:500px; width:500px;\"></div>            <script type=\"text/javascript\">                require([\"plotly\"], function(Plotly) {                    window.PLOTLYENV=window.PLOTLYENV || {};                                    if (document.getElementById(\"959d3ee4-331f-42ab-88b2-dd1ce3b96308\")) {                    Plotly.newPlot(                        \"959d3ee4-331f-42ab-88b2-dd1ce3b96308\",                        [{\"hoverinfo\":\"none\",\"line\":{\"color\":\"black\",\"dash\":\"dash\",\"width\":1},\"mode\":\"lines\",\"showlegend\":false,\"x\":[224.4,255.6],\"y\":[224.4,255.6],\"type\":\"scatter\"},{\"hoverinfo\":\"text\",\"hovertext\":[],\"mode\":\"markers\",\"name\":\"H0\",\"x\":[],\"y\":[],\"type\":\"scatter\"},{\"hoverinfo\":\"text\",\"hovertext\":[\"(225.0, 253.0)\",\"(233.97620395837137, 255.0)\",\"(247.788897449072, 249.0)\",\"(239.47582530373998, 240.43978022143895)\",\"(250.0, 250.52786404500043)\",\"(245.51316701949486, 246.0)\",\"(249.61483519286548, 249.9009804864072)\",\"(244.9501243788791, 245.0)\"],\"mode\":\"markers\",\"name\":\"H1\",\"x\":[225.0,233.97620395837137,247.788897449072,239.47582530373998,250.0,245.51316701949486,249.61483519286548,244.9501243788791],\"y\":[253.0,255.0,249.0,240.43978022143895,250.52786404500043,246.0,249.9009804864072,245.0],\"type\":\"scatter\"}],                        {\"template\":{\"data\":{\"histogram2dcontour\":[{\"type\":\"histogram2dcontour\",\"colorbar\":{\"outlinewidth\":0,\"ticks\":\"\"},\"colorscale\":[[0.0,\"#0d0887\"],[0.1111111111111111,\"#46039f\"],[0.2222222222222222,\"#7201a8\"],[0.3333333333333333,\"#9c179e\"],[0.4444444444444444,\"#bd3786\"],[0.5555555555555556,\"#d8576b\"],[0.6666666666666666,\"#ed7953\"],[0.7777777777777778,\"#fb9f3a\"],[0.8888888888888888,\"#fdca26\"],[1.0,\"#f0f921\"]]}],\"choropleth\":[{\"type\":\"choropleth\",\"colorbar\":{\"outlinewidth\":0,\"ticks\":\"\"}}],\"histogram2d\":[{\"type\":\"histogram2d\",\"colorbar\":{\"outlinewidth\":0,\"ticks\":\"\"},\"colorscale\":[[0.0,\"#0d0887\"],[0.1111111111111111,\"#46039f\"],[0.2222222222222222,\"#7201a8\"],[0.3333333333333333,\"#9c179e\"],[0.4444444444444444,\"#bd3786\"],[0.5555555555555556,\"#d8576b\"],[0.6666666666666666,\"#ed7953\"],[0.7777777777777778,\"#fb9f3a\"],[0.8888888888888888,\"#fdca26\"],[1.0,\"#f0f921\"]]}],\"heatmap\":[{\"type\":\"heatmap\",\"colorbar\":{\"outlinewidth\":0,\"ticks\":\"\"},\"colorscale\":[[0.0,\"#0d0887\"],[0.1111111111111111,\"#46039f\"],[0.2222222222222222,\"#7201a8\"],[0.3333333333333333,\"#9c179e\"],[0.4444444444444444,\"#bd3786\"],[0.5555555555555556,\"#d8576b\"],[0.6666666666666666,\"#ed7953\"],[0.7777777777777778,\"#fb9f3a\"],[0.8888888888888888,\"#fdca26\"],[1.0,\"#f0f921\"]]}],\"heatmapgl\":[{\"type\":\"heatmapgl\",\"colorbar\":{\"outlinewidth\":0,\"ticks\":\"\"},\"colorscale\":[[0.0,\"#0d0887\"],[0.1111111111111111,\"#46039f\"],[0.2222222222222222,\"#7201a8\"],[0.3333333333333333,\"#9c179e\"],[0.4444444444444444,\"#bd3786\"],[0.5555555555555556,\"#d8576b\"],[0.6666666666666666,\"#ed7953\"],[0.7777777777777778,\"#fb9f3a\"],[0.8888888888888888,\"#fdca26\"],[1.0,\"#f0f921\"]]}],\"contourcarpet\":[{\"type\":\"contourcarpet\",\"colorbar\":{\"outlinewidth\":0,\"ticks\":\"\"}}],\"contour\":[{\"type\":\"contour\",\"colorbar\":{\"outlinewidth\":0,\"ticks\":\"\"},\"colorscale\":[[0.0,\"#0d0887\"],[0.1111111111111111,\"#46039f\"],[0.2222222222222222,\"#7201a8\"],[0.3333333333333333,\"#9c179e\"],[0.4444444444444444,\"#bd3786\"],[0.5555555555555556,\"#d8576b\"],[0.6666666666666666,\"#ed7953\"],[0.7777777777777778,\"#fb9f3a\"],[0.8888888888888888,\"#fdca26\"],[1.0,\"#f0f921\"]]}],\"surface\":[{\"type\":\"surface\",\"colorbar\":{\"outlinewidth\":0,\"ticks\":\"\"},\"colorscale\":[[0.0,\"#0d0887\"],[0.1111111111111111,\"#46039f\"],[0.2222222222222222,\"#7201a8\"],[0.3333333333333333,\"#9c179e\"],[0.4444444444444444,\"#bd3786\"],[0.5555555555555556,\"#d8576b\"],[0.6666666666666666,\"#ed7953\"],[0.7777777777777778,\"#fb9f3a\"],[0.8888888888888888,\"#fdca26\"],[1.0,\"#f0f921\"]]}],\"mesh3d\":[{\"type\":\"mesh3d\",\"colorbar\":{\"outlinewidth\":0,\"ticks\":\"\"}}],\"scatter\":[{\"fillpattern\":{\"fillmode\":\"overlay\",\"size\":10,\"solidity\":0.2},\"type\":\"scatter\"}],\"parcoords\":[{\"type\":\"parcoords\",\"line\":{\"colorbar\":{\"outlinewidth\":0,\"ticks\":\"\"}}}],\"scatterpolargl\":[{\"type\":\"scatterpolargl\",\"marker\":{\"colorbar\":{\"outlinewidth\":0,\"ticks\":\"\"}}}],\"bar\":[{\"error_x\":{\"color\":\"#2a3f5f\"},\"error_y\":{\"color\":\"#2a3f5f\"},\"marker\":{\"line\":{\"color\":\"#E5ECF6\",\"width\":0.5},\"pattern\":{\"fillmode\":\"overlay\",\"size\":10,\"solidity\":0.2}},\"type\":\"bar\"}],\"scattergeo\":[{\"type\":\"scattergeo\",\"marker\":{\"colorbar\":{\"outlinewidth\":0,\"ticks\":\"\"}}}],\"scatterpolar\":[{\"type\":\"scatterpolar\",\"marker\":{\"colorbar\":{\"outlinewidth\":0,\"ticks\":\"\"}}}],\"histogram\":[{\"marker\":{\"pattern\":{\"fillmode\":\"overlay\",\"size\":10,\"solidity\":0.2}},\"type\":\"histogram\"}],\"scattergl\":[{\"type\":\"scattergl\",\"marker\":{\"colorbar\":{\"outlinewidth\":0,\"ticks\":\"\"}}}],\"scatter3d\":[{\"type\":\"scatter3d\",\"line\":{\"colorbar\":{\"outlinewidth\":0,\"ticks\":\"\"}},\"marker\":{\"colorbar\":{\"outlinewidth\":0,\"ticks\":\"\"}}}],\"scattermapbox\":[{\"type\":\"scattermapbox\",\"marker\":{\"colorbar\":{\"outlinewidth\":0,\"ticks\":\"\"}}}],\"scatterternary\":[{\"type\":\"scatterternary\",\"marker\":{\"colorbar\":{\"outlinewidth\":0,\"ticks\":\"\"}}}],\"scattercarpet\":[{\"type\":\"scattercarpet\",\"marker\":{\"colorbar\":{\"outlinewidth\":0,\"ticks\":\"\"}}}],\"carpet\":[{\"aaxis\":{\"endlinecolor\":\"#2a3f5f\",\"gridcolor\":\"white\",\"linecolor\":\"white\",\"minorgridcolor\":\"white\",\"startlinecolor\":\"#2a3f5f\"},\"baxis\":{\"endlinecolor\":\"#2a3f5f\",\"gridcolor\":\"white\",\"linecolor\":\"white\",\"minorgridcolor\":\"white\",\"startlinecolor\":\"#2a3f5f\"},\"type\":\"carpet\"}],\"table\":[{\"cells\":{\"fill\":{\"color\":\"#EBF0F8\"},\"line\":{\"color\":\"white\"}},\"header\":{\"fill\":{\"color\":\"#C8D4E3\"},\"line\":{\"color\":\"white\"}},\"type\":\"table\"}],\"barpolar\":[{\"marker\":{\"line\":{\"color\":\"#E5ECF6\",\"width\":0.5},\"pattern\":{\"fillmode\":\"overlay\",\"size\":10,\"solidity\":0.2}},\"type\":\"barpolar\"}],\"pie\":[{\"automargin\":true,\"type\":\"pie\"}]},\"layout\":{\"autotypenumbers\":\"strict\",\"colorway\":[\"#636efa\",\"#EF553B\",\"#00cc96\",\"#ab63fa\",\"#FFA15A\",\"#19d3f3\",\"#FF6692\",\"#B6E880\",\"#FF97FF\",\"#FECB52\"],\"font\":{\"color\":\"#2a3f5f\"},\"hovermode\":\"closest\",\"hoverlabel\":{\"align\":\"left\"},\"paper_bgcolor\":\"white\",\"plot_bgcolor\":\"#E5ECF6\",\"polar\":{\"bgcolor\":\"#E5ECF6\",\"angularaxis\":{\"gridcolor\":\"white\",\"linecolor\":\"white\",\"ticks\":\"\"},\"radialaxis\":{\"gridcolor\":\"white\",\"linecolor\":\"white\",\"ticks\":\"\"}},\"ternary\":{\"bgcolor\":\"#E5ECF6\",\"aaxis\":{\"gridcolor\":\"white\",\"linecolor\":\"white\",\"ticks\":\"\"},\"baxis\":{\"gridcolor\":\"white\",\"linecolor\":\"white\",\"ticks\":\"\"},\"caxis\":{\"gridcolor\":\"white\",\"linecolor\":\"white\",\"ticks\":\"\"}},\"coloraxis\":{\"colorbar\":{\"outlinewidth\":0,\"ticks\":\"\"}},\"colorscale\":{\"sequential\":[[0.0,\"#0d0887\"],[0.1111111111111111,\"#46039f\"],[0.2222222222222222,\"#7201a8\"],[0.3333333333333333,\"#9c179e\"],[0.4444444444444444,\"#bd3786\"],[0.5555555555555556,\"#d8576b\"],[0.6666666666666666,\"#ed7953\"],[0.7777777777777778,\"#fb9f3a\"],[0.8888888888888888,\"#fdca26\"],[1.0,\"#f0f921\"]],\"sequentialminus\":[[0.0,\"#0d0887\"],[0.1111111111111111,\"#46039f\"],[0.2222222222222222,\"#7201a8\"],[0.3333333333333333,\"#9c179e\"],[0.4444444444444444,\"#bd3786\"],[0.5555555555555556,\"#d8576b\"],[0.6666666666666666,\"#ed7953\"],[0.7777777777777778,\"#fb9f3a\"],[0.8888888888888888,\"#fdca26\"],[1.0,\"#f0f921\"]],\"diverging\":[[0,\"#8e0152\"],[0.1,\"#c51b7d\"],[0.2,\"#de77ae\"],[0.3,\"#f1b6da\"],[0.4,\"#fde0ef\"],[0.5,\"#f7f7f7\"],[0.6,\"#e6f5d0\"],[0.7,\"#b8e186\"],[0.8,\"#7fbc41\"],[0.9,\"#4d9221\"],[1,\"#276419\"]]},\"xaxis\":{\"gridcolor\":\"white\",\"linecolor\":\"white\",\"ticks\":\"\",\"title\":{\"standoff\":15},\"zerolinecolor\":\"white\",\"automargin\":true,\"zerolinewidth\":2},\"yaxis\":{\"gridcolor\":\"white\",\"linecolor\":\"white\",\"ticks\":\"\",\"title\":{\"standoff\":15},\"zerolinecolor\":\"white\",\"automargin\":true,\"zerolinewidth\":2},\"scene\":{\"xaxis\":{\"backgroundcolor\":\"#E5ECF6\",\"gridcolor\":\"white\",\"linecolor\":\"white\",\"showbackground\":true,\"ticks\":\"\",\"zerolinecolor\":\"white\",\"gridwidth\":2},\"yaxis\":{\"backgroundcolor\":\"#E5ECF6\",\"gridcolor\":\"white\",\"linecolor\":\"white\",\"showbackground\":true,\"ticks\":\"\",\"zerolinecolor\":\"white\",\"gridwidth\":2},\"zaxis\":{\"backgroundcolor\":\"#E5ECF6\",\"gridcolor\":\"white\",\"linecolor\":\"white\",\"showbackground\":true,\"ticks\":\"\",\"zerolinecolor\":\"white\",\"gridwidth\":2}},\"shapedefaults\":{\"line\":{\"color\":\"#2a3f5f\"}},\"annotationdefaults\":{\"arrowcolor\":\"#2a3f5f\",\"arrowhead\":0,\"arrowwidth\":1},\"geo\":{\"bgcolor\":\"white\",\"landcolor\":\"#E5ECF6\",\"subunitcolor\":\"white\",\"showland\":true,\"showlakes\":true,\"lakecolor\":\"white\"},\"title\":{\"x\":0.05},\"mapbox\":{\"style\":\"light\"}}},\"xaxis\":{\"title\":{\"text\":\"Birth\"},\"side\":\"bottom\",\"type\":\"linear\",\"range\":[224.4,255.6],\"autorange\":false,\"ticks\":\"outside\",\"showline\":true,\"zeroline\":true,\"linewidth\":1,\"linecolor\":\"black\",\"mirror\":false,\"showexponent\":\"all\",\"exponentformat\":\"e\"},\"yaxis\":{\"title\":{\"text\":\"Death\"},\"side\":\"left\",\"type\":\"linear\",\"range\":[224.4,255.6],\"autorange\":false,\"scaleanchor\":\"x\",\"scaleratio\":1,\"ticks\":\"outside\",\"showline\":true,\"zeroline\":true,\"linewidth\":1,\"linecolor\":\"black\",\"mirror\":false,\"showexponent\":\"all\",\"exponentformat\":\"e\"},\"width\":500,\"height\":500,\"plot_bgcolor\":\"white\"},                        {\"responsive\": true}                    ).then(function(){\n",
       "                            \n",
       "var gd = document.getElementById('959d3ee4-331f-42ab-88b2-dd1ce3b96308');\n",
       "var x = new MutationObserver(function (mutations, observer) {{\n",
       "        var display = window.getComputedStyle(gd).display;\n",
       "        if (!display || display === 'none') {{\n",
       "            console.log([gd, 'removed!']);\n",
       "            Plotly.purge(gd);\n",
       "            observer.disconnect();\n",
       "        }}\n",
       "}});\n",
       "\n",
       "// Listen for the removal of the full notebook cells\n",
       "var notebookContainer = gd.closest('#notebook-container');\n",
       "if (notebookContainer) {{\n",
       "    x.observe(notebookContainer, {childList: true});\n",
       "}}\n",
       "\n",
       "// Listen for the clearing of the current output cell\n",
       "var outputEl = gd.closest('.output');\n",
       "if (outputEl) {{\n",
       "    x.observe(outputEl, {childList: true});\n",
       "}}\n",
       "\n",
       "                        })                };                });            </script>        </div>"
      ]
     },
     "metadata": {},
     "output_type": "display_data"
    }
   ],
   "source": [
    "from gtda.homology import CubicalPersistence\n",
    "\n",
    "cubical_persistence = CubicalPersistence(n_jobs=-1)\n",
    "im8_cubical = cubical_persistence.fit_transform(im8_filtration)\n",
    "\n",
    "cubical_persistence.plot(im8_cubical)"
   ]
  },
  {
   "cell_type": "code",
   "execution_count": 3,
   "id": "2df1c90d",
   "metadata": {},
   "outputs": [],
   "source": [
    "##### Imports the necessary modules #######\n",
    "from sklearn.pipeline import make_pipeline, make_union\n",
    "from gtda.diagrams import PersistenceEntropy\n",
    "from gtda.images import HeightFiltration\n",
    "from gtda.images import RadialFiltration\n",
    "from gtda.images import Binarizer\n",
    "from gtda.homology import CubicalPersistence\n",
    "from gtda.diagrams import Scaler\n",
    "from gtda.diagrams import Amplitude\n",
    "\n",
    "##### Directions list for Height Filtration#######\n",
    "direction_list = [[1, 0], [1, 1], [0, 1], [-1, 1], [-1, 0], [-1, -1], [0, -1], [1, -1]]\n",
    "\n",
    "########Center list for radial filtration ########\n",
    "center_list = [\n",
    "    [13, 6],\n",
    "    [6, 13],\n",
    "    [13, 13],\n",
    "    [20, 13],\n",
    "    [13, 20],\n",
    "    [6, 6],\n",
    "    [6, 20],\n",
    "    [20, 6],\n",
    "    [20, 20],\n",
    "]\n",
    "\n",
    "###### List of filtration methods #########\n",
    "filtration_list = (\n",
    "    [\n",
    "        HeightFiltration(direction=np.array(direction), n_jobs=-1)\n",
    "        for direction in direction_list\n",
    "    ]\n",
    "    + [RadialFiltration(center=np.array(center), n_jobs=-1) for center in center_list]\n",
    ")\n",
    "\n",
    "###### Persistence diagram acquisition ########\n",
    "diagram_steps = [\n",
    "    [\n",
    "        Binarizer(threshold=0.5, n_jobs=-1),\n",
    "        filtration,\n",
    "        CubicalPersistence(n_jobs=-1),\n",
    "        Scaler(n_jobs=-1),\n",
    "    ]\n",
    "    for filtration in filtration_list\n",
    "]\n",
    "\n",
    "####### list of metric used to obtain the amplitude of PD ########\n",
    "metric_list = [\n",
    "    {\"metric\": \"bottleneck\", \"metric_params\": {}},\n",
    "    {\"metric\": \"wasserstein\", \"metric_params\": {\"p\": 1}},\n",
    "    {\"metric\": \"wasserstein\", \"metric_params\": {\"p\": 2}},\n",
    "    {\"metric\": \"landscape\", \"metric_params\": {\"p\": 1, \"n_layers\": 1, \"n_bins\": 50}},\n",
    "    {\"metric\": \"landscape\", \"metric_params\": {\"p\": 1, \"n_layers\": 2, \"n_bins\": 50}},\n",
    "    {\"metric\": \"landscape\", \"metric_params\": {\"p\": 2, \"n_layers\": 1, \"n_bins\": 50}},\n",
    "    {\"metric\": \"landscape\", \"metric_params\": {\"p\": 2, \"n_layers\": 2, \"n_bins\": 50}},\n",
    "    {\"metric\": \"betti\", \"metric_params\": {\"p\": 1, \"n_bins\": 50}},\n",
    "    {\"metric\": \"betti\", \"metric_params\": {\"p\": 2, \"n_bins\": 50}},\n",
    "    {\"metric\": \"heat\", \"metric_params\": {\"p\": 1, \"sigma\": 0.15, \"n_bins\": 50}},\n",
    "    {\"metric\": \"heat\", \"metric_params\": {\"p\": 1, \"sigma\": 0.15, \"n_bins\": 50}},\n",
    "    {\"metric\": \"heat\", \"metric_params\": {\"p\": 2, \"sigma\": 0.15, \"n_bins\": 50}},\n",
    "    {\"metric\": \"heat\", \"metric_params\": {\"p\": 2, \"sigma\": 0.15, \"n_bins\": 50}},\n",
    "]\n",
    "\n",
    "####### union of all features as an ordered n-tuples i.e. n-dimensional vector, in our case the resulting feature has 476 dimension #######\n",
    "feature_union = make_union(\n",
    "    *[PersistenceEntropy(nan_fill_value=-1)]\n",
    "    + [Amplitude(**metric, n_jobs=-1) for metric in metric_list]\n",
    ")\n",
    "\n",
    "####### Pipeline union. this way a pipeline is analogous to a function that maps every data point to a feature vector########\n",
    "tda_union = make_union(\n",
    "    *[make_pipeline(*diagram_step, feature_union) for diagram_step in diagram_steps],\n",
    "    n_jobs=-1\n",
    ")\n",
    "     "
   ]
  },
  {
   "cell_type": "code",
   "execution_count": 4,
   "id": "39f08bcc",
   "metadata": {},
   "outputs": [
    {
     "data": {
      "text/html": [
       "<style>#sk-8b965fcd-f11b-45f5-871b-7417bdc2757d {color: black;background-color: white;}#sk-8b965fcd-f11b-45f5-871b-7417bdc2757d pre{padding: 0;}#sk-8b965fcd-f11b-45f5-871b-7417bdc2757d div.sk-toggleable {background-color: white;}#sk-8b965fcd-f11b-45f5-871b-7417bdc2757d label.sk-toggleable__label {cursor: pointer;display: block;width: 100%;margin-bottom: 0;padding: 0.3em;box-sizing: border-box;text-align: center;}#sk-8b965fcd-f11b-45f5-871b-7417bdc2757d label.sk-toggleable__label-arrow:before {content: \"▸\";float: left;margin-right: 0.25em;color: #696969;}#sk-8b965fcd-f11b-45f5-871b-7417bdc2757d label.sk-toggleable__label-arrow:hover:before {color: black;}#sk-8b965fcd-f11b-45f5-871b-7417bdc2757d div.sk-estimator:hover label.sk-toggleable__label-arrow:before {color: black;}#sk-8b965fcd-f11b-45f5-871b-7417bdc2757d div.sk-toggleable__content {max-height: 0;max-width: 0;overflow: hidden;text-align: left;background-color: #f0f8ff;}#sk-8b965fcd-f11b-45f5-871b-7417bdc2757d div.sk-toggleable__content pre {margin: 0.2em;color: black;border-radius: 0.25em;background-color: #f0f8ff;}#sk-8b965fcd-f11b-45f5-871b-7417bdc2757d input.sk-toggleable__control:checked~div.sk-toggleable__content {max-height: 200px;max-width: 100%;overflow: auto;}#sk-8b965fcd-f11b-45f5-871b-7417bdc2757d input.sk-toggleable__control:checked~label.sk-toggleable__label-arrow:before {content: \"▾\";}#sk-8b965fcd-f11b-45f5-871b-7417bdc2757d div.sk-estimator input.sk-toggleable__control:checked~label.sk-toggleable__label {background-color: #d4ebff;}#sk-8b965fcd-f11b-45f5-871b-7417bdc2757d div.sk-label input.sk-toggleable__control:checked~label.sk-toggleable__label {background-color: #d4ebff;}#sk-8b965fcd-f11b-45f5-871b-7417bdc2757d input.sk-hidden--visually {border: 0;clip: rect(1px 1px 1px 1px);clip: rect(1px, 1px, 1px, 1px);height: 1px;margin: -1px;overflow: hidden;padding: 0;position: absolute;width: 1px;}#sk-8b965fcd-f11b-45f5-871b-7417bdc2757d div.sk-estimator {font-family: monospace;background-color: #f0f8ff;border: 1px dotted black;border-radius: 0.25em;box-sizing: border-box;margin-bottom: 0.5em;}#sk-8b965fcd-f11b-45f5-871b-7417bdc2757d div.sk-estimator:hover {background-color: #d4ebff;}#sk-8b965fcd-f11b-45f5-871b-7417bdc2757d div.sk-parallel-item::after {content: \"\";width: 100%;border-bottom: 1px solid gray;flex-grow: 1;}#sk-8b965fcd-f11b-45f5-871b-7417bdc2757d div.sk-label:hover label.sk-toggleable__label {background-color: #d4ebff;}#sk-8b965fcd-f11b-45f5-871b-7417bdc2757d div.sk-serial::before {content: \"\";position: absolute;border-left: 1px solid gray;box-sizing: border-box;top: 2em;bottom: 0;left: 50%;}#sk-8b965fcd-f11b-45f5-871b-7417bdc2757d div.sk-serial {display: flex;flex-direction: column;align-items: center;background-color: white;padding-right: 0.2em;padding-left: 0.2em;}#sk-8b965fcd-f11b-45f5-871b-7417bdc2757d div.sk-item {z-index: 1;}#sk-8b965fcd-f11b-45f5-871b-7417bdc2757d div.sk-parallel {display: flex;align-items: stretch;justify-content: center;background-color: white;}#sk-8b965fcd-f11b-45f5-871b-7417bdc2757d div.sk-parallel::before {content: \"\";position: absolute;border-left: 1px solid gray;box-sizing: border-box;top: 2em;bottom: 0;left: 50%;}#sk-8b965fcd-f11b-45f5-871b-7417bdc2757d div.sk-parallel-item {display: flex;flex-direction: column;position: relative;background-color: white;}#sk-8b965fcd-f11b-45f5-871b-7417bdc2757d div.sk-parallel-item:first-child::after {align-self: flex-end;width: 50%;}#sk-8b965fcd-f11b-45f5-871b-7417bdc2757d div.sk-parallel-item:last-child::after {align-self: flex-start;width: 50%;}#sk-8b965fcd-f11b-45f5-871b-7417bdc2757d div.sk-parallel-item:only-child::after {width: 0;}#sk-8b965fcd-f11b-45f5-871b-7417bdc2757d div.sk-dashed-wrapped {border: 1px dashed gray;margin: 0 0.4em 0.5em 0.4em;box-sizing: border-box;padding-bottom: 0.4em;background-color: white;position: relative;}#sk-8b965fcd-f11b-45f5-871b-7417bdc2757d div.sk-label label {font-family: monospace;font-weight: bold;background-color: white;display: inline-block;line-height: 1.2em;}#sk-8b965fcd-f11b-45f5-871b-7417bdc2757d div.sk-label-container {position: relative;z-index: 2;text-align: center;}#sk-8b965fcd-f11b-45f5-871b-7417bdc2757d div.sk-container {/* jupyter's `normalize.less` sets `[hidden] { display: none; }` but bootstrap.min.css set `[hidden] { display: none !important; }` so we also need the `!important` here to be able to override the default hidden behavior on the sphinx rendered scikit-learn.org. See: https://github.com/scikit-learn/scikit-learn/issues/21755 */display: inline-block !important;position: relative;}#sk-8b965fcd-f11b-45f5-871b-7417bdc2757d div.sk-text-repr-fallback {display: none;}</style><div id=\"sk-8b965fcd-f11b-45f5-871b-7417bdc2757d\" class=\"sk-top-container\"><div class=\"sk-text-repr-fallback\"><pre>FeatureUnion(n_jobs=-1,\n",
       "             transformer_list=[(&#x27;pipeline-1&#x27;,\n",
       "                                Pipeline(steps=[(&#x27;binarizer&#x27;,\n",
       "                                                 Binarizer(n_jobs=-1)),\n",
       "                                                (&#x27;heightfiltration&#x27;,\n",
       "                                                 HeightFiltration(direction=array([1, 0]),\n",
       "                                                                  n_jobs=-1)),\n",
       "                                                (&#x27;cubicalpersistence&#x27;,\n",
       "                                                 CubicalPersistence(n_jobs=-1)),\n",
       "                                                (&#x27;scaler&#x27;, Scaler(n_jobs=-1)),\n",
       "                                                (&#x27;featureunion&#x27;,\n",
       "                                                 FeatureUnion(transformer_list=[(&#x27;persistenceentropy&#x27;,\n",
       "                                                                                 PersistenceEntropy(na...\n",
       "                                                                                           metric_params={&#x27;n_bins&#x27;: 50,\n",
       "                                                                                                          &#x27;p&#x27;: 1,\n",
       "                                                                                                          &#x27;sigma&#x27;: 0.15},\n",
       "                                                                                           n_jobs=-1)),\n",
       "                                                                                (&#x27;amplitude-11&#x27;,\n",
       "                                                                                 Amplitude(metric=&#x27;heat&#x27;,\n",
       "                                                                                           metric_params={&#x27;n_bins&#x27;: 50,\n",
       "                                                                                                          &#x27;p&#x27;: 1,\n",
       "                                                                                                          &#x27;sigma&#x27;: 0.15},\n",
       "                                                                                           n_jobs=-1)),\n",
       "                                                                                (&#x27;amplitude-12&#x27;,\n",
       "                                                                                 Amplitude(metric=&#x27;heat&#x27;,\n",
       "                                                                                           metric_params={&#x27;n_bins&#x27;: 50,\n",
       "                                                                                                          &#x27;p&#x27;: 2,\n",
       "                                                                                                          &#x27;sigma&#x27;: 0.15},\n",
       "                                                                                           n_jobs=-1)),\n",
       "                                                                                (&#x27;amplitude-13&#x27;,\n",
       "                                                                                 Amplitude(metric=&#x27;heat&#x27;,\n",
       "                                                                                           metric_params={&#x27;n_bins&#x27;: 50,\n",
       "                                                                                                          &#x27;p&#x27;: 2,\n",
       "                                                                                                          &#x27;sigma&#x27;: 0.15},\n",
       "                                                                                           n_jobs=-1))]))]))])</pre><b>Please rerun this cell to show the HTML repr or trust the notebook.</b></div><div class=\"sk-container\" hidden><div class=\"sk-item sk-dashed-wrapped\"><div class=\"sk-label-container\"><div class=\"sk-label sk-toggleable\"><input class=\"sk-toggleable__control sk-hidden--visually\" id=\"b1cb5710-d4d7-4c05-a9e9-03750d95a88d\" type=\"checkbox\" ><label for=\"b1cb5710-d4d7-4c05-a9e9-03750d95a88d\" class=\"sk-toggleable__label sk-toggleable__label-arrow\">FeatureUnion</label><div class=\"sk-toggleable__content\"><pre>FeatureUnion(n_jobs=-1,\n",
       "             transformer_list=[(&#x27;pipeline-1&#x27;,\n",
       "                                Pipeline(steps=[(&#x27;binarizer&#x27;,\n",
       "                                                 Binarizer(n_jobs=-1)),\n",
       "                                                (&#x27;heightfiltration&#x27;,\n",
       "                                                 HeightFiltration(direction=array([1, 0]),\n",
       "                                                                  n_jobs=-1)),\n",
       "                                                (&#x27;cubicalpersistence&#x27;,\n",
       "                                                 CubicalPersistence(n_jobs=-1)),\n",
       "                                                (&#x27;scaler&#x27;, Scaler(n_jobs=-1)),\n",
       "                                                (&#x27;featureunion&#x27;,\n",
       "                                                 FeatureUnion(transformer_list=[(&#x27;persistenceentropy&#x27;,\n",
       "                                                                                 PersistenceEntropy(na...\n",
       "                                                                                           metric_params={&#x27;n_bins&#x27;: 50,\n",
       "                                                                                                          &#x27;p&#x27;: 1,\n",
       "                                                                                                          &#x27;sigma&#x27;: 0.15},\n",
       "                                                                                           n_jobs=-1)),\n",
       "                                                                                (&#x27;amplitude-11&#x27;,\n",
       "                                                                                 Amplitude(metric=&#x27;heat&#x27;,\n",
       "                                                                                           metric_params={&#x27;n_bins&#x27;: 50,\n",
       "                                                                                                          &#x27;p&#x27;: 1,\n",
       "                                                                                                          &#x27;sigma&#x27;: 0.15},\n",
       "                                                                                           n_jobs=-1)),\n",
       "                                                                                (&#x27;amplitude-12&#x27;,\n",
       "                                                                                 Amplitude(metric=&#x27;heat&#x27;,\n",
       "                                                                                           metric_params={&#x27;n_bins&#x27;: 50,\n",
       "                                                                                                          &#x27;p&#x27;: 2,\n",
       "                                                                                                          &#x27;sigma&#x27;: 0.15},\n",
       "                                                                                           n_jobs=-1)),\n",
       "                                                                                (&#x27;amplitude-13&#x27;,\n",
       "                                                                                 Amplitude(metric=&#x27;heat&#x27;,\n",
       "                                                                                           metric_params={&#x27;n_bins&#x27;: 50,\n",
       "                                                                                                          &#x27;p&#x27;: 2,\n",
       "                                                                                                          &#x27;sigma&#x27;: 0.15},\n",
       "                                                                                           n_jobs=-1))]))]))])</pre></div></div></div><div class=\"sk-parallel\"><div class=\"sk-parallel-item\"><div class=\"sk-item\"><div class=\"sk-label-container\"><div class=\"sk-label sk-toggleable\"><label>pipeline-1</label></div></div><div class=\"sk-serial\"><div class=\"sk-item\"><div class=\"sk-serial\"><div class=\"sk-item\"><div class=\"sk-estimator sk-toggleable\"><input class=\"sk-toggleable__control sk-hidden--visually\" id=\"d432ca53-9cd2-4b6c-ab3d-0626abb16dc3\" type=\"checkbox\" ><label for=\"d432ca53-9cd2-4b6c-ab3d-0626abb16dc3\" class=\"sk-toggleable__label sk-toggleable__label-arrow\">Binarizer</label><div class=\"sk-toggleable__content\"><pre>Binarizer(n_jobs=-1)</pre></div></div></div><div class=\"sk-item\"><div class=\"sk-estimator sk-toggleable\"><input class=\"sk-toggleable__control sk-hidden--visually\" id=\"563c39dd-f289-4118-b193-431223296759\" type=\"checkbox\" ><label for=\"563c39dd-f289-4118-b193-431223296759\" class=\"sk-toggleable__label sk-toggleable__label-arrow\">HeightFiltration</label><div class=\"sk-toggleable__content\"><pre>HeightFiltration(direction=array([1, 0]), n_jobs=-1)</pre></div></div></div><div class=\"sk-item\"><div class=\"sk-estimator sk-toggleable\"><input class=\"sk-toggleable__control sk-hidden--visually\" id=\"8734374b-59e7-4832-a218-26932be323d9\" type=\"checkbox\" ><label for=\"8734374b-59e7-4832-a218-26932be323d9\" class=\"sk-toggleable__label sk-toggleable__label-arrow\">CubicalPersistence</label><div class=\"sk-toggleable__content\"><pre>CubicalPersistence(n_jobs=-1)</pre></div></div></div><div class=\"sk-item\"><div class=\"sk-estimator sk-toggleable\"><input class=\"sk-toggleable__control sk-hidden--visually\" id=\"f231ea9f-7b8f-4806-a35a-b47eb7e38e17\" type=\"checkbox\" ><label for=\"f231ea9f-7b8f-4806-a35a-b47eb7e38e17\" class=\"sk-toggleable__label sk-toggleable__label-arrow\">Scaler</label><div class=\"sk-toggleable__content\"><pre>Scaler(n_jobs=-1)</pre></div></div></div><div class=\"sk-item sk-dashed-wrapped\"><div class=\"sk-label-container\"><div class=\"sk-label sk-toggleable\"><input class=\"sk-toggleable__control sk-hidden--visually\" id=\"39834976-6dbb-4016-b310-f80e8166dcd6\" type=\"checkbox\" ><label for=\"39834976-6dbb-4016-b310-f80e8166dcd6\" class=\"sk-toggleable__label sk-toggleable__label-arrow\">featureunion: FeatureUnion</label><div class=\"sk-toggleable__content\"><pre>FeatureUnion(transformer_list=[(&#x27;persistenceentropy&#x27;,\n",
       "                                PersistenceEntropy(nan_fill_value=-1)),\n",
       "                               (&#x27;amplitude-1&#x27;,\n",
       "                                Amplitude(metric=&#x27;bottleneck&#x27;, metric_params={},\n",
       "                                          n_jobs=-1)),\n",
       "                               (&#x27;amplitude-2&#x27;,\n",
       "                                Amplitude(metric=&#x27;wasserstein&#x27;,\n",
       "                                          metric_params={&#x27;p&#x27;: 1}, n_jobs=-1)),\n",
       "                               (&#x27;amplitude-3&#x27;,\n",
       "                                Amplitude(metric=&#x27;wasserstein&#x27;,\n",
       "                                          metric_params={&#x27;p&#x27;: 2}, n_jobs=-1)),\n",
       "                               (&#x27;amplitude-4&#x27;,\n",
       "                                Amplitude...\n",
       "                                          metric_params={&#x27;n_bins&#x27;: 50, &#x27;p&#x27;: 1,\n",
       "                                                         &#x27;sigma&#x27;: 0.15},\n",
       "                                          n_jobs=-1)),\n",
       "                               (&#x27;amplitude-11&#x27;,\n",
       "                                Amplitude(metric=&#x27;heat&#x27;,\n",
       "                                          metric_params={&#x27;n_bins&#x27;: 50, &#x27;p&#x27;: 1,\n",
       "                                                         &#x27;sigma&#x27;: 0.15},\n",
       "                                          n_jobs=-1)),\n",
       "                               (&#x27;amplitude-12&#x27;,\n",
       "                                Amplitude(metric=&#x27;heat&#x27;,\n",
       "                                          metric_params={&#x27;n_bins&#x27;: 50, &#x27;p&#x27;: 2,\n",
       "                                                         &#x27;sigma&#x27;: 0.15},\n",
       "                                          n_jobs=-1)),\n",
       "                               (&#x27;amplitude-13&#x27;,\n",
       "                                Amplitude(metric=&#x27;heat&#x27;,\n",
       "                                          metric_params={&#x27;n_bins&#x27;: 50, &#x27;p&#x27;: 2,\n",
       "                                                         &#x27;sigma&#x27;: 0.15},\n",
       "                                          n_jobs=-1))])</pre></div></div></div><div class=\"sk-parallel\"><div class=\"sk-parallel-item\"><div class=\"sk-item\"><div class=\"sk-label-container\"><div class=\"sk-label sk-toggleable\"><label>persistenceentropy</label></div></div><div class=\"sk-serial\"><div class=\"sk-item\"><div class=\"sk-estimator sk-toggleable\"><input class=\"sk-toggleable__control sk-hidden--visually\" id=\"38d1004e-1344-41e4-bda6-ed7b07482940\" type=\"checkbox\" ><label for=\"38d1004e-1344-41e4-bda6-ed7b07482940\" class=\"sk-toggleable__label sk-toggleable__label-arrow\">PersistenceEntropy</label><div class=\"sk-toggleable__content\"><pre>PersistenceEntropy(nan_fill_value=-1)</pre></div></div></div></div></div></div><div class=\"sk-parallel-item\"><div class=\"sk-item\"><div class=\"sk-label-container\"><div class=\"sk-label sk-toggleable\"><label>amplitude-1</label></div></div><div class=\"sk-serial\"><div class=\"sk-item\"><div class=\"sk-estimator sk-toggleable\"><input class=\"sk-toggleable__control sk-hidden--visually\" id=\"12b48fe5-8506-42ef-9a50-7d48f8461fbf\" type=\"checkbox\" ><label for=\"12b48fe5-8506-42ef-9a50-7d48f8461fbf\" class=\"sk-toggleable__label sk-toggleable__label-arrow\">Amplitude</label><div class=\"sk-toggleable__content\"><pre>Amplitude(metric=&#x27;bottleneck&#x27;, metric_params={}, n_jobs=-1)</pre></div></div></div></div></div></div><div class=\"sk-parallel-item\"><div class=\"sk-item\"><div class=\"sk-label-container\"><div class=\"sk-label sk-toggleable\"><label>amplitude-2</label></div></div><div class=\"sk-serial\"><div class=\"sk-item\"><div class=\"sk-estimator sk-toggleable\"><input class=\"sk-toggleable__control sk-hidden--visually\" id=\"575454d8-49ff-45fe-a378-0367fdb0b0cf\" type=\"checkbox\" ><label for=\"575454d8-49ff-45fe-a378-0367fdb0b0cf\" class=\"sk-toggleable__label sk-toggleable__label-arrow\">Amplitude</label><div class=\"sk-toggleable__content\"><pre>Amplitude(metric=&#x27;wasserstein&#x27;, metric_params={&#x27;p&#x27;: 1}, n_jobs=-1)</pre></div></div></div></div></div></div><div class=\"sk-parallel-item\"><div class=\"sk-item\"><div class=\"sk-label-container\"><div class=\"sk-label sk-toggleable\"><label>amplitude-3</label></div></div><div class=\"sk-serial\"><div class=\"sk-item\"><div class=\"sk-estimator sk-toggleable\"><input class=\"sk-toggleable__control sk-hidden--visually\" id=\"a03decf9-b8fe-495f-acf2-96a499f48021\" type=\"checkbox\" ><label for=\"a03decf9-b8fe-495f-acf2-96a499f48021\" class=\"sk-toggleable__label sk-toggleable__label-arrow\">Amplitude</label><div class=\"sk-toggleable__content\"><pre>Amplitude(metric=&#x27;wasserstein&#x27;, metric_params={&#x27;p&#x27;: 2}, n_jobs=-1)</pre></div></div></div></div></div></div><div class=\"sk-parallel-item\"><div class=\"sk-item\"><div class=\"sk-label-container\"><div class=\"sk-label sk-toggleable\"><label>amplitude-4</label></div></div><div class=\"sk-serial\"><div class=\"sk-item\"><div class=\"sk-estimator sk-toggleable\"><input class=\"sk-toggleable__control sk-hidden--visually\" id=\"41139293-72cf-461b-82da-367c1ecd0945\" type=\"checkbox\" ><label for=\"41139293-72cf-461b-82da-367c1ecd0945\" class=\"sk-toggleable__label sk-toggleable__label-arrow\">Amplitude</label><div class=\"sk-toggleable__content\"><pre>Amplitude(metric_params={&#x27;n_bins&#x27;: 50, &#x27;n_layers&#x27;: 1, &#x27;p&#x27;: 1}, n_jobs=-1)</pre></div></div></div></div></div></div><div class=\"sk-parallel-item\"><div class=\"sk-item\"><div class=\"sk-label-container\"><div class=\"sk-label sk-toggleable\"><label>amplitude-5</label></div></div><div class=\"sk-serial\"><div class=\"sk-item\"><div class=\"sk-estimator sk-toggleable\"><input class=\"sk-toggleable__control sk-hidden--visually\" id=\"9d330035-e600-4d2e-840c-c432991cc77a\" type=\"checkbox\" ><label for=\"9d330035-e600-4d2e-840c-c432991cc77a\" class=\"sk-toggleable__label sk-toggleable__label-arrow\">Amplitude</label><div class=\"sk-toggleable__content\"><pre>Amplitude(metric_params={&#x27;n_bins&#x27;: 50, &#x27;n_layers&#x27;: 2, &#x27;p&#x27;: 1}, n_jobs=-1)</pre></div></div></div></div></div></div><div class=\"sk-parallel-item\"><div class=\"sk-item\"><div class=\"sk-label-container\"><div class=\"sk-label sk-toggleable\"><label>amplitude-6</label></div></div><div class=\"sk-serial\"><div class=\"sk-item\"><div class=\"sk-estimator sk-toggleable\"><input class=\"sk-toggleable__control sk-hidden--visually\" id=\"06b561f4-a116-406d-8bb4-6c82d58c1e2c\" type=\"checkbox\" ><label for=\"06b561f4-a116-406d-8bb4-6c82d58c1e2c\" class=\"sk-toggleable__label sk-toggleable__label-arrow\">Amplitude</label><div class=\"sk-toggleable__content\"><pre>Amplitude(metric_params={&#x27;n_bins&#x27;: 50, &#x27;n_layers&#x27;: 1, &#x27;p&#x27;: 2}, n_jobs=-1)</pre></div></div></div></div></div></div><div class=\"sk-parallel-item\"><div class=\"sk-item\"><div class=\"sk-label-container\"><div class=\"sk-label sk-toggleable\"><label>amplitude-7</label></div></div><div class=\"sk-serial\"><div class=\"sk-item\"><div class=\"sk-estimator sk-toggleable\"><input class=\"sk-toggleable__control sk-hidden--visually\" id=\"46a1b7c1-4e49-48a4-93c1-41d246927dc9\" type=\"checkbox\" ><label for=\"46a1b7c1-4e49-48a4-93c1-41d246927dc9\" class=\"sk-toggleable__label sk-toggleable__label-arrow\">Amplitude</label><div class=\"sk-toggleable__content\"><pre>Amplitude(metric_params={&#x27;n_bins&#x27;: 50, &#x27;n_layers&#x27;: 2, &#x27;p&#x27;: 2}, n_jobs=-1)</pre></div></div></div></div></div></div><div class=\"sk-parallel-item\"><div class=\"sk-item\"><div class=\"sk-label-container\"><div class=\"sk-label sk-toggleable\"><label>amplitude-8</label></div></div><div class=\"sk-serial\"><div class=\"sk-item\"><div class=\"sk-estimator sk-toggleable\"><input class=\"sk-toggleable__control sk-hidden--visually\" id=\"775ec6ed-8a41-423d-8710-13f39540a408\" type=\"checkbox\" ><label for=\"775ec6ed-8a41-423d-8710-13f39540a408\" class=\"sk-toggleable__label sk-toggleable__label-arrow\">Amplitude</label><div class=\"sk-toggleable__content\"><pre>Amplitude(metric=&#x27;betti&#x27;, metric_params={&#x27;n_bins&#x27;: 50, &#x27;p&#x27;: 1}, n_jobs=-1)</pre></div></div></div></div></div></div><div class=\"sk-parallel-item\"><div class=\"sk-item\"><div class=\"sk-label-container\"><div class=\"sk-label sk-toggleable\"><label>amplitude-9</label></div></div><div class=\"sk-serial\"><div class=\"sk-item\"><div class=\"sk-estimator sk-toggleable\"><input class=\"sk-toggleable__control sk-hidden--visually\" id=\"f89d0ee7-15b4-44d0-8283-098795d4758d\" type=\"checkbox\" ><label for=\"f89d0ee7-15b4-44d0-8283-098795d4758d\" class=\"sk-toggleable__label sk-toggleable__label-arrow\">Amplitude</label><div class=\"sk-toggleable__content\"><pre>Amplitude(metric=&#x27;betti&#x27;, metric_params={&#x27;n_bins&#x27;: 50, &#x27;p&#x27;: 2}, n_jobs=-1)</pre></div></div></div></div></div></div><div class=\"sk-parallel-item\"><div class=\"sk-item\"><div class=\"sk-label-container\"><div class=\"sk-label sk-toggleable\"><label>amplitude-10</label></div></div><div class=\"sk-serial\"><div class=\"sk-item\"><div class=\"sk-estimator sk-toggleable\"><input class=\"sk-toggleable__control sk-hidden--visually\" id=\"1c6543b9-0e9d-42cd-91c0-021cd2059cf4\" type=\"checkbox\" ><label for=\"1c6543b9-0e9d-42cd-91c0-021cd2059cf4\" class=\"sk-toggleable__label sk-toggleable__label-arrow\">Amplitude</label><div class=\"sk-toggleable__content\"><pre>Amplitude(metric=&#x27;heat&#x27;, metric_params={&#x27;n_bins&#x27;: 50, &#x27;p&#x27;: 1, &#x27;sigma&#x27;: 0.15},\n",
       "          n_jobs=-1)</pre></div></div></div></div></div></div><div class=\"sk-parallel-item\"><div class=\"sk-item\"><div class=\"sk-label-container\"><div class=\"sk-label sk-toggleable\"><label>amplitude-11</label></div></div><div class=\"sk-serial\"><div class=\"sk-item\"><div class=\"sk-estimator sk-toggleable\"><input class=\"sk-toggleable__control sk-hidden--visually\" id=\"ec1ac244-9132-47c1-ab68-1bf0fb27ef2d\" type=\"checkbox\" ><label for=\"ec1ac244-9132-47c1-ab68-1bf0fb27ef2d\" class=\"sk-toggleable__label sk-toggleable__label-arrow\">Amplitude</label><div class=\"sk-toggleable__content\"><pre>Amplitude(metric=&#x27;heat&#x27;, metric_params={&#x27;n_bins&#x27;: 50, &#x27;p&#x27;: 1, &#x27;sigma&#x27;: 0.15},\n",
       "          n_jobs=-1)</pre></div></div></div></div></div></div><div class=\"sk-parallel-item\"><div class=\"sk-item\"><div class=\"sk-label-container\"><div class=\"sk-label sk-toggleable\"><label>amplitude-12</label></div></div><div class=\"sk-serial\"><div class=\"sk-item\"><div class=\"sk-estimator sk-toggleable\"><input class=\"sk-toggleable__control sk-hidden--visually\" id=\"877ee6fe-d92c-4342-ba6c-6b2c4e3868fb\" type=\"checkbox\" ><label for=\"877ee6fe-d92c-4342-ba6c-6b2c4e3868fb\" class=\"sk-toggleable__label sk-toggleable__label-arrow\">Amplitude</label><div class=\"sk-toggleable__content\"><pre>Amplitude(metric=&#x27;heat&#x27;, metric_params={&#x27;n_bins&#x27;: 50, &#x27;p&#x27;: 2, &#x27;sigma&#x27;: 0.15},\n",
       "          n_jobs=-1)</pre></div></div></div></div></div></div><div class=\"sk-parallel-item\"><div class=\"sk-item\"><div class=\"sk-label-container\"><div class=\"sk-label sk-toggleable\"><label>amplitude-13</label></div></div><div class=\"sk-serial\"><div class=\"sk-item\"><div class=\"sk-estimator sk-toggleable\"><input class=\"sk-toggleable__control sk-hidden--visually\" id=\"c8042669-3c5d-426a-9ff7-e629a2d49646\" type=\"checkbox\" ><label for=\"c8042669-3c5d-426a-9ff7-e629a2d49646\" class=\"sk-toggleable__label sk-toggleable__label-arrow\">Amplitude</label><div class=\"sk-toggleable__content\"><pre>Amplitude(metric=&#x27;heat&#x27;, metric_params={&#x27;n_bins&#x27;: 50, &#x27;p&#x27;: 2, &#x27;sigma&#x27;: 0.15},\n",
       "          n_jobs=-1)</pre></div></div></div></div></div></div></div></div></div></div></div></div></div><div class=\"sk-parallel-item\"><div class=\"sk-item\"><div class=\"sk-label-container\"><div class=\"sk-label sk-toggleable\"><label>pipeline-2</label></div></div><div class=\"sk-serial\"><div class=\"sk-item\"><div class=\"sk-serial\"><div class=\"sk-item\"><div class=\"sk-estimator sk-toggleable\"><input class=\"sk-toggleable__control sk-hidden--visually\" id=\"f1c30573-3af2-4c8e-b2c9-76cbe2328230\" type=\"checkbox\" ><label for=\"f1c30573-3af2-4c8e-b2c9-76cbe2328230\" class=\"sk-toggleable__label sk-toggleable__label-arrow\">Binarizer</label><div class=\"sk-toggleable__content\"><pre>Binarizer(n_jobs=-1)</pre></div></div></div><div class=\"sk-item\"><div class=\"sk-estimator sk-toggleable\"><input class=\"sk-toggleable__control sk-hidden--visually\" id=\"58a0f995-ad65-4cd1-83e6-8ba199fa46e5\" type=\"checkbox\" ><label for=\"58a0f995-ad65-4cd1-83e6-8ba199fa46e5\" class=\"sk-toggleable__label sk-toggleable__label-arrow\">HeightFiltration</label><div class=\"sk-toggleable__content\"><pre>HeightFiltration(direction=array([1, 1]), n_jobs=-1)</pre></div></div></div><div class=\"sk-item\"><div class=\"sk-estimator sk-toggleable\"><input class=\"sk-toggleable__control sk-hidden--visually\" id=\"116f1099-31e0-4e20-9141-dfac5c23773b\" type=\"checkbox\" ><label for=\"116f1099-31e0-4e20-9141-dfac5c23773b\" class=\"sk-toggleable__label sk-toggleable__label-arrow\">CubicalPersistence</label><div class=\"sk-toggleable__content\"><pre>CubicalPersistence(n_jobs=-1)</pre></div></div></div><div class=\"sk-item\"><div class=\"sk-estimator sk-toggleable\"><input class=\"sk-toggleable__control sk-hidden--visually\" id=\"521c522c-f9cc-457e-9223-8d0019dff7c5\" type=\"checkbox\" ><label for=\"521c522c-f9cc-457e-9223-8d0019dff7c5\" class=\"sk-toggleable__label sk-toggleable__label-arrow\">Scaler</label><div class=\"sk-toggleable__content\"><pre>Scaler(n_jobs=-1)</pre></div></div></div><div class=\"sk-item sk-dashed-wrapped\"><div class=\"sk-label-container\"><div class=\"sk-label sk-toggleable\"><input class=\"sk-toggleable__control sk-hidden--visually\" id=\"43dd9691-5bfc-427d-9ee3-1c4a317b2a20\" type=\"checkbox\" ><label for=\"43dd9691-5bfc-427d-9ee3-1c4a317b2a20\" class=\"sk-toggleable__label sk-toggleable__label-arrow\">featureunion: FeatureUnion</label><div class=\"sk-toggleable__content\"><pre>FeatureUnion(transformer_list=[(&#x27;persistenceentropy&#x27;,\n",
       "                                PersistenceEntropy(nan_fill_value=-1)),\n",
       "                               (&#x27;amplitude-1&#x27;,\n",
       "                                Amplitude(metric=&#x27;bottleneck&#x27;, metric_params={},\n",
       "                                          n_jobs=-1)),\n",
       "                               (&#x27;amplitude-2&#x27;,\n",
       "                                Amplitude(metric=&#x27;wasserstein&#x27;,\n",
       "                                          metric_params={&#x27;p&#x27;: 1}, n_jobs=-1)),\n",
       "                               (&#x27;amplitude-3&#x27;,\n",
       "                                Amplitude(metric=&#x27;wasserstein&#x27;,\n",
       "                                          metric_params={&#x27;p&#x27;: 2}, n_jobs=-1)),\n",
       "                               (&#x27;amplitude-4&#x27;,\n",
       "                                Amplitude...\n",
       "                                          metric_params={&#x27;n_bins&#x27;: 50, &#x27;p&#x27;: 1,\n",
       "                                                         &#x27;sigma&#x27;: 0.15},\n",
       "                                          n_jobs=-1)),\n",
       "                               (&#x27;amplitude-11&#x27;,\n",
       "                                Amplitude(metric=&#x27;heat&#x27;,\n",
       "                                          metric_params={&#x27;n_bins&#x27;: 50, &#x27;p&#x27;: 1,\n",
       "                                                         &#x27;sigma&#x27;: 0.15},\n",
       "                                          n_jobs=-1)),\n",
       "                               (&#x27;amplitude-12&#x27;,\n",
       "                                Amplitude(metric=&#x27;heat&#x27;,\n",
       "                                          metric_params={&#x27;n_bins&#x27;: 50, &#x27;p&#x27;: 2,\n",
       "                                                         &#x27;sigma&#x27;: 0.15},\n",
       "                                          n_jobs=-1)),\n",
       "                               (&#x27;amplitude-13&#x27;,\n",
       "                                Amplitude(metric=&#x27;heat&#x27;,\n",
       "                                          metric_params={&#x27;n_bins&#x27;: 50, &#x27;p&#x27;: 2,\n",
       "                                                         &#x27;sigma&#x27;: 0.15},\n",
       "                                          n_jobs=-1))])</pre></div></div></div><div class=\"sk-parallel\"><div class=\"sk-parallel-item\"><div class=\"sk-item\"><div class=\"sk-label-container\"><div class=\"sk-label sk-toggleable\"><label>persistenceentropy</label></div></div><div class=\"sk-serial\"><div class=\"sk-item\"><div class=\"sk-estimator sk-toggleable\"><input class=\"sk-toggleable__control sk-hidden--visually\" id=\"5b81bdc3-fa88-4a82-a9c0-7dffd30b0fa6\" type=\"checkbox\" ><label for=\"5b81bdc3-fa88-4a82-a9c0-7dffd30b0fa6\" class=\"sk-toggleable__label sk-toggleable__label-arrow\">PersistenceEntropy</label><div class=\"sk-toggleable__content\"><pre>PersistenceEntropy(nan_fill_value=-1)</pre></div></div></div></div></div></div><div class=\"sk-parallel-item\"><div class=\"sk-item\"><div class=\"sk-label-container\"><div class=\"sk-label sk-toggleable\"><label>amplitude-1</label></div></div><div class=\"sk-serial\"><div class=\"sk-item\"><div class=\"sk-estimator sk-toggleable\"><input class=\"sk-toggleable__control sk-hidden--visually\" id=\"bebbdf88-90cd-47ba-8465-8eab6c6f89b9\" type=\"checkbox\" ><label for=\"bebbdf88-90cd-47ba-8465-8eab6c6f89b9\" class=\"sk-toggleable__label sk-toggleable__label-arrow\">Amplitude</label><div class=\"sk-toggleable__content\"><pre>Amplitude(metric=&#x27;bottleneck&#x27;, metric_params={}, n_jobs=-1)</pre></div></div></div></div></div></div><div class=\"sk-parallel-item\"><div class=\"sk-item\"><div class=\"sk-label-container\"><div class=\"sk-label sk-toggleable\"><label>amplitude-2</label></div></div><div class=\"sk-serial\"><div class=\"sk-item\"><div class=\"sk-estimator sk-toggleable\"><input class=\"sk-toggleable__control sk-hidden--visually\" id=\"1b04ed31-5d91-46f5-865e-f90c74e5206d\" type=\"checkbox\" ><label for=\"1b04ed31-5d91-46f5-865e-f90c74e5206d\" class=\"sk-toggleable__label sk-toggleable__label-arrow\">Amplitude</label><div class=\"sk-toggleable__content\"><pre>Amplitude(metric=&#x27;wasserstein&#x27;, metric_params={&#x27;p&#x27;: 1}, n_jobs=-1)</pre></div></div></div></div></div></div><div class=\"sk-parallel-item\"><div class=\"sk-item\"><div class=\"sk-label-container\"><div class=\"sk-label sk-toggleable\"><label>amplitude-3</label></div></div><div class=\"sk-serial\"><div class=\"sk-item\"><div class=\"sk-estimator sk-toggleable\"><input class=\"sk-toggleable__control sk-hidden--visually\" id=\"eb627ad3-6b4c-408b-9e81-188d7944a8dd\" type=\"checkbox\" ><label for=\"eb627ad3-6b4c-408b-9e81-188d7944a8dd\" class=\"sk-toggleable__label sk-toggleable__label-arrow\">Amplitude</label><div class=\"sk-toggleable__content\"><pre>Amplitude(metric=&#x27;wasserstein&#x27;, metric_params={&#x27;p&#x27;: 2}, n_jobs=-1)</pre></div></div></div></div></div></div><div class=\"sk-parallel-item\"><div class=\"sk-item\"><div class=\"sk-label-container\"><div class=\"sk-label sk-toggleable\"><label>amplitude-4</label></div></div><div class=\"sk-serial\"><div class=\"sk-item\"><div class=\"sk-estimator sk-toggleable\"><input class=\"sk-toggleable__control sk-hidden--visually\" id=\"2a55073f-7042-49e5-b397-265b902e4725\" type=\"checkbox\" ><label for=\"2a55073f-7042-49e5-b397-265b902e4725\" class=\"sk-toggleable__label sk-toggleable__label-arrow\">Amplitude</label><div class=\"sk-toggleable__content\"><pre>Amplitude(metric_params={&#x27;n_bins&#x27;: 50, &#x27;n_layers&#x27;: 1, &#x27;p&#x27;: 1}, n_jobs=-1)</pre></div></div></div></div></div></div><div class=\"sk-parallel-item\"><div class=\"sk-item\"><div class=\"sk-label-container\"><div class=\"sk-label sk-toggleable\"><label>amplitude-5</label></div></div><div class=\"sk-serial\"><div class=\"sk-item\"><div class=\"sk-estimator sk-toggleable\"><input class=\"sk-toggleable__control sk-hidden--visually\" id=\"131cccc9-75c1-4555-acad-c250d488e196\" type=\"checkbox\" ><label for=\"131cccc9-75c1-4555-acad-c250d488e196\" class=\"sk-toggleable__label sk-toggleable__label-arrow\">Amplitude</label><div class=\"sk-toggleable__content\"><pre>Amplitude(metric_params={&#x27;n_bins&#x27;: 50, &#x27;n_layers&#x27;: 2, &#x27;p&#x27;: 1}, n_jobs=-1)</pre></div></div></div></div></div></div><div class=\"sk-parallel-item\"><div class=\"sk-item\"><div class=\"sk-label-container\"><div class=\"sk-label sk-toggleable\"><label>amplitude-6</label></div></div><div class=\"sk-serial\"><div class=\"sk-item\"><div class=\"sk-estimator sk-toggleable\"><input class=\"sk-toggleable__control sk-hidden--visually\" id=\"a5f11f30-f1ec-4437-a13f-808bb314a54a\" type=\"checkbox\" ><label for=\"a5f11f30-f1ec-4437-a13f-808bb314a54a\" class=\"sk-toggleable__label sk-toggleable__label-arrow\">Amplitude</label><div class=\"sk-toggleable__content\"><pre>Amplitude(metric_params={&#x27;n_bins&#x27;: 50, &#x27;n_layers&#x27;: 1, &#x27;p&#x27;: 2}, n_jobs=-1)</pre></div></div></div></div></div></div><div class=\"sk-parallel-item\"><div class=\"sk-item\"><div class=\"sk-label-container\"><div class=\"sk-label sk-toggleable\"><label>amplitude-7</label></div></div><div class=\"sk-serial\"><div class=\"sk-item\"><div class=\"sk-estimator sk-toggleable\"><input class=\"sk-toggleable__control sk-hidden--visually\" id=\"751d08b9-daac-442e-b074-a1dcc9e7de1c\" type=\"checkbox\" ><label for=\"751d08b9-daac-442e-b074-a1dcc9e7de1c\" class=\"sk-toggleable__label sk-toggleable__label-arrow\">Amplitude</label><div class=\"sk-toggleable__content\"><pre>Amplitude(metric_params={&#x27;n_bins&#x27;: 50, &#x27;n_layers&#x27;: 2, &#x27;p&#x27;: 2}, n_jobs=-1)</pre></div></div></div></div></div></div><div class=\"sk-parallel-item\"><div class=\"sk-item\"><div class=\"sk-label-container\"><div class=\"sk-label sk-toggleable\"><label>amplitude-8</label></div></div><div class=\"sk-serial\"><div class=\"sk-item\"><div class=\"sk-estimator sk-toggleable\"><input class=\"sk-toggleable__control sk-hidden--visually\" id=\"b0be113b-4296-40fa-8690-f5f5b22155d7\" type=\"checkbox\" ><label for=\"b0be113b-4296-40fa-8690-f5f5b22155d7\" class=\"sk-toggleable__label sk-toggleable__label-arrow\">Amplitude</label><div class=\"sk-toggleable__content\"><pre>Amplitude(metric=&#x27;betti&#x27;, metric_params={&#x27;n_bins&#x27;: 50, &#x27;p&#x27;: 1}, n_jobs=-1)</pre></div></div></div></div></div></div><div class=\"sk-parallel-item\"><div class=\"sk-item\"><div class=\"sk-label-container\"><div class=\"sk-label sk-toggleable\"><label>amplitude-9</label></div></div><div class=\"sk-serial\"><div class=\"sk-item\"><div class=\"sk-estimator sk-toggleable\"><input class=\"sk-toggleable__control sk-hidden--visually\" id=\"c0c8ec93-c2a0-449c-b040-68e086bc64fc\" type=\"checkbox\" ><label for=\"c0c8ec93-c2a0-449c-b040-68e086bc64fc\" class=\"sk-toggleable__label sk-toggleable__label-arrow\">Amplitude</label><div class=\"sk-toggleable__content\"><pre>Amplitude(metric=&#x27;betti&#x27;, metric_params={&#x27;n_bins&#x27;: 50, &#x27;p&#x27;: 2}, n_jobs=-1)</pre></div></div></div></div></div></div><div class=\"sk-parallel-item\"><div class=\"sk-item\"><div class=\"sk-label-container\"><div class=\"sk-label sk-toggleable\"><label>amplitude-10</label></div></div><div class=\"sk-serial\"><div class=\"sk-item\"><div class=\"sk-estimator sk-toggleable\"><input class=\"sk-toggleable__control sk-hidden--visually\" id=\"5409bd2c-af7d-4164-b5bd-206425e94577\" type=\"checkbox\" ><label for=\"5409bd2c-af7d-4164-b5bd-206425e94577\" class=\"sk-toggleable__label sk-toggleable__label-arrow\">Amplitude</label><div class=\"sk-toggleable__content\"><pre>Amplitude(metric=&#x27;heat&#x27;, metric_params={&#x27;n_bins&#x27;: 50, &#x27;p&#x27;: 1, &#x27;sigma&#x27;: 0.15},\n",
       "          n_jobs=-1)</pre></div></div></div></div></div></div><div class=\"sk-parallel-item\"><div class=\"sk-item\"><div class=\"sk-label-container\"><div class=\"sk-label sk-toggleable\"><label>amplitude-11</label></div></div><div class=\"sk-serial\"><div class=\"sk-item\"><div class=\"sk-estimator sk-toggleable\"><input class=\"sk-toggleable__control sk-hidden--visually\" id=\"0919778b-f46c-43b4-bce8-49226b46b40f\" type=\"checkbox\" ><label for=\"0919778b-f46c-43b4-bce8-49226b46b40f\" class=\"sk-toggleable__label sk-toggleable__label-arrow\">Amplitude</label><div class=\"sk-toggleable__content\"><pre>Amplitude(metric=&#x27;heat&#x27;, metric_params={&#x27;n_bins&#x27;: 50, &#x27;p&#x27;: 1, &#x27;sigma&#x27;: 0.15},\n",
       "          n_jobs=-1)</pre></div></div></div></div></div></div><div class=\"sk-parallel-item\"><div class=\"sk-item\"><div class=\"sk-label-container\"><div class=\"sk-label sk-toggleable\"><label>amplitude-12</label></div></div><div class=\"sk-serial\"><div class=\"sk-item\"><div class=\"sk-estimator sk-toggleable\"><input class=\"sk-toggleable__control sk-hidden--visually\" id=\"83a6fee3-7fab-4581-8d8b-c3f8aa243706\" type=\"checkbox\" ><label for=\"83a6fee3-7fab-4581-8d8b-c3f8aa243706\" class=\"sk-toggleable__label sk-toggleable__label-arrow\">Amplitude</label><div class=\"sk-toggleable__content\"><pre>Amplitude(metric=&#x27;heat&#x27;, metric_params={&#x27;n_bins&#x27;: 50, &#x27;p&#x27;: 2, &#x27;sigma&#x27;: 0.15},\n",
       "          n_jobs=-1)</pre></div></div></div></div></div></div><div class=\"sk-parallel-item\"><div class=\"sk-item\"><div class=\"sk-label-container\"><div class=\"sk-label sk-toggleable\"><label>amplitude-13</label></div></div><div class=\"sk-serial\"><div class=\"sk-item\"><div class=\"sk-estimator sk-toggleable\"><input class=\"sk-toggleable__control sk-hidden--visually\" id=\"5a82caca-1872-4321-906f-3597d4fcdd2c\" type=\"checkbox\" ><label for=\"5a82caca-1872-4321-906f-3597d4fcdd2c\" class=\"sk-toggleable__label sk-toggleable__label-arrow\">Amplitude</label><div class=\"sk-toggleable__content\"><pre>Amplitude(metric=&#x27;heat&#x27;, metric_params={&#x27;n_bins&#x27;: 50, &#x27;p&#x27;: 2, &#x27;sigma&#x27;: 0.15},\n",
       "          n_jobs=-1)</pre></div></div></div></div></div></div></div></div></div></div></div></div></div><div class=\"sk-parallel-item\"><div class=\"sk-item\"><div class=\"sk-label-container\"><div class=\"sk-label sk-toggleable\"><label>pipeline-3</label></div></div><div class=\"sk-serial\"><div class=\"sk-item\"><div class=\"sk-serial\"><div class=\"sk-item\"><div class=\"sk-estimator sk-toggleable\"><input class=\"sk-toggleable__control sk-hidden--visually\" id=\"050fd713-ba40-4934-b328-c1d5e22decbc\" type=\"checkbox\" ><label for=\"050fd713-ba40-4934-b328-c1d5e22decbc\" class=\"sk-toggleable__label sk-toggleable__label-arrow\">Binarizer</label><div class=\"sk-toggleable__content\"><pre>Binarizer(n_jobs=-1)</pre></div></div></div><div class=\"sk-item\"><div class=\"sk-estimator sk-toggleable\"><input class=\"sk-toggleable__control sk-hidden--visually\" id=\"bbfe0fb8-06bb-4d72-89a6-edaa6eae19d5\" type=\"checkbox\" ><label for=\"bbfe0fb8-06bb-4d72-89a6-edaa6eae19d5\" class=\"sk-toggleable__label sk-toggleable__label-arrow\">HeightFiltration</label><div class=\"sk-toggleable__content\"><pre>HeightFiltration(direction=array([0, 1]), n_jobs=-1)</pre></div></div></div><div class=\"sk-item\"><div class=\"sk-estimator sk-toggleable\"><input class=\"sk-toggleable__control sk-hidden--visually\" id=\"d83f7d46-0a58-4e73-86c8-a5c21d19293f\" type=\"checkbox\" ><label for=\"d83f7d46-0a58-4e73-86c8-a5c21d19293f\" class=\"sk-toggleable__label sk-toggleable__label-arrow\">CubicalPersistence</label><div class=\"sk-toggleable__content\"><pre>CubicalPersistence(n_jobs=-1)</pre></div></div></div><div class=\"sk-item\"><div class=\"sk-estimator sk-toggleable\"><input class=\"sk-toggleable__control sk-hidden--visually\" id=\"32750803-a8a5-44b5-a7ea-c17d79b9daaa\" type=\"checkbox\" ><label for=\"32750803-a8a5-44b5-a7ea-c17d79b9daaa\" class=\"sk-toggleable__label sk-toggleable__label-arrow\">Scaler</label><div class=\"sk-toggleable__content\"><pre>Scaler(n_jobs=-1)</pre></div></div></div><div class=\"sk-item sk-dashed-wrapped\"><div class=\"sk-label-container\"><div class=\"sk-label sk-toggleable\"><input class=\"sk-toggleable__control sk-hidden--visually\" id=\"f2921d3b-92d2-45db-acc7-6551ba32d655\" type=\"checkbox\" ><label for=\"f2921d3b-92d2-45db-acc7-6551ba32d655\" class=\"sk-toggleable__label sk-toggleable__label-arrow\">featureunion: FeatureUnion</label><div class=\"sk-toggleable__content\"><pre>FeatureUnion(transformer_list=[(&#x27;persistenceentropy&#x27;,\n",
       "                                PersistenceEntropy(nan_fill_value=-1)),\n",
       "                               (&#x27;amplitude-1&#x27;,\n",
       "                                Amplitude(metric=&#x27;bottleneck&#x27;, metric_params={},\n",
       "                                          n_jobs=-1)),\n",
       "                               (&#x27;amplitude-2&#x27;,\n",
       "                                Amplitude(metric=&#x27;wasserstein&#x27;,\n",
       "                                          metric_params={&#x27;p&#x27;: 1}, n_jobs=-1)),\n",
       "                               (&#x27;amplitude-3&#x27;,\n",
       "                                Amplitude(metric=&#x27;wasserstein&#x27;,\n",
       "                                          metric_params={&#x27;p&#x27;: 2}, n_jobs=-1)),\n",
       "                               (&#x27;amplitude-4&#x27;,\n",
       "                                Amplitude...\n",
       "                                          metric_params={&#x27;n_bins&#x27;: 50, &#x27;p&#x27;: 1,\n",
       "                                                         &#x27;sigma&#x27;: 0.15},\n",
       "                                          n_jobs=-1)),\n",
       "                               (&#x27;amplitude-11&#x27;,\n",
       "                                Amplitude(metric=&#x27;heat&#x27;,\n",
       "                                          metric_params={&#x27;n_bins&#x27;: 50, &#x27;p&#x27;: 1,\n",
       "                                                         &#x27;sigma&#x27;: 0.15},\n",
       "                                          n_jobs=-1)),\n",
       "                               (&#x27;amplitude-12&#x27;,\n",
       "                                Amplitude(metric=&#x27;heat&#x27;,\n",
       "                                          metric_params={&#x27;n_bins&#x27;: 50, &#x27;p&#x27;: 2,\n",
       "                                                         &#x27;sigma&#x27;: 0.15},\n",
       "                                          n_jobs=-1)),\n",
       "                               (&#x27;amplitude-13&#x27;,\n",
       "                                Amplitude(metric=&#x27;heat&#x27;,\n",
       "                                          metric_params={&#x27;n_bins&#x27;: 50, &#x27;p&#x27;: 2,\n",
       "                                                         &#x27;sigma&#x27;: 0.15},\n",
       "                                          n_jobs=-1))])</pre></div></div></div><div class=\"sk-parallel\"><div class=\"sk-parallel-item\"><div class=\"sk-item\"><div class=\"sk-label-container\"><div class=\"sk-label sk-toggleable\"><label>persistenceentropy</label></div></div><div class=\"sk-serial\"><div class=\"sk-item\"><div class=\"sk-estimator sk-toggleable\"><input class=\"sk-toggleable__control sk-hidden--visually\" id=\"22a08e18-4aae-4b45-bd8c-b91dd8e3aaa9\" type=\"checkbox\" ><label for=\"22a08e18-4aae-4b45-bd8c-b91dd8e3aaa9\" class=\"sk-toggleable__label sk-toggleable__label-arrow\">PersistenceEntropy</label><div class=\"sk-toggleable__content\"><pre>PersistenceEntropy(nan_fill_value=-1)</pre></div></div></div></div></div></div><div class=\"sk-parallel-item\"><div class=\"sk-item\"><div class=\"sk-label-container\"><div class=\"sk-label sk-toggleable\"><label>amplitude-1</label></div></div><div class=\"sk-serial\"><div class=\"sk-item\"><div class=\"sk-estimator sk-toggleable\"><input class=\"sk-toggleable__control sk-hidden--visually\" id=\"e0d67497-2b72-48da-80a8-57518b4455cd\" type=\"checkbox\" ><label for=\"e0d67497-2b72-48da-80a8-57518b4455cd\" class=\"sk-toggleable__label sk-toggleable__label-arrow\">Amplitude</label><div class=\"sk-toggleable__content\"><pre>Amplitude(metric=&#x27;bottleneck&#x27;, metric_params={}, n_jobs=-1)</pre></div></div></div></div></div></div><div class=\"sk-parallel-item\"><div class=\"sk-item\"><div class=\"sk-label-container\"><div class=\"sk-label sk-toggleable\"><label>amplitude-2</label></div></div><div class=\"sk-serial\"><div class=\"sk-item\"><div class=\"sk-estimator sk-toggleable\"><input class=\"sk-toggleable__control sk-hidden--visually\" id=\"1aff6773-6d63-44bd-855b-8ac56ed480a1\" type=\"checkbox\" ><label for=\"1aff6773-6d63-44bd-855b-8ac56ed480a1\" class=\"sk-toggleable__label sk-toggleable__label-arrow\">Amplitude</label><div class=\"sk-toggleable__content\"><pre>Amplitude(metric=&#x27;wasserstein&#x27;, metric_params={&#x27;p&#x27;: 1}, n_jobs=-1)</pre></div></div></div></div></div></div><div class=\"sk-parallel-item\"><div class=\"sk-item\"><div class=\"sk-label-container\"><div class=\"sk-label sk-toggleable\"><label>amplitude-3</label></div></div><div class=\"sk-serial\"><div class=\"sk-item\"><div class=\"sk-estimator sk-toggleable\"><input class=\"sk-toggleable__control sk-hidden--visually\" id=\"f2eb434e-3506-4d41-a8e3-b9a5bd026544\" type=\"checkbox\" ><label for=\"f2eb434e-3506-4d41-a8e3-b9a5bd026544\" class=\"sk-toggleable__label sk-toggleable__label-arrow\">Amplitude</label><div class=\"sk-toggleable__content\"><pre>Amplitude(metric=&#x27;wasserstein&#x27;, metric_params={&#x27;p&#x27;: 2}, n_jobs=-1)</pre></div></div></div></div></div></div><div class=\"sk-parallel-item\"><div class=\"sk-item\"><div class=\"sk-label-container\"><div class=\"sk-label sk-toggleable\"><label>amplitude-4</label></div></div><div class=\"sk-serial\"><div class=\"sk-item\"><div class=\"sk-estimator sk-toggleable\"><input class=\"sk-toggleable__control sk-hidden--visually\" id=\"d67e36bd-5338-4e45-983f-40ad422530f7\" type=\"checkbox\" ><label for=\"d67e36bd-5338-4e45-983f-40ad422530f7\" class=\"sk-toggleable__label sk-toggleable__label-arrow\">Amplitude</label><div class=\"sk-toggleable__content\"><pre>Amplitude(metric_params={&#x27;n_bins&#x27;: 50, &#x27;n_layers&#x27;: 1, &#x27;p&#x27;: 1}, n_jobs=-1)</pre></div></div></div></div></div></div><div class=\"sk-parallel-item\"><div class=\"sk-item\"><div class=\"sk-label-container\"><div class=\"sk-label sk-toggleable\"><label>amplitude-5</label></div></div><div class=\"sk-serial\"><div class=\"sk-item\"><div class=\"sk-estimator sk-toggleable\"><input class=\"sk-toggleable__control sk-hidden--visually\" id=\"22c0cf9f-f1bd-4334-a953-bdfb3c78bf7b\" type=\"checkbox\" ><label for=\"22c0cf9f-f1bd-4334-a953-bdfb3c78bf7b\" class=\"sk-toggleable__label sk-toggleable__label-arrow\">Amplitude</label><div class=\"sk-toggleable__content\"><pre>Amplitude(metric_params={&#x27;n_bins&#x27;: 50, &#x27;n_layers&#x27;: 2, &#x27;p&#x27;: 1}, n_jobs=-1)</pre></div></div></div></div></div></div><div class=\"sk-parallel-item\"><div class=\"sk-item\"><div class=\"sk-label-container\"><div class=\"sk-label sk-toggleable\"><label>amplitude-6</label></div></div><div class=\"sk-serial\"><div class=\"sk-item\"><div class=\"sk-estimator sk-toggleable\"><input class=\"sk-toggleable__control sk-hidden--visually\" id=\"693b6d66-1916-4cbf-be7a-40cbe011d37b\" type=\"checkbox\" ><label for=\"693b6d66-1916-4cbf-be7a-40cbe011d37b\" class=\"sk-toggleable__label sk-toggleable__label-arrow\">Amplitude</label><div class=\"sk-toggleable__content\"><pre>Amplitude(metric_params={&#x27;n_bins&#x27;: 50, &#x27;n_layers&#x27;: 1, &#x27;p&#x27;: 2}, n_jobs=-1)</pre></div></div></div></div></div></div><div class=\"sk-parallel-item\"><div class=\"sk-item\"><div class=\"sk-label-container\"><div class=\"sk-label sk-toggleable\"><label>amplitude-7</label></div></div><div class=\"sk-serial\"><div class=\"sk-item\"><div class=\"sk-estimator sk-toggleable\"><input class=\"sk-toggleable__control sk-hidden--visually\" id=\"74674f8d-fd22-4773-bf57-986a6d2714c5\" type=\"checkbox\" ><label for=\"74674f8d-fd22-4773-bf57-986a6d2714c5\" class=\"sk-toggleable__label sk-toggleable__label-arrow\">Amplitude</label><div class=\"sk-toggleable__content\"><pre>Amplitude(metric_params={&#x27;n_bins&#x27;: 50, &#x27;n_layers&#x27;: 2, &#x27;p&#x27;: 2}, n_jobs=-1)</pre></div></div></div></div></div></div><div class=\"sk-parallel-item\"><div class=\"sk-item\"><div class=\"sk-label-container\"><div class=\"sk-label sk-toggleable\"><label>amplitude-8</label></div></div><div class=\"sk-serial\"><div class=\"sk-item\"><div class=\"sk-estimator sk-toggleable\"><input class=\"sk-toggleable__control sk-hidden--visually\" id=\"d012c4ff-bc2d-4f37-9a20-813e16cebfbc\" type=\"checkbox\" ><label for=\"d012c4ff-bc2d-4f37-9a20-813e16cebfbc\" class=\"sk-toggleable__label sk-toggleable__label-arrow\">Amplitude</label><div class=\"sk-toggleable__content\"><pre>Amplitude(metric=&#x27;betti&#x27;, metric_params={&#x27;n_bins&#x27;: 50, &#x27;p&#x27;: 1}, n_jobs=-1)</pre></div></div></div></div></div></div><div class=\"sk-parallel-item\"><div class=\"sk-item\"><div class=\"sk-label-container\"><div class=\"sk-label sk-toggleable\"><label>amplitude-9</label></div></div><div class=\"sk-serial\"><div class=\"sk-item\"><div class=\"sk-estimator sk-toggleable\"><input class=\"sk-toggleable__control sk-hidden--visually\" id=\"a2a8b186-a52f-4b5a-b1e4-5cc2a4666c17\" type=\"checkbox\" ><label for=\"a2a8b186-a52f-4b5a-b1e4-5cc2a4666c17\" class=\"sk-toggleable__label sk-toggleable__label-arrow\">Amplitude</label><div class=\"sk-toggleable__content\"><pre>Amplitude(metric=&#x27;betti&#x27;, metric_params={&#x27;n_bins&#x27;: 50, &#x27;p&#x27;: 2}, n_jobs=-1)</pre></div></div></div></div></div></div><div class=\"sk-parallel-item\"><div class=\"sk-item\"><div class=\"sk-label-container\"><div class=\"sk-label sk-toggleable\"><label>amplitude-10</label></div></div><div class=\"sk-serial\"><div class=\"sk-item\"><div class=\"sk-estimator sk-toggleable\"><input class=\"sk-toggleable__control sk-hidden--visually\" id=\"864aa5db-f70b-4105-b6c0-59d12bce16c7\" type=\"checkbox\" ><label for=\"864aa5db-f70b-4105-b6c0-59d12bce16c7\" class=\"sk-toggleable__label sk-toggleable__label-arrow\">Amplitude</label><div class=\"sk-toggleable__content\"><pre>Amplitude(metric=&#x27;heat&#x27;, metric_params={&#x27;n_bins&#x27;: 50, &#x27;p&#x27;: 1, &#x27;sigma&#x27;: 0.15},\n",
       "          n_jobs=-1)</pre></div></div></div></div></div></div><div class=\"sk-parallel-item\"><div class=\"sk-item\"><div class=\"sk-label-container\"><div class=\"sk-label sk-toggleable\"><label>amplitude-11</label></div></div><div class=\"sk-serial\"><div class=\"sk-item\"><div class=\"sk-estimator sk-toggleable\"><input class=\"sk-toggleable__control sk-hidden--visually\" id=\"fb77ff7b-1f4b-4c88-b17a-1cebfa8aa8be\" type=\"checkbox\" ><label for=\"fb77ff7b-1f4b-4c88-b17a-1cebfa8aa8be\" class=\"sk-toggleable__label sk-toggleable__label-arrow\">Amplitude</label><div class=\"sk-toggleable__content\"><pre>Amplitude(metric=&#x27;heat&#x27;, metric_params={&#x27;n_bins&#x27;: 50, &#x27;p&#x27;: 1, &#x27;sigma&#x27;: 0.15},\n",
       "          n_jobs=-1)</pre></div></div></div></div></div></div><div class=\"sk-parallel-item\"><div class=\"sk-item\"><div class=\"sk-label-container\"><div class=\"sk-label sk-toggleable\"><label>amplitude-12</label></div></div><div class=\"sk-serial\"><div class=\"sk-item\"><div class=\"sk-estimator sk-toggleable\"><input class=\"sk-toggleable__control sk-hidden--visually\" id=\"e71cacd6-b474-44ca-a7e6-2c49aa32d8b9\" type=\"checkbox\" ><label for=\"e71cacd6-b474-44ca-a7e6-2c49aa32d8b9\" class=\"sk-toggleable__label sk-toggleable__label-arrow\">Amplitude</label><div class=\"sk-toggleable__content\"><pre>Amplitude(metric=&#x27;heat&#x27;, metric_params={&#x27;n_bins&#x27;: 50, &#x27;p&#x27;: 2, &#x27;sigma&#x27;: 0.15},\n",
       "          n_jobs=-1)</pre></div></div></div></div></div></div><div class=\"sk-parallel-item\"><div class=\"sk-item\"><div class=\"sk-label-container\"><div class=\"sk-label sk-toggleable\"><label>amplitude-13</label></div></div><div class=\"sk-serial\"><div class=\"sk-item\"><div class=\"sk-estimator sk-toggleable\"><input class=\"sk-toggleable__control sk-hidden--visually\" id=\"d3ae6fcc-a9e6-45b7-a5f1-83f9f352482d\" type=\"checkbox\" ><label for=\"d3ae6fcc-a9e6-45b7-a5f1-83f9f352482d\" class=\"sk-toggleable__label sk-toggleable__label-arrow\">Amplitude</label><div class=\"sk-toggleable__content\"><pre>Amplitude(metric=&#x27;heat&#x27;, metric_params={&#x27;n_bins&#x27;: 50, &#x27;p&#x27;: 2, &#x27;sigma&#x27;: 0.15},\n",
       "          n_jobs=-1)</pre></div></div></div></div></div></div></div></div></div></div></div></div></div><div class=\"sk-parallel-item\"><div class=\"sk-item\"><div class=\"sk-label-container\"><div class=\"sk-label sk-toggleable\"><label>pipeline-4</label></div></div><div class=\"sk-serial\"><div class=\"sk-item\"><div class=\"sk-serial\"><div class=\"sk-item\"><div class=\"sk-estimator sk-toggleable\"><input class=\"sk-toggleable__control sk-hidden--visually\" id=\"c1f91cd8-1e67-433f-b96b-2bc79a5ec8fc\" type=\"checkbox\" ><label for=\"c1f91cd8-1e67-433f-b96b-2bc79a5ec8fc\" class=\"sk-toggleable__label sk-toggleable__label-arrow\">Binarizer</label><div class=\"sk-toggleable__content\"><pre>Binarizer(n_jobs=-1)</pre></div></div></div><div class=\"sk-item\"><div class=\"sk-estimator sk-toggleable\"><input class=\"sk-toggleable__control sk-hidden--visually\" id=\"e28eb645-3a5d-4005-a42b-bf99f9f8392d\" type=\"checkbox\" ><label for=\"e28eb645-3a5d-4005-a42b-bf99f9f8392d\" class=\"sk-toggleable__label sk-toggleable__label-arrow\">HeightFiltration</label><div class=\"sk-toggleable__content\"><pre>HeightFiltration(direction=array([-1,  1]), n_jobs=-1)</pre></div></div></div><div class=\"sk-item\"><div class=\"sk-estimator sk-toggleable\"><input class=\"sk-toggleable__control sk-hidden--visually\" id=\"617ffcc5-4f54-4ba9-9972-89c0fa8b8880\" type=\"checkbox\" ><label for=\"617ffcc5-4f54-4ba9-9972-89c0fa8b8880\" class=\"sk-toggleable__label sk-toggleable__label-arrow\">CubicalPersistence</label><div class=\"sk-toggleable__content\"><pre>CubicalPersistence(n_jobs=-1)</pre></div></div></div><div class=\"sk-item\"><div class=\"sk-estimator sk-toggleable\"><input class=\"sk-toggleable__control sk-hidden--visually\" id=\"5822fa75-099b-44e4-bdd6-ece56a27ccf9\" type=\"checkbox\" ><label for=\"5822fa75-099b-44e4-bdd6-ece56a27ccf9\" class=\"sk-toggleable__label sk-toggleable__label-arrow\">Scaler</label><div class=\"sk-toggleable__content\"><pre>Scaler(n_jobs=-1)</pre></div></div></div><div class=\"sk-item sk-dashed-wrapped\"><div class=\"sk-label-container\"><div class=\"sk-label sk-toggleable\"><input class=\"sk-toggleable__control sk-hidden--visually\" id=\"437893c4-5851-4f7c-9a25-aef5c3153c5a\" type=\"checkbox\" ><label for=\"437893c4-5851-4f7c-9a25-aef5c3153c5a\" class=\"sk-toggleable__label sk-toggleable__label-arrow\">featureunion: FeatureUnion</label><div class=\"sk-toggleable__content\"><pre>FeatureUnion(transformer_list=[(&#x27;persistenceentropy&#x27;,\n",
       "                                PersistenceEntropy(nan_fill_value=-1)),\n",
       "                               (&#x27;amplitude-1&#x27;,\n",
       "                                Amplitude(metric=&#x27;bottleneck&#x27;, metric_params={},\n",
       "                                          n_jobs=-1)),\n",
       "                               (&#x27;amplitude-2&#x27;,\n",
       "                                Amplitude(metric=&#x27;wasserstein&#x27;,\n",
       "                                          metric_params={&#x27;p&#x27;: 1}, n_jobs=-1)),\n",
       "                               (&#x27;amplitude-3&#x27;,\n",
       "                                Amplitude(metric=&#x27;wasserstein&#x27;,\n",
       "                                          metric_params={&#x27;p&#x27;: 2}, n_jobs=-1)),\n",
       "                               (&#x27;amplitude-4&#x27;,\n",
       "                                Amplitude...\n",
       "                                          metric_params={&#x27;n_bins&#x27;: 50, &#x27;p&#x27;: 1,\n",
       "                                                         &#x27;sigma&#x27;: 0.15},\n",
       "                                          n_jobs=-1)),\n",
       "                               (&#x27;amplitude-11&#x27;,\n",
       "                                Amplitude(metric=&#x27;heat&#x27;,\n",
       "                                          metric_params={&#x27;n_bins&#x27;: 50, &#x27;p&#x27;: 1,\n",
       "                                                         &#x27;sigma&#x27;: 0.15},\n",
       "                                          n_jobs=-1)),\n",
       "                               (&#x27;amplitude-12&#x27;,\n",
       "                                Amplitude(metric=&#x27;heat&#x27;,\n",
       "                                          metric_params={&#x27;n_bins&#x27;: 50, &#x27;p&#x27;: 2,\n",
       "                                                         &#x27;sigma&#x27;: 0.15},\n",
       "                                          n_jobs=-1)),\n",
       "                               (&#x27;amplitude-13&#x27;,\n",
       "                                Amplitude(metric=&#x27;heat&#x27;,\n",
       "                                          metric_params={&#x27;n_bins&#x27;: 50, &#x27;p&#x27;: 2,\n",
       "                                                         &#x27;sigma&#x27;: 0.15},\n",
       "                                          n_jobs=-1))])</pre></div></div></div><div class=\"sk-parallel\"><div class=\"sk-parallel-item\"><div class=\"sk-item\"><div class=\"sk-label-container\"><div class=\"sk-label sk-toggleable\"><label>persistenceentropy</label></div></div><div class=\"sk-serial\"><div class=\"sk-item\"><div class=\"sk-estimator sk-toggleable\"><input class=\"sk-toggleable__control sk-hidden--visually\" id=\"64272260-9924-4d7c-88ff-f2668b1c94b4\" type=\"checkbox\" ><label for=\"64272260-9924-4d7c-88ff-f2668b1c94b4\" class=\"sk-toggleable__label sk-toggleable__label-arrow\">PersistenceEntropy</label><div class=\"sk-toggleable__content\"><pre>PersistenceEntropy(nan_fill_value=-1)</pre></div></div></div></div></div></div><div class=\"sk-parallel-item\"><div class=\"sk-item\"><div class=\"sk-label-container\"><div class=\"sk-label sk-toggleable\"><label>amplitude-1</label></div></div><div class=\"sk-serial\"><div class=\"sk-item\"><div class=\"sk-estimator sk-toggleable\"><input class=\"sk-toggleable__control sk-hidden--visually\" id=\"c298a02d-fd20-4171-8fff-7ddabdcfb841\" type=\"checkbox\" ><label for=\"c298a02d-fd20-4171-8fff-7ddabdcfb841\" class=\"sk-toggleable__label sk-toggleable__label-arrow\">Amplitude</label><div class=\"sk-toggleable__content\"><pre>Amplitude(metric=&#x27;bottleneck&#x27;, metric_params={}, n_jobs=-1)</pre></div></div></div></div></div></div><div class=\"sk-parallel-item\"><div class=\"sk-item\"><div class=\"sk-label-container\"><div class=\"sk-label sk-toggleable\"><label>amplitude-2</label></div></div><div class=\"sk-serial\"><div class=\"sk-item\"><div class=\"sk-estimator sk-toggleable\"><input class=\"sk-toggleable__control sk-hidden--visually\" id=\"19dc58c6-b570-485b-9b39-238d1b59147e\" type=\"checkbox\" ><label for=\"19dc58c6-b570-485b-9b39-238d1b59147e\" class=\"sk-toggleable__label sk-toggleable__label-arrow\">Amplitude</label><div class=\"sk-toggleable__content\"><pre>Amplitude(metric=&#x27;wasserstein&#x27;, metric_params={&#x27;p&#x27;: 1}, n_jobs=-1)</pre></div></div></div></div></div></div><div class=\"sk-parallel-item\"><div class=\"sk-item\"><div class=\"sk-label-container\"><div class=\"sk-label sk-toggleable\"><label>amplitude-3</label></div></div><div class=\"sk-serial\"><div class=\"sk-item\"><div class=\"sk-estimator sk-toggleable\"><input class=\"sk-toggleable__control sk-hidden--visually\" id=\"c2cc79f1-f8d6-4303-8395-4ab833721331\" type=\"checkbox\" ><label for=\"c2cc79f1-f8d6-4303-8395-4ab833721331\" class=\"sk-toggleable__label sk-toggleable__label-arrow\">Amplitude</label><div class=\"sk-toggleable__content\"><pre>Amplitude(metric=&#x27;wasserstein&#x27;, metric_params={&#x27;p&#x27;: 2}, n_jobs=-1)</pre></div></div></div></div></div></div><div class=\"sk-parallel-item\"><div class=\"sk-item\"><div class=\"sk-label-container\"><div class=\"sk-label sk-toggleable\"><label>amplitude-4</label></div></div><div class=\"sk-serial\"><div class=\"sk-item\"><div class=\"sk-estimator sk-toggleable\"><input class=\"sk-toggleable__control sk-hidden--visually\" id=\"e8fa8ed3-2d9f-47ad-90c5-cd2f3e0bdb69\" type=\"checkbox\" ><label for=\"e8fa8ed3-2d9f-47ad-90c5-cd2f3e0bdb69\" class=\"sk-toggleable__label sk-toggleable__label-arrow\">Amplitude</label><div class=\"sk-toggleable__content\"><pre>Amplitude(metric_params={&#x27;n_bins&#x27;: 50, &#x27;n_layers&#x27;: 1, &#x27;p&#x27;: 1}, n_jobs=-1)</pre></div></div></div></div></div></div><div class=\"sk-parallel-item\"><div class=\"sk-item\"><div class=\"sk-label-container\"><div class=\"sk-label sk-toggleable\"><label>amplitude-5</label></div></div><div class=\"sk-serial\"><div class=\"sk-item\"><div class=\"sk-estimator sk-toggleable\"><input class=\"sk-toggleable__control sk-hidden--visually\" id=\"4054c7bb-4dfe-4d38-8269-56b236e9f9ad\" type=\"checkbox\" ><label for=\"4054c7bb-4dfe-4d38-8269-56b236e9f9ad\" class=\"sk-toggleable__label sk-toggleable__label-arrow\">Amplitude</label><div class=\"sk-toggleable__content\"><pre>Amplitude(metric_params={&#x27;n_bins&#x27;: 50, &#x27;n_layers&#x27;: 2, &#x27;p&#x27;: 1}, n_jobs=-1)</pre></div></div></div></div></div></div><div class=\"sk-parallel-item\"><div class=\"sk-item\"><div class=\"sk-label-container\"><div class=\"sk-label sk-toggleable\"><label>amplitude-6</label></div></div><div class=\"sk-serial\"><div class=\"sk-item\"><div class=\"sk-estimator sk-toggleable\"><input class=\"sk-toggleable__control sk-hidden--visually\" id=\"b09a33b1-4d5d-4467-bdcf-2eba71cfd637\" type=\"checkbox\" ><label for=\"b09a33b1-4d5d-4467-bdcf-2eba71cfd637\" class=\"sk-toggleable__label sk-toggleable__label-arrow\">Amplitude</label><div class=\"sk-toggleable__content\"><pre>Amplitude(metric_params={&#x27;n_bins&#x27;: 50, &#x27;n_layers&#x27;: 1, &#x27;p&#x27;: 2}, n_jobs=-1)</pre></div></div></div></div></div></div><div class=\"sk-parallel-item\"><div class=\"sk-item\"><div class=\"sk-label-container\"><div class=\"sk-label sk-toggleable\"><label>amplitude-7</label></div></div><div class=\"sk-serial\"><div class=\"sk-item\"><div class=\"sk-estimator sk-toggleable\"><input class=\"sk-toggleable__control sk-hidden--visually\" id=\"83ed8d5f-5d5e-43c1-a326-92ddcd175f23\" type=\"checkbox\" ><label for=\"83ed8d5f-5d5e-43c1-a326-92ddcd175f23\" class=\"sk-toggleable__label sk-toggleable__label-arrow\">Amplitude</label><div class=\"sk-toggleable__content\"><pre>Amplitude(metric_params={&#x27;n_bins&#x27;: 50, &#x27;n_layers&#x27;: 2, &#x27;p&#x27;: 2}, n_jobs=-1)</pre></div></div></div></div></div></div><div class=\"sk-parallel-item\"><div class=\"sk-item\"><div class=\"sk-label-container\"><div class=\"sk-label sk-toggleable\"><label>amplitude-8</label></div></div><div class=\"sk-serial\"><div class=\"sk-item\"><div class=\"sk-estimator sk-toggleable\"><input class=\"sk-toggleable__control sk-hidden--visually\" id=\"16961ac5-877f-45cd-ac18-335cb62a636e\" type=\"checkbox\" ><label for=\"16961ac5-877f-45cd-ac18-335cb62a636e\" class=\"sk-toggleable__label sk-toggleable__label-arrow\">Amplitude</label><div class=\"sk-toggleable__content\"><pre>Amplitude(metric=&#x27;betti&#x27;, metric_params={&#x27;n_bins&#x27;: 50, &#x27;p&#x27;: 1}, n_jobs=-1)</pre></div></div></div></div></div></div><div class=\"sk-parallel-item\"><div class=\"sk-item\"><div class=\"sk-label-container\"><div class=\"sk-label sk-toggleable\"><label>amplitude-9</label></div></div><div class=\"sk-serial\"><div class=\"sk-item\"><div class=\"sk-estimator sk-toggleable\"><input class=\"sk-toggleable__control sk-hidden--visually\" id=\"6428078f-dc84-4e4a-b827-6ab0656fa878\" type=\"checkbox\" ><label for=\"6428078f-dc84-4e4a-b827-6ab0656fa878\" class=\"sk-toggleable__label sk-toggleable__label-arrow\">Amplitude</label><div class=\"sk-toggleable__content\"><pre>Amplitude(metric=&#x27;betti&#x27;, metric_params={&#x27;n_bins&#x27;: 50, &#x27;p&#x27;: 2}, n_jobs=-1)</pre></div></div></div></div></div></div><div class=\"sk-parallel-item\"><div class=\"sk-item\"><div class=\"sk-label-container\"><div class=\"sk-label sk-toggleable\"><label>amplitude-10</label></div></div><div class=\"sk-serial\"><div class=\"sk-item\"><div class=\"sk-estimator sk-toggleable\"><input class=\"sk-toggleable__control sk-hidden--visually\" id=\"53ddd226-6042-4bc5-92fc-7881e7055280\" type=\"checkbox\" ><label for=\"53ddd226-6042-4bc5-92fc-7881e7055280\" class=\"sk-toggleable__label sk-toggleable__label-arrow\">Amplitude</label><div class=\"sk-toggleable__content\"><pre>Amplitude(metric=&#x27;heat&#x27;, metric_params={&#x27;n_bins&#x27;: 50, &#x27;p&#x27;: 1, &#x27;sigma&#x27;: 0.15},\n",
       "          n_jobs=-1)</pre></div></div></div></div></div></div><div class=\"sk-parallel-item\"><div class=\"sk-item\"><div class=\"sk-label-container\"><div class=\"sk-label sk-toggleable\"><label>amplitude-11</label></div></div><div class=\"sk-serial\"><div class=\"sk-item\"><div class=\"sk-estimator sk-toggleable\"><input class=\"sk-toggleable__control sk-hidden--visually\" id=\"9e8c8b5e-6cf3-42fb-8154-0f0be5a589de\" type=\"checkbox\" ><label for=\"9e8c8b5e-6cf3-42fb-8154-0f0be5a589de\" class=\"sk-toggleable__label sk-toggleable__label-arrow\">Amplitude</label><div class=\"sk-toggleable__content\"><pre>Amplitude(metric=&#x27;heat&#x27;, metric_params={&#x27;n_bins&#x27;: 50, &#x27;p&#x27;: 1, &#x27;sigma&#x27;: 0.15},\n",
       "          n_jobs=-1)</pre></div></div></div></div></div></div><div class=\"sk-parallel-item\"><div class=\"sk-item\"><div class=\"sk-label-container\"><div class=\"sk-label sk-toggleable\"><label>amplitude-12</label></div></div><div class=\"sk-serial\"><div class=\"sk-item\"><div class=\"sk-estimator sk-toggleable\"><input class=\"sk-toggleable__control sk-hidden--visually\" id=\"f6907d49-246d-466d-975b-de6dd9ed2a77\" type=\"checkbox\" ><label for=\"f6907d49-246d-466d-975b-de6dd9ed2a77\" class=\"sk-toggleable__label sk-toggleable__label-arrow\">Amplitude</label><div class=\"sk-toggleable__content\"><pre>Amplitude(metric=&#x27;heat&#x27;, metric_params={&#x27;n_bins&#x27;: 50, &#x27;p&#x27;: 2, &#x27;sigma&#x27;: 0.15},\n",
       "          n_jobs=-1)</pre></div></div></div></div></div></div><div class=\"sk-parallel-item\"><div class=\"sk-item\"><div class=\"sk-label-container\"><div class=\"sk-label sk-toggleable\"><label>amplitude-13</label></div></div><div class=\"sk-serial\"><div class=\"sk-item\"><div class=\"sk-estimator sk-toggleable\"><input class=\"sk-toggleable__control sk-hidden--visually\" id=\"a63836cc-3445-40e8-b5c6-136773de51a0\" type=\"checkbox\" ><label for=\"a63836cc-3445-40e8-b5c6-136773de51a0\" class=\"sk-toggleable__label sk-toggleable__label-arrow\">Amplitude</label><div class=\"sk-toggleable__content\"><pre>Amplitude(metric=&#x27;heat&#x27;, metric_params={&#x27;n_bins&#x27;: 50, &#x27;p&#x27;: 2, &#x27;sigma&#x27;: 0.15},\n",
       "          n_jobs=-1)</pre></div></div></div></div></div></div></div></div></div></div></div></div></div><div class=\"sk-parallel-item\"><div class=\"sk-item\"><div class=\"sk-label-container\"><div class=\"sk-label sk-toggleable\"><label>pipeline-5</label></div></div><div class=\"sk-serial\"><div class=\"sk-item\"><div class=\"sk-serial\"><div class=\"sk-item\"><div class=\"sk-estimator sk-toggleable\"><input class=\"sk-toggleable__control sk-hidden--visually\" id=\"1f87d110-6f74-4363-a5a9-70022235add1\" type=\"checkbox\" ><label for=\"1f87d110-6f74-4363-a5a9-70022235add1\" class=\"sk-toggleable__label sk-toggleable__label-arrow\">Binarizer</label><div class=\"sk-toggleable__content\"><pre>Binarizer(n_jobs=-1)</pre></div></div></div><div class=\"sk-item\"><div class=\"sk-estimator sk-toggleable\"><input class=\"sk-toggleable__control sk-hidden--visually\" id=\"a1c62837-ace3-4b3d-b69d-6c423654ff71\" type=\"checkbox\" ><label for=\"a1c62837-ace3-4b3d-b69d-6c423654ff71\" class=\"sk-toggleable__label sk-toggleable__label-arrow\">HeightFiltration</label><div class=\"sk-toggleable__content\"><pre>HeightFiltration(direction=array([-1,  0]), n_jobs=-1)</pre></div></div></div><div class=\"sk-item\"><div class=\"sk-estimator sk-toggleable\"><input class=\"sk-toggleable__control sk-hidden--visually\" id=\"c3910227-eb03-4f40-b02f-7fdd48d1dd0b\" type=\"checkbox\" ><label for=\"c3910227-eb03-4f40-b02f-7fdd48d1dd0b\" class=\"sk-toggleable__label sk-toggleable__label-arrow\">CubicalPersistence</label><div class=\"sk-toggleable__content\"><pre>CubicalPersistence(n_jobs=-1)</pre></div></div></div><div class=\"sk-item\"><div class=\"sk-estimator sk-toggleable\"><input class=\"sk-toggleable__control sk-hidden--visually\" id=\"37b626bd-f55f-403b-a933-9acf23a4318c\" type=\"checkbox\" ><label for=\"37b626bd-f55f-403b-a933-9acf23a4318c\" class=\"sk-toggleable__label sk-toggleable__label-arrow\">Scaler</label><div class=\"sk-toggleable__content\"><pre>Scaler(n_jobs=-1)</pre></div></div></div><div class=\"sk-item sk-dashed-wrapped\"><div class=\"sk-label-container\"><div class=\"sk-label sk-toggleable\"><input class=\"sk-toggleable__control sk-hidden--visually\" id=\"4a157208-0902-4386-8d2f-528eb5fb64ee\" type=\"checkbox\" ><label for=\"4a157208-0902-4386-8d2f-528eb5fb64ee\" class=\"sk-toggleable__label sk-toggleable__label-arrow\">featureunion: FeatureUnion</label><div class=\"sk-toggleable__content\"><pre>FeatureUnion(transformer_list=[(&#x27;persistenceentropy&#x27;,\n",
       "                                PersistenceEntropy(nan_fill_value=-1)),\n",
       "                               (&#x27;amplitude-1&#x27;,\n",
       "                                Amplitude(metric=&#x27;bottleneck&#x27;, metric_params={},\n",
       "                                          n_jobs=-1)),\n",
       "                               (&#x27;amplitude-2&#x27;,\n",
       "                                Amplitude(metric=&#x27;wasserstein&#x27;,\n",
       "                                          metric_params={&#x27;p&#x27;: 1}, n_jobs=-1)),\n",
       "                               (&#x27;amplitude-3&#x27;,\n",
       "                                Amplitude(metric=&#x27;wasserstein&#x27;,\n",
       "                                          metric_params={&#x27;p&#x27;: 2}, n_jobs=-1)),\n",
       "                               (&#x27;amplitude-4&#x27;,\n",
       "                                Amplitude...\n",
       "                                          metric_params={&#x27;n_bins&#x27;: 50, &#x27;p&#x27;: 1,\n",
       "                                                         &#x27;sigma&#x27;: 0.15},\n",
       "                                          n_jobs=-1)),\n",
       "                               (&#x27;amplitude-11&#x27;,\n",
       "                                Amplitude(metric=&#x27;heat&#x27;,\n",
       "                                          metric_params={&#x27;n_bins&#x27;: 50, &#x27;p&#x27;: 1,\n",
       "                                                         &#x27;sigma&#x27;: 0.15},\n",
       "                                          n_jobs=-1)),\n",
       "                               (&#x27;amplitude-12&#x27;,\n",
       "                                Amplitude(metric=&#x27;heat&#x27;,\n",
       "                                          metric_params={&#x27;n_bins&#x27;: 50, &#x27;p&#x27;: 2,\n",
       "                                                         &#x27;sigma&#x27;: 0.15},\n",
       "                                          n_jobs=-1)),\n",
       "                               (&#x27;amplitude-13&#x27;,\n",
       "                                Amplitude(metric=&#x27;heat&#x27;,\n",
       "                                          metric_params={&#x27;n_bins&#x27;: 50, &#x27;p&#x27;: 2,\n",
       "                                                         &#x27;sigma&#x27;: 0.15},\n",
       "                                          n_jobs=-1))])</pre></div></div></div><div class=\"sk-parallel\"><div class=\"sk-parallel-item\"><div class=\"sk-item\"><div class=\"sk-label-container\"><div class=\"sk-label sk-toggleable\"><label>persistenceentropy</label></div></div><div class=\"sk-serial\"><div class=\"sk-item\"><div class=\"sk-estimator sk-toggleable\"><input class=\"sk-toggleable__control sk-hidden--visually\" id=\"1dbea308-e885-4768-bc86-3489d672fe43\" type=\"checkbox\" ><label for=\"1dbea308-e885-4768-bc86-3489d672fe43\" class=\"sk-toggleable__label sk-toggleable__label-arrow\">PersistenceEntropy</label><div class=\"sk-toggleable__content\"><pre>PersistenceEntropy(nan_fill_value=-1)</pre></div></div></div></div></div></div><div class=\"sk-parallel-item\"><div class=\"sk-item\"><div class=\"sk-label-container\"><div class=\"sk-label sk-toggleable\"><label>amplitude-1</label></div></div><div class=\"sk-serial\"><div class=\"sk-item\"><div class=\"sk-estimator sk-toggleable\"><input class=\"sk-toggleable__control sk-hidden--visually\" id=\"a3dd493c-50f3-4eee-9668-b3f58b0dfede\" type=\"checkbox\" ><label for=\"a3dd493c-50f3-4eee-9668-b3f58b0dfede\" class=\"sk-toggleable__label sk-toggleable__label-arrow\">Amplitude</label><div class=\"sk-toggleable__content\"><pre>Amplitude(metric=&#x27;bottleneck&#x27;, metric_params={}, n_jobs=-1)</pre></div></div></div></div></div></div><div class=\"sk-parallel-item\"><div class=\"sk-item\"><div class=\"sk-label-container\"><div class=\"sk-label sk-toggleable\"><label>amplitude-2</label></div></div><div class=\"sk-serial\"><div class=\"sk-item\"><div class=\"sk-estimator sk-toggleable\"><input class=\"sk-toggleable__control sk-hidden--visually\" id=\"77f2da1d-da91-4575-ac6d-0d8f741d00e9\" type=\"checkbox\" ><label for=\"77f2da1d-da91-4575-ac6d-0d8f741d00e9\" class=\"sk-toggleable__label sk-toggleable__label-arrow\">Amplitude</label><div class=\"sk-toggleable__content\"><pre>Amplitude(metric=&#x27;wasserstein&#x27;, metric_params={&#x27;p&#x27;: 1}, n_jobs=-1)</pre></div></div></div></div></div></div><div class=\"sk-parallel-item\"><div class=\"sk-item\"><div class=\"sk-label-container\"><div class=\"sk-label sk-toggleable\"><label>amplitude-3</label></div></div><div class=\"sk-serial\"><div class=\"sk-item\"><div class=\"sk-estimator sk-toggleable\"><input class=\"sk-toggleable__control sk-hidden--visually\" id=\"40c22537-d33c-44e0-ace9-f7d3712fd8e4\" type=\"checkbox\" ><label for=\"40c22537-d33c-44e0-ace9-f7d3712fd8e4\" class=\"sk-toggleable__label sk-toggleable__label-arrow\">Amplitude</label><div class=\"sk-toggleable__content\"><pre>Amplitude(metric=&#x27;wasserstein&#x27;, metric_params={&#x27;p&#x27;: 2}, n_jobs=-1)</pre></div></div></div></div></div></div><div class=\"sk-parallel-item\"><div class=\"sk-item\"><div class=\"sk-label-container\"><div class=\"sk-label sk-toggleable\"><label>amplitude-4</label></div></div><div class=\"sk-serial\"><div class=\"sk-item\"><div class=\"sk-estimator sk-toggleable\"><input class=\"sk-toggleable__control sk-hidden--visually\" id=\"c27c21dd-2d52-4377-bd05-2a74d4761ccf\" type=\"checkbox\" ><label for=\"c27c21dd-2d52-4377-bd05-2a74d4761ccf\" class=\"sk-toggleable__label sk-toggleable__label-arrow\">Amplitude</label><div class=\"sk-toggleable__content\"><pre>Amplitude(metric_params={&#x27;n_bins&#x27;: 50, &#x27;n_layers&#x27;: 1, &#x27;p&#x27;: 1}, n_jobs=-1)</pre></div></div></div></div></div></div><div class=\"sk-parallel-item\"><div class=\"sk-item\"><div class=\"sk-label-container\"><div class=\"sk-label sk-toggleable\"><label>amplitude-5</label></div></div><div class=\"sk-serial\"><div class=\"sk-item\"><div class=\"sk-estimator sk-toggleable\"><input class=\"sk-toggleable__control sk-hidden--visually\" id=\"0e3bfac3-6b39-4c74-9877-11a1aa630057\" type=\"checkbox\" ><label for=\"0e3bfac3-6b39-4c74-9877-11a1aa630057\" class=\"sk-toggleable__label sk-toggleable__label-arrow\">Amplitude</label><div class=\"sk-toggleable__content\"><pre>Amplitude(metric_params={&#x27;n_bins&#x27;: 50, &#x27;n_layers&#x27;: 2, &#x27;p&#x27;: 1}, n_jobs=-1)</pre></div></div></div></div></div></div><div class=\"sk-parallel-item\"><div class=\"sk-item\"><div class=\"sk-label-container\"><div class=\"sk-label sk-toggleable\"><label>amplitude-6</label></div></div><div class=\"sk-serial\"><div class=\"sk-item\"><div class=\"sk-estimator sk-toggleable\"><input class=\"sk-toggleable__control sk-hidden--visually\" id=\"2ab0db2f-387b-42f1-a96b-db01f3a6f239\" type=\"checkbox\" ><label for=\"2ab0db2f-387b-42f1-a96b-db01f3a6f239\" class=\"sk-toggleable__label sk-toggleable__label-arrow\">Amplitude</label><div class=\"sk-toggleable__content\"><pre>Amplitude(metric_params={&#x27;n_bins&#x27;: 50, &#x27;n_layers&#x27;: 1, &#x27;p&#x27;: 2}, n_jobs=-1)</pre></div></div></div></div></div></div><div class=\"sk-parallel-item\"><div class=\"sk-item\"><div class=\"sk-label-container\"><div class=\"sk-label sk-toggleable\"><label>amplitude-7</label></div></div><div class=\"sk-serial\"><div class=\"sk-item\"><div class=\"sk-estimator sk-toggleable\"><input class=\"sk-toggleable__control sk-hidden--visually\" id=\"2243ac57-1c50-4216-bae5-3968019c1991\" type=\"checkbox\" ><label for=\"2243ac57-1c50-4216-bae5-3968019c1991\" class=\"sk-toggleable__label sk-toggleable__label-arrow\">Amplitude</label><div class=\"sk-toggleable__content\"><pre>Amplitude(metric_params={&#x27;n_bins&#x27;: 50, &#x27;n_layers&#x27;: 2, &#x27;p&#x27;: 2}, n_jobs=-1)</pre></div></div></div></div></div></div><div class=\"sk-parallel-item\"><div class=\"sk-item\"><div class=\"sk-label-container\"><div class=\"sk-label sk-toggleable\"><label>amplitude-8</label></div></div><div class=\"sk-serial\"><div class=\"sk-item\"><div class=\"sk-estimator sk-toggleable\"><input class=\"sk-toggleable__control sk-hidden--visually\" id=\"bb0f0b65-b51e-496c-a8c7-ca0766ac8b77\" type=\"checkbox\" ><label for=\"bb0f0b65-b51e-496c-a8c7-ca0766ac8b77\" class=\"sk-toggleable__label sk-toggleable__label-arrow\">Amplitude</label><div class=\"sk-toggleable__content\"><pre>Amplitude(metric=&#x27;betti&#x27;, metric_params={&#x27;n_bins&#x27;: 50, &#x27;p&#x27;: 1}, n_jobs=-1)</pre></div></div></div></div></div></div><div class=\"sk-parallel-item\"><div class=\"sk-item\"><div class=\"sk-label-container\"><div class=\"sk-label sk-toggleable\"><label>amplitude-9</label></div></div><div class=\"sk-serial\"><div class=\"sk-item\"><div class=\"sk-estimator sk-toggleable\"><input class=\"sk-toggleable__control sk-hidden--visually\" id=\"66e62bac-070c-4179-bb3c-0a6d05e2cf70\" type=\"checkbox\" ><label for=\"66e62bac-070c-4179-bb3c-0a6d05e2cf70\" class=\"sk-toggleable__label sk-toggleable__label-arrow\">Amplitude</label><div class=\"sk-toggleable__content\"><pre>Amplitude(metric=&#x27;betti&#x27;, metric_params={&#x27;n_bins&#x27;: 50, &#x27;p&#x27;: 2}, n_jobs=-1)</pre></div></div></div></div></div></div><div class=\"sk-parallel-item\"><div class=\"sk-item\"><div class=\"sk-label-container\"><div class=\"sk-label sk-toggleable\"><label>amplitude-10</label></div></div><div class=\"sk-serial\"><div class=\"sk-item\"><div class=\"sk-estimator sk-toggleable\"><input class=\"sk-toggleable__control sk-hidden--visually\" id=\"e5f52fc3-01c7-4e6a-8d01-98f7f2a3aabb\" type=\"checkbox\" ><label for=\"e5f52fc3-01c7-4e6a-8d01-98f7f2a3aabb\" class=\"sk-toggleable__label sk-toggleable__label-arrow\">Amplitude</label><div class=\"sk-toggleable__content\"><pre>Amplitude(metric=&#x27;heat&#x27;, metric_params={&#x27;n_bins&#x27;: 50, &#x27;p&#x27;: 1, &#x27;sigma&#x27;: 0.15},\n",
       "          n_jobs=-1)</pre></div></div></div></div></div></div><div class=\"sk-parallel-item\"><div class=\"sk-item\"><div class=\"sk-label-container\"><div class=\"sk-label sk-toggleable\"><label>amplitude-11</label></div></div><div class=\"sk-serial\"><div class=\"sk-item\"><div class=\"sk-estimator sk-toggleable\"><input class=\"sk-toggleable__control sk-hidden--visually\" id=\"9ef4ce79-5b6a-4928-b827-6c054d8f857e\" type=\"checkbox\" ><label for=\"9ef4ce79-5b6a-4928-b827-6c054d8f857e\" class=\"sk-toggleable__label sk-toggleable__label-arrow\">Amplitude</label><div class=\"sk-toggleable__content\"><pre>Amplitude(metric=&#x27;heat&#x27;, metric_params={&#x27;n_bins&#x27;: 50, &#x27;p&#x27;: 1, &#x27;sigma&#x27;: 0.15},\n",
       "          n_jobs=-1)</pre></div></div></div></div></div></div><div class=\"sk-parallel-item\"><div class=\"sk-item\"><div class=\"sk-label-container\"><div class=\"sk-label sk-toggleable\"><label>amplitude-12</label></div></div><div class=\"sk-serial\"><div class=\"sk-item\"><div class=\"sk-estimator sk-toggleable\"><input class=\"sk-toggleable__control sk-hidden--visually\" id=\"38151a36-2b67-4d7d-abc9-023764d5ce3d\" type=\"checkbox\" ><label for=\"38151a36-2b67-4d7d-abc9-023764d5ce3d\" class=\"sk-toggleable__label sk-toggleable__label-arrow\">Amplitude</label><div class=\"sk-toggleable__content\"><pre>Amplitude(metric=&#x27;heat&#x27;, metric_params={&#x27;n_bins&#x27;: 50, &#x27;p&#x27;: 2, &#x27;sigma&#x27;: 0.15},\n",
       "          n_jobs=-1)</pre></div></div></div></div></div></div><div class=\"sk-parallel-item\"><div class=\"sk-item\"><div class=\"sk-label-container\"><div class=\"sk-label sk-toggleable\"><label>amplitude-13</label></div></div><div class=\"sk-serial\"><div class=\"sk-item\"><div class=\"sk-estimator sk-toggleable\"><input class=\"sk-toggleable__control sk-hidden--visually\" id=\"a608d149-b719-48fa-92db-72b030ada63c\" type=\"checkbox\" ><label for=\"a608d149-b719-48fa-92db-72b030ada63c\" class=\"sk-toggleable__label sk-toggleable__label-arrow\">Amplitude</label><div class=\"sk-toggleable__content\"><pre>Amplitude(metric=&#x27;heat&#x27;, metric_params={&#x27;n_bins&#x27;: 50, &#x27;p&#x27;: 2, &#x27;sigma&#x27;: 0.15},\n",
       "          n_jobs=-1)</pre></div></div></div></div></div></div></div></div></div></div></div></div></div><div class=\"sk-parallel-item\"><div class=\"sk-item\"><div class=\"sk-label-container\"><div class=\"sk-label sk-toggleable\"><label>pipeline-6</label></div></div><div class=\"sk-serial\"><div class=\"sk-item\"><div class=\"sk-serial\"><div class=\"sk-item\"><div class=\"sk-estimator sk-toggleable\"><input class=\"sk-toggleable__control sk-hidden--visually\" id=\"3235e093-02fe-4073-aed7-ad99cb01a090\" type=\"checkbox\" ><label for=\"3235e093-02fe-4073-aed7-ad99cb01a090\" class=\"sk-toggleable__label sk-toggleable__label-arrow\">Binarizer</label><div class=\"sk-toggleable__content\"><pre>Binarizer(n_jobs=-1)</pre></div></div></div><div class=\"sk-item\"><div class=\"sk-estimator sk-toggleable\"><input class=\"sk-toggleable__control sk-hidden--visually\" id=\"f9e72819-e61f-485b-8131-5eb5cbecbba6\" type=\"checkbox\" ><label for=\"f9e72819-e61f-485b-8131-5eb5cbecbba6\" class=\"sk-toggleable__label sk-toggleable__label-arrow\">HeightFiltration</label><div class=\"sk-toggleable__content\"><pre>HeightFiltration(direction=array([-1, -1]), n_jobs=-1)</pre></div></div></div><div class=\"sk-item\"><div class=\"sk-estimator sk-toggleable\"><input class=\"sk-toggleable__control sk-hidden--visually\" id=\"dd6d4170-7cb7-4f7d-b521-8932d9dc8275\" type=\"checkbox\" ><label for=\"dd6d4170-7cb7-4f7d-b521-8932d9dc8275\" class=\"sk-toggleable__label sk-toggleable__label-arrow\">CubicalPersistence</label><div class=\"sk-toggleable__content\"><pre>CubicalPersistence(n_jobs=-1)</pre></div></div></div><div class=\"sk-item\"><div class=\"sk-estimator sk-toggleable\"><input class=\"sk-toggleable__control sk-hidden--visually\" id=\"13d4b114-4a1e-493b-91e2-599845b683b1\" type=\"checkbox\" ><label for=\"13d4b114-4a1e-493b-91e2-599845b683b1\" class=\"sk-toggleable__label sk-toggleable__label-arrow\">Scaler</label><div class=\"sk-toggleable__content\"><pre>Scaler(n_jobs=-1)</pre></div></div></div><div class=\"sk-item sk-dashed-wrapped\"><div class=\"sk-label-container\"><div class=\"sk-label sk-toggleable\"><input class=\"sk-toggleable__control sk-hidden--visually\" id=\"5a29c6b8-89a8-4793-a95b-56f597225638\" type=\"checkbox\" ><label for=\"5a29c6b8-89a8-4793-a95b-56f597225638\" class=\"sk-toggleable__label sk-toggleable__label-arrow\">featureunion: FeatureUnion</label><div class=\"sk-toggleable__content\"><pre>FeatureUnion(transformer_list=[(&#x27;persistenceentropy&#x27;,\n",
       "                                PersistenceEntropy(nan_fill_value=-1)),\n",
       "                               (&#x27;amplitude-1&#x27;,\n",
       "                                Amplitude(metric=&#x27;bottleneck&#x27;, metric_params={},\n",
       "                                          n_jobs=-1)),\n",
       "                               (&#x27;amplitude-2&#x27;,\n",
       "                                Amplitude(metric=&#x27;wasserstein&#x27;,\n",
       "                                          metric_params={&#x27;p&#x27;: 1}, n_jobs=-1)),\n",
       "                               (&#x27;amplitude-3&#x27;,\n",
       "                                Amplitude(metric=&#x27;wasserstein&#x27;,\n",
       "                                          metric_params={&#x27;p&#x27;: 2}, n_jobs=-1)),\n",
       "                               (&#x27;amplitude-4&#x27;,\n",
       "                                Amplitude...\n",
       "                                          metric_params={&#x27;n_bins&#x27;: 50, &#x27;p&#x27;: 1,\n",
       "                                                         &#x27;sigma&#x27;: 0.15},\n",
       "                                          n_jobs=-1)),\n",
       "                               (&#x27;amplitude-11&#x27;,\n",
       "                                Amplitude(metric=&#x27;heat&#x27;,\n",
       "                                          metric_params={&#x27;n_bins&#x27;: 50, &#x27;p&#x27;: 1,\n",
       "                                                         &#x27;sigma&#x27;: 0.15},\n",
       "                                          n_jobs=-1)),\n",
       "                               (&#x27;amplitude-12&#x27;,\n",
       "                                Amplitude(metric=&#x27;heat&#x27;,\n",
       "                                          metric_params={&#x27;n_bins&#x27;: 50, &#x27;p&#x27;: 2,\n",
       "                                                         &#x27;sigma&#x27;: 0.15},\n",
       "                                          n_jobs=-1)),\n",
       "                               (&#x27;amplitude-13&#x27;,\n",
       "                                Amplitude(metric=&#x27;heat&#x27;,\n",
       "                                          metric_params={&#x27;n_bins&#x27;: 50, &#x27;p&#x27;: 2,\n",
       "                                                         &#x27;sigma&#x27;: 0.15},\n",
       "                                          n_jobs=-1))])</pre></div></div></div><div class=\"sk-parallel\"><div class=\"sk-parallel-item\"><div class=\"sk-item\"><div class=\"sk-label-container\"><div class=\"sk-label sk-toggleable\"><label>persistenceentropy</label></div></div><div class=\"sk-serial\"><div class=\"sk-item\"><div class=\"sk-estimator sk-toggleable\"><input class=\"sk-toggleable__control sk-hidden--visually\" id=\"418772b5-49e8-448a-9e28-f7941d9429f9\" type=\"checkbox\" ><label for=\"418772b5-49e8-448a-9e28-f7941d9429f9\" class=\"sk-toggleable__label sk-toggleable__label-arrow\">PersistenceEntropy</label><div class=\"sk-toggleable__content\"><pre>PersistenceEntropy(nan_fill_value=-1)</pre></div></div></div></div></div></div><div class=\"sk-parallel-item\"><div class=\"sk-item\"><div class=\"sk-label-container\"><div class=\"sk-label sk-toggleable\"><label>amplitude-1</label></div></div><div class=\"sk-serial\"><div class=\"sk-item\"><div class=\"sk-estimator sk-toggleable\"><input class=\"sk-toggleable__control sk-hidden--visually\" id=\"568769bf-deb6-48a5-a33e-8f3f4a82f07a\" type=\"checkbox\" ><label for=\"568769bf-deb6-48a5-a33e-8f3f4a82f07a\" class=\"sk-toggleable__label sk-toggleable__label-arrow\">Amplitude</label><div class=\"sk-toggleable__content\"><pre>Amplitude(metric=&#x27;bottleneck&#x27;, metric_params={}, n_jobs=-1)</pre></div></div></div></div></div></div><div class=\"sk-parallel-item\"><div class=\"sk-item\"><div class=\"sk-label-container\"><div class=\"sk-label sk-toggleable\"><label>amplitude-2</label></div></div><div class=\"sk-serial\"><div class=\"sk-item\"><div class=\"sk-estimator sk-toggleable\"><input class=\"sk-toggleable__control sk-hidden--visually\" id=\"65f0a9a9-49d3-463c-9e88-900ade318245\" type=\"checkbox\" ><label for=\"65f0a9a9-49d3-463c-9e88-900ade318245\" class=\"sk-toggleable__label sk-toggleable__label-arrow\">Amplitude</label><div class=\"sk-toggleable__content\"><pre>Amplitude(metric=&#x27;wasserstein&#x27;, metric_params={&#x27;p&#x27;: 1}, n_jobs=-1)</pre></div></div></div></div></div></div><div class=\"sk-parallel-item\"><div class=\"sk-item\"><div class=\"sk-label-container\"><div class=\"sk-label sk-toggleable\"><label>amplitude-3</label></div></div><div class=\"sk-serial\"><div class=\"sk-item\"><div class=\"sk-estimator sk-toggleable\"><input class=\"sk-toggleable__control sk-hidden--visually\" id=\"20f83720-011e-4f83-adfa-265bfedcd203\" type=\"checkbox\" ><label for=\"20f83720-011e-4f83-adfa-265bfedcd203\" class=\"sk-toggleable__label sk-toggleable__label-arrow\">Amplitude</label><div class=\"sk-toggleable__content\"><pre>Amplitude(metric=&#x27;wasserstein&#x27;, metric_params={&#x27;p&#x27;: 2}, n_jobs=-1)</pre></div></div></div></div></div></div><div class=\"sk-parallel-item\"><div class=\"sk-item\"><div class=\"sk-label-container\"><div class=\"sk-label sk-toggleable\"><label>amplitude-4</label></div></div><div class=\"sk-serial\"><div class=\"sk-item\"><div class=\"sk-estimator sk-toggleable\"><input class=\"sk-toggleable__control sk-hidden--visually\" id=\"7f7c555c-133b-4a85-8c4a-7d0b6bf981d9\" type=\"checkbox\" ><label for=\"7f7c555c-133b-4a85-8c4a-7d0b6bf981d9\" class=\"sk-toggleable__label sk-toggleable__label-arrow\">Amplitude</label><div class=\"sk-toggleable__content\"><pre>Amplitude(metric_params={&#x27;n_bins&#x27;: 50, &#x27;n_layers&#x27;: 1, &#x27;p&#x27;: 1}, n_jobs=-1)</pre></div></div></div></div></div></div><div class=\"sk-parallel-item\"><div class=\"sk-item\"><div class=\"sk-label-container\"><div class=\"sk-label sk-toggleable\"><label>amplitude-5</label></div></div><div class=\"sk-serial\"><div class=\"sk-item\"><div class=\"sk-estimator sk-toggleable\"><input class=\"sk-toggleable__control sk-hidden--visually\" id=\"c7ebbc9b-37d7-4246-95d9-e010778d566f\" type=\"checkbox\" ><label for=\"c7ebbc9b-37d7-4246-95d9-e010778d566f\" class=\"sk-toggleable__label sk-toggleable__label-arrow\">Amplitude</label><div class=\"sk-toggleable__content\"><pre>Amplitude(metric_params={&#x27;n_bins&#x27;: 50, &#x27;n_layers&#x27;: 2, &#x27;p&#x27;: 1}, n_jobs=-1)</pre></div></div></div></div></div></div><div class=\"sk-parallel-item\"><div class=\"sk-item\"><div class=\"sk-label-container\"><div class=\"sk-label sk-toggleable\"><label>amplitude-6</label></div></div><div class=\"sk-serial\"><div class=\"sk-item\"><div class=\"sk-estimator sk-toggleable\"><input class=\"sk-toggleable__control sk-hidden--visually\" id=\"4d1ebf6b-ce4c-4e4e-b733-f01dc0779aec\" type=\"checkbox\" ><label for=\"4d1ebf6b-ce4c-4e4e-b733-f01dc0779aec\" class=\"sk-toggleable__label sk-toggleable__label-arrow\">Amplitude</label><div class=\"sk-toggleable__content\"><pre>Amplitude(metric_params={&#x27;n_bins&#x27;: 50, &#x27;n_layers&#x27;: 1, &#x27;p&#x27;: 2}, n_jobs=-1)</pre></div></div></div></div></div></div><div class=\"sk-parallel-item\"><div class=\"sk-item\"><div class=\"sk-label-container\"><div class=\"sk-label sk-toggleable\"><label>amplitude-7</label></div></div><div class=\"sk-serial\"><div class=\"sk-item\"><div class=\"sk-estimator sk-toggleable\"><input class=\"sk-toggleable__control sk-hidden--visually\" id=\"594c28f7-9a61-4c67-80b8-5243b2184e21\" type=\"checkbox\" ><label for=\"594c28f7-9a61-4c67-80b8-5243b2184e21\" class=\"sk-toggleable__label sk-toggleable__label-arrow\">Amplitude</label><div class=\"sk-toggleable__content\"><pre>Amplitude(metric_params={&#x27;n_bins&#x27;: 50, &#x27;n_layers&#x27;: 2, &#x27;p&#x27;: 2}, n_jobs=-1)</pre></div></div></div></div></div></div><div class=\"sk-parallel-item\"><div class=\"sk-item\"><div class=\"sk-label-container\"><div class=\"sk-label sk-toggleable\"><label>amplitude-8</label></div></div><div class=\"sk-serial\"><div class=\"sk-item\"><div class=\"sk-estimator sk-toggleable\"><input class=\"sk-toggleable__control sk-hidden--visually\" id=\"9e55532e-c7d8-4fd8-8259-b1890e4e0f51\" type=\"checkbox\" ><label for=\"9e55532e-c7d8-4fd8-8259-b1890e4e0f51\" class=\"sk-toggleable__label sk-toggleable__label-arrow\">Amplitude</label><div class=\"sk-toggleable__content\"><pre>Amplitude(metric=&#x27;betti&#x27;, metric_params={&#x27;n_bins&#x27;: 50, &#x27;p&#x27;: 1}, n_jobs=-1)</pre></div></div></div></div></div></div><div class=\"sk-parallel-item\"><div class=\"sk-item\"><div class=\"sk-label-container\"><div class=\"sk-label sk-toggleable\"><label>amplitude-9</label></div></div><div class=\"sk-serial\"><div class=\"sk-item\"><div class=\"sk-estimator sk-toggleable\"><input class=\"sk-toggleable__control sk-hidden--visually\" id=\"08158846-c3af-4e58-ae0e-5a49713ab742\" type=\"checkbox\" ><label for=\"08158846-c3af-4e58-ae0e-5a49713ab742\" class=\"sk-toggleable__label sk-toggleable__label-arrow\">Amplitude</label><div class=\"sk-toggleable__content\"><pre>Amplitude(metric=&#x27;betti&#x27;, metric_params={&#x27;n_bins&#x27;: 50, &#x27;p&#x27;: 2}, n_jobs=-1)</pre></div></div></div></div></div></div><div class=\"sk-parallel-item\"><div class=\"sk-item\"><div class=\"sk-label-container\"><div class=\"sk-label sk-toggleable\"><label>amplitude-10</label></div></div><div class=\"sk-serial\"><div class=\"sk-item\"><div class=\"sk-estimator sk-toggleable\"><input class=\"sk-toggleable__control sk-hidden--visually\" id=\"1e44fa85-333d-4c84-bbf4-67fc9864803b\" type=\"checkbox\" ><label for=\"1e44fa85-333d-4c84-bbf4-67fc9864803b\" class=\"sk-toggleable__label sk-toggleable__label-arrow\">Amplitude</label><div class=\"sk-toggleable__content\"><pre>Amplitude(metric=&#x27;heat&#x27;, metric_params={&#x27;n_bins&#x27;: 50, &#x27;p&#x27;: 1, &#x27;sigma&#x27;: 0.15},\n",
       "          n_jobs=-1)</pre></div></div></div></div></div></div><div class=\"sk-parallel-item\"><div class=\"sk-item\"><div class=\"sk-label-container\"><div class=\"sk-label sk-toggleable\"><label>amplitude-11</label></div></div><div class=\"sk-serial\"><div class=\"sk-item\"><div class=\"sk-estimator sk-toggleable\"><input class=\"sk-toggleable__control sk-hidden--visually\" id=\"c2f8f583-5043-402b-b33e-644672b8ee0c\" type=\"checkbox\" ><label for=\"c2f8f583-5043-402b-b33e-644672b8ee0c\" class=\"sk-toggleable__label sk-toggleable__label-arrow\">Amplitude</label><div class=\"sk-toggleable__content\"><pre>Amplitude(metric=&#x27;heat&#x27;, metric_params={&#x27;n_bins&#x27;: 50, &#x27;p&#x27;: 1, &#x27;sigma&#x27;: 0.15},\n",
       "          n_jobs=-1)</pre></div></div></div></div></div></div><div class=\"sk-parallel-item\"><div class=\"sk-item\"><div class=\"sk-label-container\"><div class=\"sk-label sk-toggleable\"><label>amplitude-12</label></div></div><div class=\"sk-serial\"><div class=\"sk-item\"><div class=\"sk-estimator sk-toggleable\"><input class=\"sk-toggleable__control sk-hidden--visually\" id=\"7efc4d9d-e14a-4b9e-bd63-4b07803fb943\" type=\"checkbox\" ><label for=\"7efc4d9d-e14a-4b9e-bd63-4b07803fb943\" class=\"sk-toggleable__label sk-toggleable__label-arrow\">Amplitude</label><div class=\"sk-toggleable__content\"><pre>Amplitude(metric=&#x27;heat&#x27;, metric_params={&#x27;n_bins&#x27;: 50, &#x27;p&#x27;: 2, &#x27;sigma&#x27;: 0.15},\n",
       "          n_jobs=-1)</pre></div></div></div></div></div></div><div class=\"sk-parallel-item\"><div class=\"sk-item\"><div class=\"sk-label-container\"><div class=\"sk-label sk-toggleable\"><label>amplitude-13</label></div></div><div class=\"sk-serial\"><div class=\"sk-item\"><div class=\"sk-estimator sk-toggleable\"><input class=\"sk-toggleable__control sk-hidden--visually\" id=\"824f5f14-0e78-4704-9973-8c80bff8c377\" type=\"checkbox\" ><label for=\"824f5f14-0e78-4704-9973-8c80bff8c377\" class=\"sk-toggleable__label sk-toggleable__label-arrow\">Amplitude</label><div class=\"sk-toggleable__content\"><pre>Amplitude(metric=&#x27;heat&#x27;, metric_params={&#x27;n_bins&#x27;: 50, &#x27;p&#x27;: 2, &#x27;sigma&#x27;: 0.15},\n",
       "          n_jobs=-1)</pre></div></div></div></div></div></div></div></div></div></div></div></div></div><div class=\"sk-parallel-item\"><div class=\"sk-item\"><div class=\"sk-label-container\"><div class=\"sk-label sk-toggleable\"><label>pipeline-7</label></div></div><div class=\"sk-serial\"><div class=\"sk-item\"><div class=\"sk-serial\"><div class=\"sk-item\"><div class=\"sk-estimator sk-toggleable\"><input class=\"sk-toggleable__control sk-hidden--visually\" id=\"08349522-c81f-4034-b2b6-9f7061a45969\" type=\"checkbox\" ><label for=\"08349522-c81f-4034-b2b6-9f7061a45969\" class=\"sk-toggleable__label sk-toggleable__label-arrow\">Binarizer</label><div class=\"sk-toggleable__content\"><pre>Binarizer(n_jobs=-1)</pre></div></div></div><div class=\"sk-item\"><div class=\"sk-estimator sk-toggleable\"><input class=\"sk-toggleable__control sk-hidden--visually\" id=\"7276f10f-b4f2-4260-9bd6-4bcb9355967a\" type=\"checkbox\" ><label for=\"7276f10f-b4f2-4260-9bd6-4bcb9355967a\" class=\"sk-toggleable__label sk-toggleable__label-arrow\">HeightFiltration</label><div class=\"sk-toggleable__content\"><pre>HeightFiltration(direction=array([ 0, -1]), n_jobs=-1)</pre></div></div></div><div class=\"sk-item\"><div class=\"sk-estimator sk-toggleable\"><input class=\"sk-toggleable__control sk-hidden--visually\" id=\"11ef7a8f-9b2a-4e07-af40-a768067b0a0b\" type=\"checkbox\" ><label for=\"11ef7a8f-9b2a-4e07-af40-a768067b0a0b\" class=\"sk-toggleable__label sk-toggleable__label-arrow\">CubicalPersistence</label><div class=\"sk-toggleable__content\"><pre>CubicalPersistence(n_jobs=-1)</pre></div></div></div><div class=\"sk-item\"><div class=\"sk-estimator sk-toggleable\"><input class=\"sk-toggleable__control sk-hidden--visually\" id=\"2e0c6e0a-5154-44b8-bac3-1384c9c3484a\" type=\"checkbox\" ><label for=\"2e0c6e0a-5154-44b8-bac3-1384c9c3484a\" class=\"sk-toggleable__label sk-toggleable__label-arrow\">Scaler</label><div class=\"sk-toggleable__content\"><pre>Scaler(n_jobs=-1)</pre></div></div></div><div class=\"sk-item sk-dashed-wrapped\"><div class=\"sk-label-container\"><div class=\"sk-label sk-toggleable\"><input class=\"sk-toggleable__control sk-hidden--visually\" id=\"6edd0194-032c-497e-90f0-dc044704d30f\" type=\"checkbox\" ><label for=\"6edd0194-032c-497e-90f0-dc044704d30f\" class=\"sk-toggleable__label sk-toggleable__label-arrow\">featureunion: FeatureUnion</label><div class=\"sk-toggleable__content\"><pre>FeatureUnion(transformer_list=[(&#x27;persistenceentropy&#x27;,\n",
       "                                PersistenceEntropy(nan_fill_value=-1)),\n",
       "                               (&#x27;amplitude-1&#x27;,\n",
       "                                Amplitude(metric=&#x27;bottleneck&#x27;, metric_params={},\n",
       "                                          n_jobs=-1)),\n",
       "                               (&#x27;amplitude-2&#x27;,\n",
       "                                Amplitude(metric=&#x27;wasserstein&#x27;,\n",
       "                                          metric_params={&#x27;p&#x27;: 1}, n_jobs=-1)),\n",
       "                               (&#x27;amplitude-3&#x27;,\n",
       "                                Amplitude(metric=&#x27;wasserstein&#x27;,\n",
       "                                          metric_params={&#x27;p&#x27;: 2}, n_jobs=-1)),\n",
       "                               (&#x27;amplitude-4&#x27;,\n",
       "                                Amplitude...\n",
       "                                          metric_params={&#x27;n_bins&#x27;: 50, &#x27;p&#x27;: 1,\n",
       "                                                         &#x27;sigma&#x27;: 0.15},\n",
       "                                          n_jobs=-1)),\n",
       "                               (&#x27;amplitude-11&#x27;,\n",
       "                                Amplitude(metric=&#x27;heat&#x27;,\n",
       "                                          metric_params={&#x27;n_bins&#x27;: 50, &#x27;p&#x27;: 1,\n",
       "                                                         &#x27;sigma&#x27;: 0.15},\n",
       "                                          n_jobs=-1)),\n",
       "                               (&#x27;amplitude-12&#x27;,\n",
       "                                Amplitude(metric=&#x27;heat&#x27;,\n",
       "                                          metric_params={&#x27;n_bins&#x27;: 50, &#x27;p&#x27;: 2,\n",
       "                                                         &#x27;sigma&#x27;: 0.15},\n",
       "                                          n_jobs=-1)),\n",
       "                               (&#x27;amplitude-13&#x27;,\n",
       "                                Amplitude(metric=&#x27;heat&#x27;,\n",
       "                                          metric_params={&#x27;n_bins&#x27;: 50, &#x27;p&#x27;: 2,\n",
       "                                                         &#x27;sigma&#x27;: 0.15},\n",
       "                                          n_jobs=-1))])</pre></div></div></div><div class=\"sk-parallel\"><div class=\"sk-parallel-item\"><div class=\"sk-item\"><div class=\"sk-label-container\"><div class=\"sk-label sk-toggleable\"><label>persistenceentropy</label></div></div><div class=\"sk-serial\"><div class=\"sk-item\"><div class=\"sk-estimator sk-toggleable\"><input class=\"sk-toggleable__control sk-hidden--visually\" id=\"b46c95ab-0dd6-4587-b98f-06cae3c2be93\" type=\"checkbox\" ><label for=\"b46c95ab-0dd6-4587-b98f-06cae3c2be93\" class=\"sk-toggleable__label sk-toggleable__label-arrow\">PersistenceEntropy</label><div class=\"sk-toggleable__content\"><pre>PersistenceEntropy(nan_fill_value=-1)</pre></div></div></div></div></div></div><div class=\"sk-parallel-item\"><div class=\"sk-item\"><div class=\"sk-label-container\"><div class=\"sk-label sk-toggleable\"><label>amplitude-1</label></div></div><div class=\"sk-serial\"><div class=\"sk-item\"><div class=\"sk-estimator sk-toggleable\"><input class=\"sk-toggleable__control sk-hidden--visually\" id=\"6ca0f0a3-0749-42bd-aadc-1b5c151e40d5\" type=\"checkbox\" ><label for=\"6ca0f0a3-0749-42bd-aadc-1b5c151e40d5\" class=\"sk-toggleable__label sk-toggleable__label-arrow\">Amplitude</label><div class=\"sk-toggleable__content\"><pre>Amplitude(metric=&#x27;bottleneck&#x27;, metric_params={}, n_jobs=-1)</pre></div></div></div></div></div></div><div class=\"sk-parallel-item\"><div class=\"sk-item\"><div class=\"sk-label-container\"><div class=\"sk-label sk-toggleable\"><label>amplitude-2</label></div></div><div class=\"sk-serial\"><div class=\"sk-item\"><div class=\"sk-estimator sk-toggleable\"><input class=\"sk-toggleable__control sk-hidden--visually\" id=\"3bb2faa5-d9af-4037-8c5d-a03b3e07470a\" type=\"checkbox\" ><label for=\"3bb2faa5-d9af-4037-8c5d-a03b3e07470a\" class=\"sk-toggleable__label sk-toggleable__label-arrow\">Amplitude</label><div class=\"sk-toggleable__content\"><pre>Amplitude(metric=&#x27;wasserstein&#x27;, metric_params={&#x27;p&#x27;: 1}, n_jobs=-1)</pre></div></div></div></div></div></div><div class=\"sk-parallel-item\"><div class=\"sk-item\"><div class=\"sk-label-container\"><div class=\"sk-label sk-toggleable\"><label>amplitude-3</label></div></div><div class=\"sk-serial\"><div class=\"sk-item\"><div class=\"sk-estimator sk-toggleable\"><input class=\"sk-toggleable__control sk-hidden--visually\" id=\"6e3de348-e525-4076-be1f-06fc320dfe27\" type=\"checkbox\" ><label for=\"6e3de348-e525-4076-be1f-06fc320dfe27\" class=\"sk-toggleable__label sk-toggleable__label-arrow\">Amplitude</label><div class=\"sk-toggleable__content\"><pre>Amplitude(metric=&#x27;wasserstein&#x27;, metric_params={&#x27;p&#x27;: 2}, n_jobs=-1)</pre></div></div></div></div></div></div><div class=\"sk-parallel-item\"><div class=\"sk-item\"><div class=\"sk-label-container\"><div class=\"sk-label sk-toggleable\"><label>amplitude-4</label></div></div><div class=\"sk-serial\"><div class=\"sk-item\"><div class=\"sk-estimator sk-toggleable\"><input class=\"sk-toggleable__control sk-hidden--visually\" id=\"f93ba551-6c4c-435c-950d-d7bdae550b49\" type=\"checkbox\" ><label for=\"f93ba551-6c4c-435c-950d-d7bdae550b49\" class=\"sk-toggleable__label sk-toggleable__label-arrow\">Amplitude</label><div class=\"sk-toggleable__content\"><pre>Amplitude(metric_params={&#x27;n_bins&#x27;: 50, &#x27;n_layers&#x27;: 1, &#x27;p&#x27;: 1}, n_jobs=-1)</pre></div></div></div></div></div></div><div class=\"sk-parallel-item\"><div class=\"sk-item\"><div class=\"sk-label-container\"><div class=\"sk-label sk-toggleable\"><label>amplitude-5</label></div></div><div class=\"sk-serial\"><div class=\"sk-item\"><div class=\"sk-estimator sk-toggleable\"><input class=\"sk-toggleable__control sk-hidden--visually\" id=\"ebbeac3b-bb70-4517-a11e-444b313f261b\" type=\"checkbox\" ><label for=\"ebbeac3b-bb70-4517-a11e-444b313f261b\" class=\"sk-toggleable__label sk-toggleable__label-arrow\">Amplitude</label><div class=\"sk-toggleable__content\"><pre>Amplitude(metric_params={&#x27;n_bins&#x27;: 50, &#x27;n_layers&#x27;: 2, &#x27;p&#x27;: 1}, n_jobs=-1)</pre></div></div></div></div></div></div><div class=\"sk-parallel-item\"><div class=\"sk-item\"><div class=\"sk-label-container\"><div class=\"sk-label sk-toggleable\"><label>amplitude-6</label></div></div><div class=\"sk-serial\"><div class=\"sk-item\"><div class=\"sk-estimator sk-toggleable\"><input class=\"sk-toggleable__control sk-hidden--visually\" id=\"119a60c2-0541-42ad-a451-c9400e696ff4\" type=\"checkbox\" ><label for=\"119a60c2-0541-42ad-a451-c9400e696ff4\" class=\"sk-toggleable__label sk-toggleable__label-arrow\">Amplitude</label><div class=\"sk-toggleable__content\"><pre>Amplitude(metric_params={&#x27;n_bins&#x27;: 50, &#x27;n_layers&#x27;: 1, &#x27;p&#x27;: 2}, n_jobs=-1)</pre></div></div></div></div></div></div><div class=\"sk-parallel-item\"><div class=\"sk-item\"><div class=\"sk-label-container\"><div class=\"sk-label sk-toggleable\"><label>amplitude-7</label></div></div><div class=\"sk-serial\"><div class=\"sk-item\"><div class=\"sk-estimator sk-toggleable\"><input class=\"sk-toggleable__control sk-hidden--visually\" id=\"06e2cd31-862d-4f98-8a8b-4af4d915d2f1\" type=\"checkbox\" ><label for=\"06e2cd31-862d-4f98-8a8b-4af4d915d2f1\" class=\"sk-toggleable__label sk-toggleable__label-arrow\">Amplitude</label><div class=\"sk-toggleable__content\"><pre>Amplitude(metric_params={&#x27;n_bins&#x27;: 50, &#x27;n_layers&#x27;: 2, &#x27;p&#x27;: 2}, n_jobs=-1)</pre></div></div></div></div></div></div><div class=\"sk-parallel-item\"><div class=\"sk-item\"><div class=\"sk-label-container\"><div class=\"sk-label sk-toggleable\"><label>amplitude-8</label></div></div><div class=\"sk-serial\"><div class=\"sk-item\"><div class=\"sk-estimator sk-toggleable\"><input class=\"sk-toggleable__control sk-hidden--visually\" id=\"14aad8f0-a138-44bf-81e5-f1acf9388cc0\" type=\"checkbox\" ><label for=\"14aad8f0-a138-44bf-81e5-f1acf9388cc0\" class=\"sk-toggleable__label sk-toggleable__label-arrow\">Amplitude</label><div class=\"sk-toggleable__content\"><pre>Amplitude(metric=&#x27;betti&#x27;, metric_params={&#x27;n_bins&#x27;: 50, &#x27;p&#x27;: 1}, n_jobs=-1)</pre></div></div></div></div></div></div><div class=\"sk-parallel-item\"><div class=\"sk-item\"><div class=\"sk-label-container\"><div class=\"sk-label sk-toggleable\"><label>amplitude-9</label></div></div><div class=\"sk-serial\"><div class=\"sk-item\"><div class=\"sk-estimator sk-toggleable\"><input class=\"sk-toggleable__control sk-hidden--visually\" id=\"29b8d709-42e6-4ca2-a829-79394f4c979a\" type=\"checkbox\" ><label for=\"29b8d709-42e6-4ca2-a829-79394f4c979a\" class=\"sk-toggleable__label sk-toggleable__label-arrow\">Amplitude</label><div class=\"sk-toggleable__content\"><pre>Amplitude(metric=&#x27;betti&#x27;, metric_params={&#x27;n_bins&#x27;: 50, &#x27;p&#x27;: 2}, n_jobs=-1)</pre></div></div></div></div></div></div><div class=\"sk-parallel-item\"><div class=\"sk-item\"><div class=\"sk-label-container\"><div class=\"sk-label sk-toggleable\"><label>amplitude-10</label></div></div><div class=\"sk-serial\"><div class=\"sk-item\"><div class=\"sk-estimator sk-toggleable\"><input class=\"sk-toggleable__control sk-hidden--visually\" id=\"0fc5f05b-98c4-400f-971c-c89f020e093f\" type=\"checkbox\" ><label for=\"0fc5f05b-98c4-400f-971c-c89f020e093f\" class=\"sk-toggleable__label sk-toggleable__label-arrow\">Amplitude</label><div class=\"sk-toggleable__content\"><pre>Amplitude(metric=&#x27;heat&#x27;, metric_params={&#x27;n_bins&#x27;: 50, &#x27;p&#x27;: 1, &#x27;sigma&#x27;: 0.15},\n",
       "          n_jobs=-1)</pre></div></div></div></div></div></div><div class=\"sk-parallel-item\"><div class=\"sk-item\"><div class=\"sk-label-container\"><div class=\"sk-label sk-toggleable\"><label>amplitude-11</label></div></div><div class=\"sk-serial\"><div class=\"sk-item\"><div class=\"sk-estimator sk-toggleable\"><input class=\"sk-toggleable__control sk-hidden--visually\" id=\"4e751270-551d-4717-bf6a-d0abe2d4f3e7\" type=\"checkbox\" ><label for=\"4e751270-551d-4717-bf6a-d0abe2d4f3e7\" class=\"sk-toggleable__label sk-toggleable__label-arrow\">Amplitude</label><div class=\"sk-toggleable__content\"><pre>Amplitude(metric=&#x27;heat&#x27;, metric_params={&#x27;n_bins&#x27;: 50, &#x27;p&#x27;: 1, &#x27;sigma&#x27;: 0.15},\n",
       "          n_jobs=-1)</pre></div></div></div></div></div></div><div class=\"sk-parallel-item\"><div class=\"sk-item\"><div class=\"sk-label-container\"><div class=\"sk-label sk-toggleable\"><label>amplitude-12</label></div></div><div class=\"sk-serial\"><div class=\"sk-item\"><div class=\"sk-estimator sk-toggleable\"><input class=\"sk-toggleable__control sk-hidden--visually\" id=\"10692ff6-dbb5-4216-80d7-a2e4e9a17d3c\" type=\"checkbox\" ><label for=\"10692ff6-dbb5-4216-80d7-a2e4e9a17d3c\" class=\"sk-toggleable__label sk-toggleable__label-arrow\">Amplitude</label><div class=\"sk-toggleable__content\"><pre>Amplitude(metric=&#x27;heat&#x27;, metric_params={&#x27;n_bins&#x27;: 50, &#x27;p&#x27;: 2, &#x27;sigma&#x27;: 0.15},\n",
       "          n_jobs=-1)</pre></div></div></div></div></div></div><div class=\"sk-parallel-item\"><div class=\"sk-item\"><div class=\"sk-label-container\"><div class=\"sk-label sk-toggleable\"><label>amplitude-13</label></div></div><div class=\"sk-serial\"><div class=\"sk-item\"><div class=\"sk-estimator sk-toggleable\"><input class=\"sk-toggleable__control sk-hidden--visually\" id=\"94f21d75-b77e-42b2-9ccd-aa710d55c84c\" type=\"checkbox\" ><label for=\"94f21d75-b77e-42b2-9ccd-aa710d55c84c\" class=\"sk-toggleable__label sk-toggleable__label-arrow\">Amplitude</label><div class=\"sk-toggleable__content\"><pre>Amplitude(metric=&#x27;heat&#x27;, metric_params={&#x27;n_bins&#x27;: 50, &#x27;p&#x27;: 2, &#x27;sigma&#x27;: 0.15},\n",
       "          n_jobs=-1)</pre></div></div></div></div></div></div></div></div></div></div></div></div></div><div class=\"sk-parallel-item\"><div class=\"sk-item\"><div class=\"sk-label-container\"><div class=\"sk-label sk-toggleable\"><label>pipeline-8</label></div></div><div class=\"sk-serial\"><div class=\"sk-item\"><div class=\"sk-serial\"><div class=\"sk-item\"><div class=\"sk-estimator sk-toggleable\"><input class=\"sk-toggleable__control sk-hidden--visually\" id=\"f41cd5d4-23a3-45a7-abb8-1e1a3940b28e\" type=\"checkbox\" ><label for=\"f41cd5d4-23a3-45a7-abb8-1e1a3940b28e\" class=\"sk-toggleable__label sk-toggleable__label-arrow\">Binarizer</label><div class=\"sk-toggleable__content\"><pre>Binarizer(n_jobs=-1)</pre></div></div></div><div class=\"sk-item\"><div class=\"sk-estimator sk-toggleable\"><input class=\"sk-toggleable__control sk-hidden--visually\" id=\"659b24cd-b0e0-4615-ae43-689f48b32893\" type=\"checkbox\" ><label for=\"659b24cd-b0e0-4615-ae43-689f48b32893\" class=\"sk-toggleable__label sk-toggleable__label-arrow\">HeightFiltration</label><div class=\"sk-toggleable__content\"><pre>HeightFiltration(direction=array([ 1, -1]), n_jobs=-1)</pre></div></div></div><div class=\"sk-item\"><div class=\"sk-estimator sk-toggleable\"><input class=\"sk-toggleable__control sk-hidden--visually\" id=\"ab65498b-70c4-4ac7-b679-09674780f1f2\" type=\"checkbox\" ><label for=\"ab65498b-70c4-4ac7-b679-09674780f1f2\" class=\"sk-toggleable__label sk-toggleable__label-arrow\">CubicalPersistence</label><div class=\"sk-toggleable__content\"><pre>CubicalPersistence(n_jobs=-1)</pre></div></div></div><div class=\"sk-item\"><div class=\"sk-estimator sk-toggleable\"><input class=\"sk-toggleable__control sk-hidden--visually\" id=\"f8bbb1f8-57fb-4a68-935b-a677ea459b7f\" type=\"checkbox\" ><label for=\"f8bbb1f8-57fb-4a68-935b-a677ea459b7f\" class=\"sk-toggleable__label sk-toggleable__label-arrow\">Scaler</label><div class=\"sk-toggleable__content\"><pre>Scaler(n_jobs=-1)</pre></div></div></div><div class=\"sk-item sk-dashed-wrapped\"><div class=\"sk-label-container\"><div class=\"sk-label sk-toggleable\"><input class=\"sk-toggleable__control sk-hidden--visually\" id=\"757eea1c-7270-479d-b5e3-9fffef44b6ff\" type=\"checkbox\" ><label for=\"757eea1c-7270-479d-b5e3-9fffef44b6ff\" class=\"sk-toggleable__label sk-toggleable__label-arrow\">featureunion: FeatureUnion</label><div class=\"sk-toggleable__content\"><pre>FeatureUnion(transformer_list=[(&#x27;persistenceentropy&#x27;,\n",
       "                                PersistenceEntropy(nan_fill_value=-1)),\n",
       "                               (&#x27;amplitude-1&#x27;,\n",
       "                                Amplitude(metric=&#x27;bottleneck&#x27;, metric_params={},\n",
       "                                          n_jobs=-1)),\n",
       "                               (&#x27;amplitude-2&#x27;,\n",
       "                                Amplitude(metric=&#x27;wasserstein&#x27;,\n",
       "                                          metric_params={&#x27;p&#x27;: 1}, n_jobs=-1)),\n",
       "                               (&#x27;amplitude-3&#x27;,\n",
       "                                Amplitude(metric=&#x27;wasserstein&#x27;,\n",
       "                                          metric_params={&#x27;p&#x27;: 2}, n_jobs=-1)),\n",
       "                               (&#x27;amplitude-4&#x27;,\n",
       "                                Amplitude...\n",
       "                                          metric_params={&#x27;n_bins&#x27;: 50, &#x27;p&#x27;: 1,\n",
       "                                                         &#x27;sigma&#x27;: 0.15},\n",
       "                                          n_jobs=-1)),\n",
       "                               (&#x27;amplitude-11&#x27;,\n",
       "                                Amplitude(metric=&#x27;heat&#x27;,\n",
       "                                          metric_params={&#x27;n_bins&#x27;: 50, &#x27;p&#x27;: 1,\n",
       "                                                         &#x27;sigma&#x27;: 0.15},\n",
       "                                          n_jobs=-1)),\n",
       "                               (&#x27;amplitude-12&#x27;,\n",
       "                                Amplitude(metric=&#x27;heat&#x27;,\n",
       "                                          metric_params={&#x27;n_bins&#x27;: 50, &#x27;p&#x27;: 2,\n",
       "                                                         &#x27;sigma&#x27;: 0.15},\n",
       "                                          n_jobs=-1)),\n",
       "                               (&#x27;amplitude-13&#x27;,\n",
       "                                Amplitude(metric=&#x27;heat&#x27;,\n",
       "                                          metric_params={&#x27;n_bins&#x27;: 50, &#x27;p&#x27;: 2,\n",
       "                                                         &#x27;sigma&#x27;: 0.15},\n",
       "                                          n_jobs=-1))])</pre></div></div></div><div class=\"sk-parallel\"><div class=\"sk-parallel-item\"><div class=\"sk-item\"><div class=\"sk-label-container\"><div class=\"sk-label sk-toggleable\"><label>persistenceentropy</label></div></div><div class=\"sk-serial\"><div class=\"sk-item\"><div class=\"sk-estimator sk-toggleable\"><input class=\"sk-toggleable__control sk-hidden--visually\" id=\"7bdf5b59-0810-4536-b932-1c1b56b10e7f\" type=\"checkbox\" ><label for=\"7bdf5b59-0810-4536-b932-1c1b56b10e7f\" class=\"sk-toggleable__label sk-toggleable__label-arrow\">PersistenceEntropy</label><div class=\"sk-toggleable__content\"><pre>PersistenceEntropy(nan_fill_value=-1)</pre></div></div></div></div></div></div><div class=\"sk-parallel-item\"><div class=\"sk-item\"><div class=\"sk-label-container\"><div class=\"sk-label sk-toggleable\"><label>amplitude-1</label></div></div><div class=\"sk-serial\"><div class=\"sk-item\"><div class=\"sk-estimator sk-toggleable\"><input class=\"sk-toggleable__control sk-hidden--visually\" id=\"d4730fb4-4982-4a79-83cd-8a4f2306a14b\" type=\"checkbox\" ><label for=\"d4730fb4-4982-4a79-83cd-8a4f2306a14b\" class=\"sk-toggleable__label sk-toggleable__label-arrow\">Amplitude</label><div class=\"sk-toggleable__content\"><pre>Amplitude(metric=&#x27;bottleneck&#x27;, metric_params={}, n_jobs=-1)</pre></div></div></div></div></div></div><div class=\"sk-parallel-item\"><div class=\"sk-item\"><div class=\"sk-label-container\"><div class=\"sk-label sk-toggleable\"><label>amplitude-2</label></div></div><div class=\"sk-serial\"><div class=\"sk-item\"><div class=\"sk-estimator sk-toggleable\"><input class=\"sk-toggleable__control sk-hidden--visually\" id=\"cd331440-38be-4427-bd6a-f434928b3ac6\" type=\"checkbox\" ><label for=\"cd331440-38be-4427-bd6a-f434928b3ac6\" class=\"sk-toggleable__label sk-toggleable__label-arrow\">Amplitude</label><div class=\"sk-toggleable__content\"><pre>Amplitude(metric=&#x27;wasserstein&#x27;, metric_params={&#x27;p&#x27;: 1}, n_jobs=-1)</pre></div></div></div></div></div></div><div class=\"sk-parallel-item\"><div class=\"sk-item\"><div class=\"sk-label-container\"><div class=\"sk-label sk-toggleable\"><label>amplitude-3</label></div></div><div class=\"sk-serial\"><div class=\"sk-item\"><div class=\"sk-estimator sk-toggleable\"><input class=\"sk-toggleable__control sk-hidden--visually\" id=\"9ba0f8cf-6521-4cc1-895d-10453e081b83\" type=\"checkbox\" ><label for=\"9ba0f8cf-6521-4cc1-895d-10453e081b83\" class=\"sk-toggleable__label sk-toggleable__label-arrow\">Amplitude</label><div class=\"sk-toggleable__content\"><pre>Amplitude(metric=&#x27;wasserstein&#x27;, metric_params={&#x27;p&#x27;: 2}, n_jobs=-1)</pre></div></div></div></div></div></div><div class=\"sk-parallel-item\"><div class=\"sk-item\"><div class=\"sk-label-container\"><div class=\"sk-label sk-toggleable\"><label>amplitude-4</label></div></div><div class=\"sk-serial\"><div class=\"sk-item\"><div class=\"sk-estimator sk-toggleable\"><input class=\"sk-toggleable__control sk-hidden--visually\" id=\"af33bf38-f406-4b38-99a4-1ccb11487a06\" type=\"checkbox\" ><label for=\"af33bf38-f406-4b38-99a4-1ccb11487a06\" class=\"sk-toggleable__label sk-toggleable__label-arrow\">Amplitude</label><div class=\"sk-toggleable__content\"><pre>Amplitude(metric_params={&#x27;n_bins&#x27;: 50, &#x27;n_layers&#x27;: 1, &#x27;p&#x27;: 1}, n_jobs=-1)</pre></div></div></div></div></div></div><div class=\"sk-parallel-item\"><div class=\"sk-item\"><div class=\"sk-label-container\"><div class=\"sk-label sk-toggleable\"><label>amplitude-5</label></div></div><div class=\"sk-serial\"><div class=\"sk-item\"><div class=\"sk-estimator sk-toggleable\"><input class=\"sk-toggleable__control sk-hidden--visually\" id=\"529890e5-0150-4d57-b5dd-0f6a6a66672a\" type=\"checkbox\" ><label for=\"529890e5-0150-4d57-b5dd-0f6a6a66672a\" class=\"sk-toggleable__label sk-toggleable__label-arrow\">Amplitude</label><div class=\"sk-toggleable__content\"><pre>Amplitude(metric_params={&#x27;n_bins&#x27;: 50, &#x27;n_layers&#x27;: 2, &#x27;p&#x27;: 1}, n_jobs=-1)</pre></div></div></div></div></div></div><div class=\"sk-parallel-item\"><div class=\"sk-item\"><div class=\"sk-label-container\"><div class=\"sk-label sk-toggleable\"><label>amplitude-6</label></div></div><div class=\"sk-serial\"><div class=\"sk-item\"><div class=\"sk-estimator sk-toggleable\"><input class=\"sk-toggleable__control sk-hidden--visually\" id=\"58aefa2e-47d6-428f-a4a3-638b0ff54bbf\" type=\"checkbox\" ><label for=\"58aefa2e-47d6-428f-a4a3-638b0ff54bbf\" class=\"sk-toggleable__label sk-toggleable__label-arrow\">Amplitude</label><div class=\"sk-toggleable__content\"><pre>Amplitude(metric_params={&#x27;n_bins&#x27;: 50, &#x27;n_layers&#x27;: 1, &#x27;p&#x27;: 2}, n_jobs=-1)</pre></div></div></div></div></div></div><div class=\"sk-parallel-item\"><div class=\"sk-item\"><div class=\"sk-label-container\"><div class=\"sk-label sk-toggleable\"><label>amplitude-7</label></div></div><div class=\"sk-serial\"><div class=\"sk-item\"><div class=\"sk-estimator sk-toggleable\"><input class=\"sk-toggleable__control sk-hidden--visually\" id=\"5801f36d-7699-415e-9e9d-6ce2b5463ffc\" type=\"checkbox\" ><label for=\"5801f36d-7699-415e-9e9d-6ce2b5463ffc\" class=\"sk-toggleable__label sk-toggleable__label-arrow\">Amplitude</label><div class=\"sk-toggleable__content\"><pre>Amplitude(metric_params={&#x27;n_bins&#x27;: 50, &#x27;n_layers&#x27;: 2, &#x27;p&#x27;: 2}, n_jobs=-1)</pre></div></div></div></div></div></div><div class=\"sk-parallel-item\"><div class=\"sk-item\"><div class=\"sk-label-container\"><div class=\"sk-label sk-toggleable\"><label>amplitude-8</label></div></div><div class=\"sk-serial\"><div class=\"sk-item\"><div class=\"sk-estimator sk-toggleable\"><input class=\"sk-toggleable__control sk-hidden--visually\" id=\"98dc652d-c327-4731-a6d0-cc6ca060c096\" type=\"checkbox\" ><label for=\"98dc652d-c327-4731-a6d0-cc6ca060c096\" class=\"sk-toggleable__label sk-toggleable__label-arrow\">Amplitude</label><div class=\"sk-toggleable__content\"><pre>Amplitude(metric=&#x27;betti&#x27;, metric_params={&#x27;n_bins&#x27;: 50, &#x27;p&#x27;: 1}, n_jobs=-1)</pre></div></div></div></div></div></div><div class=\"sk-parallel-item\"><div class=\"sk-item\"><div class=\"sk-label-container\"><div class=\"sk-label sk-toggleable\"><label>amplitude-9</label></div></div><div class=\"sk-serial\"><div class=\"sk-item\"><div class=\"sk-estimator sk-toggleable\"><input class=\"sk-toggleable__control sk-hidden--visually\" id=\"0fe4552c-a250-4afe-85ce-c6e0c2b1f04e\" type=\"checkbox\" ><label for=\"0fe4552c-a250-4afe-85ce-c6e0c2b1f04e\" class=\"sk-toggleable__label sk-toggleable__label-arrow\">Amplitude</label><div class=\"sk-toggleable__content\"><pre>Amplitude(metric=&#x27;betti&#x27;, metric_params={&#x27;n_bins&#x27;: 50, &#x27;p&#x27;: 2}, n_jobs=-1)</pre></div></div></div></div></div></div><div class=\"sk-parallel-item\"><div class=\"sk-item\"><div class=\"sk-label-container\"><div class=\"sk-label sk-toggleable\"><label>amplitude-10</label></div></div><div class=\"sk-serial\"><div class=\"sk-item\"><div class=\"sk-estimator sk-toggleable\"><input class=\"sk-toggleable__control sk-hidden--visually\" id=\"ccdca99e-e380-4b59-8503-4adc93c8e67d\" type=\"checkbox\" ><label for=\"ccdca99e-e380-4b59-8503-4adc93c8e67d\" class=\"sk-toggleable__label sk-toggleable__label-arrow\">Amplitude</label><div class=\"sk-toggleable__content\"><pre>Amplitude(metric=&#x27;heat&#x27;, metric_params={&#x27;n_bins&#x27;: 50, &#x27;p&#x27;: 1, &#x27;sigma&#x27;: 0.15},\n",
       "          n_jobs=-1)</pre></div></div></div></div></div></div><div class=\"sk-parallel-item\"><div class=\"sk-item\"><div class=\"sk-label-container\"><div class=\"sk-label sk-toggleable\"><label>amplitude-11</label></div></div><div class=\"sk-serial\"><div class=\"sk-item\"><div class=\"sk-estimator sk-toggleable\"><input class=\"sk-toggleable__control sk-hidden--visually\" id=\"3195f28b-da5f-46da-af7b-020a9f68ec7d\" type=\"checkbox\" ><label for=\"3195f28b-da5f-46da-af7b-020a9f68ec7d\" class=\"sk-toggleable__label sk-toggleable__label-arrow\">Amplitude</label><div class=\"sk-toggleable__content\"><pre>Amplitude(metric=&#x27;heat&#x27;, metric_params={&#x27;n_bins&#x27;: 50, &#x27;p&#x27;: 1, &#x27;sigma&#x27;: 0.15},\n",
       "          n_jobs=-1)</pre></div></div></div></div></div></div><div class=\"sk-parallel-item\"><div class=\"sk-item\"><div class=\"sk-label-container\"><div class=\"sk-label sk-toggleable\"><label>amplitude-12</label></div></div><div class=\"sk-serial\"><div class=\"sk-item\"><div class=\"sk-estimator sk-toggleable\"><input class=\"sk-toggleable__control sk-hidden--visually\" id=\"a9bda9cc-1674-4173-96de-f2b691505831\" type=\"checkbox\" ><label for=\"a9bda9cc-1674-4173-96de-f2b691505831\" class=\"sk-toggleable__label sk-toggleable__label-arrow\">Amplitude</label><div class=\"sk-toggleable__content\"><pre>Amplitude(metric=&#x27;heat&#x27;, metric_params={&#x27;n_bins&#x27;: 50, &#x27;p&#x27;: 2, &#x27;sigma&#x27;: 0.15},\n",
       "          n_jobs=-1)</pre></div></div></div></div></div></div><div class=\"sk-parallel-item\"><div class=\"sk-item\"><div class=\"sk-label-container\"><div class=\"sk-label sk-toggleable\"><label>amplitude-13</label></div></div><div class=\"sk-serial\"><div class=\"sk-item\"><div class=\"sk-estimator sk-toggleable\"><input class=\"sk-toggleable__control sk-hidden--visually\" id=\"4a3d1f92-f9f7-4444-bc79-9f059f477bd5\" type=\"checkbox\" ><label for=\"4a3d1f92-f9f7-4444-bc79-9f059f477bd5\" class=\"sk-toggleable__label sk-toggleable__label-arrow\">Amplitude</label><div class=\"sk-toggleable__content\"><pre>Amplitude(metric=&#x27;heat&#x27;, metric_params={&#x27;n_bins&#x27;: 50, &#x27;p&#x27;: 2, &#x27;sigma&#x27;: 0.15},\n",
       "          n_jobs=-1)</pre></div></div></div></div></div></div></div></div></div></div></div></div></div><div class=\"sk-parallel-item\"><div class=\"sk-item\"><div class=\"sk-label-container\"><div class=\"sk-label sk-toggleable\"><label>pipeline-9</label></div></div><div class=\"sk-serial\"><div class=\"sk-item\"><div class=\"sk-serial\"><div class=\"sk-item\"><div class=\"sk-estimator sk-toggleable\"><input class=\"sk-toggleable__control sk-hidden--visually\" id=\"9137820c-3eaf-4dfc-895b-fface2ae2771\" type=\"checkbox\" ><label for=\"9137820c-3eaf-4dfc-895b-fface2ae2771\" class=\"sk-toggleable__label sk-toggleable__label-arrow\">Binarizer</label><div class=\"sk-toggleable__content\"><pre>Binarizer(n_jobs=-1)</pre></div></div></div><div class=\"sk-item\"><div class=\"sk-estimator sk-toggleable\"><input class=\"sk-toggleable__control sk-hidden--visually\" id=\"11cc9942-8554-48e0-8246-7d574be57001\" type=\"checkbox\" ><label for=\"11cc9942-8554-48e0-8246-7d574be57001\" class=\"sk-toggleable__label sk-toggleable__label-arrow\">RadialFiltration</label><div class=\"sk-toggleable__content\"><pre>RadialFiltration(center=array([13,  6]), n_jobs=-1)</pre></div></div></div><div class=\"sk-item\"><div class=\"sk-estimator sk-toggleable\"><input class=\"sk-toggleable__control sk-hidden--visually\" id=\"f8a73a22-f075-45ae-8b46-eba6993cdce4\" type=\"checkbox\" ><label for=\"f8a73a22-f075-45ae-8b46-eba6993cdce4\" class=\"sk-toggleable__label sk-toggleable__label-arrow\">CubicalPersistence</label><div class=\"sk-toggleable__content\"><pre>CubicalPersistence(n_jobs=-1)</pre></div></div></div><div class=\"sk-item\"><div class=\"sk-estimator sk-toggleable\"><input class=\"sk-toggleable__control sk-hidden--visually\" id=\"62316555-87b2-4d2c-8224-9100d7d593a5\" type=\"checkbox\" ><label for=\"62316555-87b2-4d2c-8224-9100d7d593a5\" class=\"sk-toggleable__label sk-toggleable__label-arrow\">Scaler</label><div class=\"sk-toggleable__content\"><pre>Scaler(n_jobs=-1)</pre></div></div></div><div class=\"sk-item sk-dashed-wrapped\"><div class=\"sk-label-container\"><div class=\"sk-label sk-toggleable\"><input class=\"sk-toggleable__control sk-hidden--visually\" id=\"ea88faef-1fb8-4dde-8733-cba5b7cf8bac\" type=\"checkbox\" ><label for=\"ea88faef-1fb8-4dde-8733-cba5b7cf8bac\" class=\"sk-toggleable__label sk-toggleable__label-arrow\">featureunion: FeatureUnion</label><div class=\"sk-toggleable__content\"><pre>FeatureUnion(transformer_list=[(&#x27;persistenceentropy&#x27;,\n",
       "                                PersistenceEntropy(nan_fill_value=-1)),\n",
       "                               (&#x27;amplitude-1&#x27;,\n",
       "                                Amplitude(metric=&#x27;bottleneck&#x27;, metric_params={},\n",
       "                                          n_jobs=-1)),\n",
       "                               (&#x27;amplitude-2&#x27;,\n",
       "                                Amplitude(metric=&#x27;wasserstein&#x27;,\n",
       "                                          metric_params={&#x27;p&#x27;: 1}, n_jobs=-1)),\n",
       "                               (&#x27;amplitude-3&#x27;,\n",
       "                                Amplitude(metric=&#x27;wasserstein&#x27;,\n",
       "                                          metric_params={&#x27;p&#x27;: 2}, n_jobs=-1)),\n",
       "                               (&#x27;amplitude-4&#x27;,\n",
       "                                Amplitude...\n",
       "                                          metric_params={&#x27;n_bins&#x27;: 50, &#x27;p&#x27;: 1,\n",
       "                                                         &#x27;sigma&#x27;: 0.15},\n",
       "                                          n_jobs=-1)),\n",
       "                               (&#x27;amplitude-11&#x27;,\n",
       "                                Amplitude(metric=&#x27;heat&#x27;,\n",
       "                                          metric_params={&#x27;n_bins&#x27;: 50, &#x27;p&#x27;: 1,\n",
       "                                                         &#x27;sigma&#x27;: 0.15},\n",
       "                                          n_jobs=-1)),\n",
       "                               (&#x27;amplitude-12&#x27;,\n",
       "                                Amplitude(metric=&#x27;heat&#x27;,\n",
       "                                          metric_params={&#x27;n_bins&#x27;: 50, &#x27;p&#x27;: 2,\n",
       "                                                         &#x27;sigma&#x27;: 0.15},\n",
       "                                          n_jobs=-1)),\n",
       "                               (&#x27;amplitude-13&#x27;,\n",
       "                                Amplitude(metric=&#x27;heat&#x27;,\n",
       "                                          metric_params={&#x27;n_bins&#x27;: 50, &#x27;p&#x27;: 2,\n",
       "                                                         &#x27;sigma&#x27;: 0.15},\n",
       "                                          n_jobs=-1))])</pre></div></div></div><div class=\"sk-parallel\"><div class=\"sk-parallel-item\"><div class=\"sk-item\"><div class=\"sk-label-container\"><div class=\"sk-label sk-toggleable\"><label>persistenceentropy</label></div></div><div class=\"sk-serial\"><div class=\"sk-item\"><div class=\"sk-estimator sk-toggleable\"><input class=\"sk-toggleable__control sk-hidden--visually\" id=\"1b702ff3-b3f4-4783-a765-2d9af9567656\" type=\"checkbox\" ><label for=\"1b702ff3-b3f4-4783-a765-2d9af9567656\" class=\"sk-toggleable__label sk-toggleable__label-arrow\">PersistenceEntropy</label><div class=\"sk-toggleable__content\"><pre>PersistenceEntropy(nan_fill_value=-1)</pre></div></div></div></div></div></div><div class=\"sk-parallel-item\"><div class=\"sk-item\"><div class=\"sk-label-container\"><div class=\"sk-label sk-toggleable\"><label>amplitude-1</label></div></div><div class=\"sk-serial\"><div class=\"sk-item\"><div class=\"sk-estimator sk-toggleable\"><input class=\"sk-toggleable__control sk-hidden--visually\" id=\"f1ecc10b-9b21-420e-8c6b-21f0e63ad4ac\" type=\"checkbox\" ><label for=\"f1ecc10b-9b21-420e-8c6b-21f0e63ad4ac\" class=\"sk-toggleable__label sk-toggleable__label-arrow\">Amplitude</label><div class=\"sk-toggleable__content\"><pre>Amplitude(metric=&#x27;bottleneck&#x27;, metric_params={}, n_jobs=-1)</pre></div></div></div></div></div></div><div class=\"sk-parallel-item\"><div class=\"sk-item\"><div class=\"sk-label-container\"><div class=\"sk-label sk-toggleable\"><label>amplitude-2</label></div></div><div class=\"sk-serial\"><div class=\"sk-item\"><div class=\"sk-estimator sk-toggleable\"><input class=\"sk-toggleable__control sk-hidden--visually\" id=\"9efb8745-7063-40f0-8f2e-3c7e8fa8aabb\" type=\"checkbox\" ><label for=\"9efb8745-7063-40f0-8f2e-3c7e8fa8aabb\" class=\"sk-toggleable__label sk-toggleable__label-arrow\">Amplitude</label><div class=\"sk-toggleable__content\"><pre>Amplitude(metric=&#x27;wasserstein&#x27;, metric_params={&#x27;p&#x27;: 1}, n_jobs=-1)</pre></div></div></div></div></div></div><div class=\"sk-parallel-item\"><div class=\"sk-item\"><div class=\"sk-label-container\"><div class=\"sk-label sk-toggleable\"><label>amplitude-3</label></div></div><div class=\"sk-serial\"><div class=\"sk-item\"><div class=\"sk-estimator sk-toggleable\"><input class=\"sk-toggleable__control sk-hidden--visually\" id=\"54943443-104c-4a96-b8b2-32f070ae3e2a\" type=\"checkbox\" ><label for=\"54943443-104c-4a96-b8b2-32f070ae3e2a\" class=\"sk-toggleable__label sk-toggleable__label-arrow\">Amplitude</label><div class=\"sk-toggleable__content\"><pre>Amplitude(metric=&#x27;wasserstein&#x27;, metric_params={&#x27;p&#x27;: 2}, n_jobs=-1)</pre></div></div></div></div></div></div><div class=\"sk-parallel-item\"><div class=\"sk-item\"><div class=\"sk-label-container\"><div class=\"sk-label sk-toggleable\"><label>amplitude-4</label></div></div><div class=\"sk-serial\"><div class=\"sk-item\"><div class=\"sk-estimator sk-toggleable\"><input class=\"sk-toggleable__control sk-hidden--visually\" id=\"b9e92129-5132-4724-9418-3e7686c4dabb\" type=\"checkbox\" ><label for=\"b9e92129-5132-4724-9418-3e7686c4dabb\" class=\"sk-toggleable__label sk-toggleable__label-arrow\">Amplitude</label><div class=\"sk-toggleable__content\"><pre>Amplitude(metric_params={&#x27;n_bins&#x27;: 50, &#x27;n_layers&#x27;: 1, &#x27;p&#x27;: 1}, n_jobs=-1)</pre></div></div></div></div></div></div><div class=\"sk-parallel-item\"><div class=\"sk-item\"><div class=\"sk-label-container\"><div class=\"sk-label sk-toggleable\"><label>amplitude-5</label></div></div><div class=\"sk-serial\"><div class=\"sk-item\"><div class=\"sk-estimator sk-toggleable\"><input class=\"sk-toggleable__control sk-hidden--visually\" id=\"e5955614-8b2a-47fd-8d60-71650120f9c4\" type=\"checkbox\" ><label for=\"e5955614-8b2a-47fd-8d60-71650120f9c4\" class=\"sk-toggleable__label sk-toggleable__label-arrow\">Amplitude</label><div class=\"sk-toggleable__content\"><pre>Amplitude(metric_params={&#x27;n_bins&#x27;: 50, &#x27;n_layers&#x27;: 2, &#x27;p&#x27;: 1}, n_jobs=-1)</pre></div></div></div></div></div></div><div class=\"sk-parallel-item\"><div class=\"sk-item\"><div class=\"sk-label-container\"><div class=\"sk-label sk-toggleable\"><label>amplitude-6</label></div></div><div class=\"sk-serial\"><div class=\"sk-item\"><div class=\"sk-estimator sk-toggleable\"><input class=\"sk-toggleable__control sk-hidden--visually\" id=\"01ee7bd8-3a53-48ba-bde5-a473612f221a\" type=\"checkbox\" ><label for=\"01ee7bd8-3a53-48ba-bde5-a473612f221a\" class=\"sk-toggleable__label sk-toggleable__label-arrow\">Amplitude</label><div class=\"sk-toggleable__content\"><pre>Amplitude(metric_params={&#x27;n_bins&#x27;: 50, &#x27;n_layers&#x27;: 1, &#x27;p&#x27;: 2}, n_jobs=-1)</pre></div></div></div></div></div></div><div class=\"sk-parallel-item\"><div class=\"sk-item\"><div class=\"sk-label-container\"><div class=\"sk-label sk-toggleable\"><label>amplitude-7</label></div></div><div class=\"sk-serial\"><div class=\"sk-item\"><div class=\"sk-estimator sk-toggleable\"><input class=\"sk-toggleable__control sk-hidden--visually\" id=\"91d839a0-adc3-4ed4-9dcb-c8f773eff699\" type=\"checkbox\" ><label for=\"91d839a0-adc3-4ed4-9dcb-c8f773eff699\" class=\"sk-toggleable__label sk-toggleable__label-arrow\">Amplitude</label><div class=\"sk-toggleable__content\"><pre>Amplitude(metric_params={&#x27;n_bins&#x27;: 50, &#x27;n_layers&#x27;: 2, &#x27;p&#x27;: 2}, n_jobs=-1)</pre></div></div></div></div></div></div><div class=\"sk-parallel-item\"><div class=\"sk-item\"><div class=\"sk-label-container\"><div class=\"sk-label sk-toggleable\"><label>amplitude-8</label></div></div><div class=\"sk-serial\"><div class=\"sk-item\"><div class=\"sk-estimator sk-toggleable\"><input class=\"sk-toggleable__control sk-hidden--visually\" id=\"02abc1b1-43d9-49b2-b761-a0178e281c73\" type=\"checkbox\" ><label for=\"02abc1b1-43d9-49b2-b761-a0178e281c73\" class=\"sk-toggleable__label sk-toggleable__label-arrow\">Amplitude</label><div class=\"sk-toggleable__content\"><pre>Amplitude(metric=&#x27;betti&#x27;, metric_params={&#x27;n_bins&#x27;: 50, &#x27;p&#x27;: 1}, n_jobs=-1)</pre></div></div></div></div></div></div><div class=\"sk-parallel-item\"><div class=\"sk-item\"><div class=\"sk-label-container\"><div class=\"sk-label sk-toggleable\"><label>amplitude-9</label></div></div><div class=\"sk-serial\"><div class=\"sk-item\"><div class=\"sk-estimator sk-toggleable\"><input class=\"sk-toggleable__control sk-hidden--visually\" id=\"8310e64f-9b32-4ecc-984e-7ed80ab86e3a\" type=\"checkbox\" ><label for=\"8310e64f-9b32-4ecc-984e-7ed80ab86e3a\" class=\"sk-toggleable__label sk-toggleable__label-arrow\">Amplitude</label><div class=\"sk-toggleable__content\"><pre>Amplitude(metric=&#x27;betti&#x27;, metric_params={&#x27;n_bins&#x27;: 50, &#x27;p&#x27;: 2}, n_jobs=-1)</pre></div></div></div></div></div></div><div class=\"sk-parallel-item\"><div class=\"sk-item\"><div class=\"sk-label-container\"><div class=\"sk-label sk-toggleable\"><label>amplitude-10</label></div></div><div class=\"sk-serial\"><div class=\"sk-item\"><div class=\"sk-estimator sk-toggleable\"><input class=\"sk-toggleable__control sk-hidden--visually\" id=\"090c6e26-66f0-418d-919d-eb58f807dea0\" type=\"checkbox\" ><label for=\"090c6e26-66f0-418d-919d-eb58f807dea0\" class=\"sk-toggleable__label sk-toggleable__label-arrow\">Amplitude</label><div class=\"sk-toggleable__content\"><pre>Amplitude(metric=&#x27;heat&#x27;, metric_params={&#x27;n_bins&#x27;: 50, &#x27;p&#x27;: 1, &#x27;sigma&#x27;: 0.15},\n",
       "          n_jobs=-1)</pre></div></div></div></div></div></div><div class=\"sk-parallel-item\"><div class=\"sk-item\"><div class=\"sk-label-container\"><div class=\"sk-label sk-toggleable\"><label>amplitude-11</label></div></div><div class=\"sk-serial\"><div class=\"sk-item\"><div class=\"sk-estimator sk-toggleable\"><input class=\"sk-toggleable__control sk-hidden--visually\" id=\"90502f6f-6ff5-4bd8-9b2a-9e90a9613b14\" type=\"checkbox\" ><label for=\"90502f6f-6ff5-4bd8-9b2a-9e90a9613b14\" class=\"sk-toggleable__label sk-toggleable__label-arrow\">Amplitude</label><div class=\"sk-toggleable__content\"><pre>Amplitude(metric=&#x27;heat&#x27;, metric_params={&#x27;n_bins&#x27;: 50, &#x27;p&#x27;: 1, &#x27;sigma&#x27;: 0.15},\n",
       "          n_jobs=-1)</pre></div></div></div></div></div></div><div class=\"sk-parallel-item\"><div class=\"sk-item\"><div class=\"sk-label-container\"><div class=\"sk-label sk-toggleable\"><label>amplitude-12</label></div></div><div class=\"sk-serial\"><div class=\"sk-item\"><div class=\"sk-estimator sk-toggleable\"><input class=\"sk-toggleable__control sk-hidden--visually\" id=\"e1e7d1a3-6a98-4d70-83be-93960823a502\" type=\"checkbox\" ><label for=\"e1e7d1a3-6a98-4d70-83be-93960823a502\" class=\"sk-toggleable__label sk-toggleable__label-arrow\">Amplitude</label><div class=\"sk-toggleable__content\"><pre>Amplitude(metric=&#x27;heat&#x27;, metric_params={&#x27;n_bins&#x27;: 50, &#x27;p&#x27;: 2, &#x27;sigma&#x27;: 0.15},\n",
       "          n_jobs=-1)</pre></div></div></div></div></div></div><div class=\"sk-parallel-item\"><div class=\"sk-item\"><div class=\"sk-label-container\"><div class=\"sk-label sk-toggleable\"><label>amplitude-13</label></div></div><div class=\"sk-serial\"><div class=\"sk-item\"><div class=\"sk-estimator sk-toggleable\"><input class=\"sk-toggleable__control sk-hidden--visually\" id=\"21bb3a82-3144-4422-8ad8-e970cb14e4a8\" type=\"checkbox\" ><label for=\"21bb3a82-3144-4422-8ad8-e970cb14e4a8\" class=\"sk-toggleable__label sk-toggleable__label-arrow\">Amplitude</label><div class=\"sk-toggleable__content\"><pre>Amplitude(metric=&#x27;heat&#x27;, metric_params={&#x27;n_bins&#x27;: 50, &#x27;p&#x27;: 2, &#x27;sigma&#x27;: 0.15},\n",
       "          n_jobs=-1)</pre></div></div></div></div></div></div></div></div></div></div></div></div></div><div class=\"sk-parallel-item\"><div class=\"sk-item\"><div class=\"sk-label-container\"><div class=\"sk-label sk-toggleable\"><label>pipeline-10</label></div></div><div class=\"sk-serial\"><div class=\"sk-item\"><div class=\"sk-serial\"><div class=\"sk-item\"><div class=\"sk-estimator sk-toggleable\"><input class=\"sk-toggleable__control sk-hidden--visually\" id=\"f771b8cd-9b3b-41f6-a889-1a3fb1d28188\" type=\"checkbox\" ><label for=\"f771b8cd-9b3b-41f6-a889-1a3fb1d28188\" class=\"sk-toggleable__label sk-toggleable__label-arrow\">Binarizer</label><div class=\"sk-toggleable__content\"><pre>Binarizer(n_jobs=-1)</pre></div></div></div><div class=\"sk-item\"><div class=\"sk-estimator sk-toggleable\"><input class=\"sk-toggleable__control sk-hidden--visually\" id=\"12ed648c-fc81-458b-b32e-01993fb6dc31\" type=\"checkbox\" ><label for=\"12ed648c-fc81-458b-b32e-01993fb6dc31\" class=\"sk-toggleable__label sk-toggleable__label-arrow\">RadialFiltration</label><div class=\"sk-toggleable__content\"><pre>RadialFiltration(center=array([ 6, 13]), n_jobs=-1)</pre></div></div></div><div class=\"sk-item\"><div class=\"sk-estimator sk-toggleable\"><input class=\"sk-toggleable__control sk-hidden--visually\" id=\"e0758957-d9eb-4807-84a8-3836f6694e2a\" type=\"checkbox\" ><label for=\"e0758957-d9eb-4807-84a8-3836f6694e2a\" class=\"sk-toggleable__label sk-toggleable__label-arrow\">CubicalPersistence</label><div class=\"sk-toggleable__content\"><pre>CubicalPersistence(n_jobs=-1)</pre></div></div></div><div class=\"sk-item\"><div class=\"sk-estimator sk-toggleable\"><input class=\"sk-toggleable__control sk-hidden--visually\" id=\"567f93d6-af0c-40ed-9926-9d94c18e06c8\" type=\"checkbox\" ><label for=\"567f93d6-af0c-40ed-9926-9d94c18e06c8\" class=\"sk-toggleable__label sk-toggleable__label-arrow\">Scaler</label><div class=\"sk-toggleable__content\"><pre>Scaler(n_jobs=-1)</pre></div></div></div><div class=\"sk-item sk-dashed-wrapped\"><div class=\"sk-label-container\"><div class=\"sk-label sk-toggleable\"><input class=\"sk-toggleable__control sk-hidden--visually\" id=\"29b85bb5-6a49-4b40-8afd-a01a881d92ce\" type=\"checkbox\" ><label for=\"29b85bb5-6a49-4b40-8afd-a01a881d92ce\" class=\"sk-toggleable__label sk-toggleable__label-arrow\">featureunion: FeatureUnion</label><div class=\"sk-toggleable__content\"><pre>FeatureUnion(transformer_list=[(&#x27;persistenceentropy&#x27;,\n",
       "                                PersistenceEntropy(nan_fill_value=-1)),\n",
       "                               (&#x27;amplitude-1&#x27;,\n",
       "                                Amplitude(metric=&#x27;bottleneck&#x27;, metric_params={},\n",
       "                                          n_jobs=-1)),\n",
       "                               (&#x27;amplitude-2&#x27;,\n",
       "                                Amplitude(metric=&#x27;wasserstein&#x27;,\n",
       "                                          metric_params={&#x27;p&#x27;: 1}, n_jobs=-1)),\n",
       "                               (&#x27;amplitude-3&#x27;,\n",
       "                                Amplitude(metric=&#x27;wasserstein&#x27;,\n",
       "                                          metric_params={&#x27;p&#x27;: 2}, n_jobs=-1)),\n",
       "                               (&#x27;amplitude-4&#x27;,\n",
       "                                Amplitude...\n",
       "                                          metric_params={&#x27;n_bins&#x27;: 50, &#x27;p&#x27;: 1,\n",
       "                                                         &#x27;sigma&#x27;: 0.15},\n",
       "                                          n_jobs=-1)),\n",
       "                               (&#x27;amplitude-11&#x27;,\n",
       "                                Amplitude(metric=&#x27;heat&#x27;,\n",
       "                                          metric_params={&#x27;n_bins&#x27;: 50, &#x27;p&#x27;: 1,\n",
       "                                                         &#x27;sigma&#x27;: 0.15},\n",
       "                                          n_jobs=-1)),\n",
       "                               (&#x27;amplitude-12&#x27;,\n",
       "                                Amplitude(metric=&#x27;heat&#x27;,\n",
       "                                          metric_params={&#x27;n_bins&#x27;: 50, &#x27;p&#x27;: 2,\n",
       "                                                         &#x27;sigma&#x27;: 0.15},\n",
       "                                          n_jobs=-1)),\n",
       "                               (&#x27;amplitude-13&#x27;,\n",
       "                                Amplitude(metric=&#x27;heat&#x27;,\n",
       "                                          metric_params={&#x27;n_bins&#x27;: 50, &#x27;p&#x27;: 2,\n",
       "                                                         &#x27;sigma&#x27;: 0.15},\n",
       "                                          n_jobs=-1))])</pre></div></div></div><div class=\"sk-parallel\"><div class=\"sk-parallel-item\"><div class=\"sk-item\"><div class=\"sk-label-container\"><div class=\"sk-label sk-toggleable\"><label>persistenceentropy</label></div></div><div class=\"sk-serial\"><div class=\"sk-item\"><div class=\"sk-estimator sk-toggleable\"><input class=\"sk-toggleable__control sk-hidden--visually\" id=\"f2c033bc-0eac-451e-8c33-e57e45c4ae36\" type=\"checkbox\" ><label for=\"f2c033bc-0eac-451e-8c33-e57e45c4ae36\" class=\"sk-toggleable__label sk-toggleable__label-arrow\">PersistenceEntropy</label><div class=\"sk-toggleable__content\"><pre>PersistenceEntropy(nan_fill_value=-1)</pre></div></div></div></div></div></div><div class=\"sk-parallel-item\"><div class=\"sk-item\"><div class=\"sk-label-container\"><div class=\"sk-label sk-toggleable\"><label>amplitude-1</label></div></div><div class=\"sk-serial\"><div class=\"sk-item\"><div class=\"sk-estimator sk-toggleable\"><input class=\"sk-toggleable__control sk-hidden--visually\" id=\"2236e760-c2a1-4d4f-8dd8-26d1f0ec93a9\" type=\"checkbox\" ><label for=\"2236e760-c2a1-4d4f-8dd8-26d1f0ec93a9\" class=\"sk-toggleable__label sk-toggleable__label-arrow\">Amplitude</label><div class=\"sk-toggleable__content\"><pre>Amplitude(metric=&#x27;bottleneck&#x27;, metric_params={}, n_jobs=-1)</pre></div></div></div></div></div></div><div class=\"sk-parallel-item\"><div class=\"sk-item\"><div class=\"sk-label-container\"><div class=\"sk-label sk-toggleable\"><label>amplitude-2</label></div></div><div class=\"sk-serial\"><div class=\"sk-item\"><div class=\"sk-estimator sk-toggleable\"><input class=\"sk-toggleable__control sk-hidden--visually\" id=\"117f9403-b466-4669-a4f7-50ed16f4d6b9\" type=\"checkbox\" ><label for=\"117f9403-b466-4669-a4f7-50ed16f4d6b9\" class=\"sk-toggleable__label sk-toggleable__label-arrow\">Amplitude</label><div class=\"sk-toggleable__content\"><pre>Amplitude(metric=&#x27;wasserstein&#x27;, metric_params={&#x27;p&#x27;: 1}, n_jobs=-1)</pre></div></div></div></div></div></div><div class=\"sk-parallel-item\"><div class=\"sk-item\"><div class=\"sk-label-container\"><div class=\"sk-label sk-toggleable\"><label>amplitude-3</label></div></div><div class=\"sk-serial\"><div class=\"sk-item\"><div class=\"sk-estimator sk-toggleable\"><input class=\"sk-toggleable__control sk-hidden--visually\" id=\"fbe343dc-62ef-4ca9-86ba-ab40f3bad7ba\" type=\"checkbox\" ><label for=\"fbe343dc-62ef-4ca9-86ba-ab40f3bad7ba\" class=\"sk-toggleable__label sk-toggleable__label-arrow\">Amplitude</label><div class=\"sk-toggleable__content\"><pre>Amplitude(metric=&#x27;wasserstein&#x27;, metric_params={&#x27;p&#x27;: 2}, n_jobs=-1)</pre></div></div></div></div></div></div><div class=\"sk-parallel-item\"><div class=\"sk-item\"><div class=\"sk-label-container\"><div class=\"sk-label sk-toggleable\"><label>amplitude-4</label></div></div><div class=\"sk-serial\"><div class=\"sk-item\"><div class=\"sk-estimator sk-toggleable\"><input class=\"sk-toggleable__control sk-hidden--visually\" id=\"14457747-c6dd-4c7e-aa03-5fb409ccd792\" type=\"checkbox\" ><label for=\"14457747-c6dd-4c7e-aa03-5fb409ccd792\" class=\"sk-toggleable__label sk-toggleable__label-arrow\">Amplitude</label><div class=\"sk-toggleable__content\"><pre>Amplitude(metric_params={&#x27;n_bins&#x27;: 50, &#x27;n_layers&#x27;: 1, &#x27;p&#x27;: 1}, n_jobs=-1)</pre></div></div></div></div></div></div><div class=\"sk-parallel-item\"><div class=\"sk-item\"><div class=\"sk-label-container\"><div class=\"sk-label sk-toggleable\"><label>amplitude-5</label></div></div><div class=\"sk-serial\"><div class=\"sk-item\"><div class=\"sk-estimator sk-toggleable\"><input class=\"sk-toggleable__control sk-hidden--visually\" id=\"f504373f-f009-48c8-93c6-0e3b251c793e\" type=\"checkbox\" ><label for=\"f504373f-f009-48c8-93c6-0e3b251c793e\" class=\"sk-toggleable__label sk-toggleable__label-arrow\">Amplitude</label><div class=\"sk-toggleable__content\"><pre>Amplitude(metric_params={&#x27;n_bins&#x27;: 50, &#x27;n_layers&#x27;: 2, &#x27;p&#x27;: 1}, n_jobs=-1)</pre></div></div></div></div></div></div><div class=\"sk-parallel-item\"><div class=\"sk-item\"><div class=\"sk-label-container\"><div class=\"sk-label sk-toggleable\"><label>amplitude-6</label></div></div><div class=\"sk-serial\"><div class=\"sk-item\"><div class=\"sk-estimator sk-toggleable\"><input class=\"sk-toggleable__control sk-hidden--visually\" id=\"41a0e0d6-813f-4920-8ce8-1dd185eae171\" type=\"checkbox\" ><label for=\"41a0e0d6-813f-4920-8ce8-1dd185eae171\" class=\"sk-toggleable__label sk-toggleable__label-arrow\">Amplitude</label><div class=\"sk-toggleable__content\"><pre>Amplitude(metric_params={&#x27;n_bins&#x27;: 50, &#x27;n_layers&#x27;: 1, &#x27;p&#x27;: 2}, n_jobs=-1)</pre></div></div></div></div></div></div><div class=\"sk-parallel-item\"><div class=\"sk-item\"><div class=\"sk-label-container\"><div class=\"sk-label sk-toggleable\"><label>amplitude-7</label></div></div><div class=\"sk-serial\"><div class=\"sk-item\"><div class=\"sk-estimator sk-toggleable\"><input class=\"sk-toggleable__control sk-hidden--visually\" id=\"723c3621-e323-4ef2-8020-bcfcaae45f43\" type=\"checkbox\" ><label for=\"723c3621-e323-4ef2-8020-bcfcaae45f43\" class=\"sk-toggleable__label sk-toggleable__label-arrow\">Amplitude</label><div class=\"sk-toggleable__content\"><pre>Amplitude(metric_params={&#x27;n_bins&#x27;: 50, &#x27;n_layers&#x27;: 2, &#x27;p&#x27;: 2}, n_jobs=-1)</pre></div></div></div></div></div></div><div class=\"sk-parallel-item\"><div class=\"sk-item\"><div class=\"sk-label-container\"><div class=\"sk-label sk-toggleable\"><label>amplitude-8</label></div></div><div class=\"sk-serial\"><div class=\"sk-item\"><div class=\"sk-estimator sk-toggleable\"><input class=\"sk-toggleable__control sk-hidden--visually\" id=\"5a89fdbc-1858-4972-b8a0-9d3f8e20ef18\" type=\"checkbox\" ><label for=\"5a89fdbc-1858-4972-b8a0-9d3f8e20ef18\" class=\"sk-toggleable__label sk-toggleable__label-arrow\">Amplitude</label><div class=\"sk-toggleable__content\"><pre>Amplitude(metric=&#x27;betti&#x27;, metric_params={&#x27;n_bins&#x27;: 50, &#x27;p&#x27;: 1}, n_jobs=-1)</pre></div></div></div></div></div></div><div class=\"sk-parallel-item\"><div class=\"sk-item\"><div class=\"sk-label-container\"><div class=\"sk-label sk-toggleable\"><label>amplitude-9</label></div></div><div class=\"sk-serial\"><div class=\"sk-item\"><div class=\"sk-estimator sk-toggleable\"><input class=\"sk-toggleable__control sk-hidden--visually\" id=\"d15a5111-17a7-4007-99c5-92b3a17e62c3\" type=\"checkbox\" ><label for=\"d15a5111-17a7-4007-99c5-92b3a17e62c3\" class=\"sk-toggleable__label sk-toggleable__label-arrow\">Amplitude</label><div class=\"sk-toggleable__content\"><pre>Amplitude(metric=&#x27;betti&#x27;, metric_params={&#x27;n_bins&#x27;: 50, &#x27;p&#x27;: 2}, n_jobs=-1)</pre></div></div></div></div></div></div><div class=\"sk-parallel-item\"><div class=\"sk-item\"><div class=\"sk-label-container\"><div class=\"sk-label sk-toggleable\"><label>amplitude-10</label></div></div><div class=\"sk-serial\"><div class=\"sk-item\"><div class=\"sk-estimator sk-toggleable\"><input class=\"sk-toggleable__control sk-hidden--visually\" id=\"b8ae42c9-4baf-4ebb-a3fb-e89a165e0e94\" type=\"checkbox\" ><label for=\"b8ae42c9-4baf-4ebb-a3fb-e89a165e0e94\" class=\"sk-toggleable__label sk-toggleable__label-arrow\">Amplitude</label><div class=\"sk-toggleable__content\"><pre>Amplitude(metric=&#x27;heat&#x27;, metric_params={&#x27;n_bins&#x27;: 50, &#x27;p&#x27;: 1, &#x27;sigma&#x27;: 0.15},\n",
       "          n_jobs=-1)</pre></div></div></div></div></div></div><div class=\"sk-parallel-item\"><div class=\"sk-item\"><div class=\"sk-label-container\"><div class=\"sk-label sk-toggleable\"><label>amplitude-11</label></div></div><div class=\"sk-serial\"><div class=\"sk-item\"><div class=\"sk-estimator sk-toggleable\"><input class=\"sk-toggleable__control sk-hidden--visually\" id=\"c1433042-fe2d-4a75-9de9-4f32600a6273\" type=\"checkbox\" ><label for=\"c1433042-fe2d-4a75-9de9-4f32600a6273\" class=\"sk-toggleable__label sk-toggleable__label-arrow\">Amplitude</label><div class=\"sk-toggleable__content\"><pre>Amplitude(metric=&#x27;heat&#x27;, metric_params={&#x27;n_bins&#x27;: 50, &#x27;p&#x27;: 1, &#x27;sigma&#x27;: 0.15},\n",
       "          n_jobs=-1)</pre></div></div></div></div></div></div><div class=\"sk-parallel-item\"><div class=\"sk-item\"><div class=\"sk-label-container\"><div class=\"sk-label sk-toggleable\"><label>amplitude-12</label></div></div><div class=\"sk-serial\"><div class=\"sk-item\"><div class=\"sk-estimator sk-toggleable\"><input class=\"sk-toggleable__control sk-hidden--visually\" id=\"e3b91ecd-6869-4f29-9200-c79b3198ff1f\" type=\"checkbox\" ><label for=\"e3b91ecd-6869-4f29-9200-c79b3198ff1f\" class=\"sk-toggleable__label sk-toggleable__label-arrow\">Amplitude</label><div class=\"sk-toggleable__content\"><pre>Amplitude(metric=&#x27;heat&#x27;, metric_params={&#x27;n_bins&#x27;: 50, &#x27;p&#x27;: 2, &#x27;sigma&#x27;: 0.15},\n",
       "          n_jobs=-1)</pre></div></div></div></div></div></div><div class=\"sk-parallel-item\"><div class=\"sk-item\"><div class=\"sk-label-container\"><div class=\"sk-label sk-toggleable\"><label>amplitude-13</label></div></div><div class=\"sk-serial\"><div class=\"sk-item\"><div class=\"sk-estimator sk-toggleable\"><input class=\"sk-toggleable__control sk-hidden--visually\" id=\"19dbbf96-a2d7-47eb-8323-657d0733340b\" type=\"checkbox\" ><label for=\"19dbbf96-a2d7-47eb-8323-657d0733340b\" class=\"sk-toggleable__label sk-toggleable__label-arrow\">Amplitude</label><div class=\"sk-toggleable__content\"><pre>Amplitude(metric=&#x27;heat&#x27;, metric_params={&#x27;n_bins&#x27;: 50, &#x27;p&#x27;: 2, &#x27;sigma&#x27;: 0.15},\n",
       "          n_jobs=-1)</pre></div></div></div></div></div></div></div></div></div></div></div></div></div><div class=\"sk-parallel-item\"><div class=\"sk-item\"><div class=\"sk-label-container\"><div class=\"sk-label sk-toggleable\"><label>pipeline-11</label></div></div><div class=\"sk-serial\"><div class=\"sk-item\"><div class=\"sk-serial\"><div class=\"sk-item\"><div class=\"sk-estimator sk-toggleable\"><input class=\"sk-toggleable__control sk-hidden--visually\" id=\"f3ba5088-d613-4872-9cb6-ffc31a41118a\" type=\"checkbox\" ><label for=\"f3ba5088-d613-4872-9cb6-ffc31a41118a\" class=\"sk-toggleable__label sk-toggleable__label-arrow\">Binarizer</label><div class=\"sk-toggleable__content\"><pre>Binarizer(n_jobs=-1)</pre></div></div></div><div class=\"sk-item\"><div class=\"sk-estimator sk-toggleable\"><input class=\"sk-toggleable__control sk-hidden--visually\" id=\"f1ba9325-6758-41cf-a616-c67dc1e9e17d\" type=\"checkbox\" ><label for=\"f1ba9325-6758-41cf-a616-c67dc1e9e17d\" class=\"sk-toggleable__label sk-toggleable__label-arrow\">RadialFiltration</label><div class=\"sk-toggleable__content\"><pre>RadialFiltration(center=array([13, 13]), n_jobs=-1)</pre></div></div></div><div class=\"sk-item\"><div class=\"sk-estimator sk-toggleable\"><input class=\"sk-toggleable__control sk-hidden--visually\" id=\"83ff10b5-5776-456a-80de-5e3edc6f282c\" type=\"checkbox\" ><label for=\"83ff10b5-5776-456a-80de-5e3edc6f282c\" class=\"sk-toggleable__label sk-toggleable__label-arrow\">CubicalPersistence</label><div class=\"sk-toggleable__content\"><pre>CubicalPersistence(n_jobs=-1)</pre></div></div></div><div class=\"sk-item\"><div class=\"sk-estimator sk-toggleable\"><input class=\"sk-toggleable__control sk-hidden--visually\" id=\"a1d10379-5672-4a75-9f58-b0851084e5aa\" type=\"checkbox\" ><label for=\"a1d10379-5672-4a75-9f58-b0851084e5aa\" class=\"sk-toggleable__label sk-toggleable__label-arrow\">Scaler</label><div class=\"sk-toggleable__content\"><pre>Scaler(n_jobs=-1)</pre></div></div></div><div class=\"sk-item sk-dashed-wrapped\"><div class=\"sk-label-container\"><div class=\"sk-label sk-toggleable\"><input class=\"sk-toggleable__control sk-hidden--visually\" id=\"9e4c0b5a-e77b-48a0-87bd-08799090fa42\" type=\"checkbox\" ><label for=\"9e4c0b5a-e77b-48a0-87bd-08799090fa42\" class=\"sk-toggleable__label sk-toggleable__label-arrow\">featureunion: FeatureUnion</label><div class=\"sk-toggleable__content\"><pre>FeatureUnion(transformer_list=[(&#x27;persistenceentropy&#x27;,\n",
       "                                PersistenceEntropy(nan_fill_value=-1)),\n",
       "                               (&#x27;amplitude-1&#x27;,\n",
       "                                Amplitude(metric=&#x27;bottleneck&#x27;, metric_params={},\n",
       "                                          n_jobs=-1)),\n",
       "                               (&#x27;amplitude-2&#x27;,\n",
       "                                Amplitude(metric=&#x27;wasserstein&#x27;,\n",
       "                                          metric_params={&#x27;p&#x27;: 1}, n_jobs=-1)),\n",
       "                               (&#x27;amplitude-3&#x27;,\n",
       "                                Amplitude(metric=&#x27;wasserstein&#x27;,\n",
       "                                          metric_params={&#x27;p&#x27;: 2}, n_jobs=-1)),\n",
       "                               (&#x27;amplitude-4&#x27;,\n",
       "                                Amplitude...\n",
       "                                          metric_params={&#x27;n_bins&#x27;: 50, &#x27;p&#x27;: 1,\n",
       "                                                         &#x27;sigma&#x27;: 0.15},\n",
       "                                          n_jobs=-1)),\n",
       "                               (&#x27;amplitude-11&#x27;,\n",
       "                                Amplitude(metric=&#x27;heat&#x27;,\n",
       "                                          metric_params={&#x27;n_bins&#x27;: 50, &#x27;p&#x27;: 1,\n",
       "                                                         &#x27;sigma&#x27;: 0.15},\n",
       "                                          n_jobs=-1)),\n",
       "                               (&#x27;amplitude-12&#x27;,\n",
       "                                Amplitude(metric=&#x27;heat&#x27;,\n",
       "                                          metric_params={&#x27;n_bins&#x27;: 50, &#x27;p&#x27;: 2,\n",
       "                                                         &#x27;sigma&#x27;: 0.15},\n",
       "                                          n_jobs=-1)),\n",
       "                               (&#x27;amplitude-13&#x27;,\n",
       "                                Amplitude(metric=&#x27;heat&#x27;,\n",
       "                                          metric_params={&#x27;n_bins&#x27;: 50, &#x27;p&#x27;: 2,\n",
       "                                                         &#x27;sigma&#x27;: 0.15},\n",
       "                                          n_jobs=-1))])</pre></div></div></div><div class=\"sk-parallel\"><div class=\"sk-parallel-item\"><div class=\"sk-item\"><div class=\"sk-label-container\"><div class=\"sk-label sk-toggleable\"><label>persistenceentropy</label></div></div><div class=\"sk-serial\"><div class=\"sk-item\"><div class=\"sk-estimator sk-toggleable\"><input class=\"sk-toggleable__control sk-hidden--visually\" id=\"78e6249c-13b5-447a-bb85-932153dc4ba5\" type=\"checkbox\" ><label for=\"78e6249c-13b5-447a-bb85-932153dc4ba5\" class=\"sk-toggleable__label sk-toggleable__label-arrow\">PersistenceEntropy</label><div class=\"sk-toggleable__content\"><pre>PersistenceEntropy(nan_fill_value=-1)</pre></div></div></div></div></div></div><div class=\"sk-parallel-item\"><div class=\"sk-item\"><div class=\"sk-label-container\"><div class=\"sk-label sk-toggleable\"><label>amplitude-1</label></div></div><div class=\"sk-serial\"><div class=\"sk-item\"><div class=\"sk-estimator sk-toggleable\"><input class=\"sk-toggleable__control sk-hidden--visually\" id=\"4026c99c-a8ec-439f-b103-0b0d42f0fcd8\" type=\"checkbox\" ><label for=\"4026c99c-a8ec-439f-b103-0b0d42f0fcd8\" class=\"sk-toggleable__label sk-toggleable__label-arrow\">Amplitude</label><div class=\"sk-toggleable__content\"><pre>Amplitude(metric=&#x27;bottleneck&#x27;, metric_params={}, n_jobs=-1)</pre></div></div></div></div></div></div><div class=\"sk-parallel-item\"><div class=\"sk-item\"><div class=\"sk-label-container\"><div class=\"sk-label sk-toggleable\"><label>amplitude-2</label></div></div><div class=\"sk-serial\"><div class=\"sk-item\"><div class=\"sk-estimator sk-toggleable\"><input class=\"sk-toggleable__control sk-hidden--visually\" id=\"7acadc3c-3b54-465f-b1f8-6e41512481ad\" type=\"checkbox\" ><label for=\"7acadc3c-3b54-465f-b1f8-6e41512481ad\" class=\"sk-toggleable__label sk-toggleable__label-arrow\">Amplitude</label><div class=\"sk-toggleable__content\"><pre>Amplitude(metric=&#x27;wasserstein&#x27;, metric_params={&#x27;p&#x27;: 1}, n_jobs=-1)</pre></div></div></div></div></div></div><div class=\"sk-parallel-item\"><div class=\"sk-item\"><div class=\"sk-label-container\"><div class=\"sk-label sk-toggleable\"><label>amplitude-3</label></div></div><div class=\"sk-serial\"><div class=\"sk-item\"><div class=\"sk-estimator sk-toggleable\"><input class=\"sk-toggleable__control sk-hidden--visually\" id=\"ac3b5c4a-9dd9-490b-860b-54e6035d84ce\" type=\"checkbox\" ><label for=\"ac3b5c4a-9dd9-490b-860b-54e6035d84ce\" class=\"sk-toggleable__label sk-toggleable__label-arrow\">Amplitude</label><div class=\"sk-toggleable__content\"><pre>Amplitude(metric=&#x27;wasserstein&#x27;, metric_params={&#x27;p&#x27;: 2}, n_jobs=-1)</pre></div></div></div></div></div></div><div class=\"sk-parallel-item\"><div class=\"sk-item\"><div class=\"sk-label-container\"><div class=\"sk-label sk-toggleable\"><label>amplitude-4</label></div></div><div class=\"sk-serial\"><div class=\"sk-item\"><div class=\"sk-estimator sk-toggleable\"><input class=\"sk-toggleable__control sk-hidden--visually\" id=\"a77b18a9-a703-4cde-b1a9-3ad91a36d699\" type=\"checkbox\" ><label for=\"a77b18a9-a703-4cde-b1a9-3ad91a36d699\" class=\"sk-toggleable__label sk-toggleable__label-arrow\">Amplitude</label><div class=\"sk-toggleable__content\"><pre>Amplitude(metric_params={&#x27;n_bins&#x27;: 50, &#x27;n_layers&#x27;: 1, &#x27;p&#x27;: 1}, n_jobs=-1)</pre></div></div></div></div></div></div><div class=\"sk-parallel-item\"><div class=\"sk-item\"><div class=\"sk-label-container\"><div class=\"sk-label sk-toggleable\"><label>amplitude-5</label></div></div><div class=\"sk-serial\"><div class=\"sk-item\"><div class=\"sk-estimator sk-toggleable\"><input class=\"sk-toggleable__control sk-hidden--visually\" id=\"11d58db1-a70a-40a2-bd7d-eae1900c7be0\" type=\"checkbox\" ><label for=\"11d58db1-a70a-40a2-bd7d-eae1900c7be0\" class=\"sk-toggleable__label sk-toggleable__label-arrow\">Amplitude</label><div class=\"sk-toggleable__content\"><pre>Amplitude(metric_params={&#x27;n_bins&#x27;: 50, &#x27;n_layers&#x27;: 2, &#x27;p&#x27;: 1}, n_jobs=-1)</pre></div></div></div></div></div></div><div class=\"sk-parallel-item\"><div class=\"sk-item\"><div class=\"sk-label-container\"><div class=\"sk-label sk-toggleable\"><label>amplitude-6</label></div></div><div class=\"sk-serial\"><div class=\"sk-item\"><div class=\"sk-estimator sk-toggleable\"><input class=\"sk-toggleable__control sk-hidden--visually\" id=\"257d0e26-c6b9-4e4f-8d20-ababac5405bb\" type=\"checkbox\" ><label for=\"257d0e26-c6b9-4e4f-8d20-ababac5405bb\" class=\"sk-toggleable__label sk-toggleable__label-arrow\">Amplitude</label><div class=\"sk-toggleable__content\"><pre>Amplitude(metric_params={&#x27;n_bins&#x27;: 50, &#x27;n_layers&#x27;: 1, &#x27;p&#x27;: 2}, n_jobs=-1)</pre></div></div></div></div></div></div><div class=\"sk-parallel-item\"><div class=\"sk-item\"><div class=\"sk-label-container\"><div class=\"sk-label sk-toggleable\"><label>amplitude-7</label></div></div><div class=\"sk-serial\"><div class=\"sk-item\"><div class=\"sk-estimator sk-toggleable\"><input class=\"sk-toggleable__control sk-hidden--visually\" id=\"23d8edc8-52ba-43db-b53c-929f925c9487\" type=\"checkbox\" ><label for=\"23d8edc8-52ba-43db-b53c-929f925c9487\" class=\"sk-toggleable__label sk-toggleable__label-arrow\">Amplitude</label><div class=\"sk-toggleable__content\"><pre>Amplitude(metric_params={&#x27;n_bins&#x27;: 50, &#x27;n_layers&#x27;: 2, &#x27;p&#x27;: 2}, n_jobs=-1)</pre></div></div></div></div></div></div><div class=\"sk-parallel-item\"><div class=\"sk-item\"><div class=\"sk-label-container\"><div class=\"sk-label sk-toggleable\"><label>amplitude-8</label></div></div><div class=\"sk-serial\"><div class=\"sk-item\"><div class=\"sk-estimator sk-toggleable\"><input class=\"sk-toggleable__control sk-hidden--visually\" id=\"89e86a4c-c5ac-48ed-8338-984f93d71b22\" type=\"checkbox\" ><label for=\"89e86a4c-c5ac-48ed-8338-984f93d71b22\" class=\"sk-toggleable__label sk-toggleable__label-arrow\">Amplitude</label><div class=\"sk-toggleable__content\"><pre>Amplitude(metric=&#x27;betti&#x27;, metric_params={&#x27;n_bins&#x27;: 50, &#x27;p&#x27;: 1}, n_jobs=-1)</pre></div></div></div></div></div></div><div class=\"sk-parallel-item\"><div class=\"sk-item\"><div class=\"sk-label-container\"><div class=\"sk-label sk-toggleable\"><label>amplitude-9</label></div></div><div class=\"sk-serial\"><div class=\"sk-item\"><div class=\"sk-estimator sk-toggleable\"><input class=\"sk-toggleable__control sk-hidden--visually\" id=\"83099db2-42d7-4ba0-876d-ba8202ed429a\" type=\"checkbox\" ><label for=\"83099db2-42d7-4ba0-876d-ba8202ed429a\" class=\"sk-toggleable__label sk-toggleable__label-arrow\">Amplitude</label><div class=\"sk-toggleable__content\"><pre>Amplitude(metric=&#x27;betti&#x27;, metric_params={&#x27;n_bins&#x27;: 50, &#x27;p&#x27;: 2}, n_jobs=-1)</pre></div></div></div></div></div></div><div class=\"sk-parallel-item\"><div class=\"sk-item\"><div class=\"sk-label-container\"><div class=\"sk-label sk-toggleable\"><label>amplitude-10</label></div></div><div class=\"sk-serial\"><div class=\"sk-item\"><div class=\"sk-estimator sk-toggleable\"><input class=\"sk-toggleable__control sk-hidden--visually\" id=\"ff4124b4-2236-4b89-9c64-147b72afc736\" type=\"checkbox\" ><label for=\"ff4124b4-2236-4b89-9c64-147b72afc736\" class=\"sk-toggleable__label sk-toggleable__label-arrow\">Amplitude</label><div class=\"sk-toggleable__content\"><pre>Amplitude(metric=&#x27;heat&#x27;, metric_params={&#x27;n_bins&#x27;: 50, &#x27;p&#x27;: 1, &#x27;sigma&#x27;: 0.15},\n",
       "          n_jobs=-1)</pre></div></div></div></div></div></div><div class=\"sk-parallel-item\"><div class=\"sk-item\"><div class=\"sk-label-container\"><div class=\"sk-label sk-toggleable\"><label>amplitude-11</label></div></div><div class=\"sk-serial\"><div class=\"sk-item\"><div class=\"sk-estimator sk-toggleable\"><input class=\"sk-toggleable__control sk-hidden--visually\" id=\"4e607a8b-7c0f-456d-8fe9-44bd3932bc2c\" type=\"checkbox\" ><label for=\"4e607a8b-7c0f-456d-8fe9-44bd3932bc2c\" class=\"sk-toggleable__label sk-toggleable__label-arrow\">Amplitude</label><div class=\"sk-toggleable__content\"><pre>Amplitude(metric=&#x27;heat&#x27;, metric_params={&#x27;n_bins&#x27;: 50, &#x27;p&#x27;: 1, &#x27;sigma&#x27;: 0.15},\n",
       "          n_jobs=-1)</pre></div></div></div></div></div></div><div class=\"sk-parallel-item\"><div class=\"sk-item\"><div class=\"sk-label-container\"><div class=\"sk-label sk-toggleable\"><label>amplitude-12</label></div></div><div class=\"sk-serial\"><div class=\"sk-item\"><div class=\"sk-estimator sk-toggleable\"><input class=\"sk-toggleable__control sk-hidden--visually\" id=\"b06daab9-b4e6-444a-abbd-4fa60481efea\" type=\"checkbox\" ><label for=\"b06daab9-b4e6-444a-abbd-4fa60481efea\" class=\"sk-toggleable__label sk-toggleable__label-arrow\">Amplitude</label><div class=\"sk-toggleable__content\"><pre>Amplitude(metric=&#x27;heat&#x27;, metric_params={&#x27;n_bins&#x27;: 50, &#x27;p&#x27;: 2, &#x27;sigma&#x27;: 0.15},\n",
       "          n_jobs=-1)</pre></div></div></div></div></div></div><div class=\"sk-parallel-item\"><div class=\"sk-item\"><div class=\"sk-label-container\"><div class=\"sk-label sk-toggleable\"><label>amplitude-13</label></div></div><div class=\"sk-serial\"><div class=\"sk-item\"><div class=\"sk-estimator sk-toggleable\"><input class=\"sk-toggleable__control sk-hidden--visually\" id=\"1e0eb1b9-0162-49a4-814a-4df39f1bdbb0\" type=\"checkbox\" ><label for=\"1e0eb1b9-0162-49a4-814a-4df39f1bdbb0\" class=\"sk-toggleable__label sk-toggleable__label-arrow\">Amplitude</label><div class=\"sk-toggleable__content\"><pre>Amplitude(metric=&#x27;heat&#x27;, metric_params={&#x27;n_bins&#x27;: 50, &#x27;p&#x27;: 2, &#x27;sigma&#x27;: 0.15},\n",
       "          n_jobs=-1)</pre></div></div></div></div></div></div></div></div></div></div></div></div></div><div class=\"sk-parallel-item\"><div class=\"sk-item\"><div class=\"sk-label-container\"><div class=\"sk-label sk-toggleable\"><label>pipeline-12</label></div></div><div class=\"sk-serial\"><div class=\"sk-item\"><div class=\"sk-serial\"><div class=\"sk-item\"><div class=\"sk-estimator sk-toggleable\"><input class=\"sk-toggleable__control sk-hidden--visually\" id=\"210f224a-af88-48ff-89c1-9a0db9c5b678\" type=\"checkbox\" ><label for=\"210f224a-af88-48ff-89c1-9a0db9c5b678\" class=\"sk-toggleable__label sk-toggleable__label-arrow\">Binarizer</label><div class=\"sk-toggleable__content\"><pre>Binarizer(n_jobs=-1)</pre></div></div></div><div class=\"sk-item\"><div class=\"sk-estimator sk-toggleable\"><input class=\"sk-toggleable__control sk-hidden--visually\" id=\"a3f2a38b-44c7-4736-bc6b-480b2bdcf6de\" type=\"checkbox\" ><label for=\"a3f2a38b-44c7-4736-bc6b-480b2bdcf6de\" class=\"sk-toggleable__label sk-toggleable__label-arrow\">RadialFiltration</label><div class=\"sk-toggleable__content\"><pre>RadialFiltration(center=array([20, 13]), n_jobs=-1)</pre></div></div></div><div class=\"sk-item\"><div class=\"sk-estimator sk-toggleable\"><input class=\"sk-toggleable__control sk-hidden--visually\" id=\"a0c8efa8-532b-46db-adea-9e54319910ec\" type=\"checkbox\" ><label for=\"a0c8efa8-532b-46db-adea-9e54319910ec\" class=\"sk-toggleable__label sk-toggleable__label-arrow\">CubicalPersistence</label><div class=\"sk-toggleable__content\"><pre>CubicalPersistence(n_jobs=-1)</pre></div></div></div><div class=\"sk-item\"><div class=\"sk-estimator sk-toggleable\"><input class=\"sk-toggleable__control sk-hidden--visually\" id=\"f1bd3f06-e812-4707-80be-30a49263a51b\" type=\"checkbox\" ><label for=\"f1bd3f06-e812-4707-80be-30a49263a51b\" class=\"sk-toggleable__label sk-toggleable__label-arrow\">Scaler</label><div class=\"sk-toggleable__content\"><pre>Scaler(n_jobs=-1)</pre></div></div></div><div class=\"sk-item sk-dashed-wrapped\"><div class=\"sk-label-container\"><div class=\"sk-label sk-toggleable\"><input class=\"sk-toggleable__control sk-hidden--visually\" id=\"e9ec9e5f-9be8-42e1-a3da-cf244412ce62\" type=\"checkbox\" ><label for=\"e9ec9e5f-9be8-42e1-a3da-cf244412ce62\" class=\"sk-toggleable__label sk-toggleable__label-arrow\">featureunion: FeatureUnion</label><div class=\"sk-toggleable__content\"><pre>FeatureUnion(transformer_list=[(&#x27;persistenceentropy&#x27;,\n",
       "                                PersistenceEntropy(nan_fill_value=-1)),\n",
       "                               (&#x27;amplitude-1&#x27;,\n",
       "                                Amplitude(metric=&#x27;bottleneck&#x27;, metric_params={},\n",
       "                                          n_jobs=-1)),\n",
       "                               (&#x27;amplitude-2&#x27;,\n",
       "                                Amplitude(metric=&#x27;wasserstein&#x27;,\n",
       "                                          metric_params={&#x27;p&#x27;: 1}, n_jobs=-1)),\n",
       "                               (&#x27;amplitude-3&#x27;,\n",
       "                                Amplitude(metric=&#x27;wasserstein&#x27;,\n",
       "                                          metric_params={&#x27;p&#x27;: 2}, n_jobs=-1)),\n",
       "                               (&#x27;amplitude-4&#x27;,\n",
       "                                Amplitude...\n",
       "                                          metric_params={&#x27;n_bins&#x27;: 50, &#x27;p&#x27;: 1,\n",
       "                                                         &#x27;sigma&#x27;: 0.15},\n",
       "                                          n_jobs=-1)),\n",
       "                               (&#x27;amplitude-11&#x27;,\n",
       "                                Amplitude(metric=&#x27;heat&#x27;,\n",
       "                                          metric_params={&#x27;n_bins&#x27;: 50, &#x27;p&#x27;: 1,\n",
       "                                                         &#x27;sigma&#x27;: 0.15},\n",
       "                                          n_jobs=-1)),\n",
       "                               (&#x27;amplitude-12&#x27;,\n",
       "                                Amplitude(metric=&#x27;heat&#x27;,\n",
       "                                          metric_params={&#x27;n_bins&#x27;: 50, &#x27;p&#x27;: 2,\n",
       "                                                         &#x27;sigma&#x27;: 0.15},\n",
       "                                          n_jobs=-1)),\n",
       "                               (&#x27;amplitude-13&#x27;,\n",
       "                                Amplitude(metric=&#x27;heat&#x27;,\n",
       "                                          metric_params={&#x27;n_bins&#x27;: 50, &#x27;p&#x27;: 2,\n",
       "                                                         &#x27;sigma&#x27;: 0.15},\n",
       "                                          n_jobs=-1))])</pre></div></div></div><div class=\"sk-parallel\"><div class=\"sk-parallel-item\"><div class=\"sk-item\"><div class=\"sk-label-container\"><div class=\"sk-label sk-toggleable\"><label>persistenceentropy</label></div></div><div class=\"sk-serial\"><div class=\"sk-item\"><div class=\"sk-estimator sk-toggleable\"><input class=\"sk-toggleable__control sk-hidden--visually\" id=\"3f4ce5c6-dbaf-453e-add9-4a26d1e7044c\" type=\"checkbox\" ><label for=\"3f4ce5c6-dbaf-453e-add9-4a26d1e7044c\" class=\"sk-toggleable__label sk-toggleable__label-arrow\">PersistenceEntropy</label><div class=\"sk-toggleable__content\"><pre>PersistenceEntropy(nan_fill_value=-1)</pre></div></div></div></div></div></div><div class=\"sk-parallel-item\"><div class=\"sk-item\"><div class=\"sk-label-container\"><div class=\"sk-label sk-toggleable\"><label>amplitude-1</label></div></div><div class=\"sk-serial\"><div class=\"sk-item\"><div class=\"sk-estimator sk-toggleable\"><input class=\"sk-toggleable__control sk-hidden--visually\" id=\"3bc4e5bc-3f88-4205-bc95-8bcfb04d045d\" type=\"checkbox\" ><label for=\"3bc4e5bc-3f88-4205-bc95-8bcfb04d045d\" class=\"sk-toggleable__label sk-toggleable__label-arrow\">Amplitude</label><div class=\"sk-toggleable__content\"><pre>Amplitude(metric=&#x27;bottleneck&#x27;, metric_params={}, n_jobs=-1)</pre></div></div></div></div></div></div><div class=\"sk-parallel-item\"><div class=\"sk-item\"><div class=\"sk-label-container\"><div class=\"sk-label sk-toggleable\"><label>amplitude-2</label></div></div><div class=\"sk-serial\"><div class=\"sk-item\"><div class=\"sk-estimator sk-toggleable\"><input class=\"sk-toggleable__control sk-hidden--visually\" id=\"6dbdf786-dc4e-444c-b279-d92bbfd5e6c4\" type=\"checkbox\" ><label for=\"6dbdf786-dc4e-444c-b279-d92bbfd5e6c4\" class=\"sk-toggleable__label sk-toggleable__label-arrow\">Amplitude</label><div class=\"sk-toggleable__content\"><pre>Amplitude(metric=&#x27;wasserstein&#x27;, metric_params={&#x27;p&#x27;: 1}, n_jobs=-1)</pre></div></div></div></div></div></div><div class=\"sk-parallel-item\"><div class=\"sk-item\"><div class=\"sk-label-container\"><div class=\"sk-label sk-toggleable\"><label>amplitude-3</label></div></div><div class=\"sk-serial\"><div class=\"sk-item\"><div class=\"sk-estimator sk-toggleable\"><input class=\"sk-toggleable__control sk-hidden--visually\" id=\"e8b0dcaa-0e83-4498-b55c-c6e7f5cb62f9\" type=\"checkbox\" ><label for=\"e8b0dcaa-0e83-4498-b55c-c6e7f5cb62f9\" class=\"sk-toggleable__label sk-toggleable__label-arrow\">Amplitude</label><div class=\"sk-toggleable__content\"><pre>Amplitude(metric=&#x27;wasserstein&#x27;, metric_params={&#x27;p&#x27;: 2}, n_jobs=-1)</pre></div></div></div></div></div></div><div class=\"sk-parallel-item\"><div class=\"sk-item\"><div class=\"sk-label-container\"><div class=\"sk-label sk-toggleable\"><label>amplitude-4</label></div></div><div class=\"sk-serial\"><div class=\"sk-item\"><div class=\"sk-estimator sk-toggleable\"><input class=\"sk-toggleable__control sk-hidden--visually\" id=\"5eab37c5-7fc8-447f-bc4e-ac33f8ec82ff\" type=\"checkbox\" ><label for=\"5eab37c5-7fc8-447f-bc4e-ac33f8ec82ff\" class=\"sk-toggleable__label sk-toggleable__label-arrow\">Amplitude</label><div class=\"sk-toggleable__content\"><pre>Amplitude(metric_params={&#x27;n_bins&#x27;: 50, &#x27;n_layers&#x27;: 1, &#x27;p&#x27;: 1}, n_jobs=-1)</pre></div></div></div></div></div></div><div class=\"sk-parallel-item\"><div class=\"sk-item\"><div class=\"sk-label-container\"><div class=\"sk-label sk-toggleable\"><label>amplitude-5</label></div></div><div class=\"sk-serial\"><div class=\"sk-item\"><div class=\"sk-estimator sk-toggleable\"><input class=\"sk-toggleable__control sk-hidden--visually\" id=\"f6fe8669-9dad-4e4d-936b-8c95b9548d4f\" type=\"checkbox\" ><label for=\"f6fe8669-9dad-4e4d-936b-8c95b9548d4f\" class=\"sk-toggleable__label sk-toggleable__label-arrow\">Amplitude</label><div class=\"sk-toggleable__content\"><pre>Amplitude(metric_params={&#x27;n_bins&#x27;: 50, &#x27;n_layers&#x27;: 2, &#x27;p&#x27;: 1}, n_jobs=-1)</pre></div></div></div></div></div></div><div class=\"sk-parallel-item\"><div class=\"sk-item\"><div class=\"sk-label-container\"><div class=\"sk-label sk-toggleable\"><label>amplitude-6</label></div></div><div class=\"sk-serial\"><div class=\"sk-item\"><div class=\"sk-estimator sk-toggleable\"><input class=\"sk-toggleable__control sk-hidden--visually\" id=\"8eb60557-0209-4d67-acec-f270ca7be427\" type=\"checkbox\" ><label for=\"8eb60557-0209-4d67-acec-f270ca7be427\" class=\"sk-toggleable__label sk-toggleable__label-arrow\">Amplitude</label><div class=\"sk-toggleable__content\"><pre>Amplitude(metric_params={&#x27;n_bins&#x27;: 50, &#x27;n_layers&#x27;: 1, &#x27;p&#x27;: 2}, n_jobs=-1)</pre></div></div></div></div></div></div><div class=\"sk-parallel-item\"><div class=\"sk-item\"><div class=\"sk-label-container\"><div class=\"sk-label sk-toggleable\"><label>amplitude-7</label></div></div><div class=\"sk-serial\"><div class=\"sk-item\"><div class=\"sk-estimator sk-toggleable\"><input class=\"sk-toggleable__control sk-hidden--visually\" id=\"e7798da9-4f66-4549-b47d-eb02bf6f2048\" type=\"checkbox\" ><label for=\"e7798da9-4f66-4549-b47d-eb02bf6f2048\" class=\"sk-toggleable__label sk-toggleable__label-arrow\">Amplitude</label><div class=\"sk-toggleable__content\"><pre>Amplitude(metric_params={&#x27;n_bins&#x27;: 50, &#x27;n_layers&#x27;: 2, &#x27;p&#x27;: 2}, n_jobs=-1)</pre></div></div></div></div></div></div><div class=\"sk-parallel-item\"><div class=\"sk-item\"><div class=\"sk-label-container\"><div class=\"sk-label sk-toggleable\"><label>amplitude-8</label></div></div><div class=\"sk-serial\"><div class=\"sk-item\"><div class=\"sk-estimator sk-toggleable\"><input class=\"sk-toggleable__control sk-hidden--visually\" id=\"3827a43b-fd47-47e2-bbac-6c3bae22d606\" type=\"checkbox\" ><label for=\"3827a43b-fd47-47e2-bbac-6c3bae22d606\" class=\"sk-toggleable__label sk-toggleable__label-arrow\">Amplitude</label><div class=\"sk-toggleable__content\"><pre>Amplitude(metric=&#x27;betti&#x27;, metric_params={&#x27;n_bins&#x27;: 50, &#x27;p&#x27;: 1}, n_jobs=-1)</pre></div></div></div></div></div></div><div class=\"sk-parallel-item\"><div class=\"sk-item\"><div class=\"sk-label-container\"><div class=\"sk-label sk-toggleable\"><label>amplitude-9</label></div></div><div class=\"sk-serial\"><div class=\"sk-item\"><div class=\"sk-estimator sk-toggleable\"><input class=\"sk-toggleable__control sk-hidden--visually\" id=\"d340f661-16f2-4810-b8c3-eaab2e795aca\" type=\"checkbox\" ><label for=\"d340f661-16f2-4810-b8c3-eaab2e795aca\" class=\"sk-toggleable__label sk-toggleable__label-arrow\">Amplitude</label><div class=\"sk-toggleable__content\"><pre>Amplitude(metric=&#x27;betti&#x27;, metric_params={&#x27;n_bins&#x27;: 50, &#x27;p&#x27;: 2}, n_jobs=-1)</pre></div></div></div></div></div></div><div class=\"sk-parallel-item\"><div class=\"sk-item\"><div class=\"sk-label-container\"><div class=\"sk-label sk-toggleable\"><label>amplitude-10</label></div></div><div class=\"sk-serial\"><div class=\"sk-item\"><div class=\"sk-estimator sk-toggleable\"><input class=\"sk-toggleable__control sk-hidden--visually\" id=\"c9f7ae2c-eb0c-4f84-888b-ad152a5ecc01\" type=\"checkbox\" ><label for=\"c9f7ae2c-eb0c-4f84-888b-ad152a5ecc01\" class=\"sk-toggleable__label sk-toggleable__label-arrow\">Amplitude</label><div class=\"sk-toggleable__content\"><pre>Amplitude(metric=&#x27;heat&#x27;, metric_params={&#x27;n_bins&#x27;: 50, &#x27;p&#x27;: 1, &#x27;sigma&#x27;: 0.15},\n",
       "          n_jobs=-1)</pre></div></div></div></div></div></div><div class=\"sk-parallel-item\"><div class=\"sk-item\"><div class=\"sk-label-container\"><div class=\"sk-label sk-toggleable\"><label>amplitude-11</label></div></div><div class=\"sk-serial\"><div class=\"sk-item\"><div class=\"sk-estimator sk-toggleable\"><input class=\"sk-toggleable__control sk-hidden--visually\" id=\"48970ab1-5eeb-4930-962a-97ddff33a0a2\" type=\"checkbox\" ><label for=\"48970ab1-5eeb-4930-962a-97ddff33a0a2\" class=\"sk-toggleable__label sk-toggleable__label-arrow\">Amplitude</label><div class=\"sk-toggleable__content\"><pre>Amplitude(metric=&#x27;heat&#x27;, metric_params={&#x27;n_bins&#x27;: 50, &#x27;p&#x27;: 1, &#x27;sigma&#x27;: 0.15},\n",
       "          n_jobs=-1)</pre></div></div></div></div></div></div><div class=\"sk-parallel-item\"><div class=\"sk-item\"><div class=\"sk-label-container\"><div class=\"sk-label sk-toggleable\"><label>amplitude-12</label></div></div><div class=\"sk-serial\"><div class=\"sk-item\"><div class=\"sk-estimator sk-toggleable\"><input class=\"sk-toggleable__control sk-hidden--visually\" id=\"e9608822-f29d-4cfe-aa41-44899e14911f\" type=\"checkbox\" ><label for=\"e9608822-f29d-4cfe-aa41-44899e14911f\" class=\"sk-toggleable__label sk-toggleable__label-arrow\">Amplitude</label><div class=\"sk-toggleable__content\"><pre>Amplitude(metric=&#x27;heat&#x27;, metric_params={&#x27;n_bins&#x27;: 50, &#x27;p&#x27;: 2, &#x27;sigma&#x27;: 0.15},\n",
       "          n_jobs=-1)</pre></div></div></div></div></div></div><div class=\"sk-parallel-item\"><div class=\"sk-item\"><div class=\"sk-label-container\"><div class=\"sk-label sk-toggleable\"><label>amplitude-13</label></div></div><div class=\"sk-serial\"><div class=\"sk-item\"><div class=\"sk-estimator sk-toggleable\"><input class=\"sk-toggleable__control sk-hidden--visually\" id=\"e0b0152c-eff3-446c-8eac-ea6e1a1f27dc\" type=\"checkbox\" ><label for=\"e0b0152c-eff3-446c-8eac-ea6e1a1f27dc\" class=\"sk-toggleable__label sk-toggleable__label-arrow\">Amplitude</label><div class=\"sk-toggleable__content\"><pre>Amplitude(metric=&#x27;heat&#x27;, metric_params={&#x27;n_bins&#x27;: 50, &#x27;p&#x27;: 2, &#x27;sigma&#x27;: 0.15},\n",
       "          n_jobs=-1)</pre></div></div></div></div></div></div></div></div></div></div></div></div></div><div class=\"sk-parallel-item\"><div class=\"sk-item\"><div class=\"sk-label-container\"><div class=\"sk-label sk-toggleable\"><label>pipeline-13</label></div></div><div class=\"sk-serial\"><div class=\"sk-item\"><div class=\"sk-serial\"><div class=\"sk-item\"><div class=\"sk-estimator sk-toggleable\"><input class=\"sk-toggleable__control sk-hidden--visually\" id=\"d5639600-504a-4d32-b824-fc424e8b35b7\" type=\"checkbox\" ><label for=\"d5639600-504a-4d32-b824-fc424e8b35b7\" class=\"sk-toggleable__label sk-toggleable__label-arrow\">Binarizer</label><div class=\"sk-toggleable__content\"><pre>Binarizer(n_jobs=-1)</pre></div></div></div><div class=\"sk-item\"><div class=\"sk-estimator sk-toggleable\"><input class=\"sk-toggleable__control sk-hidden--visually\" id=\"97781109-5212-4bc8-a500-465579804654\" type=\"checkbox\" ><label for=\"97781109-5212-4bc8-a500-465579804654\" class=\"sk-toggleable__label sk-toggleable__label-arrow\">RadialFiltration</label><div class=\"sk-toggleable__content\"><pre>RadialFiltration(center=array([13, 20]), n_jobs=-1)</pre></div></div></div><div class=\"sk-item\"><div class=\"sk-estimator sk-toggleable\"><input class=\"sk-toggleable__control sk-hidden--visually\" id=\"778b93ac-6691-46c6-8958-835e0b97c21f\" type=\"checkbox\" ><label for=\"778b93ac-6691-46c6-8958-835e0b97c21f\" class=\"sk-toggleable__label sk-toggleable__label-arrow\">CubicalPersistence</label><div class=\"sk-toggleable__content\"><pre>CubicalPersistence(n_jobs=-1)</pre></div></div></div><div class=\"sk-item\"><div class=\"sk-estimator sk-toggleable\"><input class=\"sk-toggleable__control sk-hidden--visually\" id=\"2d608d31-9a11-4b02-9ff0-c3c31bea3efb\" type=\"checkbox\" ><label for=\"2d608d31-9a11-4b02-9ff0-c3c31bea3efb\" class=\"sk-toggleable__label sk-toggleable__label-arrow\">Scaler</label><div class=\"sk-toggleable__content\"><pre>Scaler(n_jobs=-1)</pre></div></div></div><div class=\"sk-item sk-dashed-wrapped\"><div class=\"sk-label-container\"><div class=\"sk-label sk-toggleable\"><input class=\"sk-toggleable__control sk-hidden--visually\" id=\"b4a37fc4-be70-4f4a-85b8-c095935ddaa2\" type=\"checkbox\" ><label for=\"b4a37fc4-be70-4f4a-85b8-c095935ddaa2\" class=\"sk-toggleable__label sk-toggleable__label-arrow\">featureunion: FeatureUnion</label><div class=\"sk-toggleable__content\"><pre>FeatureUnion(transformer_list=[(&#x27;persistenceentropy&#x27;,\n",
       "                                PersistenceEntropy(nan_fill_value=-1)),\n",
       "                               (&#x27;amplitude-1&#x27;,\n",
       "                                Amplitude(metric=&#x27;bottleneck&#x27;, metric_params={},\n",
       "                                          n_jobs=-1)),\n",
       "                               (&#x27;amplitude-2&#x27;,\n",
       "                                Amplitude(metric=&#x27;wasserstein&#x27;,\n",
       "                                          metric_params={&#x27;p&#x27;: 1}, n_jobs=-1)),\n",
       "                               (&#x27;amplitude-3&#x27;,\n",
       "                                Amplitude(metric=&#x27;wasserstein&#x27;,\n",
       "                                          metric_params={&#x27;p&#x27;: 2}, n_jobs=-1)),\n",
       "                               (&#x27;amplitude-4&#x27;,\n",
       "                                Amplitude...\n",
       "                                          metric_params={&#x27;n_bins&#x27;: 50, &#x27;p&#x27;: 1,\n",
       "                                                         &#x27;sigma&#x27;: 0.15},\n",
       "                                          n_jobs=-1)),\n",
       "                               (&#x27;amplitude-11&#x27;,\n",
       "                                Amplitude(metric=&#x27;heat&#x27;,\n",
       "                                          metric_params={&#x27;n_bins&#x27;: 50, &#x27;p&#x27;: 1,\n",
       "                                                         &#x27;sigma&#x27;: 0.15},\n",
       "                                          n_jobs=-1)),\n",
       "                               (&#x27;amplitude-12&#x27;,\n",
       "                                Amplitude(metric=&#x27;heat&#x27;,\n",
       "                                          metric_params={&#x27;n_bins&#x27;: 50, &#x27;p&#x27;: 2,\n",
       "                                                         &#x27;sigma&#x27;: 0.15},\n",
       "                                          n_jobs=-1)),\n",
       "                               (&#x27;amplitude-13&#x27;,\n",
       "                                Amplitude(metric=&#x27;heat&#x27;,\n",
       "                                          metric_params={&#x27;n_bins&#x27;: 50, &#x27;p&#x27;: 2,\n",
       "                                                         &#x27;sigma&#x27;: 0.15},\n",
       "                                          n_jobs=-1))])</pre></div></div></div><div class=\"sk-parallel\"><div class=\"sk-parallel-item\"><div class=\"sk-item\"><div class=\"sk-label-container\"><div class=\"sk-label sk-toggleable\"><label>persistenceentropy</label></div></div><div class=\"sk-serial\"><div class=\"sk-item\"><div class=\"sk-estimator sk-toggleable\"><input class=\"sk-toggleable__control sk-hidden--visually\" id=\"dbda4563-eea7-427a-9159-32794fcf5faa\" type=\"checkbox\" ><label for=\"dbda4563-eea7-427a-9159-32794fcf5faa\" class=\"sk-toggleable__label sk-toggleable__label-arrow\">PersistenceEntropy</label><div class=\"sk-toggleable__content\"><pre>PersistenceEntropy(nan_fill_value=-1)</pre></div></div></div></div></div></div><div class=\"sk-parallel-item\"><div class=\"sk-item\"><div class=\"sk-label-container\"><div class=\"sk-label sk-toggleable\"><label>amplitude-1</label></div></div><div class=\"sk-serial\"><div class=\"sk-item\"><div class=\"sk-estimator sk-toggleable\"><input class=\"sk-toggleable__control sk-hidden--visually\" id=\"9b2c2337-1136-4ec1-b066-b19aef9ef4e9\" type=\"checkbox\" ><label for=\"9b2c2337-1136-4ec1-b066-b19aef9ef4e9\" class=\"sk-toggleable__label sk-toggleable__label-arrow\">Amplitude</label><div class=\"sk-toggleable__content\"><pre>Amplitude(metric=&#x27;bottleneck&#x27;, metric_params={}, n_jobs=-1)</pre></div></div></div></div></div></div><div class=\"sk-parallel-item\"><div class=\"sk-item\"><div class=\"sk-label-container\"><div class=\"sk-label sk-toggleable\"><label>amplitude-2</label></div></div><div class=\"sk-serial\"><div class=\"sk-item\"><div class=\"sk-estimator sk-toggleable\"><input class=\"sk-toggleable__control sk-hidden--visually\" id=\"fda97569-3c2d-4c51-8184-19cff87f2e8d\" type=\"checkbox\" ><label for=\"fda97569-3c2d-4c51-8184-19cff87f2e8d\" class=\"sk-toggleable__label sk-toggleable__label-arrow\">Amplitude</label><div class=\"sk-toggleable__content\"><pre>Amplitude(metric=&#x27;wasserstein&#x27;, metric_params={&#x27;p&#x27;: 1}, n_jobs=-1)</pre></div></div></div></div></div></div><div class=\"sk-parallel-item\"><div class=\"sk-item\"><div class=\"sk-label-container\"><div class=\"sk-label sk-toggleable\"><label>amplitude-3</label></div></div><div class=\"sk-serial\"><div class=\"sk-item\"><div class=\"sk-estimator sk-toggleable\"><input class=\"sk-toggleable__control sk-hidden--visually\" id=\"193d2f6d-f379-4793-a7b0-d820878ff0ab\" type=\"checkbox\" ><label for=\"193d2f6d-f379-4793-a7b0-d820878ff0ab\" class=\"sk-toggleable__label sk-toggleable__label-arrow\">Amplitude</label><div class=\"sk-toggleable__content\"><pre>Amplitude(metric=&#x27;wasserstein&#x27;, metric_params={&#x27;p&#x27;: 2}, n_jobs=-1)</pre></div></div></div></div></div></div><div class=\"sk-parallel-item\"><div class=\"sk-item\"><div class=\"sk-label-container\"><div class=\"sk-label sk-toggleable\"><label>amplitude-4</label></div></div><div class=\"sk-serial\"><div class=\"sk-item\"><div class=\"sk-estimator sk-toggleable\"><input class=\"sk-toggleable__control sk-hidden--visually\" id=\"b1e6b582-69b4-449c-8bd1-7e5196a9f643\" type=\"checkbox\" ><label for=\"b1e6b582-69b4-449c-8bd1-7e5196a9f643\" class=\"sk-toggleable__label sk-toggleable__label-arrow\">Amplitude</label><div class=\"sk-toggleable__content\"><pre>Amplitude(metric_params={&#x27;n_bins&#x27;: 50, &#x27;n_layers&#x27;: 1, &#x27;p&#x27;: 1}, n_jobs=-1)</pre></div></div></div></div></div></div><div class=\"sk-parallel-item\"><div class=\"sk-item\"><div class=\"sk-label-container\"><div class=\"sk-label sk-toggleable\"><label>amplitude-5</label></div></div><div class=\"sk-serial\"><div class=\"sk-item\"><div class=\"sk-estimator sk-toggleable\"><input class=\"sk-toggleable__control sk-hidden--visually\" id=\"ef7445fa-72e2-402a-a395-f639c65dc82d\" type=\"checkbox\" ><label for=\"ef7445fa-72e2-402a-a395-f639c65dc82d\" class=\"sk-toggleable__label sk-toggleable__label-arrow\">Amplitude</label><div class=\"sk-toggleable__content\"><pre>Amplitude(metric_params={&#x27;n_bins&#x27;: 50, &#x27;n_layers&#x27;: 2, &#x27;p&#x27;: 1}, n_jobs=-1)</pre></div></div></div></div></div></div><div class=\"sk-parallel-item\"><div class=\"sk-item\"><div class=\"sk-label-container\"><div class=\"sk-label sk-toggleable\"><label>amplitude-6</label></div></div><div class=\"sk-serial\"><div class=\"sk-item\"><div class=\"sk-estimator sk-toggleable\"><input class=\"sk-toggleable__control sk-hidden--visually\" id=\"0c04063b-2f74-4925-83ed-3f62cd440832\" type=\"checkbox\" ><label for=\"0c04063b-2f74-4925-83ed-3f62cd440832\" class=\"sk-toggleable__label sk-toggleable__label-arrow\">Amplitude</label><div class=\"sk-toggleable__content\"><pre>Amplitude(metric_params={&#x27;n_bins&#x27;: 50, &#x27;n_layers&#x27;: 1, &#x27;p&#x27;: 2}, n_jobs=-1)</pre></div></div></div></div></div></div><div class=\"sk-parallel-item\"><div class=\"sk-item\"><div class=\"sk-label-container\"><div class=\"sk-label sk-toggleable\"><label>amplitude-7</label></div></div><div class=\"sk-serial\"><div class=\"sk-item\"><div class=\"sk-estimator sk-toggleable\"><input class=\"sk-toggleable__control sk-hidden--visually\" id=\"29323df1-cc6c-4d41-81f6-2b8842e60321\" type=\"checkbox\" ><label for=\"29323df1-cc6c-4d41-81f6-2b8842e60321\" class=\"sk-toggleable__label sk-toggleable__label-arrow\">Amplitude</label><div class=\"sk-toggleable__content\"><pre>Amplitude(metric_params={&#x27;n_bins&#x27;: 50, &#x27;n_layers&#x27;: 2, &#x27;p&#x27;: 2}, n_jobs=-1)</pre></div></div></div></div></div></div><div class=\"sk-parallel-item\"><div class=\"sk-item\"><div class=\"sk-label-container\"><div class=\"sk-label sk-toggleable\"><label>amplitude-8</label></div></div><div class=\"sk-serial\"><div class=\"sk-item\"><div class=\"sk-estimator sk-toggleable\"><input class=\"sk-toggleable__control sk-hidden--visually\" id=\"a12185aa-7e80-4f1c-a38f-1d017a3ab612\" type=\"checkbox\" ><label for=\"a12185aa-7e80-4f1c-a38f-1d017a3ab612\" class=\"sk-toggleable__label sk-toggleable__label-arrow\">Amplitude</label><div class=\"sk-toggleable__content\"><pre>Amplitude(metric=&#x27;betti&#x27;, metric_params={&#x27;n_bins&#x27;: 50, &#x27;p&#x27;: 1}, n_jobs=-1)</pre></div></div></div></div></div></div><div class=\"sk-parallel-item\"><div class=\"sk-item\"><div class=\"sk-label-container\"><div class=\"sk-label sk-toggleable\"><label>amplitude-9</label></div></div><div class=\"sk-serial\"><div class=\"sk-item\"><div class=\"sk-estimator sk-toggleable\"><input class=\"sk-toggleable__control sk-hidden--visually\" id=\"b0bf64e0-aa49-4260-be8f-31304ff68c2a\" type=\"checkbox\" ><label for=\"b0bf64e0-aa49-4260-be8f-31304ff68c2a\" class=\"sk-toggleable__label sk-toggleable__label-arrow\">Amplitude</label><div class=\"sk-toggleable__content\"><pre>Amplitude(metric=&#x27;betti&#x27;, metric_params={&#x27;n_bins&#x27;: 50, &#x27;p&#x27;: 2}, n_jobs=-1)</pre></div></div></div></div></div></div><div class=\"sk-parallel-item\"><div class=\"sk-item\"><div class=\"sk-label-container\"><div class=\"sk-label sk-toggleable\"><label>amplitude-10</label></div></div><div class=\"sk-serial\"><div class=\"sk-item\"><div class=\"sk-estimator sk-toggleable\"><input class=\"sk-toggleable__control sk-hidden--visually\" id=\"39275da4-889c-4850-93de-bbf983ce0853\" type=\"checkbox\" ><label for=\"39275da4-889c-4850-93de-bbf983ce0853\" class=\"sk-toggleable__label sk-toggleable__label-arrow\">Amplitude</label><div class=\"sk-toggleable__content\"><pre>Amplitude(metric=&#x27;heat&#x27;, metric_params={&#x27;n_bins&#x27;: 50, &#x27;p&#x27;: 1, &#x27;sigma&#x27;: 0.15},\n",
       "          n_jobs=-1)</pre></div></div></div></div></div></div><div class=\"sk-parallel-item\"><div class=\"sk-item\"><div class=\"sk-label-container\"><div class=\"sk-label sk-toggleable\"><label>amplitude-11</label></div></div><div class=\"sk-serial\"><div class=\"sk-item\"><div class=\"sk-estimator sk-toggleable\"><input class=\"sk-toggleable__control sk-hidden--visually\" id=\"e149f8b5-9bb3-41f2-8b3f-532a04d127c2\" type=\"checkbox\" ><label for=\"e149f8b5-9bb3-41f2-8b3f-532a04d127c2\" class=\"sk-toggleable__label sk-toggleable__label-arrow\">Amplitude</label><div class=\"sk-toggleable__content\"><pre>Amplitude(metric=&#x27;heat&#x27;, metric_params={&#x27;n_bins&#x27;: 50, &#x27;p&#x27;: 1, &#x27;sigma&#x27;: 0.15},\n",
       "          n_jobs=-1)</pre></div></div></div></div></div></div><div class=\"sk-parallel-item\"><div class=\"sk-item\"><div class=\"sk-label-container\"><div class=\"sk-label sk-toggleable\"><label>amplitude-12</label></div></div><div class=\"sk-serial\"><div class=\"sk-item\"><div class=\"sk-estimator sk-toggleable\"><input class=\"sk-toggleable__control sk-hidden--visually\" id=\"73537d43-d4f5-479b-8ce0-f871a0d22192\" type=\"checkbox\" ><label for=\"73537d43-d4f5-479b-8ce0-f871a0d22192\" class=\"sk-toggleable__label sk-toggleable__label-arrow\">Amplitude</label><div class=\"sk-toggleable__content\"><pre>Amplitude(metric=&#x27;heat&#x27;, metric_params={&#x27;n_bins&#x27;: 50, &#x27;p&#x27;: 2, &#x27;sigma&#x27;: 0.15},\n",
       "          n_jobs=-1)</pre></div></div></div></div></div></div><div class=\"sk-parallel-item\"><div class=\"sk-item\"><div class=\"sk-label-container\"><div class=\"sk-label sk-toggleable\"><label>amplitude-13</label></div></div><div class=\"sk-serial\"><div class=\"sk-item\"><div class=\"sk-estimator sk-toggleable\"><input class=\"sk-toggleable__control sk-hidden--visually\" id=\"bf2ae88d-098d-490e-a6e4-e2849c410ff7\" type=\"checkbox\" ><label for=\"bf2ae88d-098d-490e-a6e4-e2849c410ff7\" class=\"sk-toggleable__label sk-toggleable__label-arrow\">Amplitude</label><div class=\"sk-toggleable__content\"><pre>Amplitude(metric=&#x27;heat&#x27;, metric_params={&#x27;n_bins&#x27;: 50, &#x27;p&#x27;: 2, &#x27;sigma&#x27;: 0.15},\n",
       "          n_jobs=-1)</pre></div></div></div></div></div></div></div></div></div></div></div></div></div><div class=\"sk-parallel-item\"><div class=\"sk-item\"><div class=\"sk-label-container\"><div class=\"sk-label sk-toggleable\"><label>pipeline-14</label></div></div><div class=\"sk-serial\"><div class=\"sk-item\"><div class=\"sk-serial\"><div class=\"sk-item\"><div class=\"sk-estimator sk-toggleable\"><input class=\"sk-toggleable__control sk-hidden--visually\" id=\"4cc2bb38-f92e-440e-a465-397fd7d3e110\" type=\"checkbox\" ><label for=\"4cc2bb38-f92e-440e-a465-397fd7d3e110\" class=\"sk-toggleable__label sk-toggleable__label-arrow\">Binarizer</label><div class=\"sk-toggleable__content\"><pre>Binarizer(n_jobs=-1)</pre></div></div></div><div class=\"sk-item\"><div class=\"sk-estimator sk-toggleable\"><input class=\"sk-toggleable__control sk-hidden--visually\" id=\"0ba8d444-f087-449c-9acb-ca0f25f29188\" type=\"checkbox\" ><label for=\"0ba8d444-f087-449c-9acb-ca0f25f29188\" class=\"sk-toggleable__label sk-toggleable__label-arrow\">RadialFiltration</label><div class=\"sk-toggleable__content\"><pre>RadialFiltration(center=array([6, 6]), n_jobs=-1)</pre></div></div></div><div class=\"sk-item\"><div class=\"sk-estimator sk-toggleable\"><input class=\"sk-toggleable__control sk-hidden--visually\" id=\"5402f666-a453-417a-87d6-4f204117de35\" type=\"checkbox\" ><label for=\"5402f666-a453-417a-87d6-4f204117de35\" class=\"sk-toggleable__label sk-toggleable__label-arrow\">CubicalPersistence</label><div class=\"sk-toggleable__content\"><pre>CubicalPersistence(n_jobs=-1)</pre></div></div></div><div class=\"sk-item\"><div class=\"sk-estimator sk-toggleable\"><input class=\"sk-toggleable__control sk-hidden--visually\" id=\"130d755e-1d49-4cbe-8320-f3ea5c99bc45\" type=\"checkbox\" ><label for=\"130d755e-1d49-4cbe-8320-f3ea5c99bc45\" class=\"sk-toggleable__label sk-toggleable__label-arrow\">Scaler</label><div class=\"sk-toggleable__content\"><pre>Scaler(n_jobs=-1)</pre></div></div></div><div class=\"sk-item sk-dashed-wrapped\"><div class=\"sk-label-container\"><div class=\"sk-label sk-toggleable\"><input class=\"sk-toggleable__control sk-hidden--visually\" id=\"0a460432-5d09-4a9f-9481-3fee06d29881\" type=\"checkbox\" ><label for=\"0a460432-5d09-4a9f-9481-3fee06d29881\" class=\"sk-toggleable__label sk-toggleable__label-arrow\">featureunion: FeatureUnion</label><div class=\"sk-toggleable__content\"><pre>FeatureUnion(transformer_list=[(&#x27;persistenceentropy&#x27;,\n",
       "                                PersistenceEntropy(nan_fill_value=-1)),\n",
       "                               (&#x27;amplitude-1&#x27;,\n",
       "                                Amplitude(metric=&#x27;bottleneck&#x27;, metric_params={},\n",
       "                                          n_jobs=-1)),\n",
       "                               (&#x27;amplitude-2&#x27;,\n",
       "                                Amplitude(metric=&#x27;wasserstein&#x27;,\n",
       "                                          metric_params={&#x27;p&#x27;: 1}, n_jobs=-1)),\n",
       "                               (&#x27;amplitude-3&#x27;,\n",
       "                                Amplitude(metric=&#x27;wasserstein&#x27;,\n",
       "                                          metric_params={&#x27;p&#x27;: 2}, n_jobs=-1)),\n",
       "                               (&#x27;amplitude-4&#x27;,\n",
       "                                Amplitude...\n",
       "                                          metric_params={&#x27;n_bins&#x27;: 50, &#x27;p&#x27;: 1,\n",
       "                                                         &#x27;sigma&#x27;: 0.15},\n",
       "                                          n_jobs=-1)),\n",
       "                               (&#x27;amplitude-11&#x27;,\n",
       "                                Amplitude(metric=&#x27;heat&#x27;,\n",
       "                                          metric_params={&#x27;n_bins&#x27;: 50, &#x27;p&#x27;: 1,\n",
       "                                                         &#x27;sigma&#x27;: 0.15},\n",
       "                                          n_jobs=-1)),\n",
       "                               (&#x27;amplitude-12&#x27;,\n",
       "                                Amplitude(metric=&#x27;heat&#x27;,\n",
       "                                          metric_params={&#x27;n_bins&#x27;: 50, &#x27;p&#x27;: 2,\n",
       "                                                         &#x27;sigma&#x27;: 0.15},\n",
       "                                          n_jobs=-1)),\n",
       "                               (&#x27;amplitude-13&#x27;,\n",
       "                                Amplitude(metric=&#x27;heat&#x27;,\n",
       "                                          metric_params={&#x27;n_bins&#x27;: 50, &#x27;p&#x27;: 2,\n",
       "                                                         &#x27;sigma&#x27;: 0.15},\n",
       "                                          n_jobs=-1))])</pre></div></div></div><div class=\"sk-parallel\"><div class=\"sk-parallel-item\"><div class=\"sk-item\"><div class=\"sk-label-container\"><div class=\"sk-label sk-toggleable\"><label>persistenceentropy</label></div></div><div class=\"sk-serial\"><div class=\"sk-item\"><div class=\"sk-estimator sk-toggleable\"><input class=\"sk-toggleable__control sk-hidden--visually\" id=\"6e413783-4e97-4148-8a45-32be0593691c\" type=\"checkbox\" ><label for=\"6e413783-4e97-4148-8a45-32be0593691c\" class=\"sk-toggleable__label sk-toggleable__label-arrow\">PersistenceEntropy</label><div class=\"sk-toggleable__content\"><pre>PersistenceEntropy(nan_fill_value=-1)</pre></div></div></div></div></div></div><div class=\"sk-parallel-item\"><div class=\"sk-item\"><div class=\"sk-label-container\"><div class=\"sk-label sk-toggleable\"><label>amplitude-1</label></div></div><div class=\"sk-serial\"><div class=\"sk-item\"><div class=\"sk-estimator sk-toggleable\"><input class=\"sk-toggleable__control sk-hidden--visually\" id=\"2d14e1b4-a908-48b0-9236-6c51d9da2e12\" type=\"checkbox\" ><label for=\"2d14e1b4-a908-48b0-9236-6c51d9da2e12\" class=\"sk-toggleable__label sk-toggleable__label-arrow\">Amplitude</label><div class=\"sk-toggleable__content\"><pre>Amplitude(metric=&#x27;bottleneck&#x27;, metric_params={}, n_jobs=-1)</pre></div></div></div></div></div></div><div class=\"sk-parallel-item\"><div class=\"sk-item\"><div class=\"sk-label-container\"><div class=\"sk-label sk-toggleable\"><label>amplitude-2</label></div></div><div class=\"sk-serial\"><div class=\"sk-item\"><div class=\"sk-estimator sk-toggleable\"><input class=\"sk-toggleable__control sk-hidden--visually\" id=\"dbf2b32e-6873-408b-93ac-75f3914ae689\" type=\"checkbox\" ><label for=\"dbf2b32e-6873-408b-93ac-75f3914ae689\" class=\"sk-toggleable__label sk-toggleable__label-arrow\">Amplitude</label><div class=\"sk-toggleable__content\"><pre>Amplitude(metric=&#x27;wasserstein&#x27;, metric_params={&#x27;p&#x27;: 1}, n_jobs=-1)</pre></div></div></div></div></div></div><div class=\"sk-parallel-item\"><div class=\"sk-item\"><div class=\"sk-label-container\"><div class=\"sk-label sk-toggleable\"><label>amplitude-3</label></div></div><div class=\"sk-serial\"><div class=\"sk-item\"><div class=\"sk-estimator sk-toggleable\"><input class=\"sk-toggleable__control sk-hidden--visually\" id=\"4155d34b-d3ef-49a2-a31f-56a77cb79e0b\" type=\"checkbox\" ><label for=\"4155d34b-d3ef-49a2-a31f-56a77cb79e0b\" class=\"sk-toggleable__label sk-toggleable__label-arrow\">Amplitude</label><div class=\"sk-toggleable__content\"><pre>Amplitude(metric=&#x27;wasserstein&#x27;, metric_params={&#x27;p&#x27;: 2}, n_jobs=-1)</pre></div></div></div></div></div></div><div class=\"sk-parallel-item\"><div class=\"sk-item\"><div class=\"sk-label-container\"><div class=\"sk-label sk-toggleable\"><label>amplitude-4</label></div></div><div class=\"sk-serial\"><div class=\"sk-item\"><div class=\"sk-estimator sk-toggleable\"><input class=\"sk-toggleable__control sk-hidden--visually\" id=\"49dec37f-224e-4318-a5fd-d7471d16d36c\" type=\"checkbox\" ><label for=\"49dec37f-224e-4318-a5fd-d7471d16d36c\" class=\"sk-toggleable__label sk-toggleable__label-arrow\">Amplitude</label><div class=\"sk-toggleable__content\"><pre>Amplitude(metric_params={&#x27;n_bins&#x27;: 50, &#x27;n_layers&#x27;: 1, &#x27;p&#x27;: 1}, n_jobs=-1)</pre></div></div></div></div></div></div><div class=\"sk-parallel-item\"><div class=\"sk-item\"><div class=\"sk-label-container\"><div class=\"sk-label sk-toggleable\"><label>amplitude-5</label></div></div><div class=\"sk-serial\"><div class=\"sk-item\"><div class=\"sk-estimator sk-toggleable\"><input class=\"sk-toggleable__control sk-hidden--visually\" id=\"15ea1e2a-740a-4ee2-ab3e-fd9e60da21a7\" type=\"checkbox\" ><label for=\"15ea1e2a-740a-4ee2-ab3e-fd9e60da21a7\" class=\"sk-toggleable__label sk-toggleable__label-arrow\">Amplitude</label><div class=\"sk-toggleable__content\"><pre>Amplitude(metric_params={&#x27;n_bins&#x27;: 50, &#x27;n_layers&#x27;: 2, &#x27;p&#x27;: 1}, n_jobs=-1)</pre></div></div></div></div></div></div><div class=\"sk-parallel-item\"><div class=\"sk-item\"><div class=\"sk-label-container\"><div class=\"sk-label sk-toggleable\"><label>amplitude-6</label></div></div><div class=\"sk-serial\"><div class=\"sk-item\"><div class=\"sk-estimator sk-toggleable\"><input class=\"sk-toggleable__control sk-hidden--visually\" id=\"b6d12d9c-b7ca-44da-bdeb-498c20961406\" type=\"checkbox\" ><label for=\"b6d12d9c-b7ca-44da-bdeb-498c20961406\" class=\"sk-toggleable__label sk-toggleable__label-arrow\">Amplitude</label><div class=\"sk-toggleable__content\"><pre>Amplitude(metric_params={&#x27;n_bins&#x27;: 50, &#x27;n_layers&#x27;: 1, &#x27;p&#x27;: 2}, n_jobs=-1)</pre></div></div></div></div></div></div><div class=\"sk-parallel-item\"><div class=\"sk-item\"><div class=\"sk-label-container\"><div class=\"sk-label sk-toggleable\"><label>amplitude-7</label></div></div><div class=\"sk-serial\"><div class=\"sk-item\"><div class=\"sk-estimator sk-toggleable\"><input class=\"sk-toggleable__control sk-hidden--visually\" id=\"43d312da-de92-4b46-9ac1-351fceaaae3f\" type=\"checkbox\" ><label for=\"43d312da-de92-4b46-9ac1-351fceaaae3f\" class=\"sk-toggleable__label sk-toggleable__label-arrow\">Amplitude</label><div class=\"sk-toggleable__content\"><pre>Amplitude(metric_params={&#x27;n_bins&#x27;: 50, &#x27;n_layers&#x27;: 2, &#x27;p&#x27;: 2}, n_jobs=-1)</pre></div></div></div></div></div></div><div class=\"sk-parallel-item\"><div class=\"sk-item\"><div class=\"sk-label-container\"><div class=\"sk-label sk-toggleable\"><label>amplitude-8</label></div></div><div class=\"sk-serial\"><div class=\"sk-item\"><div class=\"sk-estimator sk-toggleable\"><input class=\"sk-toggleable__control sk-hidden--visually\" id=\"f0e0c3da-14b0-456d-9fd7-9dc752efe7f1\" type=\"checkbox\" ><label for=\"f0e0c3da-14b0-456d-9fd7-9dc752efe7f1\" class=\"sk-toggleable__label sk-toggleable__label-arrow\">Amplitude</label><div class=\"sk-toggleable__content\"><pre>Amplitude(metric=&#x27;betti&#x27;, metric_params={&#x27;n_bins&#x27;: 50, &#x27;p&#x27;: 1}, n_jobs=-1)</pre></div></div></div></div></div></div><div class=\"sk-parallel-item\"><div class=\"sk-item\"><div class=\"sk-label-container\"><div class=\"sk-label sk-toggleable\"><label>amplitude-9</label></div></div><div class=\"sk-serial\"><div class=\"sk-item\"><div class=\"sk-estimator sk-toggleable\"><input class=\"sk-toggleable__control sk-hidden--visually\" id=\"4249e9ff-2d07-4a24-abfa-f859e5e80a48\" type=\"checkbox\" ><label for=\"4249e9ff-2d07-4a24-abfa-f859e5e80a48\" class=\"sk-toggleable__label sk-toggleable__label-arrow\">Amplitude</label><div class=\"sk-toggleable__content\"><pre>Amplitude(metric=&#x27;betti&#x27;, metric_params={&#x27;n_bins&#x27;: 50, &#x27;p&#x27;: 2}, n_jobs=-1)</pre></div></div></div></div></div></div><div class=\"sk-parallel-item\"><div class=\"sk-item\"><div class=\"sk-label-container\"><div class=\"sk-label sk-toggleable\"><label>amplitude-10</label></div></div><div class=\"sk-serial\"><div class=\"sk-item\"><div class=\"sk-estimator sk-toggleable\"><input class=\"sk-toggleable__control sk-hidden--visually\" id=\"d70cdcd2-c7a4-446d-b9a3-065a9ac32a30\" type=\"checkbox\" ><label for=\"d70cdcd2-c7a4-446d-b9a3-065a9ac32a30\" class=\"sk-toggleable__label sk-toggleable__label-arrow\">Amplitude</label><div class=\"sk-toggleable__content\"><pre>Amplitude(metric=&#x27;heat&#x27;, metric_params={&#x27;n_bins&#x27;: 50, &#x27;p&#x27;: 1, &#x27;sigma&#x27;: 0.15},\n",
       "          n_jobs=-1)</pre></div></div></div></div></div></div><div class=\"sk-parallel-item\"><div class=\"sk-item\"><div class=\"sk-label-container\"><div class=\"sk-label sk-toggleable\"><label>amplitude-11</label></div></div><div class=\"sk-serial\"><div class=\"sk-item\"><div class=\"sk-estimator sk-toggleable\"><input class=\"sk-toggleable__control sk-hidden--visually\" id=\"9f3fc7c4-3c80-4252-ac2b-448c1624d325\" type=\"checkbox\" ><label for=\"9f3fc7c4-3c80-4252-ac2b-448c1624d325\" class=\"sk-toggleable__label sk-toggleable__label-arrow\">Amplitude</label><div class=\"sk-toggleable__content\"><pre>Amplitude(metric=&#x27;heat&#x27;, metric_params={&#x27;n_bins&#x27;: 50, &#x27;p&#x27;: 1, &#x27;sigma&#x27;: 0.15},\n",
       "          n_jobs=-1)</pre></div></div></div></div></div></div><div class=\"sk-parallel-item\"><div class=\"sk-item\"><div class=\"sk-label-container\"><div class=\"sk-label sk-toggleable\"><label>amplitude-12</label></div></div><div class=\"sk-serial\"><div class=\"sk-item\"><div class=\"sk-estimator sk-toggleable\"><input class=\"sk-toggleable__control sk-hidden--visually\" id=\"78eb9699-0d19-48e6-b5f0-b43a3a892602\" type=\"checkbox\" ><label for=\"78eb9699-0d19-48e6-b5f0-b43a3a892602\" class=\"sk-toggleable__label sk-toggleable__label-arrow\">Amplitude</label><div class=\"sk-toggleable__content\"><pre>Amplitude(metric=&#x27;heat&#x27;, metric_params={&#x27;n_bins&#x27;: 50, &#x27;p&#x27;: 2, &#x27;sigma&#x27;: 0.15},\n",
       "          n_jobs=-1)</pre></div></div></div></div></div></div><div class=\"sk-parallel-item\"><div class=\"sk-item\"><div class=\"sk-label-container\"><div class=\"sk-label sk-toggleable\"><label>amplitude-13</label></div></div><div class=\"sk-serial\"><div class=\"sk-item\"><div class=\"sk-estimator sk-toggleable\"><input class=\"sk-toggleable__control sk-hidden--visually\" id=\"05951ad3-5708-4ed4-a4e6-4dd850abfe62\" type=\"checkbox\" ><label for=\"05951ad3-5708-4ed4-a4e6-4dd850abfe62\" class=\"sk-toggleable__label sk-toggleable__label-arrow\">Amplitude</label><div class=\"sk-toggleable__content\"><pre>Amplitude(metric=&#x27;heat&#x27;, metric_params={&#x27;n_bins&#x27;: 50, &#x27;p&#x27;: 2, &#x27;sigma&#x27;: 0.15},\n",
       "          n_jobs=-1)</pre></div></div></div></div></div></div></div></div></div></div></div></div></div><div class=\"sk-parallel-item\"><div class=\"sk-item\"><div class=\"sk-label-container\"><div class=\"sk-label sk-toggleable\"><label>pipeline-15</label></div></div><div class=\"sk-serial\"><div class=\"sk-item\"><div class=\"sk-serial\"><div class=\"sk-item\"><div class=\"sk-estimator sk-toggleable\"><input class=\"sk-toggleable__control sk-hidden--visually\" id=\"e1765e59-dda4-4585-ad28-11ffbf80f214\" type=\"checkbox\" ><label for=\"e1765e59-dda4-4585-ad28-11ffbf80f214\" class=\"sk-toggleable__label sk-toggleable__label-arrow\">Binarizer</label><div class=\"sk-toggleable__content\"><pre>Binarizer(n_jobs=-1)</pre></div></div></div><div class=\"sk-item\"><div class=\"sk-estimator sk-toggleable\"><input class=\"sk-toggleable__control sk-hidden--visually\" id=\"e998da77-8ab8-4529-8812-4d20378f1110\" type=\"checkbox\" ><label for=\"e998da77-8ab8-4529-8812-4d20378f1110\" class=\"sk-toggleable__label sk-toggleable__label-arrow\">RadialFiltration</label><div class=\"sk-toggleable__content\"><pre>RadialFiltration(center=array([ 6, 20]), n_jobs=-1)</pre></div></div></div><div class=\"sk-item\"><div class=\"sk-estimator sk-toggleable\"><input class=\"sk-toggleable__control sk-hidden--visually\" id=\"23310bbf-7d3c-4a71-b0b8-b2517a248834\" type=\"checkbox\" ><label for=\"23310bbf-7d3c-4a71-b0b8-b2517a248834\" class=\"sk-toggleable__label sk-toggleable__label-arrow\">CubicalPersistence</label><div class=\"sk-toggleable__content\"><pre>CubicalPersistence(n_jobs=-1)</pre></div></div></div><div class=\"sk-item\"><div class=\"sk-estimator sk-toggleable\"><input class=\"sk-toggleable__control sk-hidden--visually\" id=\"6e1a8659-e8c6-493a-91d5-cc9bcec2997c\" type=\"checkbox\" ><label for=\"6e1a8659-e8c6-493a-91d5-cc9bcec2997c\" class=\"sk-toggleable__label sk-toggleable__label-arrow\">Scaler</label><div class=\"sk-toggleable__content\"><pre>Scaler(n_jobs=-1)</pre></div></div></div><div class=\"sk-item sk-dashed-wrapped\"><div class=\"sk-label-container\"><div class=\"sk-label sk-toggleable\"><input class=\"sk-toggleable__control sk-hidden--visually\" id=\"1e6ade75-821c-46c3-a98f-b3914c34d2ac\" type=\"checkbox\" ><label for=\"1e6ade75-821c-46c3-a98f-b3914c34d2ac\" class=\"sk-toggleable__label sk-toggleable__label-arrow\">featureunion: FeatureUnion</label><div class=\"sk-toggleable__content\"><pre>FeatureUnion(transformer_list=[(&#x27;persistenceentropy&#x27;,\n",
       "                                PersistenceEntropy(nan_fill_value=-1)),\n",
       "                               (&#x27;amplitude-1&#x27;,\n",
       "                                Amplitude(metric=&#x27;bottleneck&#x27;, metric_params={},\n",
       "                                          n_jobs=-1)),\n",
       "                               (&#x27;amplitude-2&#x27;,\n",
       "                                Amplitude(metric=&#x27;wasserstein&#x27;,\n",
       "                                          metric_params={&#x27;p&#x27;: 1}, n_jobs=-1)),\n",
       "                               (&#x27;amplitude-3&#x27;,\n",
       "                                Amplitude(metric=&#x27;wasserstein&#x27;,\n",
       "                                          metric_params={&#x27;p&#x27;: 2}, n_jobs=-1)),\n",
       "                               (&#x27;amplitude-4&#x27;,\n",
       "                                Amplitude...\n",
       "                                          metric_params={&#x27;n_bins&#x27;: 50, &#x27;p&#x27;: 1,\n",
       "                                                         &#x27;sigma&#x27;: 0.15},\n",
       "                                          n_jobs=-1)),\n",
       "                               (&#x27;amplitude-11&#x27;,\n",
       "                                Amplitude(metric=&#x27;heat&#x27;,\n",
       "                                          metric_params={&#x27;n_bins&#x27;: 50, &#x27;p&#x27;: 1,\n",
       "                                                         &#x27;sigma&#x27;: 0.15},\n",
       "                                          n_jobs=-1)),\n",
       "                               (&#x27;amplitude-12&#x27;,\n",
       "                                Amplitude(metric=&#x27;heat&#x27;,\n",
       "                                          metric_params={&#x27;n_bins&#x27;: 50, &#x27;p&#x27;: 2,\n",
       "                                                         &#x27;sigma&#x27;: 0.15},\n",
       "                                          n_jobs=-1)),\n",
       "                               (&#x27;amplitude-13&#x27;,\n",
       "                                Amplitude(metric=&#x27;heat&#x27;,\n",
       "                                          metric_params={&#x27;n_bins&#x27;: 50, &#x27;p&#x27;: 2,\n",
       "                                                         &#x27;sigma&#x27;: 0.15},\n",
       "                                          n_jobs=-1))])</pre></div></div></div><div class=\"sk-parallel\"><div class=\"sk-parallel-item\"><div class=\"sk-item\"><div class=\"sk-label-container\"><div class=\"sk-label sk-toggleable\"><label>persistenceentropy</label></div></div><div class=\"sk-serial\"><div class=\"sk-item\"><div class=\"sk-estimator sk-toggleable\"><input class=\"sk-toggleable__control sk-hidden--visually\" id=\"de2ad89d-4180-45c8-90e5-eb22ee55e843\" type=\"checkbox\" ><label for=\"de2ad89d-4180-45c8-90e5-eb22ee55e843\" class=\"sk-toggleable__label sk-toggleable__label-arrow\">PersistenceEntropy</label><div class=\"sk-toggleable__content\"><pre>PersistenceEntropy(nan_fill_value=-1)</pre></div></div></div></div></div></div><div class=\"sk-parallel-item\"><div class=\"sk-item\"><div class=\"sk-label-container\"><div class=\"sk-label sk-toggleable\"><label>amplitude-1</label></div></div><div class=\"sk-serial\"><div class=\"sk-item\"><div class=\"sk-estimator sk-toggleable\"><input class=\"sk-toggleable__control sk-hidden--visually\" id=\"a99837d7-a9fc-40e1-ae68-3f4e74075484\" type=\"checkbox\" ><label for=\"a99837d7-a9fc-40e1-ae68-3f4e74075484\" class=\"sk-toggleable__label sk-toggleable__label-arrow\">Amplitude</label><div class=\"sk-toggleable__content\"><pre>Amplitude(metric=&#x27;bottleneck&#x27;, metric_params={}, n_jobs=-1)</pre></div></div></div></div></div></div><div class=\"sk-parallel-item\"><div class=\"sk-item\"><div class=\"sk-label-container\"><div class=\"sk-label sk-toggleable\"><label>amplitude-2</label></div></div><div class=\"sk-serial\"><div class=\"sk-item\"><div class=\"sk-estimator sk-toggleable\"><input class=\"sk-toggleable__control sk-hidden--visually\" id=\"118f218b-aca2-45e9-b426-529fd646e957\" type=\"checkbox\" ><label for=\"118f218b-aca2-45e9-b426-529fd646e957\" class=\"sk-toggleable__label sk-toggleable__label-arrow\">Amplitude</label><div class=\"sk-toggleable__content\"><pre>Amplitude(metric=&#x27;wasserstein&#x27;, metric_params={&#x27;p&#x27;: 1}, n_jobs=-1)</pre></div></div></div></div></div></div><div class=\"sk-parallel-item\"><div class=\"sk-item\"><div class=\"sk-label-container\"><div class=\"sk-label sk-toggleable\"><label>amplitude-3</label></div></div><div class=\"sk-serial\"><div class=\"sk-item\"><div class=\"sk-estimator sk-toggleable\"><input class=\"sk-toggleable__control sk-hidden--visually\" id=\"d40f87be-5cbb-4b6e-b578-4620c6b41f7e\" type=\"checkbox\" ><label for=\"d40f87be-5cbb-4b6e-b578-4620c6b41f7e\" class=\"sk-toggleable__label sk-toggleable__label-arrow\">Amplitude</label><div class=\"sk-toggleable__content\"><pre>Amplitude(metric=&#x27;wasserstein&#x27;, metric_params={&#x27;p&#x27;: 2}, n_jobs=-1)</pre></div></div></div></div></div></div><div class=\"sk-parallel-item\"><div class=\"sk-item\"><div class=\"sk-label-container\"><div class=\"sk-label sk-toggleable\"><label>amplitude-4</label></div></div><div class=\"sk-serial\"><div class=\"sk-item\"><div class=\"sk-estimator sk-toggleable\"><input class=\"sk-toggleable__control sk-hidden--visually\" id=\"724654ca-590e-48d9-9114-da6b92c72bd5\" type=\"checkbox\" ><label for=\"724654ca-590e-48d9-9114-da6b92c72bd5\" class=\"sk-toggleable__label sk-toggleable__label-arrow\">Amplitude</label><div class=\"sk-toggleable__content\"><pre>Amplitude(metric_params={&#x27;n_bins&#x27;: 50, &#x27;n_layers&#x27;: 1, &#x27;p&#x27;: 1}, n_jobs=-1)</pre></div></div></div></div></div></div><div class=\"sk-parallel-item\"><div class=\"sk-item\"><div class=\"sk-label-container\"><div class=\"sk-label sk-toggleable\"><label>amplitude-5</label></div></div><div class=\"sk-serial\"><div class=\"sk-item\"><div class=\"sk-estimator sk-toggleable\"><input class=\"sk-toggleable__control sk-hidden--visually\" id=\"2feca4c0-8e5f-4fbd-beb2-73b8d4b4f389\" type=\"checkbox\" ><label for=\"2feca4c0-8e5f-4fbd-beb2-73b8d4b4f389\" class=\"sk-toggleable__label sk-toggleable__label-arrow\">Amplitude</label><div class=\"sk-toggleable__content\"><pre>Amplitude(metric_params={&#x27;n_bins&#x27;: 50, &#x27;n_layers&#x27;: 2, &#x27;p&#x27;: 1}, n_jobs=-1)</pre></div></div></div></div></div></div><div class=\"sk-parallel-item\"><div class=\"sk-item\"><div class=\"sk-label-container\"><div class=\"sk-label sk-toggleable\"><label>amplitude-6</label></div></div><div class=\"sk-serial\"><div class=\"sk-item\"><div class=\"sk-estimator sk-toggleable\"><input class=\"sk-toggleable__control sk-hidden--visually\" id=\"121a784a-54fa-4e68-b46c-c13e882bb93a\" type=\"checkbox\" ><label for=\"121a784a-54fa-4e68-b46c-c13e882bb93a\" class=\"sk-toggleable__label sk-toggleable__label-arrow\">Amplitude</label><div class=\"sk-toggleable__content\"><pre>Amplitude(metric_params={&#x27;n_bins&#x27;: 50, &#x27;n_layers&#x27;: 1, &#x27;p&#x27;: 2}, n_jobs=-1)</pre></div></div></div></div></div></div><div class=\"sk-parallel-item\"><div class=\"sk-item\"><div class=\"sk-label-container\"><div class=\"sk-label sk-toggleable\"><label>amplitude-7</label></div></div><div class=\"sk-serial\"><div class=\"sk-item\"><div class=\"sk-estimator sk-toggleable\"><input class=\"sk-toggleable__control sk-hidden--visually\" id=\"2af72ba8-41f9-4c19-ae33-3a2fc8930340\" type=\"checkbox\" ><label for=\"2af72ba8-41f9-4c19-ae33-3a2fc8930340\" class=\"sk-toggleable__label sk-toggleable__label-arrow\">Amplitude</label><div class=\"sk-toggleable__content\"><pre>Amplitude(metric_params={&#x27;n_bins&#x27;: 50, &#x27;n_layers&#x27;: 2, &#x27;p&#x27;: 2}, n_jobs=-1)</pre></div></div></div></div></div></div><div class=\"sk-parallel-item\"><div class=\"sk-item\"><div class=\"sk-label-container\"><div class=\"sk-label sk-toggleable\"><label>amplitude-8</label></div></div><div class=\"sk-serial\"><div class=\"sk-item\"><div class=\"sk-estimator sk-toggleable\"><input class=\"sk-toggleable__control sk-hidden--visually\" id=\"3782e0ea-582f-4619-bec4-ea889d8fa881\" type=\"checkbox\" ><label for=\"3782e0ea-582f-4619-bec4-ea889d8fa881\" class=\"sk-toggleable__label sk-toggleable__label-arrow\">Amplitude</label><div class=\"sk-toggleable__content\"><pre>Amplitude(metric=&#x27;betti&#x27;, metric_params={&#x27;n_bins&#x27;: 50, &#x27;p&#x27;: 1}, n_jobs=-1)</pre></div></div></div></div></div></div><div class=\"sk-parallel-item\"><div class=\"sk-item\"><div class=\"sk-label-container\"><div class=\"sk-label sk-toggleable\"><label>amplitude-9</label></div></div><div class=\"sk-serial\"><div class=\"sk-item\"><div class=\"sk-estimator sk-toggleable\"><input class=\"sk-toggleable__control sk-hidden--visually\" id=\"0f23ae63-e57e-4bc1-9946-76a192d7a83a\" type=\"checkbox\" ><label for=\"0f23ae63-e57e-4bc1-9946-76a192d7a83a\" class=\"sk-toggleable__label sk-toggleable__label-arrow\">Amplitude</label><div class=\"sk-toggleable__content\"><pre>Amplitude(metric=&#x27;betti&#x27;, metric_params={&#x27;n_bins&#x27;: 50, &#x27;p&#x27;: 2}, n_jobs=-1)</pre></div></div></div></div></div></div><div class=\"sk-parallel-item\"><div class=\"sk-item\"><div class=\"sk-label-container\"><div class=\"sk-label sk-toggleable\"><label>amplitude-10</label></div></div><div class=\"sk-serial\"><div class=\"sk-item\"><div class=\"sk-estimator sk-toggleable\"><input class=\"sk-toggleable__control sk-hidden--visually\" id=\"56665d0b-951a-4e8a-928c-92104dbc7e02\" type=\"checkbox\" ><label for=\"56665d0b-951a-4e8a-928c-92104dbc7e02\" class=\"sk-toggleable__label sk-toggleable__label-arrow\">Amplitude</label><div class=\"sk-toggleable__content\"><pre>Amplitude(metric=&#x27;heat&#x27;, metric_params={&#x27;n_bins&#x27;: 50, &#x27;p&#x27;: 1, &#x27;sigma&#x27;: 0.15},\n",
       "          n_jobs=-1)</pre></div></div></div></div></div></div><div class=\"sk-parallel-item\"><div class=\"sk-item\"><div class=\"sk-label-container\"><div class=\"sk-label sk-toggleable\"><label>amplitude-11</label></div></div><div class=\"sk-serial\"><div class=\"sk-item\"><div class=\"sk-estimator sk-toggleable\"><input class=\"sk-toggleable__control sk-hidden--visually\" id=\"8e9ebe72-505a-4dbb-8a0d-7e96d4f61574\" type=\"checkbox\" ><label for=\"8e9ebe72-505a-4dbb-8a0d-7e96d4f61574\" class=\"sk-toggleable__label sk-toggleable__label-arrow\">Amplitude</label><div class=\"sk-toggleable__content\"><pre>Amplitude(metric=&#x27;heat&#x27;, metric_params={&#x27;n_bins&#x27;: 50, &#x27;p&#x27;: 1, &#x27;sigma&#x27;: 0.15},\n",
       "          n_jobs=-1)</pre></div></div></div></div></div></div><div class=\"sk-parallel-item\"><div class=\"sk-item\"><div class=\"sk-label-container\"><div class=\"sk-label sk-toggleable\"><label>amplitude-12</label></div></div><div class=\"sk-serial\"><div class=\"sk-item\"><div class=\"sk-estimator sk-toggleable\"><input class=\"sk-toggleable__control sk-hidden--visually\" id=\"7fdc704c-e9e4-4168-b972-6188b5d5be22\" type=\"checkbox\" ><label for=\"7fdc704c-e9e4-4168-b972-6188b5d5be22\" class=\"sk-toggleable__label sk-toggleable__label-arrow\">Amplitude</label><div class=\"sk-toggleable__content\"><pre>Amplitude(metric=&#x27;heat&#x27;, metric_params={&#x27;n_bins&#x27;: 50, &#x27;p&#x27;: 2, &#x27;sigma&#x27;: 0.15},\n",
       "          n_jobs=-1)</pre></div></div></div></div></div></div><div class=\"sk-parallel-item\"><div class=\"sk-item\"><div class=\"sk-label-container\"><div class=\"sk-label sk-toggleable\"><label>amplitude-13</label></div></div><div class=\"sk-serial\"><div class=\"sk-item\"><div class=\"sk-estimator sk-toggleable\"><input class=\"sk-toggleable__control sk-hidden--visually\" id=\"a389aaf0-2938-43ea-9abf-e75db54ee97a\" type=\"checkbox\" ><label for=\"a389aaf0-2938-43ea-9abf-e75db54ee97a\" class=\"sk-toggleable__label sk-toggleable__label-arrow\">Amplitude</label><div class=\"sk-toggleable__content\"><pre>Amplitude(metric=&#x27;heat&#x27;, metric_params={&#x27;n_bins&#x27;: 50, &#x27;p&#x27;: 2, &#x27;sigma&#x27;: 0.15},\n",
       "          n_jobs=-1)</pre></div></div></div></div></div></div></div></div></div></div></div></div></div><div class=\"sk-parallel-item\"><div class=\"sk-item\"><div class=\"sk-label-container\"><div class=\"sk-label sk-toggleable\"><label>pipeline-16</label></div></div><div class=\"sk-serial\"><div class=\"sk-item\"><div class=\"sk-serial\"><div class=\"sk-item\"><div class=\"sk-estimator sk-toggleable\"><input class=\"sk-toggleable__control sk-hidden--visually\" id=\"8278cb05-cb16-42c1-a23f-6394792dca66\" type=\"checkbox\" ><label for=\"8278cb05-cb16-42c1-a23f-6394792dca66\" class=\"sk-toggleable__label sk-toggleable__label-arrow\">Binarizer</label><div class=\"sk-toggleable__content\"><pre>Binarizer(n_jobs=-1)</pre></div></div></div><div class=\"sk-item\"><div class=\"sk-estimator sk-toggleable\"><input class=\"sk-toggleable__control sk-hidden--visually\" id=\"e5c90402-c7f9-4908-83d3-f079391137f1\" type=\"checkbox\" ><label for=\"e5c90402-c7f9-4908-83d3-f079391137f1\" class=\"sk-toggleable__label sk-toggleable__label-arrow\">RadialFiltration</label><div class=\"sk-toggleable__content\"><pre>RadialFiltration(center=array([20,  6]), n_jobs=-1)</pre></div></div></div><div class=\"sk-item\"><div class=\"sk-estimator sk-toggleable\"><input class=\"sk-toggleable__control sk-hidden--visually\" id=\"c722706f-6c88-48a3-9504-2a8e14812442\" type=\"checkbox\" ><label for=\"c722706f-6c88-48a3-9504-2a8e14812442\" class=\"sk-toggleable__label sk-toggleable__label-arrow\">CubicalPersistence</label><div class=\"sk-toggleable__content\"><pre>CubicalPersistence(n_jobs=-1)</pre></div></div></div><div class=\"sk-item\"><div class=\"sk-estimator sk-toggleable\"><input class=\"sk-toggleable__control sk-hidden--visually\" id=\"3a8ede1e-b726-44eb-a4c4-ee1c503a9d87\" type=\"checkbox\" ><label for=\"3a8ede1e-b726-44eb-a4c4-ee1c503a9d87\" class=\"sk-toggleable__label sk-toggleable__label-arrow\">Scaler</label><div class=\"sk-toggleable__content\"><pre>Scaler(n_jobs=-1)</pre></div></div></div><div class=\"sk-item sk-dashed-wrapped\"><div class=\"sk-label-container\"><div class=\"sk-label sk-toggleable\"><input class=\"sk-toggleable__control sk-hidden--visually\" id=\"4c4d2b9a-3542-49b7-9340-bb87d7c49197\" type=\"checkbox\" ><label for=\"4c4d2b9a-3542-49b7-9340-bb87d7c49197\" class=\"sk-toggleable__label sk-toggleable__label-arrow\">featureunion: FeatureUnion</label><div class=\"sk-toggleable__content\"><pre>FeatureUnion(transformer_list=[(&#x27;persistenceentropy&#x27;,\n",
       "                                PersistenceEntropy(nan_fill_value=-1)),\n",
       "                               (&#x27;amplitude-1&#x27;,\n",
       "                                Amplitude(metric=&#x27;bottleneck&#x27;, metric_params={},\n",
       "                                          n_jobs=-1)),\n",
       "                               (&#x27;amplitude-2&#x27;,\n",
       "                                Amplitude(metric=&#x27;wasserstein&#x27;,\n",
       "                                          metric_params={&#x27;p&#x27;: 1}, n_jobs=-1)),\n",
       "                               (&#x27;amplitude-3&#x27;,\n",
       "                                Amplitude(metric=&#x27;wasserstein&#x27;,\n",
       "                                          metric_params={&#x27;p&#x27;: 2}, n_jobs=-1)),\n",
       "                               (&#x27;amplitude-4&#x27;,\n",
       "                                Amplitude...\n",
       "                                          metric_params={&#x27;n_bins&#x27;: 50, &#x27;p&#x27;: 1,\n",
       "                                                         &#x27;sigma&#x27;: 0.15},\n",
       "                                          n_jobs=-1)),\n",
       "                               (&#x27;amplitude-11&#x27;,\n",
       "                                Amplitude(metric=&#x27;heat&#x27;,\n",
       "                                          metric_params={&#x27;n_bins&#x27;: 50, &#x27;p&#x27;: 1,\n",
       "                                                         &#x27;sigma&#x27;: 0.15},\n",
       "                                          n_jobs=-1)),\n",
       "                               (&#x27;amplitude-12&#x27;,\n",
       "                                Amplitude(metric=&#x27;heat&#x27;,\n",
       "                                          metric_params={&#x27;n_bins&#x27;: 50, &#x27;p&#x27;: 2,\n",
       "                                                         &#x27;sigma&#x27;: 0.15},\n",
       "                                          n_jobs=-1)),\n",
       "                               (&#x27;amplitude-13&#x27;,\n",
       "                                Amplitude(metric=&#x27;heat&#x27;,\n",
       "                                          metric_params={&#x27;n_bins&#x27;: 50, &#x27;p&#x27;: 2,\n",
       "                                                         &#x27;sigma&#x27;: 0.15},\n",
       "                                          n_jobs=-1))])</pre></div></div></div><div class=\"sk-parallel\"><div class=\"sk-parallel-item\"><div class=\"sk-item\"><div class=\"sk-label-container\"><div class=\"sk-label sk-toggleable\"><label>persistenceentropy</label></div></div><div class=\"sk-serial\"><div class=\"sk-item\"><div class=\"sk-estimator sk-toggleable\"><input class=\"sk-toggleable__control sk-hidden--visually\" id=\"532d4c13-e901-4df3-a4bc-57791e6d06ed\" type=\"checkbox\" ><label for=\"532d4c13-e901-4df3-a4bc-57791e6d06ed\" class=\"sk-toggleable__label sk-toggleable__label-arrow\">PersistenceEntropy</label><div class=\"sk-toggleable__content\"><pre>PersistenceEntropy(nan_fill_value=-1)</pre></div></div></div></div></div></div><div class=\"sk-parallel-item\"><div class=\"sk-item\"><div class=\"sk-label-container\"><div class=\"sk-label sk-toggleable\"><label>amplitude-1</label></div></div><div class=\"sk-serial\"><div class=\"sk-item\"><div class=\"sk-estimator sk-toggleable\"><input class=\"sk-toggleable__control sk-hidden--visually\" id=\"d6f1a326-c659-406e-bbe6-d50bc01dd279\" type=\"checkbox\" ><label for=\"d6f1a326-c659-406e-bbe6-d50bc01dd279\" class=\"sk-toggleable__label sk-toggleable__label-arrow\">Amplitude</label><div class=\"sk-toggleable__content\"><pre>Amplitude(metric=&#x27;bottleneck&#x27;, metric_params={}, n_jobs=-1)</pre></div></div></div></div></div></div><div class=\"sk-parallel-item\"><div class=\"sk-item\"><div class=\"sk-label-container\"><div class=\"sk-label sk-toggleable\"><label>amplitude-2</label></div></div><div class=\"sk-serial\"><div class=\"sk-item\"><div class=\"sk-estimator sk-toggleable\"><input class=\"sk-toggleable__control sk-hidden--visually\" id=\"e6943cc0-f3c6-437f-b121-d4b8a5489dc9\" type=\"checkbox\" ><label for=\"e6943cc0-f3c6-437f-b121-d4b8a5489dc9\" class=\"sk-toggleable__label sk-toggleable__label-arrow\">Amplitude</label><div class=\"sk-toggleable__content\"><pre>Amplitude(metric=&#x27;wasserstein&#x27;, metric_params={&#x27;p&#x27;: 1}, n_jobs=-1)</pre></div></div></div></div></div></div><div class=\"sk-parallel-item\"><div class=\"sk-item\"><div class=\"sk-label-container\"><div class=\"sk-label sk-toggleable\"><label>amplitude-3</label></div></div><div class=\"sk-serial\"><div class=\"sk-item\"><div class=\"sk-estimator sk-toggleable\"><input class=\"sk-toggleable__control sk-hidden--visually\" id=\"41a88cf6-6da3-4f8c-9414-cc7ff449f457\" type=\"checkbox\" ><label for=\"41a88cf6-6da3-4f8c-9414-cc7ff449f457\" class=\"sk-toggleable__label sk-toggleable__label-arrow\">Amplitude</label><div class=\"sk-toggleable__content\"><pre>Amplitude(metric=&#x27;wasserstein&#x27;, metric_params={&#x27;p&#x27;: 2}, n_jobs=-1)</pre></div></div></div></div></div></div><div class=\"sk-parallel-item\"><div class=\"sk-item\"><div class=\"sk-label-container\"><div class=\"sk-label sk-toggleable\"><label>amplitude-4</label></div></div><div class=\"sk-serial\"><div class=\"sk-item\"><div class=\"sk-estimator sk-toggleable\"><input class=\"sk-toggleable__control sk-hidden--visually\" id=\"dcc51b92-3c61-41d3-bfaf-54c8af5cdb14\" type=\"checkbox\" ><label for=\"dcc51b92-3c61-41d3-bfaf-54c8af5cdb14\" class=\"sk-toggleable__label sk-toggleable__label-arrow\">Amplitude</label><div class=\"sk-toggleable__content\"><pre>Amplitude(metric_params={&#x27;n_bins&#x27;: 50, &#x27;n_layers&#x27;: 1, &#x27;p&#x27;: 1}, n_jobs=-1)</pre></div></div></div></div></div></div><div class=\"sk-parallel-item\"><div class=\"sk-item\"><div class=\"sk-label-container\"><div class=\"sk-label sk-toggleable\"><label>amplitude-5</label></div></div><div class=\"sk-serial\"><div class=\"sk-item\"><div class=\"sk-estimator sk-toggleable\"><input class=\"sk-toggleable__control sk-hidden--visually\" id=\"d7a240bf-9485-45b7-b40d-e49e07efec3a\" type=\"checkbox\" ><label for=\"d7a240bf-9485-45b7-b40d-e49e07efec3a\" class=\"sk-toggleable__label sk-toggleable__label-arrow\">Amplitude</label><div class=\"sk-toggleable__content\"><pre>Amplitude(metric_params={&#x27;n_bins&#x27;: 50, &#x27;n_layers&#x27;: 2, &#x27;p&#x27;: 1}, n_jobs=-1)</pre></div></div></div></div></div></div><div class=\"sk-parallel-item\"><div class=\"sk-item\"><div class=\"sk-label-container\"><div class=\"sk-label sk-toggleable\"><label>amplitude-6</label></div></div><div class=\"sk-serial\"><div class=\"sk-item\"><div class=\"sk-estimator sk-toggleable\"><input class=\"sk-toggleable__control sk-hidden--visually\" id=\"4eb0eb77-edb0-4cc6-8007-06e2c8ea6d71\" type=\"checkbox\" ><label for=\"4eb0eb77-edb0-4cc6-8007-06e2c8ea6d71\" class=\"sk-toggleable__label sk-toggleable__label-arrow\">Amplitude</label><div class=\"sk-toggleable__content\"><pre>Amplitude(metric_params={&#x27;n_bins&#x27;: 50, &#x27;n_layers&#x27;: 1, &#x27;p&#x27;: 2}, n_jobs=-1)</pre></div></div></div></div></div></div><div class=\"sk-parallel-item\"><div class=\"sk-item\"><div class=\"sk-label-container\"><div class=\"sk-label sk-toggleable\"><label>amplitude-7</label></div></div><div class=\"sk-serial\"><div class=\"sk-item\"><div class=\"sk-estimator sk-toggleable\"><input class=\"sk-toggleable__control sk-hidden--visually\" id=\"dd79160b-2a29-4451-8b68-09da79cfa765\" type=\"checkbox\" ><label for=\"dd79160b-2a29-4451-8b68-09da79cfa765\" class=\"sk-toggleable__label sk-toggleable__label-arrow\">Amplitude</label><div class=\"sk-toggleable__content\"><pre>Amplitude(metric_params={&#x27;n_bins&#x27;: 50, &#x27;n_layers&#x27;: 2, &#x27;p&#x27;: 2}, n_jobs=-1)</pre></div></div></div></div></div></div><div class=\"sk-parallel-item\"><div class=\"sk-item\"><div class=\"sk-label-container\"><div class=\"sk-label sk-toggleable\"><label>amplitude-8</label></div></div><div class=\"sk-serial\"><div class=\"sk-item\"><div class=\"sk-estimator sk-toggleable\"><input class=\"sk-toggleable__control sk-hidden--visually\" id=\"eba2deea-c38b-4424-b1d6-eddeed48ba0c\" type=\"checkbox\" ><label for=\"eba2deea-c38b-4424-b1d6-eddeed48ba0c\" class=\"sk-toggleable__label sk-toggleable__label-arrow\">Amplitude</label><div class=\"sk-toggleable__content\"><pre>Amplitude(metric=&#x27;betti&#x27;, metric_params={&#x27;n_bins&#x27;: 50, &#x27;p&#x27;: 1}, n_jobs=-1)</pre></div></div></div></div></div></div><div class=\"sk-parallel-item\"><div class=\"sk-item\"><div class=\"sk-label-container\"><div class=\"sk-label sk-toggleable\"><label>amplitude-9</label></div></div><div class=\"sk-serial\"><div class=\"sk-item\"><div class=\"sk-estimator sk-toggleable\"><input class=\"sk-toggleable__control sk-hidden--visually\" id=\"3d982c7e-b340-40ec-a93c-3fdaa010268d\" type=\"checkbox\" ><label for=\"3d982c7e-b340-40ec-a93c-3fdaa010268d\" class=\"sk-toggleable__label sk-toggleable__label-arrow\">Amplitude</label><div class=\"sk-toggleable__content\"><pre>Amplitude(metric=&#x27;betti&#x27;, metric_params={&#x27;n_bins&#x27;: 50, &#x27;p&#x27;: 2}, n_jobs=-1)</pre></div></div></div></div></div></div><div class=\"sk-parallel-item\"><div class=\"sk-item\"><div class=\"sk-label-container\"><div class=\"sk-label sk-toggleable\"><label>amplitude-10</label></div></div><div class=\"sk-serial\"><div class=\"sk-item\"><div class=\"sk-estimator sk-toggleable\"><input class=\"sk-toggleable__control sk-hidden--visually\" id=\"2f737325-395f-47d5-b7b1-f2c6d0272506\" type=\"checkbox\" ><label for=\"2f737325-395f-47d5-b7b1-f2c6d0272506\" class=\"sk-toggleable__label sk-toggleable__label-arrow\">Amplitude</label><div class=\"sk-toggleable__content\"><pre>Amplitude(metric=&#x27;heat&#x27;, metric_params={&#x27;n_bins&#x27;: 50, &#x27;p&#x27;: 1, &#x27;sigma&#x27;: 0.15},\n",
       "          n_jobs=-1)</pre></div></div></div></div></div></div><div class=\"sk-parallel-item\"><div class=\"sk-item\"><div class=\"sk-label-container\"><div class=\"sk-label sk-toggleable\"><label>amplitude-11</label></div></div><div class=\"sk-serial\"><div class=\"sk-item\"><div class=\"sk-estimator sk-toggleable\"><input class=\"sk-toggleable__control sk-hidden--visually\" id=\"16e28d6b-ac15-4485-a7d1-33f01e19d8f4\" type=\"checkbox\" ><label for=\"16e28d6b-ac15-4485-a7d1-33f01e19d8f4\" class=\"sk-toggleable__label sk-toggleable__label-arrow\">Amplitude</label><div class=\"sk-toggleable__content\"><pre>Amplitude(metric=&#x27;heat&#x27;, metric_params={&#x27;n_bins&#x27;: 50, &#x27;p&#x27;: 1, &#x27;sigma&#x27;: 0.15},\n",
       "          n_jobs=-1)</pre></div></div></div></div></div></div><div class=\"sk-parallel-item\"><div class=\"sk-item\"><div class=\"sk-label-container\"><div class=\"sk-label sk-toggleable\"><label>amplitude-12</label></div></div><div class=\"sk-serial\"><div class=\"sk-item\"><div class=\"sk-estimator sk-toggleable\"><input class=\"sk-toggleable__control sk-hidden--visually\" id=\"46571c11-a1e7-4222-a90c-b30785cfcb38\" type=\"checkbox\" ><label for=\"46571c11-a1e7-4222-a90c-b30785cfcb38\" class=\"sk-toggleable__label sk-toggleable__label-arrow\">Amplitude</label><div class=\"sk-toggleable__content\"><pre>Amplitude(metric=&#x27;heat&#x27;, metric_params={&#x27;n_bins&#x27;: 50, &#x27;p&#x27;: 2, &#x27;sigma&#x27;: 0.15},\n",
       "          n_jobs=-1)</pre></div></div></div></div></div></div><div class=\"sk-parallel-item\"><div class=\"sk-item\"><div class=\"sk-label-container\"><div class=\"sk-label sk-toggleable\"><label>amplitude-13</label></div></div><div class=\"sk-serial\"><div class=\"sk-item\"><div class=\"sk-estimator sk-toggleable\"><input class=\"sk-toggleable__control sk-hidden--visually\" id=\"9cee367c-a27f-4508-8461-1081a29ab855\" type=\"checkbox\" ><label for=\"9cee367c-a27f-4508-8461-1081a29ab855\" class=\"sk-toggleable__label sk-toggleable__label-arrow\">Amplitude</label><div class=\"sk-toggleable__content\"><pre>Amplitude(metric=&#x27;heat&#x27;, metric_params={&#x27;n_bins&#x27;: 50, &#x27;p&#x27;: 2, &#x27;sigma&#x27;: 0.15},\n",
       "          n_jobs=-1)</pre></div></div></div></div></div></div></div></div></div></div></div></div></div><div class=\"sk-parallel-item\"><div class=\"sk-item\"><div class=\"sk-label-container\"><div class=\"sk-label sk-toggleable\"><label>pipeline-17</label></div></div><div class=\"sk-serial\"><div class=\"sk-item\"><div class=\"sk-serial\"><div class=\"sk-item\"><div class=\"sk-estimator sk-toggleable\"><input class=\"sk-toggleable__control sk-hidden--visually\" id=\"f1843626-ef41-442d-bae1-9f30eb23b59b\" type=\"checkbox\" ><label for=\"f1843626-ef41-442d-bae1-9f30eb23b59b\" class=\"sk-toggleable__label sk-toggleable__label-arrow\">Binarizer</label><div class=\"sk-toggleable__content\"><pre>Binarizer(n_jobs=-1)</pre></div></div></div><div class=\"sk-item\"><div class=\"sk-estimator sk-toggleable\"><input class=\"sk-toggleable__control sk-hidden--visually\" id=\"c647d6f8-c885-4073-b8d1-158506dc2331\" type=\"checkbox\" ><label for=\"c647d6f8-c885-4073-b8d1-158506dc2331\" class=\"sk-toggleable__label sk-toggleable__label-arrow\">RadialFiltration</label><div class=\"sk-toggleable__content\"><pre>RadialFiltration(center=array([20, 20]), n_jobs=-1)</pre></div></div></div><div class=\"sk-item\"><div class=\"sk-estimator sk-toggleable\"><input class=\"sk-toggleable__control sk-hidden--visually\" id=\"efdef301-ad7c-4b0b-96f6-b8e36fec1387\" type=\"checkbox\" ><label for=\"efdef301-ad7c-4b0b-96f6-b8e36fec1387\" class=\"sk-toggleable__label sk-toggleable__label-arrow\">CubicalPersistence</label><div class=\"sk-toggleable__content\"><pre>CubicalPersistence(n_jobs=-1)</pre></div></div></div><div class=\"sk-item\"><div class=\"sk-estimator sk-toggleable\"><input class=\"sk-toggleable__control sk-hidden--visually\" id=\"15ae9d9a-c47a-4fd8-95c3-870a3c58f486\" type=\"checkbox\" ><label for=\"15ae9d9a-c47a-4fd8-95c3-870a3c58f486\" class=\"sk-toggleable__label sk-toggleable__label-arrow\">Scaler</label><div class=\"sk-toggleable__content\"><pre>Scaler(n_jobs=-1)</pre></div></div></div><div class=\"sk-item sk-dashed-wrapped\"><div class=\"sk-label-container\"><div class=\"sk-label sk-toggleable\"><input class=\"sk-toggleable__control sk-hidden--visually\" id=\"db93b431-3619-4c24-b53b-177837848024\" type=\"checkbox\" ><label for=\"db93b431-3619-4c24-b53b-177837848024\" class=\"sk-toggleable__label sk-toggleable__label-arrow\">featureunion: FeatureUnion</label><div class=\"sk-toggleable__content\"><pre>FeatureUnion(transformer_list=[(&#x27;persistenceentropy&#x27;,\n",
       "                                PersistenceEntropy(nan_fill_value=-1)),\n",
       "                               (&#x27;amplitude-1&#x27;,\n",
       "                                Amplitude(metric=&#x27;bottleneck&#x27;, metric_params={},\n",
       "                                          n_jobs=-1)),\n",
       "                               (&#x27;amplitude-2&#x27;,\n",
       "                                Amplitude(metric=&#x27;wasserstein&#x27;,\n",
       "                                          metric_params={&#x27;p&#x27;: 1}, n_jobs=-1)),\n",
       "                               (&#x27;amplitude-3&#x27;,\n",
       "                                Amplitude(metric=&#x27;wasserstein&#x27;,\n",
       "                                          metric_params={&#x27;p&#x27;: 2}, n_jobs=-1)),\n",
       "                               (&#x27;amplitude-4&#x27;,\n",
       "                                Amplitude...\n",
       "                                          metric_params={&#x27;n_bins&#x27;: 50, &#x27;p&#x27;: 1,\n",
       "                                                         &#x27;sigma&#x27;: 0.15},\n",
       "                                          n_jobs=-1)),\n",
       "                               (&#x27;amplitude-11&#x27;,\n",
       "                                Amplitude(metric=&#x27;heat&#x27;,\n",
       "                                          metric_params={&#x27;n_bins&#x27;: 50, &#x27;p&#x27;: 1,\n",
       "                                                         &#x27;sigma&#x27;: 0.15},\n",
       "                                          n_jobs=-1)),\n",
       "                               (&#x27;amplitude-12&#x27;,\n",
       "                                Amplitude(metric=&#x27;heat&#x27;,\n",
       "                                          metric_params={&#x27;n_bins&#x27;: 50, &#x27;p&#x27;: 2,\n",
       "                                                         &#x27;sigma&#x27;: 0.15},\n",
       "                                          n_jobs=-1)),\n",
       "                               (&#x27;amplitude-13&#x27;,\n",
       "                                Amplitude(metric=&#x27;heat&#x27;,\n",
       "                                          metric_params={&#x27;n_bins&#x27;: 50, &#x27;p&#x27;: 2,\n",
       "                                                         &#x27;sigma&#x27;: 0.15},\n",
       "                                          n_jobs=-1))])</pre></div></div></div><div class=\"sk-parallel\"><div class=\"sk-parallel-item\"><div class=\"sk-item\"><div class=\"sk-label-container\"><div class=\"sk-label sk-toggleable\"><label>persistenceentropy</label></div></div><div class=\"sk-serial\"><div class=\"sk-item\"><div class=\"sk-estimator sk-toggleable\"><input class=\"sk-toggleable__control sk-hidden--visually\" id=\"6c7edfc0-1cd9-48ed-9b7e-b472c2071cee\" type=\"checkbox\" ><label for=\"6c7edfc0-1cd9-48ed-9b7e-b472c2071cee\" class=\"sk-toggleable__label sk-toggleable__label-arrow\">PersistenceEntropy</label><div class=\"sk-toggleable__content\"><pre>PersistenceEntropy(nan_fill_value=-1)</pre></div></div></div></div></div></div><div class=\"sk-parallel-item\"><div class=\"sk-item\"><div class=\"sk-label-container\"><div class=\"sk-label sk-toggleable\"><label>amplitude-1</label></div></div><div class=\"sk-serial\"><div class=\"sk-item\"><div class=\"sk-estimator sk-toggleable\"><input class=\"sk-toggleable__control sk-hidden--visually\" id=\"f05bd0ce-fcb7-4892-994d-7e9a71f9e43a\" type=\"checkbox\" ><label for=\"f05bd0ce-fcb7-4892-994d-7e9a71f9e43a\" class=\"sk-toggleable__label sk-toggleable__label-arrow\">Amplitude</label><div class=\"sk-toggleable__content\"><pre>Amplitude(metric=&#x27;bottleneck&#x27;, metric_params={}, n_jobs=-1)</pre></div></div></div></div></div></div><div class=\"sk-parallel-item\"><div class=\"sk-item\"><div class=\"sk-label-container\"><div class=\"sk-label sk-toggleable\"><label>amplitude-2</label></div></div><div class=\"sk-serial\"><div class=\"sk-item\"><div class=\"sk-estimator sk-toggleable\"><input class=\"sk-toggleable__control sk-hidden--visually\" id=\"ea1152a4-0d8f-454a-a481-f853e8e449d8\" type=\"checkbox\" ><label for=\"ea1152a4-0d8f-454a-a481-f853e8e449d8\" class=\"sk-toggleable__label sk-toggleable__label-arrow\">Amplitude</label><div class=\"sk-toggleable__content\"><pre>Amplitude(metric=&#x27;wasserstein&#x27;, metric_params={&#x27;p&#x27;: 1}, n_jobs=-1)</pre></div></div></div></div></div></div><div class=\"sk-parallel-item\"><div class=\"sk-item\"><div class=\"sk-label-container\"><div class=\"sk-label sk-toggleable\"><label>amplitude-3</label></div></div><div class=\"sk-serial\"><div class=\"sk-item\"><div class=\"sk-estimator sk-toggleable\"><input class=\"sk-toggleable__control sk-hidden--visually\" id=\"9fa4e066-a130-42e1-aac6-1d7c05e40bdd\" type=\"checkbox\" ><label for=\"9fa4e066-a130-42e1-aac6-1d7c05e40bdd\" class=\"sk-toggleable__label sk-toggleable__label-arrow\">Amplitude</label><div class=\"sk-toggleable__content\"><pre>Amplitude(metric=&#x27;wasserstein&#x27;, metric_params={&#x27;p&#x27;: 2}, n_jobs=-1)</pre></div></div></div></div></div></div><div class=\"sk-parallel-item\"><div class=\"sk-item\"><div class=\"sk-label-container\"><div class=\"sk-label sk-toggleable\"><label>amplitude-4</label></div></div><div class=\"sk-serial\"><div class=\"sk-item\"><div class=\"sk-estimator sk-toggleable\"><input class=\"sk-toggleable__control sk-hidden--visually\" id=\"f9ba9037-57f8-4f30-beec-a997b959a31e\" type=\"checkbox\" ><label for=\"f9ba9037-57f8-4f30-beec-a997b959a31e\" class=\"sk-toggleable__label sk-toggleable__label-arrow\">Amplitude</label><div class=\"sk-toggleable__content\"><pre>Amplitude(metric_params={&#x27;n_bins&#x27;: 50, &#x27;n_layers&#x27;: 1, &#x27;p&#x27;: 1}, n_jobs=-1)</pre></div></div></div></div></div></div><div class=\"sk-parallel-item\"><div class=\"sk-item\"><div class=\"sk-label-container\"><div class=\"sk-label sk-toggleable\"><label>amplitude-5</label></div></div><div class=\"sk-serial\"><div class=\"sk-item\"><div class=\"sk-estimator sk-toggleable\"><input class=\"sk-toggleable__control sk-hidden--visually\" id=\"86f07c6b-7aab-4091-872f-15060fee98ee\" type=\"checkbox\" ><label for=\"86f07c6b-7aab-4091-872f-15060fee98ee\" class=\"sk-toggleable__label sk-toggleable__label-arrow\">Amplitude</label><div class=\"sk-toggleable__content\"><pre>Amplitude(metric_params={&#x27;n_bins&#x27;: 50, &#x27;n_layers&#x27;: 2, &#x27;p&#x27;: 1}, n_jobs=-1)</pre></div></div></div></div></div></div><div class=\"sk-parallel-item\"><div class=\"sk-item\"><div class=\"sk-label-container\"><div class=\"sk-label sk-toggleable\"><label>amplitude-6</label></div></div><div class=\"sk-serial\"><div class=\"sk-item\"><div class=\"sk-estimator sk-toggleable\"><input class=\"sk-toggleable__control sk-hidden--visually\" id=\"1136d7ec-bb54-4289-81a5-29239da8d076\" type=\"checkbox\" ><label for=\"1136d7ec-bb54-4289-81a5-29239da8d076\" class=\"sk-toggleable__label sk-toggleable__label-arrow\">Amplitude</label><div class=\"sk-toggleable__content\"><pre>Amplitude(metric_params={&#x27;n_bins&#x27;: 50, &#x27;n_layers&#x27;: 1, &#x27;p&#x27;: 2}, n_jobs=-1)</pre></div></div></div></div></div></div><div class=\"sk-parallel-item\"><div class=\"sk-item\"><div class=\"sk-label-container\"><div class=\"sk-label sk-toggleable\"><label>amplitude-7</label></div></div><div class=\"sk-serial\"><div class=\"sk-item\"><div class=\"sk-estimator sk-toggleable\"><input class=\"sk-toggleable__control sk-hidden--visually\" id=\"bb73104c-3a79-428b-8a86-d4b053929822\" type=\"checkbox\" ><label for=\"bb73104c-3a79-428b-8a86-d4b053929822\" class=\"sk-toggleable__label sk-toggleable__label-arrow\">Amplitude</label><div class=\"sk-toggleable__content\"><pre>Amplitude(metric_params={&#x27;n_bins&#x27;: 50, &#x27;n_layers&#x27;: 2, &#x27;p&#x27;: 2}, n_jobs=-1)</pre></div></div></div></div></div></div><div class=\"sk-parallel-item\"><div class=\"sk-item\"><div class=\"sk-label-container\"><div class=\"sk-label sk-toggleable\"><label>amplitude-8</label></div></div><div class=\"sk-serial\"><div class=\"sk-item\"><div class=\"sk-estimator sk-toggleable\"><input class=\"sk-toggleable__control sk-hidden--visually\" id=\"6fc9fbf9-9010-4a38-bdcf-7f3a7d922071\" type=\"checkbox\" ><label for=\"6fc9fbf9-9010-4a38-bdcf-7f3a7d922071\" class=\"sk-toggleable__label sk-toggleable__label-arrow\">Amplitude</label><div class=\"sk-toggleable__content\"><pre>Amplitude(metric=&#x27;betti&#x27;, metric_params={&#x27;n_bins&#x27;: 50, &#x27;p&#x27;: 1}, n_jobs=-1)</pre></div></div></div></div></div></div><div class=\"sk-parallel-item\"><div class=\"sk-item\"><div class=\"sk-label-container\"><div class=\"sk-label sk-toggleable\"><label>amplitude-9</label></div></div><div class=\"sk-serial\"><div class=\"sk-item\"><div class=\"sk-estimator sk-toggleable\"><input class=\"sk-toggleable__control sk-hidden--visually\" id=\"cedd5d81-b95f-4c0c-992b-2ea239d200be\" type=\"checkbox\" ><label for=\"cedd5d81-b95f-4c0c-992b-2ea239d200be\" class=\"sk-toggleable__label sk-toggleable__label-arrow\">Amplitude</label><div class=\"sk-toggleable__content\"><pre>Amplitude(metric=&#x27;betti&#x27;, metric_params={&#x27;n_bins&#x27;: 50, &#x27;p&#x27;: 2}, n_jobs=-1)</pre></div></div></div></div></div></div><div class=\"sk-parallel-item\"><div class=\"sk-item\"><div class=\"sk-label-container\"><div class=\"sk-label sk-toggleable\"><label>amplitude-10</label></div></div><div class=\"sk-serial\"><div class=\"sk-item\"><div class=\"sk-estimator sk-toggleable\"><input class=\"sk-toggleable__control sk-hidden--visually\" id=\"f404bcaf-f6e0-4499-a831-da9bbc2cb07e\" type=\"checkbox\" ><label for=\"f404bcaf-f6e0-4499-a831-da9bbc2cb07e\" class=\"sk-toggleable__label sk-toggleable__label-arrow\">Amplitude</label><div class=\"sk-toggleable__content\"><pre>Amplitude(metric=&#x27;heat&#x27;, metric_params={&#x27;n_bins&#x27;: 50, &#x27;p&#x27;: 1, &#x27;sigma&#x27;: 0.15},\n",
       "          n_jobs=-1)</pre></div></div></div></div></div></div><div class=\"sk-parallel-item\"><div class=\"sk-item\"><div class=\"sk-label-container\"><div class=\"sk-label sk-toggleable\"><label>amplitude-11</label></div></div><div class=\"sk-serial\"><div class=\"sk-item\"><div class=\"sk-estimator sk-toggleable\"><input class=\"sk-toggleable__control sk-hidden--visually\" id=\"fa74314a-a368-453a-997e-142a33a19275\" type=\"checkbox\" ><label for=\"fa74314a-a368-453a-997e-142a33a19275\" class=\"sk-toggleable__label sk-toggleable__label-arrow\">Amplitude</label><div class=\"sk-toggleable__content\"><pre>Amplitude(metric=&#x27;heat&#x27;, metric_params={&#x27;n_bins&#x27;: 50, &#x27;p&#x27;: 1, &#x27;sigma&#x27;: 0.15},\n",
       "          n_jobs=-1)</pre></div></div></div></div></div></div><div class=\"sk-parallel-item\"><div class=\"sk-item\"><div class=\"sk-label-container\"><div class=\"sk-label sk-toggleable\"><label>amplitude-12</label></div></div><div class=\"sk-serial\"><div class=\"sk-item\"><div class=\"sk-estimator sk-toggleable\"><input class=\"sk-toggleable__control sk-hidden--visually\" id=\"1fcc2e9e-c020-4215-9af6-56b5070f7300\" type=\"checkbox\" ><label for=\"1fcc2e9e-c020-4215-9af6-56b5070f7300\" class=\"sk-toggleable__label sk-toggleable__label-arrow\">Amplitude</label><div class=\"sk-toggleable__content\"><pre>Amplitude(metric=&#x27;heat&#x27;, metric_params={&#x27;n_bins&#x27;: 50, &#x27;p&#x27;: 2, &#x27;sigma&#x27;: 0.15},\n",
       "          n_jobs=-1)</pre></div></div></div></div></div></div><div class=\"sk-parallel-item\"><div class=\"sk-item\"><div class=\"sk-label-container\"><div class=\"sk-label sk-toggleable\"><label>amplitude-13</label></div></div><div class=\"sk-serial\"><div class=\"sk-item\"><div class=\"sk-estimator sk-toggleable\"><input class=\"sk-toggleable__control sk-hidden--visually\" id=\"bb0680ec-9272-48a5-97f9-d22b67173d3d\" type=\"checkbox\" ><label for=\"bb0680ec-9272-48a5-97f9-d22b67173d3d\" class=\"sk-toggleable__label sk-toggleable__label-arrow\">Amplitude</label><div class=\"sk-toggleable__content\"><pre>Amplitude(metric=&#x27;heat&#x27;, metric_params={&#x27;n_bins&#x27;: 50, &#x27;p&#x27;: 2, &#x27;sigma&#x27;: 0.15},\n",
       "          n_jobs=-1)</pre></div></div></div></div></div></div></div></div></div></div></div></div></div></div></div></div></div>"
      ],
      "text/plain": [
       "FeatureUnion(n_jobs=-1,\n",
       "             transformer_list=[('pipeline-1',\n",
       "                                Pipeline(steps=[('binarizer',\n",
       "                                                 Binarizer(n_jobs=-1)),\n",
       "                                                ('heightfiltration',\n",
       "                                                 HeightFiltration(direction=array([1, 0]),\n",
       "                                                                  n_jobs=-1)),\n",
       "                                                ('cubicalpersistence',\n",
       "                                                 CubicalPersistence(n_jobs=-1)),\n",
       "                                                ('scaler', Scaler(n_jobs=-1)),\n",
       "                                                ('featureunion',\n",
       "                                                 FeatureUnion(transformer_list=[('persistenceentropy',\n",
       "                                                                                 PersistenceEntropy(na...\n",
       "                                                                                           metric_params={'n_bins': 50,\n",
       "                                                                                                          'p': 1,\n",
       "                                                                                                          'sigma': 0.15},\n",
       "                                                                                           n_jobs=-1)),\n",
       "                                                                                ('amplitude-11',\n",
       "                                                                                 Amplitude(metric='heat',\n",
       "                                                                                           metric_params={'n_bins': 50,\n",
       "                                                                                                          'p': 1,\n",
       "                                                                                                          'sigma': 0.15},\n",
       "                                                                                           n_jobs=-1)),\n",
       "                                                                                ('amplitude-12',\n",
       "                                                                                 Amplitude(metric='heat',\n",
       "                                                                                           metric_params={'n_bins': 50,\n",
       "                                                                                                          'p': 2,\n",
       "                                                                                                          'sigma': 0.15},\n",
       "                                                                                           n_jobs=-1)),\n",
       "                                                                                ('amplitude-13',\n",
       "                                                                                 Amplitude(metric='heat',\n",
       "                                                                                           metric_params={'n_bins': 50,\n",
       "                                                                                                          'p': 2,\n",
       "                                                                                                          'sigma': 0.15},\n",
       "                                                                                           n_jobs=-1))]))]))])"
      ]
     },
     "execution_count": 4,
     "metadata": {},
     "output_type": "execute_result"
    }
   ],
   "source": [
    "#### Displays the pipeline diagram ##### \n",
    "from sklearn import set_config\n",
    "set_config(display='diagram')  \n",
    "\n",
    "tda_union"
   ]
  },
  {
   "cell_type": "code",
   "execution_count": null,
   "id": "64e65f18",
   "metadata": {},
   "outputs": [],
   "source": [
    "X=255-X # Greyscale image inversion, for some reason, the radial filtration recognizes the background of image as feature so an image inversion is necessary#####\n",
    "X = X.reshape((-1, 28, 28)) #dataset is a flattened vector, to restructure it into image, a resize is necessary"
   ]
  },
  {
   "cell_type": "code",
   "execution_count": null,
   "id": "1eb7d23b",
   "metadata": {},
   "outputs": [],
   "source": [
    "##### Full blown feature extraction of the raw dataset ##### \n",
    "##### This will take so much time ####\n",
    "\n",
    "X_tda = tda_union.fit_transform(X)\n",
    "X_tda.shape #as a notification of the completeness of execution, the size will be shown."
   ]
  },
  {
   "cell_type": "code",
   "execution_count": null,
   "id": "5be11b52",
   "metadata": {},
   "outputs": [],
   "source": [
    "#### As a checkpoint, the extracted feature is exported to csv format\n",
    "X_tda = pd.DataFrame(X_tda)\n",
    "X_tda.to_csv(\"Raw Feature.csv\", index=False)"
   ]
  }
 ],
 "metadata": {
  "kernelspec": {
   "display_name": "Python 3 (ipykernel)",
   "language": "python",
   "name": "python3"
  },
  "language_info": {
   "codemirror_mode": {
    "name": "ipython",
    "version": 3
   },
   "file_extension": ".py",
   "mimetype": "text/x-python",
   "name": "python",
   "nbconvert_exporter": "python",
   "pygments_lexer": "ipython3",
   "version": "3.9.13"
  }
 },
 "nbformat": 4,
 "nbformat_minor": 5
}
